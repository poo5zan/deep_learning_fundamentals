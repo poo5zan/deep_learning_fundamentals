{
  "cells": [
    {
      "cell_type": "markdown",
      "metadata": {
        "id": "Iw3TQvyH5hDH"
      },
      "source": [
        "Deep Learning Assignment 3 - Stock Price Prediction With RNN"
      ]
    },
    {
      "cell_type": "markdown",
      "source": [
        "References:\n",
        "Code source 1: https://medium.com/swlh/stock-price-prediction-with-pytorch-37f52ae84632\n",
        "\n",
        "Code source 2 (TODO: find how to get predictions accuracy): https://www.kaggle.com/code/taronzakaryan/predicting-stock-price-using-lstm-model-pytorch\n"
      ],
      "metadata": {
        "id": "gnhfWVlX72Zq"
      }
    },
    {
      "cell_type": "code",
      "source": [
        "pip install yfinance"
      ],
      "metadata": {
        "id": "sc6hAorGW3aU",
        "colab": {
          "base_uri": "https://localhost:8080/"
        },
        "outputId": "8e068be5-616a-4fc3-b8e9-1129c22744d1"
      },
      "execution_count": 2,
      "outputs": [
        {
          "output_type": "stream",
          "name": "stdout",
          "text": [
            "Looking in indexes: https://pypi.org/simple, https://us-python.pkg.dev/colab-wheels/public/simple/\n",
            "Requirement already satisfied: yfinance in /usr/local/lib/python3.7/dist-packages (0.1.87)\n",
            "Requirement already satisfied: multitasking>=0.0.7 in /usr/local/lib/python3.7/dist-packages (from yfinance) (0.0.11)\n",
            "Requirement already satisfied: lxml>=4.5.1 in /usr/local/lib/python3.7/dist-packages (from yfinance) (4.9.1)\n",
            "Requirement already satisfied: appdirs>=1.4.4 in /usr/local/lib/python3.7/dist-packages (from yfinance) (1.4.4)\n",
            "Requirement already satisfied: pandas>=0.24.0 in /usr/local/lib/python3.7/dist-packages (from yfinance) (1.3.5)\n",
            "Requirement already satisfied: numpy>=1.15 in /usr/local/lib/python3.7/dist-packages (from yfinance) (1.21.6)\n",
            "Requirement already satisfied: requests>=2.26 in /usr/local/lib/python3.7/dist-packages (from yfinance) (2.28.1)\n",
            "Requirement already satisfied: pytz>=2017.3 in /usr/local/lib/python3.7/dist-packages (from pandas>=0.24.0->yfinance) (2022.6)\n",
            "Requirement already satisfied: python-dateutil>=2.7.3 in /usr/local/lib/python3.7/dist-packages (from pandas>=0.24.0->yfinance) (2.8.2)\n",
            "Requirement already satisfied: six>=1.5 in /usr/local/lib/python3.7/dist-packages (from python-dateutil>=2.7.3->pandas>=0.24.0->yfinance) (1.15.0)\n",
            "Requirement already satisfied: idna<4,>=2.5 in /usr/local/lib/python3.7/dist-packages (from requests>=2.26->yfinance) (2.10)\n",
            "Requirement already satisfied: certifi>=2017.4.17 in /usr/local/lib/python3.7/dist-packages (from requests>=2.26->yfinance) (2022.9.24)\n",
            "Requirement already satisfied: urllib3<1.27,>=1.21.1 in /usr/local/lib/python3.7/dist-packages (from requests>=2.26->yfinance) (1.24.3)\n",
            "Requirement already satisfied: charset-normalizer<3,>=2 in /usr/local/lib/python3.7/dist-packages (from requests>=2.26->yfinance) (2.1.1)\n"
          ]
        }
      ]
    },
    {
      "cell_type": "code",
      "source": [
        "import time\n",
        "import pandas as pd\n",
        "from sklearn.preprocessing import MinMaxScaler, StandardScaler\n",
        "import numpy as np\n",
        "import torch\n",
        "import torch.nn as nn\n",
        "import os\n",
        "import yfinance as yf\n",
        "import os, contextlib\n",
        "import matplotlib.dates as mdates\n",
        "import matplotlib.pyplot as plt\n",
        "import datetime as dt\n",
        "import math\n",
        "from sklearn.metrics import mean_squared_error\n",
        "from sklearn.model_selection import train_test_split"
      ],
      "metadata": {
        "id": "8qCLzYOB9nNJ"
      },
      "execution_count": 28,
      "outputs": []
    },
    {
      "cell_type": "code",
      "source": [
        "# File Download \n",
        "offset = 0\n",
        "limit = 3000\n",
        "period = 'max' # valid periods: 1d,5d,1mo,3mo,6mo,1y,2y,5y,10y,ytd,max\n",
        "symbols = ['AAPL','AMZN','META']\n",
        "limit = limit if limit else len(symbols)\n",
        "end = min(offset + limit, len(symbols))\n",
        "is_valid = [False] * len(symbols)\n",
        "# force silencing of verbose API\n",
        "with open(os.devnull, 'w') as devnull:\n",
        "    with contextlib.redirect_stdout(devnull):\n",
        "        for i in range(offset, end):\n",
        "            s = symbols[i]\n",
        "            data = yf.download(s, period=period)\n",
        "            if len(data.index) == 0:\n",
        "                continue\n",
        "        \n",
        "            is_valid[i] = True\n",
        "            file_name = s + \".csv\"\n",
        "            # download_path = os.path.join(root_dir,file_name)\n",
        "            data.to_csv(file_name)\n",
        "\n",
        "print('Total number of valid symbols downloaded = {}'.format(sum(is_valid)))"
      ],
      "metadata": {
        "colab": {
          "base_uri": "https://localhost:8080/"
        },
        "id": "xzKgq2vVXMYO",
        "outputId": "cdb108d5-8d69-4172-ad66-f58ca86eced3"
      },
      "execution_count": 4,
      "outputs": [
        {
          "output_type": "stream",
          "name": "stdout",
          "text": [
            "Total number of valid symbols downloaded = 3\n"
          ]
        }
      ]
    },
    {
      "cell_type": "code",
      "source": [
        "MIN_MAX_SCALING = \"min_max_scaling\"\n",
        "STANDARD_SCALING = \"standard_scaling\"\n",
        "ADJACENT_CLOSE = \"Adj Close\"\n",
        "OPEN = \"Open\"\n",
        "def get_scaler(scaling_method):\n",
        "    data_scaler = None\n",
        "    if scaling_method == MIN_MAX_SCALING:\n",
        "        data_scaler = MinMaxScaler(feature_range=(-1, 1))\n",
        "    elif scaling_method == STANDARD_SCALING:\n",
        "        data_scaler = StandardScaler()\n",
        "    else:\n",
        "        raise Exception(\"Invalid Scaling method \", scaling_method)\n",
        "\n",
        "    return data_scaler\n",
        "\n",
        "def get_data(file_name, scaling_method):\n",
        "    data = pd.read_csv(file_name, index_col='Date')\n",
        "    price_close = data[[ADJACENT_CLOSE]]\n",
        "    price_open = data[[OPEN]]\n",
        "\n",
        "    data_scaler = get_scaler(scaling_method)\n",
        "    \n",
        "    price_close[ADJACENT_CLOSE] = data_scaler.fit_transform(price_close[ADJACENT_CLOSE].values.reshape(-1,1))\n",
        "    price_open[OPEN] = data_scaler.fit_transform(price_open[OPEN].values.reshape(-1,1))\n",
        "\n",
        "    return price_open, price_close, data_scaler\n"
      ],
      "metadata": {
        "id": "TJBaXVG-z1Xq"
      },
      "execution_count": 56,
      "outputs": []
    },
    {
      "cell_type": "code",
      "source": [
        "\n",
        "price_open_min_max, price_close_min_max = get_data('AMZN.csv', MIN_MAX_SCALING)\n"
      ],
      "metadata": {
        "colab": {
          "base_uri": "https://localhost:8080/"
        },
        "id": "9LoEOTVB6Y9o",
        "outputId": "c8b5bca1-b7e9-4752-831b-37a55219f024"
      },
      "execution_count": 17,
      "outputs": [
        {
          "output_type": "stream",
          "name": "stderr",
          "text": [
            "/usr/local/lib/python3.7/dist-packages/ipykernel_launcher.py:18: SettingWithCopyWarning: \n",
            "A value is trying to be set on a copy of a slice from a DataFrame.\n",
            "Try using .loc[row_indexer,col_indexer] = value instead\n",
            "\n",
            "See the caveats in the documentation: https://pandas.pydata.org/pandas-docs/stable/user_guide/indexing.html#returning-a-view-versus-a-copy\n",
            "/usr/local/lib/python3.7/dist-packages/ipykernel_launcher.py:19: SettingWithCopyWarning: \n",
            "A value is trying to be set on a copy of a slice from a DataFrame.\n",
            "Try using .loc[row_indexer,col_indexer] = value instead\n",
            "\n",
            "See the caveats in the documentation: https://pandas.pydata.org/pandas-docs/stable/user_guide/indexing.html#returning-a-view-versus-a-copy\n"
          ]
        }
      ]
    },
    {
      "cell_type": "code",
      "source": [
        "price_open_min_max"
      ],
      "metadata": {
        "id": "pf1ohBPGE5ot",
        "outputId": "b5d74b68-163b-4bac-c5d0-9efcc8506faa",
        "colab": {
          "base_uri": "https://localhost:8080/",
          "height": 455
        }
      },
      "execution_count": 18,
      "outputs": [
        {
          "output_type": "execute_result",
          "data": {
            "text/plain": [
              "                Open\n",
              "Date                \n",
              "1997-05-15 -0.999449\n",
              "1997-05-16 -0.999699\n",
              "1997-05-19 -0.999811\n",
              "1997-05-20 -0.999827\n",
              "1997-05-21 -0.999878\n",
              "...              ...\n",
              "2022-11-10 -0.007430\n",
              "2022-11-11  0.045368\n",
              "2022-11-14  0.054880\n",
              "2022-11-15  0.102334\n",
              "2022-11-16  0.034360\n",
              "\n",
              "[6421 rows x 1 columns]"
            ],
            "text/html": [
              "\n",
              "  <div id=\"df-8f5fa446-c5ed-4fbe-a592-16dde5e861ff\">\n",
              "    <div class=\"colab-df-container\">\n",
              "      <div>\n",
              "<style scoped>\n",
              "    .dataframe tbody tr th:only-of-type {\n",
              "        vertical-align: middle;\n",
              "    }\n",
              "\n",
              "    .dataframe tbody tr th {\n",
              "        vertical-align: top;\n",
              "    }\n",
              "\n",
              "    .dataframe thead th {\n",
              "        text-align: right;\n",
              "    }\n",
              "</style>\n",
              "<table border=\"1\" class=\"dataframe\">\n",
              "  <thead>\n",
              "    <tr style=\"text-align: right;\">\n",
              "      <th></th>\n",
              "      <th>Open</th>\n",
              "    </tr>\n",
              "    <tr>\n",
              "      <th>Date</th>\n",
              "      <th></th>\n",
              "    </tr>\n",
              "  </thead>\n",
              "  <tbody>\n",
              "    <tr>\n",
              "      <th>1997-05-15</th>\n",
              "      <td>-0.999449</td>\n",
              "    </tr>\n",
              "    <tr>\n",
              "      <th>1997-05-16</th>\n",
              "      <td>-0.999699</td>\n",
              "    </tr>\n",
              "    <tr>\n",
              "      <th>1997-05-19</th>\n",
              "      <td>-0.999811</td>\n",
              "    </tr>\n",
              "    <tr>\n",
              "      <th>1997-05-20</th>\n",
              "      <td>-0.999827</td>\n",
              "    </tr>\n",
              "    <tr>\n",
              "      <th>1997-05-21</th>\n",
              "      <td>-0.999878</td>\n",
              "    </tr>\n",
              "    <tr>\n",
              "      <th>...</th>\n",
              "      <td>...</td>\n",
              "    </tr>\n",
              "    <tr>\n",
              "      <th>2022-11-10</th>\n",
              "      <td>-0.007430</td>\n",
              "    </tr>\n",
              "    <tr>\n",
              "      <th>2022-11-11</th>\n",
              "      <td>0.045368</td>\n",
              "    </tr>\n",
              "    <tr>\n",
              "      <th>2022-11-14</th>\n",
              "      <td>0.054880</td>\n",
              "    </tr>\n",
              "    <tr>\n",
              "      <th>2022-11-15</th>\n",
              "      <td>0.102334</td>\n",
              "    </tr>\n",
              "    <tr>\n",
              "      <th>2022-11-16</th>\n",
              "      <td>0.034360</td>\n",
              "    </tr>\n",
              "  </tbody>\n",
              "</table>\n",
              "<p>6421 rows × 1 columns</p>\n",
              "</div>\n",
              "      <button class=\"colab-df-convert\" onclick=\"convertToInteractive('df-8f5fa446-c5ed-4fbe-a592-16dde5e861ff')\"\n",
              "              title=\"Convert this dataframe to an interactive table.\"\n",
              "              style=\"display:none;\">\n",
              "        \n",
              "  <svg xmlns=\"http://www.w3.org/2000/svg\" height=\"24px\"viewBox=\"0 0 24 24\"\n",
              "       width=\"24px\">\n",
              "    <path d=\"M0 0h24v24H0V0z\" fill=\"none\"/>\n",
              "    <path d=\"M18.56 5.44l.94 2.06.94-2.06 2.06-.94-2.06-.94-.94-2.06-.94 2.06-2.06.94zm-11 1L8.5 8.5l.94-2.06 2.06-.94-2.06-.94L8.5 2.5l-.94 2.06-2.06.94zm10 10l.94 2.06.94-2.06 2.06-.94-2.06-.94-.94-2.06-.94 2.06-2.06.94z\"/><path d=\"M17.41 7.96l-1.37-1.37c-.4-.4-.92-.59-1.43-.59-.52 0-1.04.2-1.43.59L10.3 9.45l-7.72 7.72c-.78.78-.78 2.05 0 2.83L4 21.41c.39.39.9.59 1.41.59.51 0 1.02-.2 1.41-.59l7.78-7.78 2.81-2.81c.8-.78.8-2.07 0-2.86zM5.41 20L4 18.59l7.72-7.72 1.47 1.35L5.41 20z\"/>\n",
              "  </svg>\n",
              "      </button>\n",
              "      \n",
              "  <style>\n",
              "    .colab-df-container {\n",
              "      display:flex;\n",
              "      flex-wrap:wrap;\n",
              "      gap: 12px;\n",
              "    }\n",
              "\n",
              "    .colab-df-convert {\n",
              "      background-color: #E8F0FE;\n",
              "      border: none;\n",
              "      border-radius: 50%;\n",
              "      cursor: pointer;\n",
              "      display: none;\n",
              "      fill: #1967D2;\n",
              "      height: 32px;\n",
              "      padding: 0 0 0 0;\n",
              "      width: 32px;\n",
              "    }\n",
              "\n",
              "    .colab-df-convert:hover {\n",
              "      background-color: #E2EBFA;\n",
              "      box-shadow: 0px 1px 2px rgba(60, 64, 67, 0.3), 0px 1px 3px 1px rgba(60, 64, 67, 0.15);\n",
              "      fill: #174EA6;\n",
              "    }\n",
              "\n",
              "    [theme=dark] .colab-df-convert {\n",
              "      background-color: #3B4455;\n",
              "      fill: #D2E3FC;\n",
              "    }\n",
              "\n",
              "    [theme=dark] .colab-df-convert:hover {\n",
              "      background-color: #434B5C;\n",
              "      box-shadow: 0px 1px 3px 1px rgba(0, 0, 0, 0.15);\n",
              "      filter: drop-shadow(0px 1px 2px rgba(0, 0, 0, 0.3));\n",
              "      fill: #FFFFFF;\n",
              "    }\n",
              "  </style>\n",
              "\n",
              "      <script>\n",
              "        const buttonEl =\n",
              "          document.querySelector('#df-8f5fa446-c5ed-4fbe-a592-16dde5e861ff button.colab-df-convert');\n",
              "        buttonEl.style.display =\n",
              "          google.colab.kernel.accessAllowed ? 'block' : 'none';\n",
              "\n",
              "        async function convertToInteractive(key) {\n",
              "          const element = document.querySelector('#df-8f5fa446-c5ed-4fbe-a592-16dde5e861ff');\n",
              "          const dataTable =\n",
              "            await google.colab.kernel.invokeFunction('convertToInteractive',\n",
              "                                                     [key], {});\n",
              "          if (!dataTable) return;\n",
              "\n",
              "          const docLinkHtml = 'Like what you see? Visit the ' +\n",
              "            '<a target=\"_blank\" href=https://colab.research.google.com/notebooks/data_table.ipynb>data table notebook</a>'\n",
              "            + ' to learn more about interactive tables.';\n",
              "          element.innerHTML = '';\n",
              "          dataTable['output_type'] = 'display_data';\n",
              "          await google.colab.output.renderOutput(dataTable, element);\n",
              "          const docLink = document.createElement('div');\n",
              "          docLink.innerHTML = docLinkHtml;\n",
              "          element.appendChild(docLink);\n",
              "        }\n",
              "      </script>\n",
              "    </div>\n",
              "  </div>\n",
              "  "
            ]
          },
          "metadata": {},
          "execution_count": 18
        }
      ]
    },
    {
      "cell_type": "code",
      "source": [
        "price_close_min_max"
      ],
      "metadata": {
        "id": "32xYQHfjE-ud",
        "outputId": "18e7b5ae-648c-4e40-a695-2bb28e9a501b",
        "colab": {
          "base_uri": "https://localhost:8080/",
          "height": 455
        }
      },
      "execution_count": 19,
      "outputs": [
        {
          "output_type": "execute_result",
          "data": {
            "text/plain": [
              "            Adj Close\n",
              "Date                 \n",
              "1997-05-15  -0.999698\n",
              "1997-05-16  -0.999821\n",
              "1997-05-19  -0.999832\n",
              "1997-05-20  -0.999872\n",
              "1997-05-21  -0.999983\n",
              "...               ...\n",
              "2022-11-10   0.035494\n",
              "2022-11-11   0.080105\n",
              "2022-11-14   0.055441\n",
              "2022-11-15   0.060266\n",
              "2022-11-16   0.040749\n",
              "\n",
              "[6421 rows x 1 columns]"
            ],
            "text/html": [
              "\n",
              "  <div id=\"df-d39d2795-d0f5-4b2b-819d-2ced6210930c\">\n",
              "    <div class=\"colab-df-container\">\n",
              "      <div>\n",
              "<style scoped>\n",
              "    .dataframe tbody tr th:only-of-type {\n",
              "        vertical-align: middle;\n",
              "    }\n",
              "\n",
              "    .dataframe tbody tr th {\n",
              "        vertical-align: top;\n",
              "    }\n",
              "\n",
              "    .dataframe thead th {\n",
              "        text-align: right;\n",
              "    }\n",
              "</style>\n",
              "<table border=\"1\" class=\"dataframe\">\n",
              "  <thead>\n",
              "    <tr style=\"text-align: right;\">\n",
              "      <th></th>\n",
              "      <th>Adj Close</th>\n",
              "    </tr>\n",
              "    <tr>\n",
              "      <th>Date</th>\n",
              "      <th></th>\n",
              "    </tr>\n",
              "  </thead>\n",
              "  <tbody>\n",
              "    <tr>\n",
              "      <th>1997-05-15</th>\n",
              "      <td>-0.999698</td>\n",
              "    </tr>\n",
              "    <tr>\n",
              "      <th>1997-05-16</th>\n",
              "      <td>-0.999821</td>\n",
              "    </tr>\n",
              "    <tr>\n",
              "      <th>1997-05-19</th>\n",
              "      <td>-0.999832</td>\n",
              "    </tr>\n",
              "    <tr>\n",
              "      <th>1997-05-20</th>\n",
              "      <td>-0.999872</td>\n",
              "    </tr>\n",
              "    <tr>\n",
              "      <th>1997-05-21</th>\n",
              "      <td>-0.999983</td>\n",
              "    </tr>\n",
              "    <tr>\n",
              "      <th>...</th>\n",
              "      <td>...</td>\n",
              "    </tr>\n",
              "    <tr>\n",
              "      <th>2022-11-10</th>\n",
              "      <td>0.035494</td>\n",
              "    </tr>\n",
              "    <tr>\n",
              "      <th>2022-11-11</th>\n",
              "      <td>0.080105</td>\n",
              "    </tr>\n",
              "    <tr>\n",
              "      <th>2022-11-14</th>\n",
              "      <td>0.055441</td>\n",
              "    </tr>\n",
              "    <tr>\n",
              "      <th>2022-11-15</th>\n",
              "      <td>0.060266</td>\n",
              "    </tr>\n",
              "    <tr>\n",
              "      <th>2022-11-16</th>\n",
              "      <td>0.040749</td>\n",
              "    </tr>\n",
              "  </tbody>\n",
              "</table>\n",
              "<p>6421 rows × 1 columns</p>\n",
              "</div>\n",
              "      <button class=\"colab-df-convert\" onclick=\"convertToInteractive('df-d39d2795-d0f5-4b2b-819d-2ced6210930c')\"\n",
              "              title=\"Convert this dataframe to an interactive table.\"\n",
              "              style=\"display:none;\">\n",
              "        \n",
              "  <svg xmlns=\"http://www.w3.org/2000/svg\" height=\"24px\"viewBox=\"0 0 24 24\"\n",
              "       width=\"24px\">\n",
              "    <path d=\"M0 0h24v24H0V0z\" fill=\"none\"/>\n",
              "    <path d=\"M18.56 5.44l.94 2.06.94-2.06 2.06-.94-2.06-.94-.94-2.06-.94 2.06-2.06.94zm-11 1L8.5 8.5l.94-2.06 2.06-.94-2.06-.94L8.5 2.5l-.94 2.06-2.06.94zm10 10l.94 2.06.94-2.06 2.06-.94-2.06-.94-.94-2.06-.94 2.06-2.06.94z\"/><path d=\"M17.41 7.96l-1.37-1.37c-.4-.4-.92-.59-1.43-.59-.52 0-1.04.2-1.43.59L10.3 9.45l-7.72 7.72c-.78.78-.78 2.05 0 2.83L4 21.41c.39.39.9.59 1.41.59.51 0 1.02-.2 1.41-.59l7.78-7.78 2.81-2.81c.8-.78.8-2.07 0-2.86zM5.41 20L4 18.59l7.72-7.72 1.47 1.35L5.41 20z\"/>\n",
              "  </svg>\n",
              "      </button>\n",
              "      \n",
              "  <style>\n",
              "    .colab-df-container {\n",
              "      display:flex;\n",
              "      flex-wrap:wrap;\n",
              "      gap: 12px;\n",
              "    }\n",
              "\n",
              "    .colab-df-convert {\n",
              "      background-color: #E8F0FE;\n",
              "      border: none;\n",
              "      border-radius: 50%;\n",
              "      cursor: pointer;\n",
              "      display: none;\n",
              "      fill: #1967D2;\n",
              "      height: 32px;\n",
              "      padding: 0 0 0 0;\n",
              "      width: 32px;\n",
              "    }\n",
              "\n",
              "    .colab-df-convert:hover {\n",
              "      background-color: #E2EBFA;\n",
              "      box-shadow: 0px 1px 2px rgba(60, 64, 67, 0.3), 0px 1px 3px 1px rgba(60, 64, 67, 0.15);\n",
              "      fill: #174EA6;\n",
              "    }\n",
              "\n",
              "    [theme=dark] .colab-df-convert {\n",
              "      background-color: #3B4455;\n",
              "      fill: #D2E3FC;\n",
              "    }\n",
              "\n",
              "    [theme=dark] .colab-df-convert:hover {\n",
              "      background-color: #434B5C;\n",
              "      box-shadow: 0px 1px 3px 1px rgba(0, 0, 0, 0.15);\n",
              "      filter: drop-shadow(0px 1px 2px rgba(0, 0, 0, 0.3));\n",
              "      fill: #FFFFFF;\n",
              "    }\n",
              "  </style>\n",
              "\n",
              "      <script>\n",
              "        const buttonEl =\n",
              "          document.querySelector('#df-d39d2795-d0f5-4b2b-819d-2ced6210930c button.colab-df-convert');\n",
              "        buttonEl.style.display =\n",
              "          google.colab.kernel.accessAllowed ? 'block' : 'none';\n",
              "\n",
              "        async function convertToInteractive(key) {\n",
              "          const element = document.querySelector('#df-d39d2795-d0f5-4b2b-819d-2ced6210930c');\n",
              "          const dataTable =\n",
              "            await google.colab.kernel.invokeFunction('convertToInteractive',\n",
              "                                                     [key], {});\n",
              "          if (!dataTable) return;\n",
              "\n",
              "          const docLinkHtml = 'Like what you see? Visit the ' +\n",
              "            '<a target=\"_blank\" href=https://colab.research.google.com/notebooks/data_table.ipynb>data table notebook</a>'\n",
              "            + ' to learn more about interactive tables.';\n",
              "          element.innerHTML = '';\n",
              "          dataTable['output_type'] = 'display_data';\n",
              "          await google.colab.output.renderOutput(dataTable, element);\n",
              "          const docLink = document.createElement('div');\n",
              "          docLink.innerHTML = docLinkHtml;\n",
              "          element.appendChild(docLink);\n",
              "        }\n",
              "      </script>\n",
              "    </div>\n",
              "  </div>\n",
              "  "
            ]
          },
          "metadata": {},
          "execution_count": 19
        }
      ]
    },
    {
      "cell_type": "code",
      "source": [
        "price_open_standard, price_close_standard = get_data('AMZN.csv', STANDARD_SCALING)"
      ],
      "metadata": {
        "id": "OMxbGbtKFCod",
        "outputId": "31ff1c29-6994-4299-d365-9c4d93358b7d",
        "colab": {
          "base_uri": "https://localhost:8080/"
        }
      },
      "execution_count": 20,
      "outputs": [
        {
          "output_type": "stream",
          "name": "stderr",
          "text": [
            "/usr/local/lib/python3.7/dist-packages/ipykernel_launcher.py:18: SettingWithCopyWarning: \n",
            "A value is trying to be set on a copy of a slice from a DataFrame.\n",
            "Try using .loc[row_indexer,col_indexer] = value instead\n",
            "\n",
            "See the caveats in the documentation: https://pandas.pydata.org/pandas-docs/stable/user_guide/indexing.html#returning-a-view-versus-a-copy\n",
            "/usr/local/lib/python3.7/dist-packages/ipykernel_launcher.py:19: SettingWithCopyWarning: \n",
            "A value is trying to be set on a copy of a slice from a DataFrame.\n",
            "Try using .loc[row_indexer,col_indexer] = value instead\n",
            "\n",
            "See the caveats in the documentation: https://pandas.pydata.org/pandas-docs/stable/user_guide/indexing.html#returning-a-view-versus-a-copy\n"
          ]
        }
      ]
    },
    {
      "cell_type": "code",
      "source": [
        "price_open_standard"
      ],
      "metadata": {
        "id": "VL6Oo-dAFLgt",
        "outputId": "21e620cf-d4aa-4218-ad12-00b2a7bc8971",
        "colab": {
          "base_uri": "https://localhost:8080/",
          "height": 455
        }
      },
      "execution_count": 21,
      "outputs": [
        {
          "output_type": "execute_result",
          "data": {
            "text/plain": [
              "                Open\n",
              "Date                \n",
              "1997-05-15 -0.638990\n",
              "1997-05-16 -0.639480\n",
              "1997-05-19 -0.639698\n",
              "1997-05-20 -0.639731\n",
              "1997-05-21 -0.639829\n",
              "...              ...\n",
              "2022-11-10  1.301840\n",
              "2022-11-11  1.405135\n",
              "2022-11-14  1.423745\n",
              "2022-11-15  1.516586\n",
              "2022-11-16  1.383598\n",
              "\n",
              "[6421 rows x 1 columns]"
            ],
            "text/html": [
              "\n",
              "  <div id=\"df-0818005b-ca9f-43e6-a471-dcc1e3dcd7be\">\n",
              "    <div class=\"colab-df-container\">\n",
              "      <div>\n",
              "<style scoped>\n",
              "    .dataframe tbody tr th:only-of-type {\n",
              "        vertical-align: middle;\n",
              "    }\n",
              "\n",
              "    .dataframe tbody tr th {\n",
              "        vertical-align: top;\n",
              "    }\n",
              "\n",
              "    .dataframe thead th {\n",
              "        text-align: right;\n",
              "    }\n",
              "</style>\n",
              "<table border=\"1\" class=\"dataframe\">\n",
              "  <thead>\n",
              "    <tr style=\"text-align: right;\">\n",
              "      <th></th>\n",
              "      <th>Open</th>\n",
              "    </tr>\n",
              "    <tr>\n",
              "      <th>Date</th>\n",
              "      <th></th>\n",
              "    </tr>\n",
              "  </thead>\n",
              "  <tbody>\n",
              "    <tr>\n",
              "      <th>1997-05-15</th>\n",
              "      <td>-0.638990</td>\n",
              "    </tr>\n",
              "    <tr>\n",
              "      <th>1997-05-16</th>\n",
              "      <td>-0.639480</td>\n",
              "    </tr>\n",
              "    <tr>\n",
              "      <th>1997-05-19</th>\n",
              "      <td>-0.639698</td>\n",
              "    </tr>\n",
              "    <tr>\n",
              "      <th>1997-05-20</th>\n",
              "      <td>-0.639731</td>\n",
              "    </tr>\n",
              "    <tr>\n",
              "      <th>1997-05-21</th>\n",
              "      <td>-0.639829</td>\n",
              "    </tr>\n",
              "    <tr>\n",
              "      <th>...</th>\n",
              "      <td>...</td>\n",
              "    </tr>\n",
              "    <tr>\n",
              "      <th>2022-11-10</th>\n",
              "      <td>1.301840</td>\n",
              "    </tr>\n",
              "    <tr>\n",
              "      <th>2022-11-11</th>\n",
              "      <td>1.405135</td>\n",
              "    </tr>\n",
              "    <tr>\n",
              "      <th>2022-11-14</th>\n",
              "      <td>1.423745</td>\n",
              "    </tr>\n",
              "    <tr>\n",
              "      <th>2022-11-15</th>\n",
              "      <td>1.516586</td>\n",
              "    </tr>\n",
              "    <tr>\n",
              "      <th>2022-11-16</th>\n",
              "      <td>1.383598</td>\n",
              "    </tr>\n",
              "  </tbody>\n",
              "</table>\n",
              "<p>6421 rows × 1 columns</p>\n",
              "</div>\n",
              "      <button class=\"colab-df-convert\" onclick=\"convertToInteractive('df-0818005b-ca9f-43e6-a471-dcc1e3dcd7be')\"\n",
              "              title=\"Convert this dataframe to an interactive table.\"\n",
              "              style=\"display:none;\">\n",
              "        \n",
              "  <svg xmlns=\"http://www.w3.org/2000/svg\" height=\"24px\"viewBox=\"0 0 24 24\"\n",
              "       width=\"24px\">\n",
              "    <path d=\"M0 0h24v24H0V0z\" fill=\"none\"/>\n",
              "    <path d=\"M18.56 5.44l.94 2.06.94-2.06 2.06-.94-2.06-.94-.94-2.06-.94 2.06-2.06.94zm-11 1L8.5 8.5l.94-2.06 2.06-.94-2.06-.94L8.5 2.5l-.94 2.06-2.06.94zm10 10l.94 2.06.94-2.06 2.06-.94-2.06-.94-.94-2.06-.94 2.06-2.06.94z\"/><path d=\"M17.41 7.96l-1.37-1.37c-.4-.4-.92-.59-1.43-.59-.52 0-1.04.2-1.43.59L10.3 9.45l-7.72 7.72c-.78.78-.78 2.05 0 2.83L4 21.41c.39.39.9.59 1.41.59.51 0 1.02-.2 1.41-.59l7.78-7.78 2.81-2.81c.8-.78.8-2.07 0-2.86zM5.41 20L4 18.59l7.72-7.72 1.47 1.35L5.41 20z\"/>\n",
              "  </svg>\n",
              "      </button>\n",
              "      \n",
              "  <style>\n",
              "    .colab-df-container {\n",
              "      display:flex;\n",
              "      flex-wrap:wrap;\n",
              "      gap: 12px;\n",
              "    }\n",
              "\n",
              "    .colab-df-convert {\n",
              "      background-color: #E8F0FE;\n",
              "      border: none;\n",
              "      border-radius: 50%;\n",
              "      cursor: pointer;\n",
              "      display: none;\n",
              "      fill: #1967D2;\n",
              "      height: 32px;\n",
              "      padding: 0 0 0 0;\n",
              "      width: 32px;\n",
              "    }\n",
              "\n",
              "    .colab-df-convert:hover {\n",
              "      background-color: #E2EBFA;\n",
              "      box-shadow: 0px 1px 2px rgba(60, 64, 67, 0.3), 0px 1px 3px 1px rgba(60, 64, 67, 0.15);\n",
              "      fill: #174EA6;\n",
              "    }\n",
              "\n",
              "    [theme=dark] .colab-df-convert {\n",
              "      background-color: #3B4455;\n",
              "      fill: #D2E3FC;\n",
              "    }\n",
              "\n",
              "    [theme=dark] .colab-df-convert:hover {\n",
              "      background-color: #434B5C;\n",
              "      box-shadow: 0px 1px 3px 1px rgba(0, 0, 0, 0.15);\n",
              "      filter: drop-shadow(0px 1px 2px rgba(0, 0, 0, 0.3));\n",
              "      fill: #FFFFFF;\n",
              "    }\n",
              "  </style>\n",
              "\n",
              "      <script>\n",
              "        const buttonEl =\n",
              "          document.querySelector('#df-0818005b-ca9f-43e6-a471-dcc1e3dcd7be button.colab-df-convert');\n",
              "        buttonEl.style.display =\n",
              "          google.colab.kernel.accessAllowed ? 'block' : 'none';\n",
              "\n",
              "        async function convertToInteractive(key) {\n",
              "          const element = document.querySelector('#df-0818005b-ca9f-43e6-a471-dcc1e3dcd7be');\n",
              "          const dataTable =\n",
              "            await google.colab.kernel.invokeFunction('convertToInteractive',\n",
              "                                                     [key], {});\n",
              "          if (!dataTable) return;\n",
              "\n",
              "          const docLinkHtml = 'Like what you see? Visit the ' +\n",
              "            '<a target=\"_blank\" href=https://colab.research.google.com/notebooks/data_table.ipynb>data table notebook</a>'\n",
              "            + ' to learn more about interactive tables.';\n",
              "          element.innerHTML = '';\n",
              "          dataTable['output_type'] = 'display_data';\n",
              "          await google.colab.output.renderOutput(dataTable, element);\n",
              "          const docLink = document.createElement('div');\n",
              "          docLink.innerHTML = docLinkHtml;\n",
              "          element.appendChild(docLink);\n",
              "        }\n",
              "      </script>\n",
              "    </div>\n",
              "  </div>\n",
              "  "
            ]
          },
          "metadata": {},
          "execution_count": 21
        }
      ]
    },
    {
      "cell_type": "code",
      "source": [
        "price_close_standard"
      ],
      "metadata": {
        "id": "M38SGtE_FPq9",
        "outputId": "f37f69bb-3545-4bf2-b893-81531ffd979c",
        "colab": {
          "base_uri": "https://localhost:8080/",
          "height": 455
        }
      },
      "execution_count": 22,
      "outputs": [
        {
          "output_type": "execute_result",
          "data": {
            "text/plain": [
              "            Adj Close\n",
              "Date                 \n",
              "1997-05-15  -0.639720\n",
              "1997-05-16  -0.639960\n",
              "1997-05-19  -0.639982\n",
              "1997-05-20  -0.640058\n",
              "1997-05-21  -0.640276\n",
              "...               ...\n",
              "2022-11-10   1.380392\n",
              "2022-11-11   1.467448\n",
              "2022-11-14   1.419316\n",
              "2022-11-15   1.428733\n",
              "2022-11-16   1.390646\n",
              "\n",
              "[6421 rows x 1 columns]"
            ],
            "text/html": [
              "\n",
              "  <div id=\"df-78392c93-b206-4423-b5d2-9bc8bcece6c8\">\n",
              "    <div class=\"colab-df-container\">\n",
              "      <div>\n",
              "<style scoped>\n",
              "    .dataframe tbody tr th:only-of-type {\n",
              "        vertical-align: middle;\n",
              "    }\n",
              "\n",
              "    .dataframe tbody tr th {\n",
              "        vertical-align: top;\n",
              "    }\n",
              "\n",
              "    .dataframe thead th {\n",
              "        text-align: right;\n",
              "    }\n",
              "</style>\n",
              "<table border=\"1\" class=\"dataframe\">\n",
              "  <thead>\n",
              "    <tr style=\"text-align: right;\">\n",
              "      <th></th>\n",
              "      <th>Adj Close</th>\n",
              "    </tr>\n",
              "    <tr>\n",
              "      <th>Date</th>\n",
              "      <th></th>\n",
              "    </tr>\n",
              "  </thead>\n",
              "  <tbody>\n",
              "    <tr>\n",
              "      <th>1997-05-15</th>\n",
              "      <td>-0.639720</td>\n",
              "    </tr>\n",
              "    <tr>\n",
              "      <th>1997-05-16</th>\n",
              "      <td>-0.639960</td>\n",
              "    </tr>\n",
              "    <tr>\n",
              "      <th>1997-05-19</th>\n",
              "      <td>-0.639982</td>\n",
              "    </tr>\n",
              "    <tr>\n",
              "      <th>1997-05-20</th>\n",
              "      <td>-0.640058</td>\n",
              "    </tr>\n",
              "    <tr>\n",
              "      <th>1997-05-21</th>\n",
              "      <td>-0.640276</td>\n",
              "    </tr>\n",
              "    <tr>\n",
              "      <th>...</th>\n",
              "      <td>...</td>\n",
              "    </tr>\n",
              "    <tr>\n",
              "      <th>2022-11-10</th>\n",
              "      <td>1.380392</td>\n",
              "    </tr>\n",
              "    <tr>\n",
              "      <th>2022-11-11</th>\n",
              "      <td>1.467448</td>\n",
              "    </tr>\n",
              "    <tr>\n",
              "      <th>2022-11-14</th>\n",
              "      <td>1.419316</td>\n",
              "    </tr>\n",
              "    <tr>\n",
              "      <th>2022-11-15</th>\n",
              "      <td>1.428733</td>\n",
              "    </tr>\n",
              "    <tr>\n",
              "      <th>2022-11-16</th>\n",
              "      <td>1.390646</td>\n",
              "    </tr>\n",
              "  </tbody>\n",
              "</table>\n",
              "<p>6421 rows × 1 columns</p>\n",
              "</div>\n",
              "      <button class=\"colab-df-convert\" onclick=\"convertToInteractive('df-78392c93-b206-4423-b5d2-9bc8bcece6c8')\"\n",
              "              title=\"Convert this dataframe to an interactive table.\"\n",
              "              style=\"display:none;\">\n",
              "        \n",
              "  <svg xmlns=\"http://www.w3.org/2000/svg\" height=\"24px\"viewBox=\"0 0 24 24\"\n",
              "       width=\"24px\">\n",
              "    <path d=\"M0 0h24v24H0V0z\" fill=\"none\"/>\n",
              "    <path d=\"M18.56 5.44l.94 2.06.94-2.06 2.06-.94-2.06-.94-.94-2.06-.94 2.06-2.06.94zm-11 1L8.5 8.5l.94-2.06 2.06-.94-2.06-.94L8.5 2.5l-.94 2.06-2.06.94zm10 10l.94 2.06.94-2.06 2.06-.94-2.06-.94-.94-2.06-.94 2.06-2.06.94z\"/><path d=\"M17.41 7.96l-1.37-1.37c-.4-.4-.92-.59-1.43-.59-.52 0-1.04.2-1.43.59L10.3 9.45l-7.72 7.72c-.78.78-.78 2.05 0 2.83L4 21.41c.39.39.9.59 1.41.59.51 0 1.02-.2 1.41-.59l7.78-7.78 2.81-2.81c.8-.78.8-2.07 0-2.86zM5.41 20L4 18.59l7.72-7.72 1.47 1.35L5.41 20z\"/>\n",
              "  </svg>\n",
              "      </button>\n",
              "      \n",
              "  <style>\n",
              "    .colab-df-container {\n",
              "      display:flex;\n",
              "      flex-wrap:wrap;\n",
              "      gap: 12px;\n",
              "    }\n",
              "\n",
              "    .colab-df-convert {\n",
              "      background-color: #E8F0FE;\n",
              "      border: none;\n",
              "      border-radius: 50%;\n",
              "      cursor: pointer;\n",
              "      display: none;\n",
              "      fill: #1967D2;\n",
              "      height: 32px;\n",
              "      padding: 0 0 0 0;\n",
              "      width: 32px;\n",
              "    }\n",
              "\n",
              "    .colab-df-convert:hover {\n",
              "      background-color: #E2EBFA;\n",
              "      box-shadow: 0px 1px 2px rgba(60, 64, 67, 0.3), 0px 1px 3px 1px rgba(60, 64, 67, 0.15);\n",
              "      fill: #174EA6;\n",
              "    }\n",
              "\n",
              "    [theme=dark] .colab-df-convert {\n",
              "      background-color: #3B4455;\n",
              "      fill: #D2E3FC;\n",
              "    }\n",
              "\n",
              "    [theme=dark] .colab-df-convert:hover {\n",
              "      background-color: #434B5C;\n",
              "      box-shadow: 0px 1px 3px 1px rgba(0, 0, 0, 0.15);\n",
              "      filter: drop-shadow(0px 1px 2px rgba(0, 0, 0, 0.3));\n",
              "      fill: #FFFFFF;\n",
              "    }\n",
              "  </style>\n",
              "\n",
              "      <script>\n",
              "        const buttonEl =\n",
              "          document.querySelector('#df-78392c93-b206-4423-b5d2-9bc8bcece6c8 button.colab-df-convert');\n",
              "        buttonEl.style.display =\n",
              "          google.colab.kernel.accessAllowed ? 'block' : 'none';\n",
              "\n",
              "        async function convertToInteractive(key) {\n",
              "          const element = document.querySelector('#df-78392c93-b206-4423-b5d2-9bc8bcece6c8');\n",
              "          const dataTable =\n",
              "            await google.colab.kernel.invokeFunction('convertToInteractive',\n",
              "                                                     [key], {});\n",
              "          if (!dataTable) return;\n",
              "\n",
              "          const docLinkHtml = 'Like what you see? Visit the ' +\n",
              "            '<a target=\"_blank\" href=https://colab.research.google.com/notebooks/data_table.ipynb>data table notebook</a>'\n",
              "            + ' to learn more about interactive tables.';\n",
              "          element.innerHTML = '';\n",
              "          dataTable['output_type'] = 'display_data';\n",
              "          await google.colab.output.renderOutput(dataTable, element);\n",
              "          const docLink = document.createElement('div');\n",
              "          docLink.innerHTML = docLinkHtml;\n",
              "          element.appendChild(docLink);\n",
              "        }\n",
              "      </script>\n",
              "    </div>\n",
              "  </div>\n",
              "  "
            ]
          },
          "metadata": {},
          "execution_count": 22
        }
      ]
    },
    {
      "cell_type": "code",
      "source": [
        "stock_data_raw = pd.read_csv('AMZN.csv', index_col='Date')\n",
        "plt.figure(figsize=(15,10))\n",
        "plt.gca().xaxis.set_major_formatter(mdates.DateFormatter('%Y-%m-%d'))\n",
        "plt.gca().xaxis.set_major_locator(mdates.DayLocator(interval=60))\n",
        "x_dates = [dt.datetime.strptime(d, '%Y-%m-%d').date() for d in stock_data_raw.index.values]\n",
        "\n",
        "plt.plot(x_dates, stock_data_raw[ADJACENT_CLOSE], label=ADJACENT_CLOSE)\n",
        "# plt.plot(x_dates, data['Low'], label='Low')\n",
        "plt.xlabel('Time scale')\n",
        "plt.ylabel('Price')\n",
        "plt.title('Closing price curve')\n",
        "plt.legend()\n",
        "plt.gcf().autofmt_xdate()\n",
        "plt.show()"
      ],
      "metadata": {
        "colab": {
          "base_uri": "https://localhost:8080/",
          "height": 595
        },
        "id": "XqYxV7xKJc-q",
        "outputId": "b3efb607-0589-43ec-82ae-1200c98d889c"
      },
      "execution_count": 26,
      "outputs": [
        {
          "output_type": "display_data",
          "data": {
            "text/plain": [
              "<Figure size 1080x720 with 1 Axes>"
            ],
            "image/png": "[encoded data removed]"
          },
          "metadata": {
            "needs_background": "light"
          }
        }
      ]
    },
    {
      "cell_type": "code",
      "source": [
        "def convert_to_torch_tensor(numpy_data):\n",
        "    return torch.from_numpy(numpy_data).type(torch.Tensor)\n",
        "\n",
        "\n",
        "def split_data(X, y, test_size, lookback):\n",
        "    X_raw = X.to_numpy() # convert to numpy array\n",
        "    y_raw = y.to_numpy()\n",
        "    X_data = []\n",
        "    y_data = []\n",
        "    \n",
        "    # create all possible sequences of length seq_len\n",
        "    for index in range(len(X_raw) - lookback): \n",
        "        X_data.append(X_raw[index: index + lookback])\n",
        "        y_data.append(y_raw[index: index + lookback])\n",
        "    \n",
        "    X_data = np.array(X_data);\n",
        "    y_data = np.array(y_data)\n",
        "    train_set_size = X_data.shape[0] - (test_size)\n",
        "    \n",
        "    X_train_val = X_data[:train_set_size,:-1,:]\n",
        "    y_train_val = y_data[:train_set_size,-1,:]\n",
        "    \n",
        "    X_test = X_data[train_set_size:,:-1]\n",
        "    y_test = y_data[train_set_size:,-1,:]\n",
        "\n",
        "    # split train into validation set\n",
        "    X_train, X_val, y_train, y_val = train_test_split(X_train_val, y_train_val, test_size=0.2, )\n",
        "\n",
        "    X_train = convert_to_torch_tensor(X_train)\n",
        "    X_val = convert_to_torch_tensor(X_val)\n",
        "    X_test = convert_to_torch_tensor(X_test)\n",
        "    y_train = convert_to_torch_tensor(y_train)\n",
        "    y_val = convert_to_torch_tensor(y_val)\n",
        "    y_test = convert_to_torch_tensor(y_test)\n",
        "    \n",
        "    return [X_train, X_val, X_test, y_train, y_val, y_test]\n"
      ],
      "metadata": {
        "id": "siwmw4lVns6E"
      },
      "execution_count": 30,
      "outputs": []
    },
    {
      "cell_type": "code",
      "source": [
        "def inverse_transform_data(data, data_scaler):\n",
        "    data_copy = data.clone()\n",
        "    return data_scaler.inverse_transform(data_copy.detach().numpy())\n",
        "\n",
        "def calculate_prediction_error(X, y, model, data_scaler):\n",
        "    y_pred = model(X)\n",
        "    #invert predictions\n",
        "    y_pred_inverse = inverse_transform_data(y_pred, data_scaler)\n",
        "    y_inverse = inverse_transform_data(y, data_scaler)\n",
        "\n",
        "    mse = mean_squared_error(y_inverse[:,0], y_pred_inverse[:,0])\n",
        "    rmse = math.sqrt(mse)\n",
        "    return rmse\n",
        "\n"
      ],
      "metadata": {
        "id": "K7fniAwZveEz"
      },
      "execution_count": 58,
      "outputs": []
    },
    {
      "cell_type": "code",
      "source": [
        "def train_network(num_epochs, model, criterion, optimiser, X_train, y_train, X_val, y_val, data_scaler):\n",
        "    results = []\n",
        "    # hist = np.zeros(num_epochs)\n",
        "    start_time = time.time()\n",
        "    lstm = []\n",
        "    model.train()\n",
        "    for t in range(num_epochs):\n",
        "        y_train_pred = model(X_train)\n",
        "        loss = criterion(y_train_pred, y_train)\n",
        "        loss_value_train = loss.item()\n",
        "        \n",
        "        optimiser.zero_grad()\n",
        "        loss.backward()\n",
        "        optimiser.step()\n",
        "\n",
        "        val_loss = calculate_prediction_error(X_val, y_val, model, data_scaler)\n",
        "        print(\"Epoch: \", t, \", Train loss: \", loss_value_train, \", Val loss: \", val_loss)\n",
        "        results.append({'epoch': t, 'train_loss': loss_value_train, 'val_loss': val_loss})\n",
        "\n",
        "    training_time = time.time()-start_time\n",
        "    print(\"Training time: {}\".format(training_time))\n",
        "    return results"
      ],
      "metadata": {
        "id": "X-ACUnDF6HnS"
      },
      "execution_count": 64,
      "outputs": []
    },
    {
      "cell_type": "code",
      "source": [
        "def plot_loss_curve(x_values, y_values, title):\n",
        "    plt.plot(x_values, y_values)\n",
        "    plt.title(title + ' Loss curve')\n",
        "    plt.xlabel('Epoch')\n",
        "    plt.ylabel('Loss  value')\n",
        "    plt.show()\n",
        "\n",
        "def plot_training_loss_curves(train_results,  title):\n",
        "    epochs = []\n",
        "    train_loss_values =  []\n",
        "    val_loss_values = []\n",
        "    for r in train_results:\n",
        "        epochs.append(r['epoch'])\n",
        "        train_loss_values.append(r['train_loss'])\n",
        "        val_loss_values.append(r['val_loss'])\n",
        "    \n",
        "    plot_loss_curve(epochs, train_loss_values, 'Train ' + title)\n",
        "    plot_loss_curve(epochs, val_loss_values, 'Validation ' + title)\n",
        "    \n",
        "    "
      ],
      "metadata": {
        "id": "P-mVYYdvPXUA"
      },
      "execution_count": 76,
      "outputs": []
    },
    {
      "cell_type": "code",
      "source": [
        "class RNN(nn.Module):\n",
        "    def __init__(self, input_dim, hidden_dim, num_layers, output_dim):\n",
        "        super(RNN, self).__init__()\n",
        "        self.hidden_dim = hidden_dim\n",
        "        self.num_layers = num_layers\n",
        "        \n",
        "        self.rnn = nn.RNN(input_dim, hidden_dim, num_layers, batch_first=True)\n",
        "        self.fc = nn.Linear(hidden_dim, output_dim)\n",
        "\n",
        "    def forward(self, x):\n",
        "        h0 = torch.zeros(self.num_layers, x.size(0), self.hidden_dim).requires_grad_()\n",
        "        out, (hn) = self.rnn(x, (h0.detach()))\n",
        "        out = self.fc(out[:, -1, :]) \n",
        "        return out"
      ],
      "metadata": {
        "id": "4Rdo6SN-Ltzi"
      },
      "execution_count": 39,
      "outputs": []
    },
    {
      "cell_type": "code",
      "source": [
        "class LSTM(nn.Module):\n",
        "    def __init__(self, input_dim, hidden_dim, num_layers, output_dim):\n",
        "        super(LSTM, self).__init__()\n",
        "        self.hidden_dim = hidden_dim\n",
        "        self.num_layers = num_layers\n",
        "        \n",
        "        self.lstm = nn.LSTM(input_dim, hidden_dim, num_layers, batch_first=True)\n",
        "        self.fc = nn.Linear(hidden_dim, output_dim)\n",
        "        \n",
        "    def forward(self, x):\n",
        "        h0 = torch.zeros(self.num_layers, x.size(0), self.hidden_dim).requires_grad_()\n",
        "        c0 = torch.zeros(self.num_layers, x.size(0), self.hidden_dim).requires_grad_()\n",
        "        out, (hn, cn) = self.lstm(x, (h0.detach(), c0.detach()))\n",
        "        # print('out shape ', out.shape)\n",
        "        out = self.fc(out[:, -1, :]) \n",
        "        return out"
      ],
      "metadata": {
        "id": "hLWeQqNc6IMV"
      },
      "execution_count": 37,
      "outputs": []
    },
    {
      "cell_type": "code",
      "source": [
        "class GRU(nn.Module):\n",
        "    def __init__(self, input_dim, hidden_dim, num_layers, output_dim):\n",
        "        super(GRU, self).__init__()\n",
        "        self.hidden_dim = hidden_dim\n",
        "        self.num_layers = num_layers\n",
        "        \n",
        "        self.gru = nn.GRU(input_dim, hidden_dim, num_layers, batch_first=True)\n",
        "        self.fc = nn.Linear(hidden_dim, output_dim)\n",
        "\n",
        "    def forward(self, x):\n",
        "        h0 = torch.zeros(self.num_layers, x.size(0), self.hidden_dim).requires_grad_()\n",
        "        out, (hn) = self.gru(x, (h0.detach()))\n",
        "        out = self.fc(out[:, -1, :]) \n",
        "        return out"
      ],
      "metadata": {
        "id": "kpOFwbEBLk5S"
      },
      "execution_count": 45,
      "outputs": []
    },
    {
      "cell_type": "code",
      "source": [
        "FROM_CLOSE_TO_CLOSE = \"from_close_to_close\"\n",
        "FROM_OPEN_TO_CLOSE = \"from_open_to_close\"\n",
        "RNN_MODEL = \"RNN_MODEL\"\n",
        "LSTM_MODEL = \"LSTM_MODEL\"\n",
        "GRU_MODEL = \"GRU_MODEL\"\n",
        "\n",
        "def train_model(input_dim, hidden_dim, num_layers, output_dim, num_epochs, learning_rate, lookback, model_name, file_name, test_size, \n",
        "                prediction_type, scaling_method):\n",
        "    price_open, price_close, data_scaler = get_data(file_name, scaling_method)\n",
        "    feature = None\n",
        "    labels = price_close\n",
        "    if prediction_type == FROM_CLOSE_TO_CLOSE:\n",
        "        feature = price_close\n",
        "        print(\"Choosing close as features \")\n",
        "    elif prediction_type == FROM_OPEN_TO_CLOSE:\n",
        "        feature = price_open\n",
        "        print(\"Choosing open as features \")\n",
        "    else:\n",
        "        print(\"Invalid prediction type\")\n",
        "        raise Exception(\"Invalid prediction type\")\n",
        "\n",
        "    X_train, X_val, X_test, y_train, y_val, y_test = split_data(feature, labels, test_size, lookback)\n",
        "\n",
        "    model = None\n",
        "    if model_name == LSTM_MODEL:\n",
        "        model = LSTM(input_dim=input_dim, hidden_dim=hidden_dim, output_dim=output_dim, num_layers=num_layers)\n",
        "    elif model_name == GRU_MODEL:\n",
        "        model = GRU(input_dim=input_dim, hidden_dim=hidden_dim, output_dim=output_dim, num_layers=num_layers)\n",
        "    elif model_name == RNN_MODEL:\n",
        "        model = RNN(input_dim=input_dim, hidden_dim=hidden_dim, output_dim=output_dim, num_layers=num_layers)\n",
        " \n",
        "    criterion = torch.nn.MSELoss(reduction='mean')\n",
        "    optimiser = torch.optim.Adam(model.parameters(), lr= learning_rate)\n",
        "    train_results = train_network(num_epochs, model, criterion, optimiser, X_train, y_train, X_val, y_val, data_scaler)\n",
        "    plot_training_loss_curves(train_results, model_name)\n",
        "\n",
        "    y_test_error = calculate_prediction_error(X_test, y_test, model, data_scaler)\n",
        "    y_train_error = calculate_prediction_error(X_train, y_train, model, data_scaler)\n",
        "    y_val_error = calculate_prediction_error(X_val, y_val, model, data_scaler)\n",
        "    return y_train_error, y_val_error, y_test_error"
      ],
      "metadata": {
        "id": "M69Jx4aq3JSS"
      },
      "execution_count": 81,
      "outputs": []
    },
    {
      "cell_type": "code",
      "source": [
        "# Experiment for RNN\n",
        "\n",
        "torch.random.manual_seed(0)\n",
        "input_dim = 1\n",
        "# hidden_dim = 32\n",
        "# num_layers = 2\n",
        "output_dim = 1\n",
        "# num_epochs = 10\n",
        "# learning_rate = 0.01\n",
        "# lookback = 15\n",
        "test_size= 5\n",
        "\n",
        "experiment_results = []\n",
        "# , LSTM_MODEL, GRU_MODEL\n",
        "model_names = [RNN_MODEL, LSTM_MODEL, GRU_MODEL]\n",
        "file_names = [\"AMZN.csv\"]\n",
        "# FROM_OPEN_TO_CLOSE\n",
        "prediction_types = [FROM_CLOSE_TO_CLOSE]\n",
        "hidden_dimensions = [8, 16, 20, 26, 32]\n",
        "number_of_layers = [2,4,6,8]\n",
        "number_of_epochs = [10,20,30]\n",
        "lookbacks = [10,30,50,70,90]\n",
        "learning_rates = [0.01, 0.001]\n",
        "for file_name in file_names:\n",
        "    for model_name in model_names:\n",
        "        for prediction_type in prediction_types:\n",
        "            for hidden_dim in hidden_dimensions:\n",
        "                for num_layers in number_of_layers:\n",
        "                    for num_epochs in number_of_epochs:\n",
        "                        for lookback in lookbacks:\n",
        "                            for learning_rate in learning_rates:\n",
        "                                y_train_error, y_val_error, y_test_error = train_model(input_dim, hidden_dim, num_layers, output_dim, \n",
        "                                    num_epochs, learning_rate, lookback, model_name, file_name, test_size, prediction_type, STANDARD_SCALING)\n",
        "                                \n",
        "                                experiment_results.append({'input_dim':input_dim, 'hidden_dim': hidden_dim, 'num_layers': num_layers, \n",
        "                                                        'learning_rate': learning_rate, 'lookback': lookback, 'train_error': y_train_error,\n",
        "                                                        'val_error': y_val_error, 'test_error': y_test_error, 'model_name': model_name, 'num_epochs': num_epochs,\n",
        "                                                         'prediction_type': prediction_type })\n"
      ],
      "metadata": {
        "colab": {
          "base_uri": "https://localhost:8080/",
          "height": 1000
        },
        "id": "2xMSnWWE1Ozz",
        "outputId": "bc9ce38c-86af-4838-c19f-e3251d2f9d62"
      },
      "execution_count": 77,
      "outputs": [
        {
          "output_type": "stream",
          "name": "stderr",
          "text": [
            "/usr/local/lib/python3.7/dist-packages/ipykernel_launcher.py:23: SettingWithCopyWarning: \n",
            "A value is trying to be set on a copy of a slice from a DataFrame.\n",
            "Try using .loc[row_indexer,col_indexer] = value instead\n",
            "\n",
            "See the caveats in the documentation: https://pandas.pydata.org/pandas-docs/stable/user_guide/indexing.html#returning-a-view-versus-a-copy\n",
            "/usr/local/lib/python3.7/dist-packages/ipykernel_launcher.py:24: SettingWithCopyWarning: \n",
            "A value is trying to be set on a copy of a slice from a DataFrame.\n",
            "Try using .loc[row_indexer,col_indexer] = value instead\n",
            "\n",
            "See the caveats in the documentation: https://pandas.pydata.org/pandas-docs/stable/user_guide/indexing.html#returning-a-view-versus-a-copy\n"
          ]
        },
        {
          "output_type": "stream",
          "name": "stdout",
          "text": [
            "Choosing open as features \n",
            "Epoch:  0 , Train loss:  1.0377249717712402 , Val loss:  46.074045046567434\n",
            "Epoch:  1 , Train loss:  0.937240719795227 , Val loss:  43.102248584126244\n",
            "Epoch:  2 , Train loss:  0.8211981654167175 , Val loss:  37.98300111923013\n",
            "Epoch:  3 , Train loss:  0.638257622718811 , Val loss:  29.457729248874564\n",
            "Epoch:  4 , Train loss:  0.38474494218826294 , Val loss:  21.556237060330634\n",
            "Epoch:  5 , Train loss:  0.2070799171924591 , Val loss:  17.03992933948176\n",
            "Epoch:  6 , Train loss:  0.12575164437294006 , Val loss:  22.117325480848294\n",
            "Epoch:  7 , Train loss:  0.21419775485992432 , Val loss:  24.026688042284356\n",
            "Epoch:  8 , Train loss:  0.252411425113678 , Val loss:  20.844116024709766\n",
            "Epoch:  9 , Train loss:  0.1866309642791748 , Val loss:  16.85399354422185\n",
            "Training time: 3.955456018447876\n"
          ]
        },
        {
          "output_type": "display_data",
          "data": {
            "text/plain": [
              "<Figure size 432x288 with 1 Axes>"
            ],
            "image/png": "[encoded data removed]"
          },
          "metadata": {
            "needs_background": "light"
          }
        },
        {
          "output_type": "display_data",
          "data": {
            "text/plain": [
              "<Figure size 432x288 with 1 Axes>"
            ],
            "image/png": "[encoded data removed]"
          },
          "metadata": {
            "needs_background": "light"
          }
        },
        {
          "output_type": "stream",
          "name": "stdout",
          "text": [
            "Train RMSE  16.53531820216578\n",
            "Val RMSE  16.85399354422185\n",
            "Test RMSE  30.7589405987562\n"
          ]
        }
      ]
    },
    {
      "cell_type": "code",
      "source": [
        "torch.random.manual_seed(0)\n",
        "hidden_dim = 32\n",
        "num_layers = 2\n",
        "output_dim = 1\n",
        "num_epochs = 10\n",
        "learning_rate = 0.01\n",
        "lookback = 15\n",
        "test_size= 5\n",
        "train_model(hidden_dim, num_layers, output_dim, num_epochs, learning_rate, lookback, \"LSTM\", \"AAPL.csv\", test_size, \"from_close_to_close\")"
      ],
      "metadata": {
        "id": "6AGsErwM669y",
        "outputId": "94ccef0e-245f-4ba4-c49e-28daad59e3c7",
        "colab": {
          "base_uri": "https://localhost:8080/",
          "height": 989
        }
      },
      "execution_count": null,
      "outputs": [
        {
          "output_type": "stream",
          "name": "stderr",
          "text": [
            "/usr/local/lib/python3.7/dist-packages/ipykernel_launcher.py:7: SettingWithCopyWarning: \n",
            "A value is trying to be set on a copy of a slice from a DataFrame.\n",
            "Try using .loc[row_indexer,col_indexer] = value instead\n",
            "\n",
            "See the caveats in the documentation: https://pandas.pydata.org/pandas-docs/stable/user_guide/indexing.html#returning-a-view-versus-a-copy\n",
            "  import sys\n",
            "/usr/local/lib/python3.7/dist-packages/ipykernel_launcher.py:8: SettingWithCopyWarning: \n",
            "A value is trying to be set on a copy of a slice from a DataFrame.\n",
            "Try using .loc[row_indexer,col_indexer] = value instead\n",
            "\n",
            "See the caveats in the documentation: https://pandas.pydata.org/pandas-docs/stable/user_guide/indexing.html#returning-a-view-versus-a-copy\n",
            "  \n"
          ]
        },
        {
          "output_type": "stream",
          "name": "stdout",
          "text": [
            "Choosing close as features                 Close\n",
            "Date                \n",
            "1997-05-15 -0.999698\n",
            "1997-05-16 -0.999821\n",
            "1997-05-19 -0.999832\n",
            "1997-05-20 -0.999872\n",
            "1997-05-21 -0.999983\n",
            "...              ...\n",
            "2022-11-07 -0.029921\n",
            "2022-11-08 -0.035819\n",
            "2022-11-09 -0.076999\n",
            "2022-11-10  0.035494\n",
            "2022-11-11  0.080105\n",
            "\n",
            "[6418 rows x 1 columns]\n",
            "Epoch  0 MSE:  0.9952509999275208\n",
            "Epoch  1 MSE:  0.7708558440208435\n",
            "Epoch  2 MSE:  0.5677278637886047\n",
            "Epoch  3 MSE:  0.3386118412017822\n",
            "Epoch  4 MSE:  0.1637352854013443\n",
            "Epoch  5 MSE:  0.38223206996917725\n",
            "Epoch  6 MSE:  0.2644254267215729\n",
            "Epoch  7 MSE:  0.14517256617546082\n",
            "Epoch  8 MSE:  0.12813887000083923\n",
            "Epoch  9 MSE:  0.1510937660932541\n",
            "Training time: 4.47037935256958\n"
          ]
        },
        {
          "output_type": "display_data",
          "data": {
            "text/plain": [
              "<Figure size 432x288 with 1 Axes>"
            ],
            "image/png": "[encoded data removed]"
          },
          "metadata": {
            "needs_background": "light"
          }
        },
        {
          "output_type": "stream",
          "name": "stdout",
          "text": [
            "Train RMSE  37.32978458795085\n",
            "Test RMSE  21.11724819636116\n"
          ]
        }
      ]
    },
    {
      "cell_type": "code",
      "source": [],
      "metadata": {
        "id": "mSupmE4M6Sqo"
      },
      "execution_count": null,
      "outputs": []
    },
    {
      "cell_type": "code",
      "source": [
        "torch.random.manual_seed(0)\n",
        "hidden_dim = 32\n",
        "num_layers = 2\n",
        "output_dim = 1\n",
        "num_epochs = 10\n",
        "learning_rate = 0.01\n",
        "lookback = 15\n",
        "test_size= 5\n",
        "train_model(hidden_dim, num_layers, output_dim, num_epochs, learning_rate, lookback, \"GRU\", \"AAPL.csv\", test_size, \"from_open_to_close\")\n"
      ],
      "metadata": {
        "colab": {
          "base_uri": "https://localhost:8080/",
          "height": 989
        },
        "id": "Qypszyf548OK",
        "outputId": "03d5f37a-439e-4cf6-d6fe-ea8aec8e33d2"
      },
      "execution_count": null,
      "outputs": [
        {
          "output_type": "stream",
          "name": "stderr",
          "text": [
            "/usr/local/lib/python3.7/dist-packages/ipykernel_launcher.py:7: SettingWithCopyWarning: \n",
            "A value is trying to be set on a copy of a slice from a DataFrame.\n",
            "Try using .loc[row_indexer,col_indexer] = value instead\n",
            "\n",
            "See the caveats in the documentation: https://pandas.pydata.org/pandas-docs/stable/user_guide/indexing.html#returning-a-view-versus-a-copy\n",
            "  import sys\n",
            "/usr/local/lib/python3.7/dist-packages/ipykernel_launcher.py:8: SettingWithCopyWarning: \n",
            "A value is trying to be set on a copy of a slice from a DataFrame.\n",
            "Try using .loc[row_indexer,col_indexer] = value instead\n",
            "\n",
            "See the caveats in the documentation: https://pandas.pydata.org/pandas-docs/stable/user_guide/indexing.html#returning-a-view-versus-a-copy\n",
            "  \n"
          ]
        },
        {
          "output_type": "stream",
          "name": "stdout",
          "text": [
            "Choosing open as features                  Open\n",
            "Date                \n",
            "1997-05-15 -0.999449\n",
            "1997-05-16 -0.999699\n",
            "1997-05-19 -0.999811\n",
            "1997-05-20 -0.999827\n",
            "1997-05-21 -0.999878\n",
            "...              ...\n",
            "2022-11-07 -0.018011\n",
            "2022-11-08 -0.030408\n",
            "2022-11-09 -0.044516\n",
            "2022-11-10 -0.007430\n",
            "2022-11-11  0.045368\n",
            "\n",
            "[6418 rows x 1 columns]\n",
            "Epoch  0 MSE:  0.7369745969772339\n",
            "Epoch  1 MSE:  0.41640961170196533\n",
            "Epoch  2 MSE:  0.2199297994375229\n",
            "Epoch  3 MSE:  0.16164758801460266\n",
            "Epoch  4 MSE:  0.1939612776041031\n",
            "Epoch  5 MSE:  0.12221936881542206\n",
            "Epoch  6 MSE:  0.06307707726955414\n",
            "Epoch  7 MSE:  0.05187137797474861\n",
            "Epoch  8 MSE:  0.044533222913742065\n",
            "Epoch  9 MSE:  0.018727242946624756\n",
            "Training time: 3.459454298019409\n"
          ]
        },
        {
          "output_type": "display_data",
          "data": {
            "text/plain": [
              "<Figure size 432x288 with 1 Axes>"
            ],
            "image/png": "[encoded data removed]"
          },
          "metadata": {
            "needs_background": "light"
          }
        },
        {
          "output_type": "stream",
          "name": "stdout",
          "text": [
            "Train RMSE  6.383037511811854\n",
            "Test RMSE  23.489356694675305\n"
          ]
        }
      ]
    },
    {
      "cell_type": "code",
      "source": [
        "torch.random.manual_seed(0)\n",
        "hidden_dim = 32\n",
        "num_layers = 2\n",
        "output_dim = 1\n",
        "num_epochs = 10\n",
        "learning_rate = 0.01\n",
        "lookback = 15\n",
        "test_size= 5\n",
        "train_model(hidden_dim, num_layers, output_dim, num_epochs, learning_rate, lookback, \"GRU\", \"AAPL.csv\", test_size, \"from_close_to_close\")"
      ],
      "metadata": {
        "id": "E3E3Q4Ag8oUB",
        "outputId": "4fad0ea6-c259-42ce-af82-9abd3999a7d6",
        "colab": {
          "base_uri": "https://localhost:8080/",
          "height": 989
        }
      },
      "execution_count": null,
      "outputs": [
        {
          "output_type": "stream",
          "name": "stderr",
          "text": [
            "/usr/local/lib/python3.7/dist-packages/ipykernel_launcher.py:7: SettingWithCopyWarning: \n",
            "A value is trying to be set on a copy of a slice from a DataFrame.\n",
            "Try using .loc[row_indexer,col_indexer] = value instead\n",
            "\n",
            "See the caveats in the documentation: https://pandas.pydata.org/pandas-docs/stable/user_guide/indexing.html#returning-a-view-versus-a-copy\n",
            "  import sys\n",
            "/usr/local/lib/python3.7/dist-packages/ipykernel_launcher.py:8: SettingWithCopyWarning: \n",
            "A value is trying to be set on a copy of a slice from a DataFrame.\n",
            "Try using .loc[row_indexer,col_indexer] = value instead\n",
            "\n",
            "See the caveats in the documentation: https://pandas.pydata.org/pandas-docs/stable/user_guide/indexing.html#returning-a-view-versus-a-copy\n",
            "  \n"
          ]
        },
        {
          "output_type": "stream",
          "name": "stdout",
          "text": [
            "Choosing close as features                 Close\n",
            "Date                \n",
            "1997-05-15 -0.999698\n",
            "1997-05-16 -0.999821\n",
            "1997-05-19 -0.999832\n",
            "1997-05-20 -0.999872\n",
            "1997-05-21 -0.999983\n",
            "...              ...\n",
            "2022-11-07 -0.029921\n",
            "2022-11-08 -0.035819\n",
            "2022-11-09 -0.076999\n",
            "2022-11-10  0.035494\n",
            "2022-11-11  0.080105\n",
            "\n",
            "[6418 rows x 1 columns]\n",
            "Epoch  0 MSE:  0.7369849681854248\n",
            "Epoch  1 MSE:  0.4163861870765686\n",
            "Epoch  2 MSE:  0.21978235244750977\n",
            "Epoch  3 MSE:  0.1611795574426651\n",
            "Epoch  4 MSE:  0.19349516928195953\n",
            "Epoch  5 MSE:  0.12172998487949371\n",
            "Epoch  6 MSE:  0.0624452643096447\n",
            "Epoch  7 MSE:  0.05124719440937042\n",
            "Epoch  8 MSE:  0.04406679794192314\n",
            "Epoch  9 MSE:  0.018515441566705704\n",
            "Training time: 3.4281697273254395\n"
          ]
        },
        {
          "output_type": "display_data",
          "data": {
            "text/plain": [
              "<Figure size 432x288 with 1 Axes>"
            ],
            "image/png": "[encoded data removed]"
          },
          "metadata": {
            "needs_background": "light"
          }
        },
        {
          "output_type": "stream",
          "name": "stdout",
          "text": [
            "Train RMSE  6.479003740656085\n",
            "Test RMSE  21.417931347427672\n"
          ]
        }
      ]
    },
    {
      "cell_type": "code",
      "source": [],
      "metadata": {
        "id": "zM7SFrP7DTek"
      },
      "execution_count": null,
      "outputs": []
    },
    {
      "cell_type": "code",
      "source": [
        "torch.random.manual_seed(0)\n",
        "hidden_dim = 32\n",
        "num_layers = 2\n",
        "output_dim = 1\n",
        "num_epochs = 10\n",
        "learning_rate = 0.01\n",
        "lookback = 15\n",
        "test_size= 5\n",
        "train_model(hidden_dim, num_layers, output_dim, num_epochs, learning_rate, lookback, \"RNN\", \"AAPL.csv\", test_size, \"from_close_to_close\")\n"
      ],
      "metadata": {
        "colab": {
          "base_uri": "https://localhost:8080/",
          "height": 729
        },
        "id": "m9-e1_J15CTq",
        "outputId": "dd3b3250-5e1d-4b87-e4ed-259270b90c0e"
      },
      "execution_count": null,
      "outputs": [
        {
          "output_type": "stream",
          "name": "stderr",
          "text": [
            "/usr/local/lib/python3.7/dist-packages/ipykernel_launcher.py:7: SettingWithCopyWarning: \n",
            "A value is trying to be set on a copy of a slice from a DataFrame.\n",
            "Try using .loc[row_indexer,col_indexer] = value instead\n",
            "\n",
            "See the caveats in the documentation: https://pandas.pydata.org/pandas-docs/stable/user_guide/indexing.html#returning-a-view-versus-a-copy\n",
            "  import sys\n",
            "/usr/local/lib/python3.7/dist-packages/ipykernel_launcher.py:8: SettingWithCopyWarning: \n",
            "A value is trying to be set on a copy of a slice from a DataFrame.\n",
            "Try using .loc[row_indexer,col_indexer] = value instead\n",
            "\n",
            "See the caveats in the documentation: https://pandas.pydata.org/pandas-docs/stable/user_guide/indexing.html#returning-a-view-versus-a-copy\n",
            "  \n"
          ]
        },
        {
          "output_type": "stream",
          "name": "stdout",
          "text": [
            "Epoch  0 MSE:  1.434052586555481\n",
            "Epoch  1 MSE:  0.5905292630195618\n",
            "Epoch  2 MSE:  0.19702869653701782\n",
            "Epoch  3 MSE:  0.3715936243534088\n",
            "Epoch  4 MSE:  0.2154933512210846\n",
            "Epoch  5 MSE:  0.11113932728767395\n",
            "Epoch  6 MSE:  0.1660274714231491\n",
            "Epoch  7 MSE:  0.13546404242515564\n",
            "Epoch  8 MSE:  0.03624818101525307\n",
            "Epoch  9 MSE:  0.02865765616297722\n",
            "Training time: 1.0719490051269531\n"
          ]
        },
        {
          "output_type": "display_data",
          "data": {
            "text/plain": [
              "<Figure size 432x288 with 1 Axes>"
            ],
            "image/png": "[encoded data removed]"
          },
          "metadata": {
            "needs_background": "light"
          }
        },
        {
          "output_type": "stream",
          "name": "stdout",
          "text": [
            "Train RMSE  27.499107762514313\n",
            "Test RMSE  13.083721244228634\n"
          ]
        }
      ]
    },
    {
      "cell_type": "code",
      "source": [
        "# model_rnn = RNN(input_dim=input_dim, hidden_dim=hidden_dim, output_dim=output_dim, num_layers=num_layers)\n",
        "# criterion = torch.nn.MSELoss(reduction='mean')\n",
        "# optimiser = torch.optim.Adam(model_rnn.parameters(), lr=learning_rate)\n",
        "# train_results = train_network(num_epochs, model_rnn, criterion, optimiser, X_train, y_train)\n",
        "# plot_loss_curve(train_results, 'RNN')\n",
        "\n",
        "# y_test_pred = model_rnn(X_test)\n",
        "# y_train_pred = model_rnn(X_train)\n",
        "# y_test_error = calculate_prediction_error(X_test, y_test, model_rnn)\n",
        "# y_train_error = calculate_prediction_error(X_train, y_train, model_rnn)\n",
        "# print('Train RMSE ', y_train_error)\n",
        "# print('Test RMSE ', y_test_error)"
      ],
      "metadata": {
        "id": "gXcIMfPJDWed"
      },
      "execution_count": null,
      "outputs": []
    },
    {
      "cell_type": "code",
      "source": [
        "torch.random.manual_seed(0)\n",
        "hidden_dim = 32\n",
        "num_layers = 2\n",
        "output_dim = 1\n",
        "num_epochs = 10\n",
        "learning_rate = 0.01\n",
        "lookback = 15\n",
        "test_size= 5\n",
        "\n",
        "model_names = [\"RNN\", \"LSTM\", \"GRU\"]\n",
        "prediction_types = [\"from_open_to_close\", \"from_close_to_close\"]\n",
        "file_names = [\"AAPL.csv\"]\n",
        "for file_name in file_names:\n",
        "    for prediction_type in prediction_types:\n",
        "        for model_name in model_names:\n",
        "            train_model(hidden_dim, num_layers, output_dim, num_epochs, learning_rate, lookback, model_name, file_name, test_size, prediction_type)\n",
        "\n",
        "\n"
      ],
      "metadata": {
        "id": "2Pj6WtzF9B7i",
        "outputId": "f52bd58c-05c3-45a0-9ef8-57aafffed4a7",
        "colab": {
          "base_uri": "https://localhost:8080/",
          "height": 1000
        }
      },
      "execution_count": null,
      "outputs": [
        {
          "output_type": "stream",
          "name": "stderr",
          "text": [
            "/usr/local/lib/python3.7/dist-packages/ipykernel_launcher.py:7: SettingWithCopyWarning: \n",
            "A value is trying to be set on a copy of a slice from a DataFrame.\n",
            "Try using .loc[row_indexer,col_indexer] = value instead\n",
            "\n",
            "See the caveats in the documentation: https://pandas.pydata.org/pandas-docs/stable/user_guide/indexing.html#returning-a-view-versus-a-copy\n",
            "  import sys\n",
            "/usr/local/lib/python3.7/dist-packages/ipykernel_launcher.py:8: SettingWithCopyWarning: \n",
            "A value is trying to be set on a copy of a slice from a DataFrame.\n",
            "Try using .loc[row_indexer,col_indexer] = value instead\n",
            "\n",
            "See the caveats in the documentation: https://pandas.pydata.org/pandas-docs/stable/user_guide/indexing.html#returning-a-view-versus-a-copy\n",
            "  \n"
          ]
        },
        {
          "output_type": "stream",
          "name": "stdout",
          "text": [
            "Choosing open as features                  Open\n",
            "Date                \n",
            "1997-05-15 -0.999449\n",
            "1997-05-16 -0.999699\n",
            "1997-05-19 -0.999811\n",
            "1997-05-20 -0.999827\n",
            "1997-05-21 -0.999878\n",
            "...              ...\n",
            "2022-11-07 -0.018011\n",
            "2022-11-08 -0.030408\n",
            "2022-11-09 -0.044516\n",
            "2022-11-10 -0.007430\n",
            "2022-11-11  0.045368\n",
            "\n",
            "[6418 rows x 1 columns]\n",
            "Epoch  0 MSE:  1.434052586555481\n",
            "Epoch  1 MSE:  0.5905292630195618\n",
            "Epoch  2 MSE:  0.19702869653701782\n",
            "Epoch  3 MSE:  0.3715936243534088\n",
            "Epoch  4 MSE:  0.2154933512210846\n",
            "Epoch  5 MSE:  0.11113932728767395\n",
            "Epoch  6 MSE:  0.1660274714231491\n",
            "Epoch  7 MSE:  0.13546404242515564\n",
            "Epoch  8 MSE:  0.03624818101525307\n",
            "Epoch  9 MSE:  0.02865765616297722\n",
            "Training time: 1.0192322731018066\n"
          ]
        },
        {
          "output_type": "display_data",
          "data": {
            "text/plain": [
              "<Figure size 432x288 with 1 Axes>"
            ],
            "image/png": "[encoded data removed]"
          },
          "metadata": {
            "needs_background": "light"
          }
        },
        {
          "output_type": "stream",
          "name": "stdout",
          "text": [
            "Train RMSE  27.499107762514313\n",
            "Test RMSE  13.083721244228634\n",
            "Choosing open as features                  Open\n",
            "Date                \n",
            "1997-05-15 -0.999449\n",
            "1997-05-16 -0.999699\n",
            "1997-05-19 -0.999811\n",
            "1997-05-20 -0.999827\n",
            "1997-05-21 -0.999878\n",
            "...              ...\n",
            "2022-11-07 -0.018011\n",
            "2022-11-08 -0.030408\n",
            "2022-11-09 -0.044516\n",
            "2022-11-10 -0.007430\n",
            "2022-11-11  0.045368\n",
            "\n",
            "[6418 rows x 1 columns]\n"
          ]
        },
        {
          "output_type": "stream",
          "name": "stderr",
          "text": [
            "/usr/local/lib/python3.7/dist-packages/ipykernel_launcher.py:7: SettingWithCopyWarning: \n",
            "A value is trying to be set on a copy of a slice from a DataFrame.\n",
            "Try using .loc[row_indexer,col_indexer] = value instead\n",
            "\n",
            "See the caveats in the documentation: https://pandas.pydata.org/pandas-docs/stable/user_guide/indexing.html#returning-a-view-versus-a-copy\n",
            "  import sys\n",
            "/usr/local/lib/python3.7/dist-packages/ipykernel_launcher.py:8: SettingWithCopyWarning: \n",
            "A value is trying to be set on a copy of a slice from a DataFrame.\n",
            "Try using .loc[row_indexer,col_indexer] = value instead\n",
            "\n",
            "See the caveats in the documentation: https://pandas.pydata.org/pandas-docs/stable/user_guide/indexing.html#returning-a-view-versus-a-copy\n",
            "  \n"
          ]
        },
        {
          "output_type": "stream",
          "name": "stdout",
          "text": [
            "Epoch  0 MSE:  0.85127854347229\n",
            "Epoch  1 MSE:  0.6449048519134521\n",
            "Epoch  2 MSE:  0.4017000198364258\n",
            "Epoch  3 MSE:  0.1678185909986496\n",
            "Epoch  4 MSE:  0.40011584758758545\n",
            "Epoch  5 MSE:  0.25302332639694214\n",
            "Epoch  6 MSE:  0.1345057338476181\n",
            "Epoch  7 MSE:  0.1376279592514038\n",
            "Epoch  8 MSE:  0.165277898311615\n",
            "Epoch  9 MSE:  0.16575153172016144\n",
            "Training time: 4.412065267562866\n"
          ]
        },
        {
          "output_type": "display_data",
          "data": {
            "text/plain": [
              "<Figure size 432x288 with 1 Axes>"
            ],
            "image/png": "[encoded data removed]"
          },
          "metadata": {
            "needs_background": "light"
          }
        },
        {
          "output_type": "stream",
          "name": "stdout",
          "text": [
            "Train RMSE  34.37557172820003\n",
            "Test RMSE  14.847323788536459\n",
            "Choosing open as features                  Open\n",
            "Date                \n",
            "1997-05-15 -0.999449\n",
            "1997-05-16 -0.999699\n",
            "1997-05-19 -0.999811\n",
            "1997-05-20 -0.999827\n",
            "1997-05-21 -0.999878\n",
            "...              ...\n",
            "2022-11-07 -0.018011\n",
            "2022-11-08 -0.030408\n",
            "2022-11-09 -0.044516\n",
            "2022-11-10 -0.007430\n",
            "2022-11-11  0.045368\n",
            "\n",
            "[6418 rows x 1 columns]\n",
            "Epoch  0 MSE:  0.6916378140449524\n"
          ]
        },
        {
          "output_type": "stream",
          "name": "stderr",
          "text": [
            "/usr/local/lib/python3.7/dist-packages/ipykernel_launcher.py:7: SettingWithCopyWarning: \n",
            "A value is trying to be set on a copy of a slice from a DataFrame.\n",
            "Try using .loc[row_indexer,col_indexer] = value instead\n",
            "\n",
            "See the caveats in the documentation: https://pandas.pydata.org/pandas-docs/stable/user_guide/indexing.html#returning-a-view-versus-a-copy\n",
            "  import sys\n",
            "/usr/local/lib/python3.7/dist-packages/ipykernel_launcher.py:8: SettingWithCopyWarning: \n",
            "A value is trying to be set on a copy of a slice from a DataFrame.\n",
            "Try using .loc[row_indexer,col_indexer] = value instead\n",
            "\n",
            "See the caveats in the documentation: https://pandas.pydata.org/pandas-docs/stable/user_guide/indexing.html#returning-a-view-versus-a-copy\n",
            "  \n"
          ]
        },
        {
          "output_type": "stream",
          "name": "stdout",
          "text": [
            "Epoch  1 MSE:  0.35289230942726135\n",
            "Epoch  2 MSE:  0.17335587739944458\n",
            "Epoch  3 MSE:  0.20765632390975952\n",
            "Epoch  4 MSE:  0.17692211270332336\n",
            "Epoch  5 MSE:  0.1035650223493576\n",
            "Epoch  6 MSE:  0.08404210954904556\n",
            "Epoch  7 MSE:  0.08458849042654037\n",
            "Epoch  8 MSE:  0.06154971942305565\n",
            "Epoch  9 MSE:  0.022370805963873863\n",
            "Training time: 3.4407949447631836\n"
          ]
        },
        {
          "output_type": "display_data",
          "data": {
            "text/plain": [
              "<Figure size 432x288 with 1 Axes>"
            ],
            "image/png": "[encoded data removed]"
          },
          "metadata": {
            "needs_background": "light"
          }
        },
        {
          "output_type": "stream",
          "name": "stdout",
          "text": [
            "Train RMSE  7.811013530461132\n",
            "Test RMSE  6.640722942751984\n",
            "Choosing close as features                 Close\n",
            "Date                \n",
            "1997-05-15 -0.999698\n",
            "1997-05-16 -0.999821\n",
            "1997-05-19 -0.999832\n",
            "1997-05-20 -0.999872\n",
            "1997-05-21 -0.999983\n",
            "...              ...\n",
            "2022-11-07 -0.029921\n",
            "2022-11-08 -0.035819\n",
            "2022-11-09 -0.076999\n",
            "2022-11-10  0.035494\n",
            "2022-11-11  0.080105\n",
            "\n",
            "[6418 rows x 1 columns]\n",
            "Epoch  0 MSE:  0.5404149889945984\n",
            "Epoch  1 MSE:  0.21052789688110352\n"
          ]
        },
        {
          "output_type": "stream",
          "name": "stderr",
          "text": [
            "/usr/local/lib/python3.7/dist-packages/ipykernel_launcher.py:7: SettingWithCopyWarning: \n",
            "A value is trying to be set on a copy of a slice from a DataFrame.\n",
            "Try using .loc[row_indexer,col_indexer] = value instead\n",
            "\n",
            "See the caveats in the documentation: https://pandas.pydata.org/pandas-docs/stable/user_guide/indexing.html#returning-a-view-versus-a-copy\n",
            "  import sys\n",
            "/usr/local/lib/python3.7/dist-packages/ipykernel_launcher.py:8: SettingWithCopyWarning: \n",
            "A value is trying to be set on a copy of a slice from a DataFrame.\n",
            "Try using .loc[row_indexer,col_indexer] = value instead\n",
            "\n",
            "See the caveats in the documentation: https://pandas.pydata.org/pandas-docs/stable/user_guide/indexing.html#returning-a-view-versus-a-copy\n",
            "  \n"
          ]
        },
        {
          "output_type": "stream",
          "name": "stdout",
          "text": [
            "Epoch  2 MSE:  0.2796878516674042\n",
            "Epoch  3 MSE:  0.0868489146232605\n",
            "Epoch  4 MSE:  0.09943650662899017\n",
            "Epoch  5 MSE:  0.052971046417951584\n",
            "Epoch  6 MSE:  0.020874466747045517\n",
            "Epoch  7 MSE:  0.0682489275932312\n",
            "Epoch  8 MSE:  0.020129509270191193\n",
            "Epoch  9 MSE:  0.010976677760481834\n",
            "Training time: 1.0023605823516846\n"
          ]
        },
        {
          "output_type": "display_data",
          "data": {
            "text/plain": [
              "<Figure size 432x288 with 1 Axes>"
            ],
            "image/png": "[encoded data removed]"
          },
          "metadata": {
            "needs_background": "light"
          }
        },
        {
          "output_type": "stream",
          "name": "stdout",
          "text": [
            "Train RMSE  17.8088143802137\n",
            "Test RMSE  5.479017635199414\n",
            "Choosing close as features                 Close\n",
            "Date                \n",
            "1997-05-15 -0.999698\n",
            "1997-05-16 -0.999821\n",
            "1997-05-19 -0.999832\n",
            "1997-05-20 -0.999872\n",
            "1997-05-21 -0.999983\n",
            "...              ...\n",
            "2022-11-07 -0.029921\n",
            "2022-11-08 -0.035819\n",
            "2022-11-09 -0.076999\n",
            "2022-11-10  0.035494\n",
            "2022-11-11  0.080105\n",
            "\n",
            "[6418 rows x 1 columns]\n"
          ]
        },
        {
          "output_type": "stream",
          "name": "stderr",
          "text": [
            "/usr/local/lib/python3.7/dist-packages/ipykernel_launcher.py:7: SettingWithCopyWarning: \n",
            "A value is trying to be set on a copy of a slice from a DataFrame.\n",
            "Try using .loc[row_indexer,col_indexer] = value instead\n",
            "\n",
            "See the caveats in the documentation: https://pandas.pydata.org/pandas-docs/stable/user_guide/indexing.html#returning-a-view-versus-a-copy\n",
            "  import sys\n",
            "/usr/local/lib/python3.7/dist-packages/ipykernel_launcher.py:8: SettingWithCopyWarning: \n",
            "A value is trying to be set on a copy of a slice from a DataFrame.\n",
            "Try using .loc[row_indexer,col_indexer] = value instead\n",
            "\n",
            "See the caveats in the documentation: https://pandas.pydata.org/pandas-docs/stable/user_guide/indexing.html#returning-a-view-versus-a-copy\n",
            "  \n"
          ]
        },
        {
          "output_type": "stream",
          "name": "stdout",
          "text": [
            "Epoch  0 MSE:  0.9493749737739563\n",
            "Epoch  1 MSE:  0.6956301331520081\n",
            "Epoch  2 MSE:  0.44807398319244385\n",
            "Epoch  3 MSE:  0.22092671692371368\n",
            "Epoch  4 MSE:  0.46742355823516846\n",
            "Epoch  5 MSE:  0.2759271562099457\n",
            "Epoch  6 MSE:  0.17702558636665344\n",
            "Epoch  7 MSE:  0.19757068157196045\n",
            "Epoch  8 MSE:  0.2256099134683609\n",
            "Epoch  9 MSE:  0.22784002125263214\n",
            "Training time: 4.4493207931518555\n"
          ]
        },
        {
          "output_type": "display_data",
          "data": {
            "text/plain": [
              "<Figure size 432x288 with 1 Axes>"
            ],
            "image/png": "[encoded data removed]"
          },
          "metadata": {
            "needs_background": "light"
          }
        },
        {
          "output_type": "stream",
          "name": "stdout",
          "text": [
            "Train RMSE  42.36477654835662\n",
            "Test RMSE  27.29874644772517\n",
            "Choosing close as features                 Close\n",
            "Date                \n",
            "1997-05-15 -0.999698\n",
            "1997-05-16 -0.999821\n",
            "1997-05-19 -0.999832\n",
            "1997-05-20 -0.999872\n",
            "1997-05-21 -0.999983\n",
            "...              ...\n",
            "2022-11-07 -0.029921\n",
            "2022-11-08 -0.035819\n",
            "2022-11-09 -0.076999\n",
            "2022-11-10  0.035494\n",
            "2022-11-11  0.080105\n",
            "\n",
            "[6418 rows x 1 columns]\n",
            "Epoch  0 MSE:  0.5637863874435425\n"
          ]
        },
        {
          "output_type": "stream",
          "name": "stderr",
          "text": [
            "/usr/local/lib/python3.7/dist-packages/ipykernel_launcher.py:7: SettingWithCopyWarning: \n",
            "A value is trying to be set on a copy of a slice from a DataFrame.\n",
            "Try using .loc[row_indexer,col_indexer] = value instead\n",
            "\n",
            "See the caveats in the documentation: https://pandas.pydata.org/pandas-docs/stable/user_guide/indexing.html#returning-a-view-versus-a-copy\n",
            "  import sys\n",
            "/usr/local/lib/python3.7/dist-packages/ipykernel_launcher.py:8: SettingWithCopyWarning: \n",
            "A value is trying to be set on a copy of a slice from a DataFrame.\n",
            "Try using .loc[row_indexer,col_indexer] = value instead\n",
            "\n",
            "See the caveats in the documentation: https://pandas.pydata.org/pandas-docs/stable/user_guide/indexing.html#returning-a-view-versus-a-copy\n",
            "  \n"
          ]
        },
        {
          "output_type": "stream",
          "name": "stdout",
          "text": [
            "Epoch  1 MSE:  0.2411048710346222\n",
            "Epoch  2 MSE:  0.12194901704788208\n",
            "Epoch  3 MSE:  0.210515558719635\n",
            "Epoch  4 MSE:  0.10680652409791946\n",
            "Epoch  5 MSE:  0.05337477847933769\n",
            "Epoch  6 MSE:  0.06404466181993484\n",
            "Epoch  7 MSE:  0.06692046672105789\n",
            "Epoch  8 MSE:  0.03880416974425316\n",
            "Epoch  9 MSE:  0.0050926352851092815\n",
            "Training time: 3.4300765991210938\n"
          ]
        },
        {
          "output_type": "display_data",
          "data": {
            "text/plain": [
              "<Figure size 432x288 with 1 Axes>"
            ],
            "image/png": "[encoded data removed]"
          },
          "metadata": {
            "needs_background": "light"
          }
        },
        {
          "output_type": "stream",
          "name": "stdout",
          "text": [
            "Train RMSE  11.603357000314944\n",
            "Test RMSE  17.34064759696221\n"
          ]
        }
      ]
    },
    {
      "cell_type": "code",
      "source": [
        "# Learning rate tuning for RNN model\n",
        "num_epochs = 15\n",
        "lr_results = []\n",
        "for lr in [0.1, 0.01,  0.001,  0.0001]:\n",
        "    print('Learning rate = ', lr)\n",
        "    model_rnn = RNN(input_dim=input_dim, hidden_dim=hidden_dim, output_dim=output_dim, num_layers=num_layers)\n",
        "    criterion = torch.nn.MSELoss(reduction='mean')\n",
        "    optimiser = torch.optim.Adam(model_rnn.parameters(), lr=lr)\n",
        "    train_results = train_network(num_epochs, model_rnn, criterion, optimiser, X_train, y_train)\n",
        "    plot_loss_curve(train_results, 'RNN with Lr = ' + str(lr))\n",
        "    # get last mse\n",
        "    last_mse = [result['train_loss'] for result in  train_results if result['epoch']  == num_epochs  - 1][0]\n",
        "    lr_results.append({'lr': lr, 'mse': last_mse, 'train_results': train_results})\n",
        "\n",
        "lr_results_df = pd.DataFrame(lr_results)\n",
        "lr_results_df.sort_values(by=\"mse\", ascending=True)"
      ],
      "metadata": {
        "colab": {
          "base_uri": "https://localhost:8080/",
          "height": 1000
        },
        "id": "XsX83TIsRHvI",
        "outputId": "8b46713c-328f-4ee9-e8a0-d483ba37b0d7"
      },
      "execution_count": null,
      "outputs": [
        {
          "output_type": "stream",
          "name": "stdout",
          "text": [
            "Learning rate =  0.1\n",
            "Epoch  0 MSE:  0.6237923502922058\n",
            "Epoch  1 MSE:  0.19131729006767273\n",
            "Epoch  2 MSE:  1.3117761611938477\n",
            "Epoch  3 MSE:  1.8092821836471558\n",
            "Epoch  4 MSE:  16.227157592773438\n",
            "Epoch  5 MSE:  4.188508033752441\n",
            "Epoch  6 MSE:  3.702991485595703\n",
            "Epoch  7 MSE:  0.8751067519187927\n",
            "Epoch  8 MSE:  0.031794071197509766\n",
            "Epoch  9 MSE:  0.9290366768836975\n",
            "Epoch  10 MSE:  0.14129604399204254\n",
            "Epoch  11 MSE:  0.36101821064949036\n",
            "Epoch  12 MSE:  0.3529793322086334\n",
            "Epoch  13 MSE:  0.14915043115615845\n",
            "Epoch  14 MSE:  0.018736127763986588\n",
            "Training time: 1.326542854309082\n"
          ]
        },
        {
          "output_type": "display_data",
          "data": {
            "text/plain": [
              "<Figure size 432x288 with 1 Axes>"
            ],
            "image/png": "[encoded data removed]"
          },
          "metadata": {
            "needs_background": "light"
          }
        },
        {
          "output_type": "stream",
          "name": "stdout",
          "text": [
            "Learning rate =  0.01\n",
            "Epoch  0 MSE:  0.8503121137619019\n",
            "Epoch  1 MSE:  0.1647813320159912\n",
            "Epoch  2 MSE:  0.07499711215496063\n",
            "Epoch  3 MSE:  0.14747704565525055\n",
            "Epoch  4 MSE:  0.042528558522462845\n",
            "Epoch  5 MSE:  0.023443715646862984\n",
            "Epoch  6 MSE:  0.07366373389959335\n",
            "Epoch  7 MSE:  0.05217595398426056\n",
            "Epoch  8 MSE:  0.018820788711309433\n",
            "Epoch  9 MSE:  0.014899840578436852\n",
            "Epoch  10 MSE:  0.027675561606884003\n",
            "Epoch  11 MSE:  0.03476564213633537\n",
            "Epoch  12 MSE:  0.029222644865512848\n",
            "Epoch  13 MSE:  0.01888645999133587\n",
            "Epoch  14 MSE:  0.014045601710677147\n",
            "Training time: 1.35099458694458\n"
          ]
        },
        {
          "output_type": "display_data",
          "data": {
            "text/plain": [
              "<Figure size 432x288 with 1 Axes>"
            ],
            "image/png": "[encoded data removed]"
          },
          "metadata": {
            "needs_background": "light"
          }
        },
        {
          "output_type": "stream",
          "name": "stdout",
          "text": [
            "Learning rate =  0.001\n",
            "Epoch  0 MSE:  0.643222987651825\n",
            "Epoch  1 MSE:  0.5502309799194336\n",
            "Epoch  2 MSE:  0.46130266785621643\n",
            "Epoch  3 MSE:  0.3771834373474121\n",
            "Epoch  4 MSE:  0.29895704984664917\n",
            "Epoch  5 MSE:  0.22779373824596405\n",
            "Epoch  6 MSE:  0.16493239998817444\n",
            "Epoch  7 MSE:  0.11163210868835449\n",
            "Epoch  8 MSE:  0.06910736113786697\n",
            "Epoch  9 MSE:  0.038351837545633316\n",
            "Epoch  10 MSE:  0.01981860026717186\n",
            "Epoch  11 MSE:  0.013013855554163456\n",
            "Epoch  12 MSE:  0.016120346263051033\n",
            "Epoch  13 MSE:  0.02587137743830681\n",
            "Epoch  14 MSE:  0.038054365664720535\n",
            "Training time: 1.3220300674438477\n"
          ]
        },
        {
          "output_type": "display_data",
          "data": {
            "text/plain": [
              "<Figure size 432x288 with 1 Axes>"
            ],
            "image/png": "[encoded data removed]"
          },
          "metadata": {
            "needs_background": "light"
          }
        },
        {
          "output_type": "stream",
          "name": "stdout",
          "text": [
            "Learning rate =  0.0001\n",
            "Epoch  0 MSE:  0.8532350659370422\n",
            "Epoch  1 MSE:  0.8449146747589111\n",
            "Epoch  2 MSE:  0.8366148471832275\n",
            "Epoch  3 MSE:  0.8283364176750183\n",
            "Epoch  4 MSE:  0.8200799822807312\n",
            "Epoch  5 MSE:  0.8118460178375244\n",
            "Epoch  6 MSE:  0.8036348223686218\n",
            "Epoch  7 MSE:  0.7954465746879578\n",
            "Epoch  8 MSE:  0.7872812747955322\n",
            "Epoch  9 MSE:  0.7791388630867004\n",
            "Epoch  10 MSE:  0.7710191011428833\n",
            "Epoch  11 MSE:  0.7629218101501465\n",
            "Epoch  12 MSE:  0.75484699010849\n",
            "Epoch  13 MSE:  0.7467945218086243\n",
            "Epoch  14 MSE:  0.7387641668319702\n",
            "Training time: 1.615807056427002\n"
          ]
        },
        {
          "output_type": "display_data",
          "data": {
            "text/plain": [
              "<Figure size 432x288 with 1 Axes>"
            ],
            "image/png": "[encoded data removed]"
          },
          "metadata": {
            "needs_background": "light"
          }
        },
        {
          "output_type": "execute_result",
          "data": {
            "text/plain": [
              "       lr       mse                                      train_results\n",
              "1  0.0100  0.014046  [{'epoch': 0, 'train_loss': 0.8503121137619019...\n",
              "0  0.1000  0.018736  [{'epoch': 0, 'train_loss': 0.6237923502922058...\n",
              "2  0.0010  0.038054  [{'epoch': 0, 'train_loss': 0.643222987651825}...\n",
              "3  0.0001  0.738764  [{'epoch': 0, 'train_loss': 0.8532350659370422..."
            ],
            "text/html": [
              "\n",
              "  <div id=\"df-4b0f25d5-575d-4e58-ac89-b30a666e7fc5\">\n",
              "    <div class=\"colab-df-container\">\n",
              "      <div>\n",
              "<style scoped>\n",
              "    .dataframe tbody tr th:only-of-type {\n",
              "        vertical-align: middle;\n",
              "    }\n",
              "\n",
              "    .dataframe tbody tr th {\n",
              "        vertical-align: top;\n",
              "    }\n",
              "\n",
              "    .dataframe thead th {\n",
              "        text-align: right;\n",
              "    }\n",
              "</style>\n",
              "<table border=\"1\" class=\"dataframe\">\n",
              "  <thead>\n",
              "    <tr style=\"text-align: right;\">\n",
              "      <th></th>\n",
              "      <th>lr</th>\n",
              "      <th>mse</th>\n",
              "      <th>train_results</th>\n",
              "    </tr>\n",
              "  </thead>\n",
              "  <tbody>\n",
              "    <tr>\n",
              "      <th>1</th>\n",
              "      <td>0.0100</td>\n",
              "      <td>0.014046</td>\n",
              "      <td>[{'epoch': 0, 'train_loss': 0.8503121137619019...</td>\n",
              "    </tr>\n",
              "    <tr>\n",
              "      <th>0</th>\n",
              "      <td>0.1000</td>\n",
              "      <td>0.018736</td>\n",
              "      <td>[{'epoch': 0, 'train_loss': 0.6237923502922058...</td>\n",
              "    </tr>\n",
              "    <tr>\n",
              "      <th>2</th>\n",
              "      <td>0.0010</td>\n",
              "      <td>0.038054</td>\n",
              "      <td>[{'epoch': 0, 'train_loss': 0.643222987651825}...</td>\n",
              "    </tr>\n",
              "    <tr>\n",
              "      <th>3</th>\n",
              "      <td>0.0001</td>\n",
              "      <td>0.738764</td>\n",
              "      <td>[{'epoch': 0, 'train_loss': 0.8532350659370422...</td>\n",
              "    </tr>\n",
              "  </tbody>\n",
              "</table>\n",
              "</div>\n",
              "      <button class=\"colab-df-convert\" onclick=\"convertToInteractive('df-4b0f25d5-575d-4e58-ac89-b30a666e7fc5')\"\n",
              "              title=\"Convert this dataframe to an interactive table.\"\n",
              "              style=\"display:none;\">\n",
              "        \n",
              "  <svg xmlns=\"http://www.w3.org/2000/svg\" height=\"24px\"viewBox=\"0 0 24 24\"\n",
              "       width=\"24px\">\n",
              "    <path d=\"M0 0h24v24H0V0z\" fill=\"none\"/>\n",
              "    <path d=\"M18.56 5.44l.94 2.06.94-2.06 2.06-.94-2.06-.94-.94-2.06-.94 2.06-2.06.94zm-11 1L8.5 8.5l.94-2.06 2.06-.94-2.06-.94L8.5 2.5l-.94 2.06-2.06.94zm10 10l.94 2.06.94-2.06 2.06-.94-2.06-.94-.94-2.06-.94 2.06-2.06.94z\"/><path d=\"M17.41 7.96l-1.37-1.37c-.4-.4-.92-.59-1.43-.59-.52 0-1.04.2-1.43.59L10.3 9.45l-7.72 7.72c-.78.78-.78 2.05 0 2.83L4 21.41c.39.39.9.59 1.41.59.51 0 1.02-.2 1.41-.59l7.78-7.78 2.81-2.81c.8-.78.8-2.07 0-2.86zM5.41 20L4 18.59l7.72-7.72 1.47 1.35L5.41 20z\"/>\n",
              "  </svg>\n",
              "      </button>\n",
              "      \n",
              "  <style>\n",
              "    .colab-df-container {\n",
              "      display:flex;\n",
              "      flex-wrap:wrap;\n",
              "      gap: 12px;\n",
              "    }\n",
              "\n",
              "    .colab-df-convert {\n",
              "      background-color: #E8F0FE;\n",
              "      border: none;\n",
              "      border-radius: 50%;\n",
              "      cursor: pointer;\n",
              "      display: none;\n",
              "      fill: #1967D2;\n",
              "      height: 32px;\n",
              "      padding: 0 0 0 0;\n",
              "      width: 32px;\n",
              "    }\n",
              "\n",
              "    .colab-df-convert:hover {\n",
              "      background-color: #E2EBFA;\n",
              "      box-shadow: 0px 1px 2px rgba(60, 64, 67, 0.3), 0px 1px 3px 1px rgba(60, 64, 67, 0.15);\n",
              "      fill: #174EA6;\n",
              "    }\n",
              "\n",
              "    [theme=dark] .colab-df-convert {\n",
              "      background-color: #3B4455;\n",
              "      fill: #D2E3FC;\n",
              "    }\n",
              "\n",
              "    [theme=dark] .colab-df-convert:hover {\n",
              "      background-color: #434B5C;\n",
              "      box-shadow: 0px 1px 3px 1px rgba(0, 0, 0, 0.15);\n",
              "      filter: drop-shadow(0px 1px 2px rgba(0, 0, 0, 0.3));\n",
              "      fill: #FFFFFF;\n",
              "    }\n",
              "  </style>\n",
              "\n",
              "      <script>\n",
              "        const buttonEl =\n",
              "          document.querySelector('#df-4b0f25d5-575d-4e58-ac89-b30a666e7fc5 button.colab-df-convert');\n",
              "        buttonEl.style.display =\n",
              "          google.colab.kernel.accessAllowed ? 'block' : 'none';\n",
              "\n",
              "        async function convertToInteractive(key) {\n",
              "          const element = document.querySelector('#df-4b0f25d5-575d-4e58-ac89-b30a666e7fc5');\n",
              "          const dataTable =\n",
              "            await google.colab.kernel.invokeFunction('convertToInteractive',\n",
              "                                                     [key], {});\n",
              "          if (!dataTable) return;\n",
              "\n",
              "          const docLinkHtml = 'Like what you see? Visit the ' +\n",
              "            '<a target=\"_blank\" href=https://colab.research.google.com/notebooks/data_table.ipynb>data table notebook</a>'\n",
              "            + ' to learn more about interactive tables.';\n",
              "          element.innerHTML = '';\n",
              "          dataTable['output_type'] = 'display_data';\n",
              "          await google.colab.output.renderOutput(dataTable, element);\n",
              "          const docLink = document.createElement('div');\n",
              "          docLink.innerHTML = docLinkHtml;\n",
              "          element.appendChild(docLink);\n",
              "        }\n",
              "      </script>\n",
              "    </div>\n",
              "  </div>\n",
              "  "
            ]
          },
          "metadata": {},
          "execution_count": 86
        }
      ]
    },
    {
      "cell_type": "code",
      "source": [
        "# Learning rate tuning for LSTM model\n",
        "num_epochs = 15\n",
        "lr_results = []\n",
        "for lr in [0.1, 0.01,  0.001,  0.0001]:\n",
        "    print('Learning rate = ', lr)\n",
        "    model = LSTM(input_dim=input_dim, hidden_dim=hidden_dim, output_dim=output_dim, num_layers=num_layers)\n",
        "    criterion = torch.nn.MSELoss(reduction='mean')\n",
        "    optimiser = torch.optim.Adam(model.parameters(), lr=lr)\n",
        "    train_results = train_network(num_epochs, model, criterion, optimiser, X_train, y_train)\n",
        "    plot_loss_curve(train_results, 'RNN with Lr = ' + str(lr))\n",
        "    # get last mse\n",
        "    last_mse = [result['train_loss'] for result in  train_results if result['epoch']  == num_epochs  - 1][0]\n",
        "    lr_results.append({'lr': lr, 'mse': last_mse, 'train_results': train_results})\n",
        "\n",
        "lr_results_df = pd.DataFrame(lr_results)\n",
        "lr_results_df.sort_values(by=\"mse\", ascending=True)"
      ],
      "metadata": {
        "colab": {
          "base_uri": "https://localhost:8080/",
          "height": 1000
        },
        "id": "2ppHZnIfTyM-",
        "outputId": "8f2d9fdc-3646-4bb1-8849-10e98c689ce3"
      },
      "execution_count": null,
      "outputs": [
        {
          "output_type": "stream",
          "name": "stdout",
          "text": [
            "Learning rate =  0.1\n",
            "Epoch  0 MSE:  0.6374721527099609\n",
            "Epoch  1 MSE:  3.8876919746398926\n",
            "Epoch  2 MSE:  0.42325645685195923\n",
            "Epoch  3 MSE:  0.16160467267036438\n",
            "Epoch  4 MSE:  0.017067817971110344\n",
            "Epoch  5 MSE:  0.13153016567230225\n",
            "Epoch  6 MSE:  0.15794220566749573\n",
            "Epoch  7 MSE:  0.0904245674610138\n",
            "Epoch  8 MSE:  0.033697694540023804\n",
            "Epoch  9 MSE:  0.018288280814886093\n",
            "Epoch  10 MSE:  0.03612056374549866\n",
            "Epoch  11 MSE:  0.025734934955835342\n",
            "Epoch  12 MSE:  0.015559181571006775\n",
            "Epoch  13 MSE:  0.02320137619972229\n",
            "Epoch  14 MSE:  0.027265887707471848\n",
            "Training time: 6.460925102233887\n"
          ]
        },
        {
          "output_type": "display_data",
          "data": {
            "text/plain": [
              "<Figure size 432x288 with 1 Axes>"
            ],
            "image/png": "[encoded data removed]"
          },
          "metadata": {
            "needs_background": "light"
          }
        },
        {
          "output_type": "stream",
          "name": "stdout",
          "text": [
            "Learning rate =  0.01\n",
            "Epoch  0 MSE:  0.9336367845535278\n",
            "Epoch  1 MSE:  0.7188867926597595\n",
            "Epoch  2 MSE:  0.48173537850379944\n",
            "Epoch  3 MSE:  0.1771538406610489\n",
            "Epoch  4 MSE:  0.0217445008456707\n",
            "Epoch  5 MSE:  0.17766322195529938\n",
            "Epoch  6 MSE:  0.12094473838806152\n",
            "Epoch  7 MSE:  0.041792336851358414\n",
            "Epoch  8 MSE:  0.014380949549376965\n",
            "Epoch  9 MSE:  0.024752506986260414\n",
            "Epoch  10 MSE:  0.04261203110218048\n",
            "Epoch  11 MSE:  0.051646530628204346\n",
            "Epoch  12 MSE:  0.05037369206547737\n",
            "Epoch  13 MSE:  0.0424702912569046\n",
            "Epoch  14 MSE:  0.03218156844377518\n",
            "Training time: 6.866665840148926\n"
          ]
        },
        {
          "output_type": "display_data",
          "data": {
            "text/plain": [
              "<Figure size 432x288 with 1 Axes>"
            ],
            "image/png": "[encoded data removed]"
          },
          "metadata": {
            "needs_background": "light"
          }
        },
        {
          "output_type": "stream",
          "name": "stdout",
          "text": [
            "Learning rate =  0.001\n",
            "Epoch  0 MSE:  0.5069724917411804\n",
            "Epoch  1 MSE:  0.48562705516815186\n",
            "Epoch  2 MSE:  0.46468356251716614\n",
            "Epoch  3 MSE:  0.4438899755477905\n",
            "Epoch  4 MSE:  0.4231257438659668\n",
            "Epoch  5 MSE:  0.40230509638786316\n",
            "Epoch  6 MSE:  0.3813389837741852\n",
            "Epoch  7 MSE:  0.36014050245285034\n",
            "Epoch  8 MSE:  0.3386298418045044\n",
            "Epoch  9 MSE:  0.31673380732536316\n",
            "Epoch  10 MSE:  0.2943846583366394\n",
            "Epoch  11 MSE:  0.2715209424495697\n",
            "Epoch  12 MSE:  0.24809333682060242\n",
            "Epoch  13 MSE:  0.22407427430152893\n",
            "Epoch  14 MSE:  0.19947239756584167\n",
            "Training time: 7.149503469467163\n"
          ]
        },
        {
          "output_type": "display_data",
          "data": {
            "text/plain": [
              "<Figure size 432x288 with 1 Axes>"
            ],
            "image/png": "[encoded data removed]"
          },
          "metadata": {
            "needs_background": "light"
          }
        },
        {
          "output_type": "stream",
          "name": "stdout",
          "text": [
            "Learning rate =  0.0001\n",
            "Epoch  0 MSE:  0.8745563626289368\n",
            "Epoch  1 MSE:  0.8714807033538818\n",
            "Epoch  2 MSE:  0.8684088587760925\n",
            "Epoch  3 MSE:  0.8653407692909241\n",
            "Epoch  4 MSE:  0.8622762560844421\n",
            "Epoch  5 MSE:  0.8592153191566467\n",
            "Epoch  6 MSE:  0.8561579585075378\n",
            "Epoch  7 MSE:  0.8531038761138916\n",
            "Epoch  8 MSE:  0.8500526547431946\n",
            "Epoch  9 MSE:  0.847004234790802\n",
            "Epoch  10 MSE:  0.8439580798149109\n",
            "Epoch  11 MSE:  0.840913712978363\n",
            "Epoch  12 MSE:  0.8378707766532898\n",
            "Epoch  13 MSE:  0.834828794002533\n",
            "Epoch  14 MSE:  0.8317872881889343\n",
            "Training time: 7.045902490615845\n"
          ]
        },
        {
          "output_type": "display_data",
          "data": {
            "text/plain": [
              "<Figure size 432x288 with 1 Axes>"
            ],
            "image/png": "[encoded data removed]"
          },
          "metadata": {
            "needs_background": "light"
          }
        },
        {
          "output_type": "execute_result",
          "data": {
            "text/plain": [
              "       lr       mse                                      train_results\n",
              "0  0.1000  0.027266  [{'epoch': 0, 'train_loss': 0.6374721527099609...\n",
              "1  0.0100  0.032182  [{'epoch': 0, 'train_loss': 0.9336367845535278...\n",
              "2  0.0010  0.199472  [{'epoch': 0, 'train_loss': 0.5069724917411804...\n",
              "3  0.0001  0.831787  [{'epoch': 0, 'train_loss': 0.8745563626289368..."
            ],
            "text/html": [
              "\n",
              "  <div id=\"df-4d44869b-7637-481c-bb7c-b65e2157a3ac\">\n",
              "    <div class=\"colab-df-container\">\n",
              "      <div>\n",
              "<style scoped>\n",
              "    .dataframe tbody tr th:only-of-type {\n",
              "        vertical-align: middle;\n",
              "    }\n",
              "\n",
              "    .dataframe tbody tr th {\n",
              "        vertical-align: top;\n",
              "    }\n",
              "\n",
              "    .dataframe thead th {\n",
              "        text-align: right;\n",
              "    }\n",
              "</style>\n",
              "<table border=\"1\" class=\"dataframe\">\n",
              "  <thead>\n",
              "    <tr style=\"text-align: right;\">\n",
              "      <th></th>\n",
              "      <th>lr</th>\n",
              "      <th>mse</th>\n",
              "      <th>train_results</th>\n",
              "    </tr>\n",
              "  </thead>\n",
              "  <tbody>\n",
              "    <tr>\n",
              "      <th>0</th>\n",
              "      <td>0.1000</td>\n",
              "      <td>0.027266</td>\n",
              "      <td>[{'epoch': 0, 'train_loss': 0.6374721527099609...</td>\n",
              "    </tr>\n",
              "    <tr>\n",
              "      <th>1</th>\n",
              "      <td>0.0100</td>\n",
              "      <td>0.032182</td>\n",
              "      <td>[{'epoch': 0, 'train_loss': 0.9336367845535278...</td>\n",
              "    </tr>\n",
              "    <tr>\n",
              "      <th>2</th>\n",
              "      <td>0.0010</td>\n",
              "      <td>0.199472</td>\n",
              "      <td>[{'epoch': 0, 'train_loss': 0.5069724917411804...</td>\n",
              "    </tr>\n",
              "    <tr>\n",
              "      <th>3</th>\n",
              "      <td>0.0001</td>\n",
              "      <td>0.831787</td>\n",
              "      <td>[{'epoch': 0, 'train_loss': 0.8745563626289368...</td>\n",
              "    </tr>\n",
              "  </tbody>\n",
              "</table>\n",
              "</div>\n",
              "      <button class=\"colab-df-convert\" onclick=\"convertToInteractive('df-4d44869b-7637-481c-bb7c-b65e2157a3ac')\"\n",
              "              title=\"Convert this dataframe to an interactive table.\"\n",
              "              style=\"display:none;\">\n",
              "        \n",
              "  <svg xmlns=\"http://www.w3.org/2000/svg\" height=\"24px\"viewBox=\"0 0 24 24\"\n",
              "       width=\"24px\">\n",
              "    <path d=\"M0 0h24v24H0V0z\" fill=\"none\"/>\n",
              "    <path d=\"M18.56 5.44l.94 2.06.94-2.06 2.06-.94-2.06-.94-.94-2.06-.94 2.06-2.06.94zm-11 1L8.5 8.5l.94-2.06 2.06-.94-2.06-.94L8.5 2.5l-.94 2.06-2.06.94zm10 10l.94 2.06.94-2.06 2.06-.94-2.06-.94-.94-2.06-.94 2.06-2.06.94z\"/><path d=\"M17.41 7.96l-1.37-1.37c-.4-.4-.92-.59-1.43-.59-.52 0-1.04.2-1.43.59L10.3 9.45l-7.72 7.72c-.78.78-.78 2.05 0 2.83L4 21.41c.39.39.9.59 1.41.59.51 0 1.02-.2 1.41-.59l7.78-7.78 2.81-2.81c.8-.78.8-2.07 0-2.86zM5.41 20L4 18.59l7.72-7.72 1.47 1.35L5.41 20z\"/>\n",
              "  </svg>\n",
              "      </button>\n",
              "      \n",
              "  <style>\n",
              "    .colab-df-container {\n",
              "      display:flex;\n",
              "      flex-wrap:wrap;\n",
              "      gap: 12px;\n",
              "    }\n",
              "\n",
              "    .colab-df-convert {\n",
              "      background-color: #E8F0FE;\n",
              "      border: none;\n",
              "      border-radius: 50%;\n",
              "      cursor: pointer;\n",
              "      display: none;\n",
              "      fill: #1967D2;\n",
              "      height: 32px;\n",
              "      padding: 0 0 0 0;\n",
              "      width: 32px;\n",
              "    }\n",
              "\n",
              "    .colab-df-convert:hover {\n",
              "      background-color: #E2EBFA;\n",
              "      box-shadow: 0px 1px 2px rgba(60, 64, 67, 0.3), 0px 1px 3px 1px rgba(60, 64, 67, 0.15);\n",
              "      fill: #174EA6;\n",
              "    }\n",
              "\n",
              "    [theme=dark] .colab-df-convert {\n",
              "      background-color: #3B4455;\n",
              "      fill: #D2E3FC;\n",
              "    }\n",
              "\n",
              "    [theme=dark] .colab-df-convert:hover {\n",
              "      background-color: #434B5C;\n",
              "      box-shadow: 0px 1px 3px 1px rgba(0, 0, 0, 0.15);\n",
              "      filter: drop-shadow(0px 1px 2px rgba(0, 0, 0, 0.3));\n",
              "      fill: #FFFFFF;\n",
              "    }\n",
              "  </style>\n",
              "\n",
              "      <script>\n",
              "        const buttonEl =\n",
              "          document.querySelector('#df-4d44869b-7637-481c-bb7c-b65e2157a3ac button.colab-df-convert');\n",
              "        buttonEl.style.display =\n",
              "          google.colab.kernel.accessAllowed ? 'block' : 'none';\n",
              "\n",
              "        async function convertToInteractive(key) {\n",
              "          const element = document.querySelector('#df-4d44869b-7637-481c-bb7c-b65e2157a3ac');\n",
              "          const dataTable =\n",
              "            await google.colab.kernel.invokeFunction('convertToInteractive',\n",
              "                                                     [key], {});\n",
              "          if (!dataTable) return;\n",
              "\n",
              "          const docLinkHtml = 'Like what you see? Visit the ' +\n",
              "            '<a target=\"_blank\" href=https://colab.research.google.com/notebooks/data_table.ipynb>data table notebook</a>'\n",
              "            + ' to learn more about interactive tables.';\n",
              "          element.innerHTML = '';\n",
              "          dataTable['output_type'] = 'display_data';\n",
              "          await google.colab.output.renderOutput(dataTable, element);\n",
              "          const docLink = document.createElement('div');\n",
              "          docLink.innerHTML = docLinkHtml;\n",
              "          element.appendChild(docLink);\n",
              "        }\n",
              "      </script>\n",
              "    </div>\n",
              "  </div>\n",
              "  "
            ]
          },
          "metadata": {},
          "execution_count": 87
        }
      ]
    },
    {
      "cell_type": "code",
      "source": [
        "# Learning rate tuning for GRU model\n",
        "num_epochs = 15\n",
        "lr_results = []\n",
        "for lr in [0.1, 0.01,  0.001,  0.0001]:\n",
        "    print('Learning rate = ', lr)\n",
        "    model = GRU(input_dim=input_dim, hidden_dim=hidden_dim, output_dim=output_dim, num_layers=num_layers)\n",
        "    criterion = torch.nn.MSELoss(reduction='mean')\n",
        "    optimiser = torch.optim.Adam(model.parameters(), lr=lr)\n",
        "    train_results = train_network(num_epochs, model, criterion, optimiser, X_train, y_train)\n",
        "    plot_loss_curve(train_results, 'RNN with Lr = ' + str(lr))\n",
        "    # get last mse\n",
        "    last_mse = [result['train_loss'] for result in  train_results if result['epoch']  == num_epochs  - 1][0]\n",
        "    lr_results.append({'lr': lr, 'mse': last_mse, 'train_results': train_results})\n",
        "\n",
        "lr_results_df = pd.DataFrame(lr_results)\n",
        "lr_results_df.sort_values(by=\"mse\", ascending=True)"
      ],
      "metadata": {
        "colab": {
          "base_uri": "https://localhost:8080/",
          "height": 1000
        },
        "id": "PaOIHykvUFbm",
        "outputId": "35d75d49-fa3b-43f3-bf00-ce39bed73e98"
      },
      "execution_count": null,
      "outputs": [
        {
          "output_type": "stream",
          "name": "stdout",
          "text": [
            "Learning rate =  0.1\n",
            "Epoch  0 MSE:  0.7806419134140015\n",
            "Epoch  1 MSE:  3.502342462539673\n",
            "Epoch  2 MSE:  1.1534231901168823\n",
            "Epoch  3 MSE:  0.37238264083862305\n",
            "Epoch  4 MSE:  0.9952492117881775\n",
            "Epoch  5 MSE:  10.697014808654785\n",
            "Epoch  6 MSE:  2.2529854774475098\n",
            "Epoch  7 MSE:  0.5570039749145508\n",
            "Epoch  8 MSE:  0.23643165826797485\n",
            "Epoch  9 MSE:  0.09453309327363968\n",
            "Epoch  10 MSE:  0.3646044433116913\n",
            "Epoch  11 MSE:  0.09227915853261948\n",
            "Epoch  12 MSE:  0.027337877079844475\n",
            "Epoch  13 MSE:  0.08142167329788208\n",
            "Epoch  14 MSE:  0.02586216852068901\n",
            "Training time: 5.804396629333496\n"
          ]
        },
        {
          "output_type": "display_data",
          "data": {
            "text/plain": [
              "<Figure size 432x288 with 1 Axes>"
            ],
            "image/png": "[encoded data removed]"
          },
          "metadata": {
            "needs_background": "light"
          }
        },
        {
          "output_type": "stream",
          "name": "stdout",
          "text": [
            "Learning rate =  0.01\n",
            "Epoch  0 MSE:  0.7991613149642944\n",
            "Epoch  1 MSE:  0.3235669434070587\n",
            "Epoch  2 MSE:  0.03624558821320534\n",
            "Epoch  3 MSE:  0.12719948589801788\n",
            "Epoch  4 MSE:  0.12339473515748978\n",
            "Epoch  5 MSE:  0.029202546924352646\n",
            "Epoch  6 MSE:  0.01415292639285326\n",
            "Epoch  7 MSE:  0.04637475684285164\n",
            "Epoch  8 MSE:  0.06569038331508636\n",
            "Epoch  9 MSE:  0.05889494717121124\n",
            "Epoch  10 MSE:  0.03788845241069794\n",
            "Epoch  11 MSE:  0.01806235872209072\n",
            "Epoch  12 MSE:  0.0099750692024827\n",
            "Epoch  13 MSE:  0.015131916850805283\n",
            "Epoch  14 MSE:  0.025664072483778\n",
            "Training time: 5.531306028366089\n"
          ]
        },
        {
          "output_type": "display_data",
          "data": {
            "text/plain": [
              "<Figure size 432x288 with 1 Axes>"
            ],
            "image/png": "[encoded data removed]"
          },
          "metadata": {
            "needs_background": "light"
          }
        },
        {
          "output_type": "stream",
          "name": "stdout",
          "text": [
            "Learning rate =  0.001\n",
            "Epoch  0 MSE:  0.594494640827179\n",
            "Epoch  1 MSE:  0.5424798727035522\n",
            "Epoch  2 MSE:  0.492352694272995\n",
            "Epoch  3 MSE:  0.44408655166625977\n",
            "Epoch  4 MSE:  0.397643506526947\n",
            "Epoch  5 MSE:  0.35298576951026917\n",
            "Epoch  6 MSE:  0.31007784605026245\n",
            "Epoch  7 MSE:  0.2689223885536194\n",
            "Epoch  8 MSE:  0.22958435118198395\n",
            "Epoch  9 MSE:  0.19220277667045593\n",
            "Epoch  10 MSE:  0.1570008099079132\n",
            "Epoch  11 MSE:  0.12429648637771606\n",
            "Epoch  12 MSE:  0.09451089054346085\n",
            "Epoch  13 MSE:  0.06816988438367844\n",
            "Epoch  14 MSE:  0.045892003923654556\n",
            "Training time: 5.132084608078003\n"
          ]
        },
        {
          "output_type": "display_data",
          "data": {
            "text/plain": [
              "<Figure size 432x288 with 1 Axes>"
            ],
            "image/png": "[encoded data removed]"
          },
          "metadata": {
            "needs_background": "light"
          }
        },
        {
          "output_type": "stream",
          "name": "stdout",
          "text": [
            "Learning rate =  0.0001\n",
            "Epoch  0 MSE:  1.2418826818466187\n",
            "Epoch  1 MSE:  1.2337037324905396\n",
            "Epoch  2 MSE:  1.2255606651306152\n",
            "Epoch  3 MSE:  1.217454195022583\n",
            "Epoch  4 MSE:  1.2093846797943115\n",
            "Epoch  5 MSE:  1.2013527154922485\n",
            "Epoch  6 MSE:  1.193358063697815\n",
            "Epoch  7 MSE:  1.1854013204574585\n",
            "Epoch  8 MSE:  1.1774823665618896\n",
            "Epoch  9 MSE:  1.1696007251739502\n",
            "Epoch  10 MSE:  1.1617565155029297\n",
            "Epoch  11 MSE:  1.15394926071167\n",
            "Epoch  12 MSE:  1.1461783647537231\n",
            "Epoch  13 MSE:  1.1384433507919312\n",
            "Epoch  14 MSE:  1.1307436227798462\n",
            "Training time: 5.061620235443115\n"
          ]
        },
        {
          "output_type": "display_data",
          "data": {
            "text/plain": [
              "<Figure size 432x288 with 1 Axes>"
            ],
            "image/png": "[encoded data removed]"
          },
          "metadata": {
            "needs_background": "light"
          }
        },
        {
          "output_type": "execute_result",
          "data": {
            "text/plain": [
              "       lr       mse                                      train_results\n",
              "1  0.0100  0.025664  [{'epoch': 0, 'train_loss': 0.7991613149642944...\n",
              "0  0.1000  0.025862  [{'epoch': 0, 'train_loss': 0.7806419134140015...\n",
              "2  0.0010  0.045892  [{'epoch': 0, 'train_loss': 0.594494640827179}...\n",
              "3  0.0001  1.130744  [{'epoch': 0, 'train_loss': 1.2418826818466187..."
            ],
            "text/html": [
              "\n",
              "  <div id=\"df-7e5adc66-fdf1-4a60-876a-a331633700ca\">\n",
              "    <div class=\"colab-df-container\">\n",
              "      <div>\n",
              "<style scoped>\n",
              "    .dataframe tbody tr th:only-of-type {\n",
              "        vertical-align: middle;\n",
              "    }\n",
              "\n",
              "    .dataframe tbody tr th {\n",
              "        vertical-align: top;\n",
              "    }\n",
              "\n",
              "    .dataframe thead th {\n",
              "        text-align: right;\n",
              "    }\n",
              "</style>\n",
              "<table border=\"1\" class=\"dataframe\">\n",
              "  <thead>\n",
              "    <tr style=\"text-align: right;\">\n",
              "      <th></th>\n",
              "      <th>lr</th>\n",
              "      <th>mse</th>\n",
              "      <th>train_results</th>\n",
              "    </tr>\n",
              "  </thead>\n",
              "  <tbody>\n",
              "    <tr>\n",
              "      <th>1</th>\n",
              "      <td>0.0100</td>\n",
              "      <td>0.025664</td>\n",
              "      <td>[{'epoch': 0, 'train_loss': 0.7991613149642944...</td>\n",
              "    </tr>\n",
              "    <tr>\n",
              "      <th>0</th>\n",
              "      <td>0.1000</td>\n",
              "      <td>0.025862</td>\n",
              "      <td>[{'epoch': 0, 'train_loss': 0.7806419134140015...</td>\n",
              "    </tr>\n",
              "    <tr>\n",
              "      <th>2</th>\n",
              "      <td>0.0010</td>\n",
              "      <td>0.045892</td>\n",
              "      <td>[{'epoch': 0, 'train_loss': 0.594494640827179}...</td>\n",
              "    </tr>\n",
              "    <tr>\n",
              "      <th>3</th>\n",
              "      <td>0.0001</td>\n",
              "      <td>1.130744</td>\n",
              "      <td>[{'epoch': 0, 'train_loss': 1.2418826818466187...</td>\n",
              "    </tr>\n",
              "  </tbody>\n",
              "</table>\n",
              "</div>\n",
              "      <button class=\"colab-df-convert\" onclick=\"convertToInteractive('df-7e5adc66-fdf1-4a60-876a-a331633700ca')\"\n",
              "              title=\"Convert this dataframe to an interactive table.\"\n",
              "              style=\"display:none;\">\n",
              "        \n",
              "  <svg xmlns=\"http://www.w3.org/2000/svg\" height=\"24px\"viewBox=\"0 0 24 24\"\n",
              "       width=\"24px\">\n",
              "    <path d=\"M0 0h24v24H0V0z\" fill=\"none\"/>\n",
              "    <path d=\"M18.56 5.44l.94 2.06.94-2.06 2.06-.94-2.06-.94-.94-2.06-.94 2.06-2.06.94zm-11 1L8.5 8.5l.94-2.06 2.06-.94-2.06-.94L8.5 2.5l-.94 2.06-2.06.94zm10 10l.94 2.06.94-2.06 2.06-.94-2.06-.94-.94-2.06-.94 2.06-2.06.94z\"/><path d=\"M17.41 7.96l-1.37-1.37c-.4-.4-.92-.59-1.43-.59-.52 0-1.04.2-1.43.59L10.3 9.45l-7.72 7.72c-.78.78-.78 2.05 0 2.83L4 21.41c.39.39.9.59 1.41.59.51 0 1.02-.2 1.41-.59l7.78-7.78 2.81-2.81c.8-.78.8-2.07 0-2.86zM5.41 20L4 18.59l7.72-7.72 1.47 1.35L5.41 20z\"/>\n",
              "  </svg>\n",
              "      </button>\n",
              "      \n",
              "  <style>\n",
              "    .colab-df-container {\n",
              "      display:flex;\n",
              "      flex-wrap:wrap;\n",
              "      gap: 12px;\n",
              "    }\n",
              "\n",
              "    .colab-df-convert {\n",
              "      background-color: #E8F0FE;\n",
              "      border: none;\n",
              "      border-radius: 50%;\n",
              "      cursor: pointer;\n",
              "      display: none;\n",
              "      fill: #1967D2;\n",
              "      height: 32px;\n",
              "      padding: 0 0 0 0;\n",
              "      width: 32px;\n",
              "    }\n",
              "\n",
              "    .colab-df-convert:hover {\n",
              "      background-color: #E2EBFA;\n",
              "      box-shadow: 0px 1px 2px rgba(60, 64, 67, 0.3), 0px 1px 3px 1px rgba(60, 64, 67, 0.15);\n",
              "      fill: #174EA6;\n",
              "    }\n",
              "\n",
              "    [theme=dark] .colab-df-convert {\n",
              "      background-color: #3B4455;\n",
              "      fill: #D2E3FC;\n",
              "    }\n",
              "\n",
              "    [theme=dark] .colab-df-convert:hover {\n",
              "      background-color: #434B5C;\n",
              "      box-shadow: 0px 1px 3px 1px rgba(0, 0, 0, 0.15);\n",
              "      filter: drop-shadow(0px 1px 2px rgba(0, 0, 0, 0.3));\n",
              "      fill: #FFFFFF;\n",
              "    }\n",
              "  </style>\n",
              "\n",
              "      <script>\n",
              "        const buttonEl =\n",
              "          document.querySelector('#df-7e5adc66-fdf1-4a60-876a-a331633700ca button.colab-df-convert');\n",
              "        buttonEl.style.display =\n",
              "          google.colab.kernel.accessAllowed ? 'block' : 'none';\n",
              "\n",
              "        async function convertToInteractive(key) {\n",
              "          const element = document.querySelector('#df-7e5adc66-fdf1-4a60-876a-a331633700ca');\n",
              "          const dataTable =\n",
              "            await google.colab.kernel.invokeFunction('convertToInteractive',\n",
              "                                                     [key], {});\n",
              "          if (!dataTable) return;\n",
              "\n",
              "          const docLinkHtml = 'Like what you see? Visit the ' +\n",
              "            '<a target=\"_blank\" href=https://colab.research.google.com/notebooks/data_table.ipynb>data table notebook</a>'\n",
              "            + ' to learn more about interactive tables.';\n",
              "          element.innerHTML = '';\n",
              "          dataTable['output_type'] = 'display_data';\n",
              "          await google.colab.output.renderOutput(dataTable, element);\n",
              "          const docLink = document.createElement('div');\n",
              "          docLink.innerHTML = docLinkHtml;\n",
              "          element.appendChild(docLink);\n",
              "        }\n",
              "      </script>\n",
              "    </div>\n",
              "  </div>\n",
              "  "
            ]
          },
          "metadata": {},
          "execution_count": 88
        }
      ]
    },
    {
      "cell_type": "code",
      "source": [
        "r = []\n",
        "r.append({'epoch':1,  'val':  123})\n",
        "r.append({'epoch':2, 'val': 43})\n",
        "\n",
        "last_r = [rval['val']  for rval in r if rval['epoch'] == 2]\n",
        "last_r[0]"
      ],
      "metadata": {
        "colab": {
          "base_uri": "https://localhost:8080/"
        },
        "id": "wNQmGw4JR0-n",
        "outputId": "f08ce005-3273-4d5f-e639-7956ff9c3684"
      },
      "execution_count": null,
      "outputs": [
        {
          "output_type": "execute_result",
          "data": {
            "text/plain": [
              "43"
            ]
          },
          "metadata": {},
          "execution_count": 82
        }
      ]
    }
  ],
  "metadata": {
    "language_info": {
      "name": "python"
    },
    "orig_nbformat": 4,
    "colab": {
      "provenance": []
    },
    "kernelspec": {
      "name": "python3",
      "display_name": "Python 3"
    },
    "gpuClass": "standard",
    "accelerator": "GPU"
  },
  "nbformat": 4,
  "nbformat_minor": 0
}