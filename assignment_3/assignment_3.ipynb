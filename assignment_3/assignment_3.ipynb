{
  "cells": [
    {
      "cell_type": "markdown",
      "metadata": {
        "id": "Iw3TQvyH5hDH"
      },
      "source": [
        "Deep Learning Assignment 3 "
      ]
    },
    {
      "cell_type": "markdown",
      "metadata": {
        "id": "gnhfWVlX72Zq"
      },
      "source": [
        "References:\n",
        "Code source 1: https://medium.com/swlh/stock-price-prediction-with-pytorch-37f52ae84632\n",
        "\n",
        "Code source 2 (TODO: find how to get predictions accuracy): https://www.kaggle.com/code/taronzakaryan/predicting-stock-price-using-lstm-model-pytorch\n"
      ]
    },
    {
      "cell_type": "code",
      "execution_count": 1,
      "metadata": {
        "colab": {
          "base_uri": "https://localhost:8080/"
        },
        "id": "sc6hAorGW3aU",
        "outputId": "d1e74f11-6c89-47e3-fc77-d096914969ae"
      },
      "outputs": [
        {
          "name": "stdout",
          "output_type": "stream",
          "text": [
            "Collecting yfinance\n",
            "  Downloading yfinance-0.1.85-py2.py3-none-any.whl (29 kB)\n",
            "Requirement already satisfied: requests>=2.26 in /Users/pujanmaharjan/miniconda3/lib/python3.9/site-packages (from yfinance) (2.28.1)\n",
            "Requirement already satisfied: numpy>=1.15 in /Users/pujanmaharjan/miniconda3/lib/python3.9/site-packages (from yfinance) (1.23.3)\n",
            "Requirement already satisfied: lxml>=4.5.1 in /Users/pujanmaharjan/miniconda3/lib/python3.9/site-packages (from yfinance) (4.9.1)\n",
            "Collecting appdirs>=1.4.4\n",
            "  Using cached appdirs-1.4.4-py2.py3-none-any.whl (9.6 kB)\n",
            "Requirement already satisfied: pandas>=0.24.0 in /Users/pujanmaharjan/miniconda3/lib/python3.9/site-packages (from yfinance) (1.4.4)\n",
            "Collecting multitasking>=0.0.7\n",
            "  Downloading multitasking-0.0.11-py3-none-any.whl (8.5 kB)\n",
            "Requirement already satisfied: python-dateutil>=2.8.1 in /Users/pujanmaharjan/miniconda3/lib/python3.9/site-packages (from pandas>=0.24.0->yfinance) (2.8.2)\n",
            "Requirement already satisfied: pytz>=2020.1 in /Users/pujanmaharjan/miniconda3/lib/python3.9/site-packages (from pandas>=0.24.0->yfinance) (2022.2.1)\n",
            "Requirement already satisfied: urllib3<1.27,>=1.21.1 in /Users/pujanmaharjan/miniconda3/lib/python3.9/site-packages (from requests>=2.26->yfinance) (1.26.12)\n",
            "Requirement already satisfied: certifi>=2017.4.17 in /Users/pujanmaharjan/miniconda3/lib/python3.9/site-packages (from requests>=2.26->yfinance) (2022.9.24)\n",
            "Requirement already satisfied: idna<4,>=2.5 in /Users/pujanmaharjan/miniconda3/lib/python3.9/site-packages (from requests>=2.26->yfinance) (3.4)\n",
            "Requirement already satisfied: charset-normalizer<3,>=2 in /Users/pujanmaharjan/miniconda3/lib/python3.9/site-packages (from requests>=2.26->yfinance) (2.0.4)\n",
            "Requirement already satisfied: six>=1.5 in /Users/pujanmaharjan/miniconda3/lib/python3.9/site-packages (from python-dateutil>=2.8.1->pandas>=0.24.0->yfinance) (1.16.0)\n",
            "Installing collected packages: multitasking, appdirs, yfinance\n",
            "Successfully installed appdirs-1.4.4 multitasking-0.0.11 yfinance-0.1.85\n",
            "Note: you may need to restart the kernel to use updated packages.\n"
          ]
        }
      ],
      "source": [
        "pip install yfinance"
      ]
    },
    {
      "cell_type": "code",
      "execution_count": 46,
      "metadata": {
        "id": "8qCLzYOB9nNJ"
      },
      "outputs": [],
      "source": [
        "import time\n",
        "import pandas as pd\n",
        "from sklearn.preprocessing import MinMaxScaler, StandardScaler\n",
        "import numpy as np\n",
        "import torch\n",
        "import torch.nn as nn\n",
        "import os\n",
        "import yfinance as yf\n",
        "import os, contextlib\n",
        "import matplotlib.dates as mdates\n",
        "import matplotlib.pyplot as plt\n",
        "import datetime as dt"
      ]
    },
    {
      "cell_type": "code",
      "execution_count": null,
      "metadata": {
        "colab": {
          "base_uri": "https://localhost:8080/"
        },
        "id": "zSPYdwkCSO-g",
        "outputId": "bfa19cc9-eeb3-4768-b35f-e52eee5daa45"
      },
      "outputs": [
        {
          "name": "stdout",
          "output_type": "stream",
          "text": [
            "Drive already mounted at /content/drive; to attempt to forcibly remount, call drive.mount(\"/content/drive\", force_remount=True).\n",
            "['assignment_1', 'Assignment 2 Experiments.gsheet', 'Copy of Copy of CVPR-example.doc', 'Assignment 2 Deep Learning Report.gdoc', 'Copy of Deep Learning Assignment 2 - CVPR.docx', 'Copy of Deep Learning Assignment 2 - CVPR oct 28.docx', 'Deep Learning Assignment 2 - CVPR.docx', 'Deep Learning Assignment 3 Notes.gdoc', 'hist']\n",
            "directory exists  /content/drive/MyDrive/deep_learning/hist\n"
          ]
        }
      ],
      "source": [
        "# from google.colab import drive\n",
        "# drive.mount('/content/drive')\n",
        "\n",
        "# folder_path = '/content/drive/MyDrive/deep_learning/'\n",
        "# print(os.listdir(folder_path))\n",
        "\n",
        "# hist_dir = folder_path + 'hist'\n",
        "\n",
        "# if not os.path.exists(hist_dir):\n",
        "#     print('dir not exists so creating one')\n",
        "#     os.mkdir(hist_dir)\n",
        "# else:\n",
        "#     print('directory exists ', hist_dir)\n"
      ]
    },
    {
      "cell_type": "code",
      "execution_count": 47,
      "metadata": {
        "id": "vs-KI65zhAGJ"
      },
      "outputs": [],
      "source": [
        "# configs\n",
        "offset = 0\n",
        "limit = 3000\n",
        "period = 'max' # valid periods: 1d,5d,1mo,3mo,6mo,1y,2y,5y,10y,ytd,max\n",
        "\n",
        "# download all NASDAQ traded symbols\n",
        "\n",
        "# data = pd.read_csv(\"http://www.nasdaqtrader.com/dynamic/SymDir/nasdaqtraded.txt\", sep='|')\n",
        "# data_clean = data[data['Test Issue'] == 'N']\n",
        "# symbols = data_clean['NASDAQ Symbol'].tolist()\n",
        "# print('total number of symbols traded = {}'.format(len(symbols)))\n",
        "\n"
      ]
    },
    {
      "cell_type": "code",
      "execution_count": 48,
      "metadata": {
        "id": "vBi_WEiZi5Re"
      },
      "outputs": [],
      "source": [
        "symbols = ['AAPL','AMZN','META']"
      ]
    },
    {
      "cell_type": "code",
      "execution_count": 49,
      "metadata": {
        "colab": {
          "base_uri": "https://localhost:8080/"
        },
        "id": "b7baqyH1ifJt",
        "outputId": "d099d148-fe1e-4e92-9a58-6a9dac3bf2aa"
      },
      "outputs": [
        {
          "name": "stdout",
          "output_type": "stream",
          "text": [
            "['AAPL', 'AMZN', 'META']\n"
          ]
        }
      ],
      "source": [
        "print(symbols)"
      ]
    },
    {
      "cell_type": "code",
      "execution_count": 50,
      "metadata": {
        "colab": {
          "base_uri": "https://localhost:8080/"
        },
        "id": "xzKgq2vVXMYO",
        "outputId": "57944495-9df7-4def-b83f-ba04e59c89d4"
      },
      "outputs": [
        {
          "name": "stdout",
          "output_type": "stream",
          "text": [
            "Total number of valid symbols downloaded = 3\n"
          ]
        }
      ],
      "source": [
        "limit = limit if limit else len(symbols)\n",
        "end = min(offset + limit, len(symbols))\n",
        "is_valid = [False] * len(symbols)\n",
        "# force silencing of verbose API\n",
        "with open(os.devnull, 'w') as devnull:\n",
        "    with contextlib.redirect_stdout(devnull):\n",
        "        for i in range(offset, end):\n",
        "            s = symbols[i]\n",
        "            data = yf.download(s, period=period)\n",
        "            if len(data.index) == 0:\n",
        "                continue\n",
        "        \n",
        "            is_valid[i] = True\n",
        "            file_name = s + \".csv\"\n",
        "            # download_path = os.path.join(root_dir,file_name)\n",
        "            data.to_csv(file_name)\n",
        "\n",
        "print('Total number of valid symbols downloaded = {}'.format(sum(is_valid)))"
      ]
    },
    {
      "cell_type": "code",
      "execution_count": null,
      "metadata": {
        "id": "gVvb01YuXVns"
      },
      "outputs": [],
      "source": [
        "# valid_data = data_clean[is_valid]\n",
        "# valid_data.to_csv('symbols_valid_meta.csv', index=False)\n",
        "\n"
      ]
    },
    {
      "cell_type": "code",
      "execution_count": null,
      "metadata": {
        "id": "Gk0QTjZCXp2D"
      },
      "outputs": [],
      "source": [
        "# !mkdir stocks\n",
        "# !mkdir etfs"
      ]
    },
    {
      "cell_type": "code",
      "execution_count": null,
      "metadata": {
        "id": "DVVtjynkXq_A"
      },
      "outputs": [],
      "source": [
        "# etfs = valid_data[valid_data['ETF'] == 'Y']['NASDAQ Symbol'].tolist()\n",
        "# stocks = valid_data[valid_data['ETF'] == 'N']['NASDAQ Symbol'].tolist()"
      ]
    },
    {
      "cell_type": "code",
      "execution_count": null,
      "metadata": {
        "id": "pYMo-mEGX1Nh"
      },
      "outputs": [],
      "source": [
        "# import shutil\n",
        "# from os.path import isfile, join\n",
        "\n",
        "# def move_symbols(symbols, dest):\n",
        "#     for s in symbols:\n",
        "#         filename = '{}.csv'.format(s)\n",
        "#         shutil.move(join('hist', filename), join(dest, filename))\n",
        "        \n",
        "# move_symbols(etfs, \"etfs\")\n",
        "# move_symbols(stocks, \"stocks\")"
      ]
    },
    {
      "cell_type": "code",
      "execution_count": 51,
      "metadata": {
        "colab": {
          "base_uri": "https://localhost:8080/",
          "height": 455
        },
        "id": "9LoEOTVB6Y9o",
        "outputId": "f773a005-de64-43f4-fdf8-32c22a32ea74"
      },
      "outputs": [
        {
          "data": {
            "text/html": [
              "\n",
              "  <div id=\"df-cc832c42-83b4-4ed6-9457-3c645706ff3b\">\n",
              "    <div class=\"colab-df-container\">\n",
              "      <div>\n",
              "<style scoped>\n",
              "    .dataframe tbody tr th:only-of-type {\n",
              "        vertical-align: middle;\n",
              "    }\n",
              "\n",
              "    .dataframe tbody tr th {\n",
              "        vertical-align: top;\n",
              "    }\n",
              "\n",
              "    .dataframe thead th {\n",
              "        text-align: right;\n",
              "    }\n",
              "</style>\n",
              "<table border=\"1\" class=\"dataframe\">\n",
              "  <thead>\n",
              "    <tr style=\"text-align: right;\">\n",
              "      <th></th>\n",
              "      <th>Open</th>\n",
              "      <th>High</th>\n",
              "      <th>Low</th>\n",
              "      <th>Close</th>\n",
              "      <th>Adj Close</th>\n",
              "      <th>Volume</th>\n",
              "    </tr>\n",
              "    <tr>\n",
              "      <th>Date</th>\n",
              "      <th></th>\n",
              "      <th></th>\n",
              "      <th></th>\n",
              "      <th></th>\n",
              "      <th></th>\n",
              "      <th></th>\n",
              "    </tr>\n",
              "  </thead>\n",
              "  <tbody>\n",
              "    <tr>\n",
              "      <th>1997-05-15</th>\n",
              "      <td>0.121875</td>\n",
              "      <td>0.125000</td>\n",
              "      <td>0.096354</td>\n",
              "      <td>0.097917</td>\n",
              "      <td>0.097917</td>\n",
              "      <td>1443120000</td>\n",
              "    </tr>\n",
              "    <tr>\n",
              "      <th>1997-05-16</th>\n",
              "      <td>0.098438</td>\n",
              "      <td>0.098958</td>\n",
              "      <td>0.085417</td>\n",
              "      <td>0.086458</td>\n",
              "      <td>0.086458</td>\n",
              "      <td>294000000</td>\n",
              "    </tr>\n",
              "    <tr>\n",
              "      <th>1997-05-19</th>\n",
              "      <td>0.088021</td>\n",
              "      <td>0.088542</td>\n",
              "      <td>0.081250</td>\n",
              "      <td>0.085417</td>\n",
              "      <td>0.085417</td>\n",
              "      <td>122136000</td>\n",
              "    </tr>\n",
              "    <tr>\n",
              "      <th>1997-05-20</th>\n",
              "      <td>0.086458</td>\n",
              "      <td>0.087500</td>\n",
              "      <td>0.081771</td>\n",
              "      <td>0.081771</td>\n",
              "      <td>0.081771</td>\n",
              "      <td>109344000</td>\n",
              "    </tr>\n",
              "    <tr>\n",
              "      <th>1997-05-21</th>\n",
              "      <td>0.081771</td>\n",
              "      <td>0.082292</td>\n",
              "      <td>0.068750</td>\n",
              "      <td>0.071354</td>\n",
              "      <td>0.071354</td>\n",
              "      <td>377064000</td>\n",
              "    </tr>\n",
              "    <tr>\n",
              "      <th>...</th>\n",
              "      <td>...</td>\n",
              "      <td>...</td>\n",
              "      <td>...</td>\n",
              "      <td>...</td>\n",
              "      <td>...</td>\n",
              "      <td>...</td>\n",
              "    </tr>\n",
              "    <tr>\n",
              "      <th>2022-10-27</th>\n",
              "      <td>113.919998</td>\n",
              "      <td>114.120003</td>\n",
              "      <td>109.769997</td>\n",
              "      <td>110.959999</td>\n",
              "      <td>110.959999</td>\n",
              "      <td>129605400</td>\n",
              "    </tr>\n",
              "    <tr>\n",
              "      <th>2022-10-28</th>\n",
              "      <td>97.910004</td>\n",
              "      <td>103.959999</td>\n",
              "      <td>97.660004</td>\n",
              "      <td>103.410004</td>\n",
              "      <td>103.410004</td>\n",
              "      <td>223133400</td>\n",
              "    </tr>\n",
              "    <tr>\n",
              "      <th>2022-10-31</th>\n",
              "      <td>103.559998</td>\n",
              "      <td>104.870003</td>\n",
              "      <td>100.739998</td>\n",
              "      <td>102.440002</td>\n",
              "      <td>102.440002</td>\n",
              "      <td>99251400</td>\n",
              "    </tr>\n",
              "    <tr>\n",
              "      <th>2022-11-01</th>\n",
              "      <td>103.989998</td>\n",
              "      <td>104.580002</td>\n",
              "      <td>96.059998</td>\n",
              "      <td>96.790001</td>\n",
              "      <td>96.790001</td>\n",
              "      <td>153370000</td>\n",
              "    </tr>\n",
              "    <tr>\n",
              "      <th>2022-11-02</th>\n",
              "      <td>97.320000</td>\n",
              "      <td>97.739998</td>\n",
              "      <td>92.010002</td>\n",
              "      <td>92.120003</td>\n",
              "      <td>92.120003</td>\n",
              "      <td>135519700</td>\n",
              "    </tr>\n",
              "  </tbody>\n",
              "</table>\n",
              "<p>6411 rows × 6 columns</p>\n",
              "</div>\n",
              "      <button class=\"colab-df-convert\" onclick=\"convertToInteractive('df-cc832c42-83b4-4ed6-9457-3c645706ff3b')\"\n",
              "              title=\"Convert this dataframe to an interactive table.\"\n",
              "              style=\"display:none;\">\n",
              "        \n",
              "  <svg xmlns=\"http://www.w3.org/2000/svg\" height=\"24px\"viewBox=\"0 0 24 24\"\n",
              "       width=\"24px\">\n",
              "    <path d=\"M0 0h24v24H0V0z\" fill=\"none\"/>\n",
              "    <path d=\"M18.56 5.44l.94 2.06.94-2.06 2.06-.94-2.06-.94-.94-2.06-.94 2.06-2.06.94zm-11 1L8.5 8.5l.94-2.06 2.06-.94-2.06-.94L8.5 2.5l-.94 2.06-2.06.94zm10 10l.94 2.06.94-2.06 2.06-.94-2.06-.94-.94-2.06-.94 2.06-2.06.94z\"/><path d=\"M17.41 7.96l-1.37-1.37c-.4-.4-.92-.59-1.43-.59-.52 0-1.04.2-1.43.59L10.3 9.45l-7.72 7.72c-.78.78-.78 2.05 0 2.83L4 21.41c.39.39.9.59 1.41.59.51 0 1.02-.2 1.41-.59l7.78-7.78 2.81-2.81c.8-.78.8-2.07 0-2.86zM5.41 20L4 18.59l7.72-7.72 1.47 1.35L5.41 20z\"/>\n",
              "  </svg>\n",
              "      </button>\n",
              "      \n",
              "  <style>\n",
              "    .colab-df-container {\n",
              "      display:flex;\n",
              "      flex-wrap:wrap;\n",
              "      gap: 12px;\n",
              "    }\n",
              "\n",
              "    .colab-df-convert {\n",
              "      background-color: #E8F0FE;\n",
              "      border: none;\n",
              "      border-radius: 50%;\n",
              "      cursor: pointer;\n",
              "      display: none;\n",
              "      fill: #1967D2;\n",
              "      height: 32px;\n",
              "      padding: 0 0 0 0;\n",
              "      width: 32px;\n",
              "    }\n",
              "\n",
              "    .colab-df-convert:hover {\n",
              "      background-color: #E2EBFA;\n",
              "      box-shadow: 0px 1px 2px rgba(60, 64, 67, 0.3), 0px 1px 3px 1px rgba(60, 64, 67, 0.15);\n",
              "      fill: #174EA6;\n",
              "    }\n",
              "\n",
              "    [theme=dark] .colab-df-convert {\n",
              "      background-color: #3B4455;\n",
              "      fill: #D2E3FC;\n",
              "    }\n",
              "\n",
              "    [theme=dark] .colab-df-convert:hover {\n",
              "      background-color: #434B5C;\n",
              "      box-shadow: 0px 1px 3px 1px rgba(0, 0, 0, 0.15);\n",
              "      filter: drop-shadow(0px 1px 2px rgba(0, 0, 0, 0.3));\n",
              "      fill: #FFFFFF;\n",
              "    }\n",
              "  </style>\n",
              "\n",
              "      <script>\n",
              "        const buttonEl =\n",
              "          document.querySelector('#df-cc832c42-83b4-4ed6-9457-3c645706ff3b button.colab-df-convert');\n",
              "        buttonEl.style.display =\n",
              "          google.colab.kernel.accessAllowed ? 'block' : 'none';\n",
              "\n",
              "        async function convertToInteractive(key) {\n",
              "          const element = document.querySelector('#df-cc832c42-83b4-4ed6-9457-3c645706ff3b');\n",
              "          const dataTable =\n",
              "            await google.colab.kernel.invokeFunction('convertToInteractive',\n",
              "                                                     [key], {});\n",
              "          if (!dataTable) return;\n",
              "\n",
              "          const docLinkHtml = 'Like what you see? Visit the ' +\n",
              "            '<a target=\"_blank\" href=https://colab.research.google.com/notebooks/data_table.ipynb>data table notebook</a>'\n",
              "            + ' to learn more about interactive tables.';\n",
              "          element.innerHTML = '';\n",
              "          dataTable['output_type'] = 'display_data';\n",
              "          await google.colab.output.renderOutput(dataTable, element);\n",
              "          const docLink = document.createElement('div');\n",
              "          docLink.innerHTML = docLinkHtml;\n",
              "          element.appendChild(docLink);\n",
              "        }\n",
              "      </script>\n",
              "    </div>\n",
              "  </div>\n",
              "  "
            ],
            "text/plain": [
              "                  Open        High         Low       Close   Adj Close  \\\n",
              "Date                                                                     \n",
              "1997-05-15    0.121875    0.125000    0.096354    0.097917    0.097917   \n",
              "1997-05-16    0.098438    0.098958    0.085417    0.086458    0.086458   \n",
              "1997-05-19    0.088021    0.088542    0.081250    0.085417    0.085417   \n",
              "1997-05-20    0.086458    0.087500    0.081771    0.081771    0.081771   \n",
              "1997-05-21    0.081771    0.082292    0.068750    0.071354    0.071354   \n",
              "...                ...         ...         ...         ...         ...   \n",
              "2022-10-27  113.919998  114.120003  109.769997  110.959999  110.959999   \n",
              "2022-10-28   97.910004  103.959999   97.660004  103.410004  103.410004   \n",
              "2022-10-31  103.559998  104.870003  100.739998  102.440002  102.440002   \n",
              "2022-11-01  103.989998  104.580002   96.059998   96.790001   96.790001   \n",
              "2022-11-02   97.320000   97.739998   92.010002   92.120003   92.120003   \n",
              "\n",
              "                Volume  \n",
              "Date                    \n",
              "1997-05-15  1443120000  \n",
              "1997-05-16   294000000  \n",
              "1997-05-19   122136000  \n",
              "1997-05-20   109344000  \n",
              "1997-05-21   377064000  \n",
              "...                ...  \n",
              "2022-10-27   129605400  \n",
              "2022-10-28   223133400  \n",
              "2022-10-31    99251400  \n",
              "2022-11-01   153370000  \n",
              "2022-11-02   135519700  \n",
              "\n",
              "[6411 rows x 6 columns]"
            ]
          },
          "execution_count": 51,
          "metadata": {},
          "output_type": "execute_result"
        }
      ],
      "source": [
        "\n",
        "data = pd.read_csv('AMZN.csv', index_col='Date')\n",
        "data"
      ]
    },
    {
      "cell_type": "code",
      "execution_count": 52,
      "metadata": {
        "colab": {
          "base_uri": "https://localhost:8080/",
          "height": 579
        },
        "id": "XqYxV7xKJc-q",
        "outputId": "024a4474-d8a3-4727-8813-095250afb6c3"
      },
      "outputs": [
        {
          "data": {
            "image/png": "[encoded data removed]",
            "text/plain": [
              "<Figure size 1080x720 with 1 Axes>"
            ]
          },
          "metadata": {
            "needs_background": "light"
          },
          "output_type": "display_data"
        }
      ],
      "source": [
        "plt.figure(figsize=(15,10))\n",
        "plt.gca().xaxis.set_major_formatter(mdates.DateFormatter('%Y-%m-%d'))\n",
        "plt.gca().xaxis.set_major_locator(mdates.DayLocator(interval=60))\n",
        "x_dates = [dt.datetime.strptime(d, '%Y-%m-%d').date() for d in data.index.values]\n",
        "\n",
        "plt.plot(x_dates, data['High'], label='High')\n",
        "plt.plot(x_dates, data['Low'], label='Low')\n",
        "plt.xlabel('Time scale')\n",
        "plt.ylabel('Price')\n",
        "plt.legend()\n",
        "plt.gcf().autofmt_xdate()\n",
        "plt.show()"
      ]
    },
    {
      "cell_type": "code",
      "execution_count": 53,
      "metadata": {
        "colab": {
          "base_uri": "https://localhost:8080/",
          "height": 455
        },
        "id": "vyWaMUkVIVgJ",
        "outputId": "27b4531d-5bd7-464c-a540-c92f8ddfab0a"
      },
      "outputs": [
        {
          "data": {
            "text/html": [
              "\n",
              "  <div id=\"df-b9db7688-e9f3-4ddc-8bb4-fa5f3bfd5769\">\n",
              "    <div class=\"colab-df-container\">\n",
              "      <div>\n",
              "<style scoped>\n",
              "    .dataframe tbody tr th:only-of-type {\n",
              "        vertical-align: middle;\n",
              "    }\n",
              "\n",
              "    .dataframe tbody tr th {\n",
              "        vertical-align: top;\n",
              "    }\n",
              "\n",
              "    .dataframe thead th {\n",
              "        text-align: right;\n",
              "    }\n",
              "</style>\n",
              "<table border=\"1\" class=\"dataframe\">\n",
              "  <thead>\n",
              "    <tr style=\"text-align: right;\">\n",
              "      <th></th>\n",
              "      <th>Open</th>\n",
              "      <th>High</th>\n",
              "      <th>Low</th>\n",
              "    </tr>\n",
              "    <tr>\n",
              "      <th>Date</th>\n",
              "      <th></th>\n",
              "      <th></th>\n",
              "      <th></th>\n",
              "    </tr>\n",
              "  </thead>\n",
              "  <tbody>\n",
              "    <tr>\n",
              "      <th>1997-05-15</th>\n",
              "      <td>0.121875</td>\n",
              "      <td>0.125000</td>\n",
              "      <td>0.096354</td>\n",
              "    </tr>\n",
              "    <tr>\n",
              "      <th>1997-05-16</th>\n",
              "      <td>0.098438</td>\n",
              "      <td>0.098958</td>\n",
              "      <td>0.085417</td>\n",
              "    </tr>\n",
              "    <tr>\n",
              "      <th>1997-05-19</th>\n",
              "      <td>0.088021</td>\n",
              "      <td>0.088542</td>\n",
              "      <td>0.081250</td>\n",
              "    </tr>\n",
              "    <tr>\n",
              "      <th>1997-05-20</th>\n",
              "      <td>0.086458</td>\n",
              "      <td>0.087500</td>\n",
              "      <td>0.081771</td>\n",
              "    </tr>\n",
              "    <tr>\n",
              "      <th>1997-05-21</th>\n",
              "      <td>0.081771</td>\n",
              "      <td>0.082292</td>\n",
              "      <td>0.068750</td>\n",
              "    </tr>\n",
              "    <tr>\n",
              "      <th>...</th>\n",
              "      <td>...</td>\n",
              "      <td>...</td>\n",
              "      <td>...</td>\n",
              "    </tr>\n",
              "    <tr>\n",
              "      <th>2022-10-27</th>\n",
              "      <td>113.919998</td>\n",
              "      <td>114.120003</td>\n",
              "      <td>109.769997</td>\n",
              "    </tr>\n",
              "    <tr>\n",
              "      <th>2022-10-28</th>\n",
              "      <td>97.910004</td>\n",
              "      <td>103.959999</td>\n",
              "      <td>97.660004</td>\n",
              "    </tr>\n",
              "    <tr>\n",
              "      <th>2022-10-31</th>\n",
              "      <td>103.559998</td>\n",
              "      <td>104.870003</td>\n",
              "      <td>100.739998</td>\n",
              "    </tr>\n",
              "    <tr>\n",
              "      <th>2022-11-01</th>\n",
              "      <td>103.989998</td>\n",
              "      <td>104.580002</td>\n",
              "      <td>96.059998</td>\n",
              "    </tr>\n",
              "    <tr>\n",
              "      <th>2022-11-02</th>\n",
              "      <td>97.320000</td>\n",
              "      <td>97.739998</td>\n",
              "      <td>92.010002</td>\n",
              "    </tr>\n",
              "  </tbody>\n",
              "</table>\n",
              "<p>6411 rows × 3 columns</p>\n",
              "</div>\n",
              "      <button class=\"colab-df-convert\" onclick=\"convertToInteractive('df-b9db7688-e9f3-4ddc-8bb4-fa5f3bfd5769')\"\n",
              "              title=\"Convert this dataframe to an interactive table.\"\n",
              "              style=\"display:none;\">\n",
              "        \n",
              "  <svg xmlns=\"http://www.w3.org/2000/svg\" height=\"24px\"viewBox=\"0 0 24 24\"\n",
              "       width=\"24px\">\n",
              "    <path d=\"M0 0h24v24H0V0z\" fill=\"none\"/>\n",
              "    <path d=\"M18.56 5.44l.94 2.06.94-2.06 2.06-.94-2.06-.94-.94-2.06-.94 2.06-2.06.94zm-11 1L8.5 8.5l.94-2.06 2.06-.94-2.06-.94L8.5 2.5l-.94 2.06-2.06.94zm10 10l.94 2.06.94-2.06 2.06-.94-2.06-.94-.94-2.06-.94 2.06-2.06.94z\"/><path d=\"M17.41 7.96l-1.37-1.37c-.4-.4-.92-.59-1.43-.59-.52 0-1.04.2-1.43.59L10.3 9.45l-7.72 7.72c-.78.78-.78 2.05 0 2.83L4 21.41c.39.39.9.59 1.41.59.51 0 1.02-.2 1.41-.59l7.78-7.78 2.81-2.81c.8-.78.8-2.07 0-2.86zM5.41 20L4 18.59l7.72-7.72 1.47 1.35L5.41 20z\"/>\n",
              "  </svg>\n",
              "      </button>\n",
              "      \n",
              "  <style>\n",
              "    .colab-df-container {\n",
              "      display:flex;\n",
              "      flex-wrap:wrap;\n",
              "      gap: 12px;\n",
              "    }\n",
              "\n",
              "    .colab-df-convert {\n",
              "      background-color: #E8F0FE;\n",
              "      border: none;\n",
              "      border-radius: 50%;\n",
              "      cursor: pointer;\n",
              "      display: none;\n",
              "      fill: #1967D2;\n",
              "      height: 32px;\n",
              "      padding: 0 0 0 0;\n",
              "      width: 32px;\n",
              "    }\n",
              "\n",
              "    .colab-df-convert:hover {\n",
              "      background-color: #E2EBFA;\n",
              "      box-shadow: 0px 1px 2px rgba(60, 64, 67, 0.3), 0px 1px 3px 1px rgba(60, 64, 67, 0.15);\n",
              "      fill: #174EA6;\n",
              "    }\n",
              "\n",
              "    [theme=dark] .colab-df-convert {\n",
              "      background-color: #3B4455;\n",
              "      fill: #D2E3FC;\n",
              "    }\n",
              "\n",
              "    [theme=dark] .colab-df-convert:hover {\n",
              "      background-color: #434B5C;\n",
              "      box-shadow: 0px 1px 3px 1px rgba(0, 0, 0, 0.15);\n",
              "      filter: drop-shadow(0px 1px 2px rgba(0, 0, 0, 0.3));\n",
              "      fill: #FFFFFF;\n",
              "    }\n",
              "  </style>\n",
              "\n",
              "      <script>\n",
              "        const buttonEl =\n",
              "          document.querySelector('#df-b9db7688-e9f3-4ddc-8bb4-fa5f3bfd5769 button.colab-df-convert');\n",
              "        buttonEl.style.display =\n",
              "          google.colab.kernel.accessAllowed ? 'block' : 'none';\n",
              "\n",
              "        async function convertToInteractive(key) {\n",
              "          const element = document.querySelector('#df-b9db7688-e9f3-4ddc-8bb4-fa5f3bfd5769');\n",
              "          const dataTable =\n",
              "            await google.colab.kernel.invokeFunction('convertToInteractive',\n",
              "                                                     [key], {});\n",
              "          if (!dataTable) return;\n",
              "\n",
              "          const docLinkHtml = 'Like what you see? Visit the ' +\n",
              "            '<a target=\"_blank\" href=https://colab.research.google.com/notebooks/data_table.ipynb>data table notebook</a>'\n",
              "            + ' to learn more about interactive tables.';\n",
              "          element.innerHTML = '';\n",
              "          dataTable['output_type'] = 'display_data';\n",
              "          await google.colab.output.renderOutput(dataTable, element);\n",
              "          const docLink = document.createElement('div');\n",
              "          docLink.innerHTML = docLinkHtml;\n",
              "          element.appendChild(docLink);\n",
              "        }\n",
              "      </script>\n",
              "    </div>\n",
              "  </div>\n",
              "  "
            ],
            "text/plain": [
              "                  Open        High         Low\n",
              "Date                                          \n",
              "1997-05-15    0.121875    0.125000    0.096354\n",
              "1997-05-16    0.098438    0.098958    0.085417\n",
              "1997-05-19    0.088021    0.088542    0.081250\n",
              "1997-05-20    0.086458    0.087500    0.081771\n",
              "1997-05-21    0.081771    0.082292    0.068750\n",
              "...                ...         ...         ...\n",
              "2022-10-27  113.919998  114.120003  109.769997\n",
              "2022-10-28   97.910004  103.959999   97.660004\n",
              "2022-10-31  103.559998  104.870003  100.739998\n",
              "2022-11-01  103.989998  104.580002   96.059998\n",
              "2022-11-02   97.320000   97.739998   92.010002\n",
              "\n",
              "[6411 rows x 3 columns]"
            ]
          },
          "execution_count": 53,
          "metadata": {},
          "output_type": "execute_result"
        }
      ],
      "source": [
        "X_features = data[['Open','High','Low']]\n",
        "X_features"
      ]
    },
    {
      "cell_type": "code",
      "execution_count": 54,
      "metadata": {
        "colab": {
          "base_uri": "https://localhost:8080/",
          "height": 455
        },
        "id": "zy0HdQ_jIgGB",
        "outputId": "aa8b032f-6e29-4063-cb78-e74da567814b"
      },
      "outputs": [
        {
          "data": {
            "text/html": [
              "\n",
              "  <div id=\"df-7598a89a-bf10-4455-97bc-55999d85889c\">\n",
              "    <div class=\"colab-df-container\">\n",
              "      <div>\n",
              "<style scoped>\n",
              "    .dataframe tbody tr th:only-of-type {\n",
              "        vertical-align: middle;\n",
              "    }\n",
              "\n",
              "    .dataframe tbody tr th {\n",
              "        vertical-align: top;\n",
              "    }\n",
              "\n",
              "    .dataframe thead th {\n",
              "        text-align: right;\n",
              "    }\n",
              "</style>\n",
              "<table border=\"1\" class=\"dataframe\">\n",
              "  <thead>\n",
              "    <tr style=\"text-align: right;\">\n",
              "      <th></th>\n",
              "      <th>Close</th>\n",
              "    </tr>\n",
              "    <tr>\n",
              "      <th>Date</th>\n",
              "      <th></th>\n",
              "    </tr>\n",
              "  </thead>\n",
              "  <tbody>\n",
              "    <tr>\n",
              "      <th>1997-05-15</th>\n",
              "      <td>0.097917</td>\n",
              "    </tr>\n",
              "    <tr>\n",
              "      <th>1997-05-16</th>\n",
              "      <td>0.086458</td>\n",
              "    </tr>\n",
              "    <tr>\n",
              "      <th>1997-05-19</th>\n",
              "      <td>0.085417</td>\n",
              "    </tr>\n",
              "    <tr>\n",
              "      <th>1997-05-20</th>\n",
              "      <td>0.081771</td>\n",
              "    </tr>\n",
              "    <tr>\n",
              "      <th>1997-05-21</th>\n",
              "      <td>0.071354</td>\n",
              "    </tr>\n",
              "    <tr>\n",
              "      <th>...</th>\n",
              "      <td>...</td>\n",
              "    </tr>\n",
              "    <tr>\n",
              "      <th>2022-10-27</th>\n",
              "      <td>110.959999</td>\n",
              "    </tr>\n",
              "    <tr>\n",
              "      <th>2022-10-28</th>\n",
              "      <td>103.410004</td>\n",
              "    </tr>\n",
              "    <tr>\n",
              "      <th>2022-10-31</th>\n",
              "      <td>102.440002</td>\n",
              "    </tr>\n",
              "    <tr>\n",
              "      <th>2022-11-01</th>\n",
              "      <td>96.790001</td>\n",
              "    </tr>\n",
              "    <tr>\n",
              "      <th>2022-11-02</th>\n",
              "      <td>92.120003</td>\n",
              "    </tr>\n",
              "  </tbody>\n",
              "</table>\n",
              "<p>6411 rows × 1 columns</p>\n",
              "</div>\n",
              "      <button class=\"colab-df-convert\" onclick=\"convertToInteractive('df-7598a89a-bf10-4455-97bc-55999d85889c')\"\n",
              "              title=\"Convert this dataframe to an interactive table.\"\n",
              "              style=\"display:none;\">\n",
              "        \n",
              "  <svg xmlns=\"http://www.w3.org/2000/svg\" height=\"24px\"viewBox=\"0 0 24 24\"\n",
              "       width=\"24px\">\n",
              "    <path d=\"M0 0h24v24H0V0z\" fill=\"none\"/>\n",
              "    <path d=\"M18.56 5.44l.94 2.06.94-2.06 2.06-.94-2.06-.94-.94-2.06-.94 2.06-2.06.94zm-11 1L8.5 8.5l.94-2.06 2.06-.94-2.06-.94L8.5 2.5l-.94 2.06-2.06.94zm10 10l.94 2.06.94-2.06 2.06-.94-2.06-.94-.94-2.06-.94 2.06-2.06.94z\"/><path d=\"M17.41 7.96l-1.37-1.37c-.4-.4-.92-.59-1.43-.59-.52 0-1.04.2-1.43.59L10.3 9.45l-7.72 7.72c-.78.78-.78 2.05 0 2.83L4 21.41c.39.39.9.59 1.41.59.51 0 1.02-.2 1.41-.59l7.78-7.78 2.81-2.81c.8-.78.8-2.07 0-2.86zM5.41 20L4 18.59l7.72-7.72 1.47 1.35L5.41 20z\"/>\n",
              "  </svg>\n",
              "      </button>\n",
              "      \n",
              "  <style>\n",
              "    .colab-df-container {\n",
              "      display:flex;\n",
              "      flex-wrap:wrap;\n",
              "      gap: 12px;\n",
              "    }\n",
              "\n",
              "    .colab-df-convert {\n",
              "      background-color: #E8F0FE;\n",
              "      border: none;\n",
              "      border-radius: 50%;\n",
              "      cursor: pointer;\n",
              "      display: none;\n",
              "      fill: #1967D2;\n",
              "      height: 32px;\n",
              "      padding: 0 0 0 0;\n",
              "      width: 32px;\n",
              "    }\n",
              "\n",
              "    .colab-df-convert:hover {\n",
              "      background-color: #E2EBFA;\n",
              "      box-shadow: 0px 1px 2px rgba(60, 64, 67, 0.3), 0px 1px 3px 1px rgba(60, 64, 67, 0.15);\n",
              "      fill: #174EA6;\n",
              "    }\n",
              "\n",
              "    [theme=dark] .colab-df-convert {\n",
              "      background-color: #3B4455;\n",
              "      fill: #D2E3FC;\n",
              "    }\n",
              "\n",
              "    [theme=dark] .colab-df-convert:hover {\n",
              "      background-color: #434B5C;\n",
              "      box-shadow: 0px 1px 3px 1px rgba(0, 0, 0, 0.15);\n",
              "      filter: drop-shadow(0px 1px 2px rgba(0, 0, 0, 0.3));\n",
              "      fill: #FFFFFF;\n",
              "    }\n",
              "  </style>\n",
              "\n",
              "      <script>\n",
              "        const buttonEl =\n",
              "          document.querySelector('#df-7598a89a-bf10-4455-97bc-55999d85889c button.colab-df-convert');\n",
              "        buttonEl.style.display =\n",
              "          google.colab.kernel.accessAllowed ? 'block' : 'none';\n",
              "\n",
              "        async function convertToInteractive(key) {\n",
              "          const element = document.querySelector('#df-7598a89a-bf10-4455-97bc-55999d85889c');\n",
              "          const dataTable =\n",
              "            await google.colab.kernel.invokeFunction('convertToInteractive',\n",
              "                                                     [key], {});\n",
              "          if (!dataTable) return;\n",
              "\n",
              "          const docLinkHtml = 'Like what you see? Visit the ' +\n",
              "            '<a target=\"_blank\" href=https://colab.research.google.com/notebooks/data_table.ipynb>data table notebook</a>'\n",
              "            + ' to learn more about interactive tables.';\n",
              "          element.innerHTML = '';\n",
              "          dataTable['output_type'] = 'display_data';\n",
              "          await google.colab.output.renderOutput(dataTable, element);\n",
              "          const docLink = document.createElement('div');\n",
              "          docLink.innerHTML = docLinkHtml;\n",
              "          element.appendChild(docLink);\n",
              "        }\n",
              "      </script>\n",
              "    </div>\n",
              "  </div>\n",
              "  "
            ],
            "text/plain": [
              "                 Close\n",
              "Date                  \n",
              "1997-05-15    0.097917\n",
              "1997-05-16    0.086458\n",
              "1997-05-19    0.085417\n",
              "1997-05-20    0.081771\n",
              "1997-05-21    0.071354\n",
              "...                ...\n",
              "2022-10-27  110.959999\n",
              "2022-10-28  103.410004\n",
              "2022-10-31  102.440002\n",
              "2022-11-01   96.790001\n",
              "2022-11-02   92.120003\n",
              "\n",
              "[6411 rows x 1 columns]"
            ]
          },
          "execution_count": 54,
          "metadata": {},
          "output_type": "execute_result"
        }
      ],
      "source": [
        "y_labels = data[['Close']]\n",
        "y_labels"
      ]
    },
    {
      "cell_type": "code",
      "execution_count": 56,
      "metadata": {
        "colab": {
          "base_uri": "https://localhost:8080/",
          "height": 455
        },
        "id": "n5ZvDZO9LoJz",
        "outputId": "252898a5-38b9-41c4-dafb-c925a7935025"
      },
      "outputs": [
        {
          "data": {
            "text/html": [
              "\n",
              "  <div id=\"df-9cf5a256-5c4a-4278-89e4-b8812d63b86f\">\n",
              "    <div class=\"colab-df-container\">\n",
              "      <div>\n",
              "<style scoped>\n",
              "    .dataframe tbody tr th:only-of-type {\n",
              "        vertical-align: middle;\n",
              "    }\n",
              "\n",
              "    .dataframe tbody tr th {\n",
              "        vertical-align: top;\n",
              "    }\n",
              "\n",
              "    .dataframe thead th {\n",
              "        text-align: right;\n",
              "    }\n",
              "</style>\n",
              "<table border=\"1\" class=\"dataframe\">\n",
              "  <thead>\n",
              "    <tr style=\"text-align: right;\">\n",
              "      <th></th>\n",
              "      <th>Open</th>\n",
              "      <th>High</th>\n",
              "      <th>Low</th>\n",
              "    </tr>\n",
              "    <tr>\n",
              "      <th>Date</th>\n",
              "      <th></th>\n",
              "      <th></th>\n",
              "      <th></th>\n",
              "    </tr>\n",
              "  </thead>\n",
              "  <tbody>\n",
              "    <tr>\n",
              "      <th>1997-05-15</th>\n",
              "      <td>-0.637301</td>\n",
              "      <td>-0.637448</td>\n",
              "      <td>-0.637755</td>\n",
              "    </tr>\n",
              "    <tr>\n",
              "      <th>1997-05-16</th>\n",
              "      <td>-0.637792</td>\n",
              "      <td>-0.637987</td>\n",
              "      <td>-0.637986</td>\n",
              "    </tr>\n",
              "    <tr>\n",
              "      <th>1997-05-19</th>\n",
              "      <td>-0.638010</td>\n",
              "      <td>-0.638202</td>\n",
              "      <td>-0.638075</td>\n",
              "    </tr>\n",
              "    <tr>\n",
              "      <th>1997-05-20</th>\n",
              "      <td>-0.638042</td>\n",
              "      <td>-0.638224</td>\n",
              "      <td>-0.638064</td>\n",
              "    </tr>\n",
              "    <tr>\n",
              "      <th>1997-05-21</th>\n",
              "      <td>-0.638141</td>\n",
              "      <td>-0.638331</td>\n",
              "      <td>-0.638340</td>\n",
              "    </tr>\n",
              "    <tr>\n",
              "      <th>...</th>\n",
              "      <td>...</td>\n",
              "      <td>...</td>\n",
              "      <td>...</td>\n",
              "    </tr>\n",
              "    <tr>\n",
              "      <th>2022-10-27</th>\n",
              "      <td>1.743699</td>\n",
              "      <td>1.720402</td>\n",
              "      <td>1.687035</td>\n",
              "    </tr>\n",
              "    <tr>\n",
              "      <th>2022-10-28</th>\n",
              "      <td>1.408721</td>\n",
              "      <td>1.510255</td>\n",
              "      <td>1.430335</td>\n",
              "    </tr>\n",
              "    <tr>\n",
              "      <th>2022-10-31</th>\n",
              "      <td>1.526936</td>\n",
              "      <td>1.529077</td>\n",
              "      <td>1.495623</td>\n",
              "    </tr>\n",
              "    <tr>\n",
              "      <th>2022-11-01</th>\n",
              "      <td>1.535933</td>\n",
              "      <td>1.523079</td>\n",
              "      <td>1.396419</td>\n",
              "    </tr>\n",
              "    <tr>\n",
              "      <th>2022-11-02</th>\n",
              "      <td>1.396377</td>\n",
              "      <td>1.381602</td>\n",
              "      <td>1.310570</td>\n",
              "    </tr>\n",
              "  </tbody>\n",
              "</table>\n",
              "<p>6411 rows × 3 columns</p>\n",
              "</div>\n",
              "      <button class=\"colab-df-convert\" onclick=\"convertToInteractive('df-9cf5a256-5c4a-4278-89e4-b8812d63b86f')\"\n",
              "              title=\"Convert this dataframe to an interactive table.\"\n",
              "              style=\"display:none;\">\n",
              "        \n",
              "  <svg xmlns=\"http://www.w3.org/2000/svg\" height=\"24px\"viewBox=\"0 0 24 24\"\n",
              "       width=\"24px\">\n",
              "    <path d=\"M0 0h24v24H0V0z\" fill=\"none\"/>\n",
              "    <path d=\"M18.56 5.44l.94 2.06.94-2.06 2.06-.94-2.06-.94-.94-2.06-.94 2.06-2.06.94zm-11 1L8.5 8.5l.94-2.06 2.06-.94-2.06-.94L8.5 2.5l-.94 2.06-2.06.94zm10 10l.94 2.06.94-2.06 2.06-.94-2.06-.94-.94-2.06-.94 2.06-2.06.94z\"/><path d=\"M17.41 7.96l-1.37-1.37c-.4-.4-.92-.59-1.43-.59-.52 0-1.04.2-1.43.59L10.3 9.45l-7.72 7.72c-.78.78-.78 2.05 0 2.83L4 21.41c.39.39.9.59 1.41.59.51 0 1.02-.2 1.41-.59l7.78-7.78 2.81-2.81c.8-.78.8-2.07 0-2.86zM5.41 20L4 18.59l7.72-7.72 1.47 1.35L5.41 20z\"/>\n",
              "  </svg>\n",
              "      </button>\n",
              "      \n",
              "  <style>\n",
              "    .colab-df-container {\n",
              "      display:flex;\n",
              "      flex-wrap:wrap;\n",
              "      gap: 12px;\n",
              "    }\n",
              "\n",
              "    .colab-df-convert {\n",
              "      background-color: #E8F0FE;\n",
              "      border: none;\n",
              "      border-radius: 50%;\n",
              "      cursor: pointer;\n",
              "      display: none;\n",
              "      fill: #1967D2;\n",
              "      height: 32px;\n",
              "      padding: 0 0 0 0;\n",
              "      width: 32px;\n",
              "    }\n",
              "\n",
              "    .colab-df-convert:hover {\n",
              "      background-color: #E2EBFA;\n",
              "      box-shadow: 0px 1px 2px rgba(60, 64, 67, 0.3), 0px 1px 3px 1px rgba(60, 64, 67, 0.15);\n",
              "      fill: #174EA6;\n",
              "    }\n",
              "\n",
              "    [theme=dark] .colab-df-convert {\n",
              "      background-color: #3B4455;\n",
              "      fill: #D2E3FC;\n",
              "    }\n",
              "\n",
              "    [theme=dark] .colab-df-convert:hover {\n",
              "      background-color: #434B5C;\n",
              "      box-shadow: 0px 1px 3px 1px rgba(0, 0, 0, 0.15);\n",
              "      filter: drop-shadow(0px 1px 2px rgba(0, 0, 0, 0.3));\n",
              "      fill: #FFFFFF;\n",
              "    }\n",
              "  </style>\n",
              "\n",
              "      <script>\n",
              "        const buttonEl =\n",
              "          document.querySelector('#df-9cf5a256-5c4a-4278-89e4-b8812d63b86f button.colab-df-convert');\n",
              "        buttonEl.style.display =\n",
              "          google.colab.kernel.accessAllowed ? 'block' : 'none';\n",
              "\n",
              "        async function convertToInteractive(key) {\n",
              "          const element = document.querySelector('#df-9cf5a256-5c4a-4278-89e4-b8812d63b86f');\n",
              "          const dataTable =\n",
              "            await google.colab.kernel.invokeFunction('convertToInteractive',\n",
              "                                                     [key], {});\n",
              "          if (!dataTable) return;\n",
              "\n",
              "          const docLinkHtml = 'Like what you see? Visit the ' +\n",
              "            '<a target=\"_blank\" href=https://colab.research.google.com/notebooks/data_table.ipynb>data table notebook</a>'\n",
              "            + ' to learn more about interactive tables.';\n",
              "          element.innerHTML = '';\n",
              "          dataTable['output_type'] = 'display_data';\n",
              "          await google.colab.output.renderOutput(dataTable, element);\n",
              "          const docLink = document.createElement('div');\n",
              "          docLink.innerHTML = docLinkHtml;\n",
              "          element.appendChild(docLink);\n",
              "        }\n",
              "      </script>\n",
              "    </div>\n",
              "  </div>\n",
              "  "
            ],
            "text/plain": [
              "                Open      High       Low\n",
              "Date                                    \n",
              "1997-05-15 -0.637301 -0.637448 -0.637755\n",
              "1997-05-16 -0.637792 -0.637987 -0.637986\n",
              "1997-05-19 -0.638010 -0.638202 -0.638075\n",
              "1997-05-20 -0.638042 -0.638224 -0.638064\n",
              "1997-05-21 -0.638141 -0.638331 -0.638340\n",
              "...              ...       ...       ...\n",
              "2022-10-27  1.743699  1.720402  1.687035\n",
              "2022-10-28  1.408721  1.510255  1.430335\n",
              "2022-10-31  1.526936  1.529077  1.495623\n",
              "2022-11-01  1.535933  1.523079  1.396419\n",
              "2022-11-02  1.396377  1.381602  1.310570\n",
              "\n",
              "[6411 rows x 3 columns]"
            ]
          },
          "execution_count": 56,
          "metadata": {},
          "output_type": "execute_result"
        }
      ],
      "source": [
        "# feature scaling\n",
        "standard_scaler = StandardScaler()\n",
        "x_scaled = standard_scaler.fit_transform(X_features)\n",
        "x_df = pd.DataFrame(columns=X_features.columns, data = x_scaled, index = X_features.index)\n",
        "x_df"
      ]
    },
    {
      "cell_type": "code",
      "execution_count": null,
      "metadata": {
        "id": "i6EZFdBT6Es6"
      },
      "outputs": [],
      "source": [
        "\n",
        "# def split_data(stock, lookback):\n",
        "#     data_raw = stock.to_numpy() # convert to numpy array\n",
        "#     data = []\n",
        "    \n",
        "#     # create all possible sequences of length seq_len\n",
        "#     for index in range(len(data_raw) - lookback): \n",
        "#         data.append(data_raw[index: index + lookback])\n",
        "    \n",
        "#     data = np.array(data);\n",
        "#     test_set_size = int(np.round(0.2*data.shape[0]));\n",
        "#     train_set_size = data.shape[0] - (test_set_size);\n",
        "    \n",
        "#     x_train = data[:train_set_size,:-1,:]\n",
        "#     y_train = data[:train_set_size,-1,:]\n",
        "    \n",
        "#     x_test = data[train_set_size:,:-1]\n",
        "#     y_test = data[train_set_size:,-1,:]\n",
        "    \n",
        "#     return [x_train, y_train, x_test, y_test]\n",
        "\n",
        "# lookback = 20 # choose sequence length\n",
        "# x_train, y_train, x_test, y_test = split_data(price, lookback)"
      ]
    },
    {
      "cell_type": "code",
      "execution_count": 57,
      "metadata": {
        "id": "6G-15PqHM0y9"
      },
      "outputs": [],
      "source": [
        "def split_data_into_steps(data_to_split, steps):\n",
        "    X = []\n",
        "    y = []\n",
        "    for i in range(len(data_to_split) - steps + 1):\n",
        "        X.append(data_to_split[i:i + steps, :-1])\n",
        "        y.append(data_to_split[i + steps - 1, -1])\n",
        "\n",
        "    return np.array(X), np.array(y)"
      ]
    },
    {
      "cell_type": "code",
      "execution_count": 58,
      "metadata": {
        "id": "vQT9ruXdNt7B"
      },
      "outputs": [],
      "source": [
        "def split_data_into_train_test(X, y, split_size, date_index):\n",
        "    split_idx = int(np.ceil(len(X) * split_size))\n",
        "    \n",
        "    X_train = X[:split_idx]\n",
        "    X_test = X[split_idx:]\n",
        "    y_train = y[:split_idx].reshape(-1,1)\n",
        "    y_test = y[split_idx:].reshape(-1,1)\n",
        "\n",
        "    X_train_date = date_index[:split_idx]\n",
        "    X_test_date = date_index[split_idx:]\n",
        "\n",
        "    return X_train, X_test, y_train, y_test, X_train_date, X_test_date"
      ]
    },
    {
      "cell_type": "code",
      "execution_count": 59,
      "metadata": {
        "colab": {
          "base_uri": "https://localhost:8080/"
        },
        "id": "cnaN7WAFOzxf",
        "outputId": "727d33fd-f26a-4674-9d9c-4994c62f37a4"
      },
      "outputs": [
        {
          "name": "stdout",
          "output_type": "stream",
          "text": [
            "X.shape  (6410, 2, 5)\n",
            "X_train.shape  (5128, 2, 5)\n",
            "X_test.shape  (1282, 2, 5)\n",
            "y_train.shape  (5128, 1)\n",
            "y_test.shape  (1282, 1)\n"
          ]
        }
      ],
      "source": [
        "X,y = split_data_into_steps(data.values, 2)\n",
        "X_train, X_test, y_train, y_test, X_train_date, X_test_date = split_data_into_train_test(X, y, 0.8, data.index)\n",
        "print('X.shape ', X.shape)\n",
        "print('X_train.shape ', X_train.shape)\n",
        "print('X_test.shape ', X_test.shape)\n",
        "print('y_train.shape ', y_train.shape)\n",
        "print('y_test.shape ', y_test.shape)"
      ]
    },
    {
      "cell_type": "code",
      "execution_count": 60,
      "metadata": {
        "id": "wDxf2jgE6Ccz"
      },
      "outputs": [],
      "source": [
        "\n",
        "x_train = torch.from_numpy(X_train).type(torch.Tensor)\n",
        "x_test = torch.from_numpy(X_test).type(torch.Tensor)\n",
        "y_train_lstm = torch.from_numpy(y_train).type(torch.Tensor)\n",
        "y_test_lstm = torch.from_numpy(y_test).type(torch.Tensor)\n",
        "y_train_gru = torch.from_numpy(y_train).type(torch.Tensor)\n",
        "y_test_gru = torch.from_numpy(y_test).type(torch.Tensor)"
      ]
    },
    {
      "cell_type": "code",
      "execution_count": 61,
      "metadata": {
        "colab": {
          "base_uri": "https://localhost:8080/"
        },
        "id": "g9GSX1uLVdIe",
        "outputId": "b718492e-5535-4504-ee51-554c32a6d900"
      },
      "outputs": [
        {
          "name": "stdout",
          "output_type": "stream",
          "text": [
            "torch.Size([5128, 2, 5])\n"
          ]
        }
      ],
      "source": [
        "print(x_train.shape)\n",
        "# print(x_train)"
      ]
    },
    {
      "cell_type": "code",
      "execution_count": 62,
      "metadata": {
        "id": "X-ACUnDF6HnS"
      },
      "outputs": [],
      "source": [
        "def train_network(num_epochs, model, criterion, optimiser, x_train, y_train):\n",
        "    hist = np.zeros(num_epochs)\n",
        "    start_time = time.time()\n",
        "    lstm = []\n",
        "    for t in range(num_epochs):\n",
        "        y_train_pred = model(x_train)\n",
        "        loss = criterion(y_train_pred, y_train)\n",
        "        print(\"Epoch \", t, \"MSE: \", loss.item())\n",
        "        hist[t] = loss.item()\n",
        "        optimiser.zero_grad()\n",
        "        loss.backward()\n",
        "        optimiser.step()\n",
        "        \n",
        "    training_time = time.time()-start_time\n",
        "    print(\"Training time: {}\".format(training_time))"
      ]
    },
    {
      "cell_type": "code",
      "execution_count": 63,
      "metadata": {
        "id": "hLWeQqNc6IMV"
      },
      "outputs": [],
      "source": [
        "class LSTM(nn.Module):\n",
        "    def __init__(self, input_dim, hidden_dim, num_layers, output_dim):\n",
        "        super(LSTM, self).__init__()\n",
        "        self.hidden_dim = hidden_dim\n",
        "        self.num_layers = num_layers\n",
        "        \n",
        "        self.lstm = nn.LSTM(input_dim, hidden_dim, num_layers, batch_first=True)\n",
        "        self.fc = nn.Linear(hidden_dim, output_dim)\n",
        "        \n",
        "    def forward(self, x):\n",
        "        h0 = torch.zeros(self.num_layers, x.size(0), self.hidden_dim).requires_grad_()\n",
        "        c0 = torch.zeros(self.num_layers, x.size(0), self.hidden_dim).requires_grad_()\n",
        "        out, (hn, cn) = self.lstm(x, (h0.detach(), c0.detach()))\n",
        "        print('out shape ', out.shape)\n",
        "        out = self.fc(out[:, -1, :]) \n",
        "        return out"
      ]
    },
    {
      "cell_type": "code",
      "execution_count": 64,
      "metadata": {
        "colab": {
          "base_uri": "https://localhost:8080/"
        },
        "id": "3YTTXJej6KQY",
        "outputId": "446a7a07-cfc0-41c3-da32-92e683c8cdf3"
      },
      "outputs": [
        {
          "name": "stdout",
          "output_type": "stream",
          "text": [
            "input_dim  5\n",
            "out shape  torch.Size([5128, 2, 32])\n",
            "Epoch  0 MSE:  4.797798015198822e+16\n",
            "out shape  torch.Size([5128, 2, 32])\n",
            "Epoch  1 MSE:  4.797798015198822e+16\n",
            "out shape  torch.Size([5128, 2, 32])\n",
            "Epoch  2 MSE:  4.797798015198822e+16\n",
            "out shape  torch.Size([5128, 2, 32])\n",
            "Epoch  3 MSE:  4.797798015198822e+16\n",
            "out shape  torch.Size([5128, 2, 32])\n",
            "Epoch  4 MSE:  4.797798015198822e+16\n",
            "out shape  torch.Size([5128, 2, 32])\n",
            "Epoch  5 MSE:  4.797798015198822e+16\n",
            "out shape  torch.Size([5128, 2, 32])\n",
            "Epoch  6 MSE:  4.797798015198822e+16\n",
            "out shape  torch.Size([5128, 2, 32])\n",
            "Epoch  7 MSE:  4.797798015198822e+16\n",
            "out shape  torch.Size([5128, 2, 32])\n",
            "Epoch  8 MSE:  4.797798015198822e+16\n",
            "out shape  torch.Size([5128, 2, 32])\n",
            "Epoch  9 MSE:  4.797798015198822e+16\n",
            "Training time: 1.4847781658172607\n"
          ]
        }
      ],
      "source": [
        "input_dim = X_train.shape[2]\n",
        "print('input_dim ', input_dim)\n",
        "hidden_dim = 32\n",
        "num_layers = 2\n",
        "output_dim = 1\n",
        "num_epochs = 10\n",
        "model_lstm = LSTM(input_dim=input_dim, hidden_dim=hidden_dim, output_dim=output_dim, num_layers=num_layers)\n",
        "criterion = torch.nn.MSELoss(reduction='mean')\n",
        "optimiser = torch.optim.Adam(model_lstm.parameters(), lr=0.01)\n",
        "train_network(num_epochs, model_lstm, criterion, optimiser, x_train, y_train_lstm)"
      ]
    },
    {
      "cell_type": "code",
      "execution_count": 65,
      "metadata": {
        "id": "mSupmE4M6Sqo"
      },
      "outputs": [],
      "source": [
        "class GRU(nn.Module):\n",
        "    def __init__(self, input_dim, hidden_dim, num_layers, output_dim):\n",
        "        super(GRU, self).__init__()\n",
        "        self.hidden_dim = hidden_dim\n",
        "        self.num_layers = num_layers\n",
        "        \n",
        "        self.gru = nn.GRU(input_dim, hidden_dim, num_layers, batch_first=True)\n",
        "        self.fc = nn.Linear(hidden_dim, output_dim)\n",
        "\n",
        "    def forward(self, x):\n",
        "        h0 = torch.zeros(self.num_layers, x.size(0), self.hidden_dim).requires_grad_()\n",
        "        out, (hn) = self.gru(x, (h0.detach()))\n",
        "        out = self.fc(out[:, -1, :]) \n",
        "        return out"
      ]
    },
    {
      "cell_type": "code",
      "execution_count": 66,
      "metadata": {
        "colab": {
          "base_uri": "https://localhost:8080/"
        },
        "id": "M3KJq_ql6UH3",
        "outputId": "8ecabce8-9854-4d79-bd07-37207679a8c4"
      },
      "outputs": [
        {
          "name": "stdout",
          "output_type": "stream",
          "text": [
            "Epoch  0 MSE:  4.797798015198822e+16\n",
            "Epoch  1 MSE:  4.797798015198822e+16\n",
            "Epoch  2 MSE:  4.797798015198822e+16\n",
            "Epoch  3 MSE:  4.797798015198822e+16\n",
            "Epoch  4 MSE:  4.797798015198822e+16\n",
            "Epoch  5 MSE:  4.797798015198822e+16\n",
            "Epoch  6 MSE:  4.797798015198822e+16\n",
            "Epoch  7 MSE:  4.797798015198822e+16\n",
            "Epoch  8 MSE:  4.797798015198822e+16\n",
            "Epoch  9 MSE:  4.797798015198822e+16\n",
            "Training time: 1.0876405239105225\n"
          ]
        }
      ],
      "source": [
        "model_gru = GRU(input_dim=input_dim, hidden_dim=hidden_dim, output_dim=output_dim, num_layers=num_layers)\n",
        "criterion = torch.nn.MSELoss(reduction='mean')\n",
        "optimiser = torch.optim.Adam(model_gru.parameters(), lr=0.01)\n",
        "train_network(num_epochs, model_gru, criterion, optimiser, x_train, y_train_gru)"
      ]
    }
  ],
  "metadata": {
    "colab": {
      "provenance": []
    },
    "gpuClass": "standard",
    "kernelspec": {
      "display_name": "Python 3.9.13 ('base')",
      "language": "python",
      "name": "python3"
    },
    "language_info": {
      "codemirror_mode": {
        "name": "ipython",
        "version": 3
      },
      "file_extension": ".py",
      "mimetype": "text/x-python",
      "name": "python",
      "nbconvert_exporter": "python",
      "pygments_lexer": "ipython3",
      "version": "3.9.13"
    },
    "orig_nbformat": 4,
    "vscode": {
      "interpreter": {
        "hash": "f325c54b0304b2d332854b9ccde273698daf7b747e7f009c8e2d3985eba02cbd"
      }
    }
  },
  "nbformat": 4,
  "nbformat_minor": 0
}
