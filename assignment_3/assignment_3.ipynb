{
  "cells": [
    {
      "cell_type": "markdown",
      "metadata": {
        "id": "Iw3TQvyH5hDH"
      },
      "source": [
        "Deep Learning Assignment 3 "
      ]
    },
    {
      "cell_type": "markdown",
      "source": [
        "References:\n",
        "Code source 1: https://medium.com/swlh/stock-price-prediction-with-pytorch-37f52ae84632\n",
        "\n",
        "Code source 2 (TODO: find how to get predictions accuracy): https://www.kaggle.com/code/taronzakaryan/predicting-stock-price-using-lstm-model-pytorch\n"
      ],
      "metadata": {
        "id": "gnhfWVlX72Zq"
      }
    },
    {
      "cell_type": "code",
      "source": [
        "pip install yfinance"
      ],
      "metadata": {
        "id": "sc6hAorGW3aU",
        "colab": {
          "base_uri": "https://localhost:8080/"
        },
        "outputId": "2d3d7916-b337-43c6-8a8e-9b1c76fc3ca4"
      },
      "execution_count": 1,
      "outputs": [
        {
          "output_type": "stream",
          "name": "stdout",
          "text": [
            "Looking in indexes: https://pypi.org/simple, https://us-python.pkg.dev/colab-wheels/public/simple/\n",
            "Collecting yfinance\n",
            "  Downloading yfinance-0.1.85-py2.py3-none-any.whl (29 kB)\n",
            "Requirement already satisfied: numpy>=1.15 in /usr/local/lib/python3.7/dist-packages (from yfinance) (1.21.6)\n",
            "Requirement already satisfied: pandas>=0.24.0 in /usr/local/lib/python3.7/dist-packages (from yfinance) (1.3.5)\n",
            "Collecting requests>=2.26\n",
            "  Downloading requests-2.28.1-py3-none-any.whl (62 kB)\n",
            "\u001b[K     |████████████████████████████████| 62 kB 1.5 MB/s \n",
            "\u001b[?25hRequirement already satisfied: multitasking>=0.0.7 in /usr/local/lib/python3.7/dist-packages (from yfinance) (0.0.11)\n",
            "Requirement already satisfied: appdirs>=1.4.4 in /usr/local/lib/python3.7/dist-packages (from yfinance) (1.4.4)\n",
            "Requirement already satisfied: lxml>=4.5.1 in /usr/local/lib/python3.7/dist-packages (from yfinance) (4.9.1)\n",
            "Requirement already satisfied: pytz>=2017.3 in /usr/local/lib/python3.7/dist-packages (from pandas>=0.24.0->yfinance) (2022.6)\n",
            "Requirement already satisfied: python-dateutil>=2.7.3 in /usr/local/lib/python3.7/dist-packages (from pandas>=0.24.0->yfinance) (2.8.2)\n",
            "Requirement already satisfied: six>=1.5 in /usr/local/lib/python3.7/dist-packages (from python-dateutil>=2.7.3->pandas>=0.24.0->yfinance) (1.15.0)\n",
            "Requirement already satisfied: idna<4,>=2.5 in /usr/local/lib/python3.7/dist-packages (from requests>=2.26->yfinance) (2.10)\n",
            "Requirement already satisfied: urllib3<1.27,>=1.21.1 in /usr/local/lib/python3.7/dist-packages (from requests>=2.26->yfinance) (1.24.3)\n",
            "Requirement already satisfied: certifi>=2017.4.17 in /usr/local/lib/python3.7/dist-packages (from requests>=2.26->yfinance) (2022.9.24)\n",
            "Requirement already satisfied: charset-normalizer<3,>=2 in /usr/local/lib/python3.7/dist-packages (from requests>=2.26->yfinance) (2.1.1)\n",
            "Installing collected packages: requests, yfinance\n",
            "  Attempting uninstall: requests\n",
            "    Found existing installation: requests 2.23.0\n",
            "    Uninstalling requests-2.23.0:\n",
            "      Successfully uninstalled requests-2.23.0\n",
            "Successfully installed requests-2.28.1 yfinance-0.1.85\n"
          ]
        }
      ]
    },
    {
      "cell_type": "code",
      "source": [
        "import time\n",
        "import pandas as pd\n",
        "from sklearn.preprocessing import MinMaxScaler, StandardScaler\n",
        "import numpy as np\n",
        "import torch\n",
        "import torch.nn as nn\n",
        "import os\n",
        "import yfinance as yf\n",
        "import os, contextlib\n",
        "import matplotlib.dates as mdates\n",
        "import matplotlib.pyplot as plt\n",
        "import datetime as dt"
      ],
      "metadata": {
        "id": "8qCLzYOB9nNJ"
      },
      "execution_count": 2,
      "outputs": []
    },
    {
      "cell_type": "code",
      "source": [
        "# from google.colab import drive\n",
        "# drive.mount('/content/drive')\n",
        "\n",
        "# folder_path = '/content/drive/MyDrive/deep_learning/'\n",
        "# print(os.listdir(folder_path))\n",
        "\n",
        "# hist_dir = folder_path + 'hist'\n",
        "\n",
        "# if not os.path.exists(hist_dir):\n",
        "#     print('dir not exists so creating one')\n",
        "#     os.mkdir(hist_dir)\n",
        "# else:\n",
        "#     print('directory exists ', hist_dir)\n"
      ],
      "metadata": {
        "id": "zSPYdwkCSO-g"
      },
      "execution_count": 3,
      "outputs": []
    },
    {
      "cell_type": "code",
      "source": [
        "# configs\n",
        "offset = 0\n",
        "limit = 3000\n",
        "period = 'max' # valid periods: 1d,5d,1mo,3mo,6mo,1y,2y,5y,10y,ytd,max\n",
        "\n",
        "# download all NASDAQ traded symbols\n",
        "\n",
        "# data = pd.read_csv(\"http://www.nasdaqtrader.com/dynamic/SymDir/nasdaqtraded.txt\", sep='|')\n",
        "# data_clean = data[data['Test Issue'] == 'N']\n",
        "# symbols = data_clean['NASDAQ Symbol'].tolist()\n",
        "# print('total number of symbols traded = {}'.format(len(symbols)))\n",
        "\n"
      ],
      "metadata": {
        "id": "vs-KI65zhAGJ"
      },
      "execution_count": 3,
      "outputs": []
    },
    {
      "cell_type": "code",
      "source": [
        "symbols = ['AAPL','AMZN','META']"
      ],
      "metadata": {
        "id": "vBi_WEiZi5Re"
      },
      "execution_count": 4,
      "outputs": []
    },
    {
      "cell_type": "code",
      "source": [
        "print(symbols)"
      ],
      "metadata": {
        "colab": {
          "base_uri": "https://localhost:8080/"
        },
        "id": "b7baqyH1ifJt",
        "outputId": "d48f5ce0-b33c-4fc2-8bc7-ae966a3e1894"
      },
      "execution_count": 5,
      "outputs": [
        {
          "output_type": "stream",
          "name": "stdout",
          "text": [
            "['AAPL', 'AMZN', 'META']\n"
          ]
        }
      ]
    },
    {
      "cell_type": "code",
      "source": [
        "limit = limit if limit else len(symbols)\n",
        "end = min(offset + limit, len(symbols))\n",
        "is_valid = [False] * len(symbols)\n",
        "# force silencing of verbose API\n",
        "with open(os.devnull, 'w') as devnull:\n",
        "    with contextlib.redirect_stdout(devnull):\n",
        "        for i in range(offset, end):\n",
        "            s = symbols[i]\n",
        "            data = yf.download(s, period=period)\n",
        "            if len(data.index) == 0:\n",
        "                continue\n",
        "        \n",
        "            is_valid[i] = True\n",
        "            file_name = s + \".csv\"\n",
        "            # download_path = os.path.join(root_dir,file_name)\n",
        "            data.to_csv(file_name)\n",
        "\n",
        "print('Total number of valid symbols downloaded = {}'.format(sum(is_valid)))"
      ],
      "metadata": {
        "colab": {
          "base_uri": "https://localhost:8080/"
        },
        "id": "xzKgq2vVXMYO",
        "outputId": "5ab89844-e1da-45d5-dcdd-f054d3020e74"
      },
      "execution_count": 6,
      "outputs": [
        {
          "output_type": "stream",
          "name": "stdout",
          "text": [
            "Total number of valid symbols downloaded = 3\n"
          ]
        }
      ]
    },
    {
      "cell_type": "code",
      "source": [
        "# valid_data = data_clean[is_valid]\n",
        "# valid_data.to_csv('symbols_valid_meta.csv', index=False)\n",
        "\n"
      ],
      "metadata": {
        "id": "gVvb01YuXVns"
      },
      "execution_count": 8,
      "outputs": []
    },
    {
      "cell_type": "code",
      "source": [
        "# !mkdir stocks\n",
        "# !mkdir etfs"
      ],
      "metadata": {
        "id": "Gk0QTjZCXp2D"
      },
      "execution_count": 9,
      "outputs": []
    },
    {
      "cell_type": "code",
      "source": [
        "# etfs = valid_data[valid_data['ETF'] == 'Y']['NASDAQ Symbol'].tolist()\n",
        "# stocks = valid_data[valid_data['ETF'] == 'N']['NASDAQ Symbol'].tolist()"
      ],
      "metadata": {
        "id": "DVVtjynkXq_A"
      },
      "execution_count": 10,
      "outputs": []
    },
    {
      "cell_type": "code",
      "source": [
        "# import shutil\n",
        "# from os.path import isfile, join\n",
        "\n",
        "# def move_symbols(symbols, dest):\n",
        "#     for s in symbols:\n",
        "#         filename = '{}.csv'.format(s)\n",
        "#         shutil.move(join('hist', filename), join(dest, filename))\n",
        "        \n",
        "# move_symbols(etfs, \"etfs\")\n",
        "# move_symbols(stocks, \"stocks\")"
      ],
      "metadata": {
        "id": "pYMo-mEGX1Nh"
      },
      "execution_count": 11,
      "outputs": []
    },
    {
      "cell_type": "code",
      "source": [
        "\n",
        "data = pd.read_csv('AMZN.csv', index_col='Date')\n",
        "data"
      ],
      "metadata": {
        "colab": {
          "base_uri": "https://localhost:8080/",
          "height": 455
        },
        "id": "9LoEOTVB6Y9o",
        "outputId": "be67ed14-d99c-4c30-a051-4fbfebf350b1"
      },
      "execution_count": 7,
      "outputs": [
        {
          "output_type": "execute_result",
          "data": {
            "text/plain": [
              "                 Open        High        Low       Close   Adj Close  \\\n",
              "Date                                                                   \n",
              "1997-05-15   0.121875    0.125000   0.096354    0.097917    0.097917   \n",
              "1997-05-16   0.098438    0.098958   0.085417    0.086458    0.086458   \n",
              "1997-05-19   0.088021    0.088542   0.081250    0.085417    0.085417   \n",
              "1997-05-20   0.086458    0.087500   0.081771    0.081771    0.081771   \n",
              "1997-05-21   0.081771    0.082292   0.068750    0.071354    0.071354   \n",
              "...               ...         ...        ...         ...         ...   \n",
              "2022-11-07  91.949997   92.099998  89.040001   90.529999   90.529999   \n",
              "2022-11-08  90.790001   91.720001  88.230003   89.980003   89.980003   \n",
              "2022-11-09  89.470001   89.480003  85.870003   86.139999   86.139999   \n",
              "2022-11-10  92.940002   98.690002  91.650002   96.629997   96.629997   \n",
              "2022-11-11  97.879997  101.190002  96.660004  100.790001  100.790001   \n",
              "\n",
              "                Volume  \n",
              "Date                    \n",
              "1997-05-15  1443120000  \n",
              "1997-05-16   294000000  \n",
              "1997-05-19   122136000  \n",
              "1997-05-20   109344000  \n",
              "1997-05-21   377064000  \n",
              "...                ...  \n",
              "2022-11-07    77495700  \n",
              "2022-11-08    88703400  \n",
              "2022-11-09    90796200  \n",
              "2022-11-10   173414900  \n",
              "2022-11-11   111481700  \n",
              "\n",
              "[6418 rows x 6 columns]"
            ],
            "text/html": [
              "\n",
              "  <div id=\"df-acc5f74f-127d-4a80-8f26-a7720d5e2eb6\">\n",
              "    <div class=\"colab-df-container\">\n",
              "      <div>\n",
              "<style scoped>\n",
              "    .dataframe tbody tr th:only-of-type {\n",
              "        vertical-align: middle;\n",
              "    }\n",
              "\n",
              "    .dataframe tbody tr th {\n",
              "        vertical-align: top;\n",
              "    }\n",
              "\n",
              "    .dataframe thead th {\n",
              "        text-align: right;\n",
              "    }\n",
              "</style>\n",
              "<table border=\"1\" class=\"dataframe\">\n",
              "  <thead>\n",
              "    <tr style=\"text-align: right;\">\n",
              "      <th></th>\n",
              "      <th>Open</th>\n",
              "      <th>High</th>\n",
              "      <th>Low</th>\n",
              "      <th>Close</th>\n",
              "      <th>Adj Close</th>\n",
              "      <th>Volume</th>\n",
              "    </tr>\n",
              "    <tr>\n",
              "      <th>Date</th>\n",
              "      <th></th>\n",
              "      <th></th>\n",
              "      <th></th>\n",
              "      <th></th>\n",
              "      <th></th>\n",
              "      <th></th>\n",
              "    </tr>\n",
              "  </thead>\n",
              "  <tbody>\n",
              "    <tr>\n",
              "      <th>1997-05-15</th>\n",
              "      <td>0.121875</td>\n",
              "      <td>0.125000</td>\n",
              "      <td>0.096354</td>\n",
              "      <td>0.097917</td>\n",
              "      <td>0.097917</td>\n",
              "      <td>1443120000</td>\n",
              "    </tr>\n",
              "    <tr>\n",
              "      <th>1997-05-16</th>\n",
              "      <td>0.098438</td>\n",
              "      <td>0.098958</td>\n",
              "      <td>0.085417</td>\n",
              "      <td>0.086458</td>\n",
              "      <td>0.086458</td>\n",
              "      <td>294000000</td>\n",
              "    </tr>\n",
              "    <tr>\n",
              "      <th>1997-05-19</th>\n",
              "      <td>0.088021</td>\n",
              "      <td>0.088542</td>\n",
              "      <td>0.081250</td>\n",
              "      <td>0.085417</td>\n",
              "      <td>0.085417</td>\n",
              "      <td>122136000</td>\n",
              "    </tr>\n",
              "    <tr>\n",
              "      <th>1997-05-20</th>\n",
              "      <td>0.086458</td>\n",
              "      <td>0.087500</td>\n",
              "      <td>0.081771</td>\n",
              "      <td>0.081771</td>\n",
              "      <td>0.081771</td>\n",
              "      <td>109344000</td>\n",
              "    </tr>\n",
              "    <tr>\n",
              "      <th>1997-05-21</th>\n",
              "      <td>0.081771</td>\n",
              "      <td>0.082292</td>\n",
              "      <td>0.068750</td>\n",
              "      <td>0.071354</td>\n",
              "      <td>0.071354</td>\n",
              "      <td>377064000</td>\n",
              "    </tr>\n",
              "    <tr>\n",
              "      <th>...</th>\n",
              "      <td>...</td>\n",
              "      <td>...</td>\n",
              "      <td>...</td>\n",
              "      <td>...</td>\n",
              "      <td>...</td>\n",
              "      <td>...</td>\n",
              "    </tr>\n",
              "    <tr>\n",
              "      <th>2022-11-07</th>\n",
              "      <td>91.949997</td>\n",
              "      <td>92.099998</td>\n",
              "      <td>89.040001</td>\n",
              "      <td>90.529999</td>\n",
              "      <td>90.529999</td>\n",
              "      <td>77495700</td>\n",
              "    </tr>\n",
              "    <tr>\n",
              "      <th>2022-11-08</th>\n",
              "      <td>90.790001</td>\n",
              "      <td>91.720001</td>\n",
              "      <td>88.230003</td>\n",
              "      <td>89.980003</td>\n",
              "      <td>89.980003</td>\n",
              "      <td>88703400</td>\n",
              "    </tr>\n",
              "    <tr>\n",
              "      <th>2022-11-09</th>\n",
              "      <td>89.470001</td>\n",
              "      <td>89.480003</td>\n",
              "      <td>85.870003</td>\n",
              "      <td>86.139999</td>\n",
              "      <td>86.139999</td>\n",
              "      <td>90796200</td>\n",
              "    </tr>\n",
              "    <tr>\n",
              "      <th>2022-11-10</th>\n",
              "      <td>92.940002</td>\n",
              "      <td>98.690002</td>\n",
              "      <td>91.650002</td>\n",
              "      <td>96.629997</td>\n",
              "      <td>96.629997</td>\n",
              "      <td>173414900</td>\n",
              "    </tr>\n",
              "    <tr>\n",
              "      <th>2022-11-11</th>\n",
              "      <td>97.879997</td>\n",
              "      <td>101.190002</td>\n",
              "      <td>96.660004</td>\n",
              "      <td>100.790001</td>\n",
              "      <td>100.790001</td>\n",
              "      <td>111481700</td>\n",
              "    </tr>\n",
              "  </tbody>\n",
              "</table>\n",
              "<p>6418 rows × 6 columns</p>\n",
              "</div>\n",
              "      <button class=\"colab-df-convert\" onclick=\"convertToInteractive('df-acc5f74f-127d-4a80-8f26-a7720d5e2eb6')\"\n",
              "              title=\"Convert this dataframe to an interactive table.\"\n",
              "              style=\"display:none;\">\n",
              "        \n",
              "  <svg xmlns=\"http://www.w3.org/2000/svg\" height=\"24px\"viewBox=\"0 0 24 24\"\n",
              "       width=\"24px\">\n",
              "    <path d=\"M0 0h24v24H0V0z\" fill=\"none\"/>\n",
              "    <path d=\"M18.56 5.44l.94 2.06.94-2.06 2.06-.94-2.06-.94-.94-2.06-.94 2.06-2.06.94zm-11 1L8.5 8.5l.94-2.06 2.06-.94-2.06-.94L8.5 2.5l-.94 2.06-2.06.94zm10 10l.94 2.06.94-2.06 2.06-.94-2.06-.94-.94-2.06-.94 2.06-2.06.94z\"/><path d=\"M17.41 7.96l-1.37-1.37c-.4-.4-.92-.59-1.43-.59-.52 0-1.04.2-1.43.59L10.3 9.45l-7.72 7.72c-.78.78-.78 2.05 0 2.83L4 21.41c.39.39.9.59 1.41.59.51 0 1.02-.2 1.41-.59l7.78-7.78 2.81-2.81c.8-.78.8-2.07 0-2.86zM5.41 20L4 18.59l7.72-7.72 1.47 1.35L5.41 20z\"/>\n",
              "  </svg>\n",
              "      </button>\n",
              "      \n",
              "  <style>\n",
              "    .colab-df-container {\n",
              "      display:flex;\n",
              "      flex-wrap:wrap;\n",
              "      gap: 12px;\n",
              "    }\n",
              "\n",
              "    .colab-df-convert {\n",
              "      background-color: #E8F0FE;\n",
              "      border: none;\n",
              "      border-radius: 50%;\n",
              "      cursor: pointer;\n",
              "      display: none;\n",
              "      fill: #1967D2;\n",
              "      height: 32px;\n",
              "      padding: 0 0 0 0;\n",
              "      width: 32px;\n",
              "    }\n",
              "\n",
              "    .colab-df-convert:hover {\n",
              "      background-color: #E2EBFA;\n",
              "      box-shadow: 0px 1px 2px rgba(60, 64, 67, 0.3), 0px 1px 3px 1px rgba(60, 64, 67, 0.15);\n",
              "      fill: #174EA6;\n",
              "    }\n",
              "\n",
              "    [theme=dark] .colab-df-convert {\n",
              "      background-color: #3B4455;\n",
              "      fill: #D2E3FC;\n",
              "    }\n",
              "\n",
              "    [theme=dark] .colab-df-convert:hover {\n",
              "      background-color: #434B5C;\n",
              "      box-shadow: 0px 1px 3px 1px rgba(0, 0, 0, 0.15);\n",
              "      filter: drop-shadow(0px 1px 2px rgba(0, 0, 0, 0.3));\n",
              "      fill: #FFFFFF;\n",
              "    }\n",
              "  </style>\n",
              "\n",
              "      <script>\n",
              "        const buttonEl =\n",
              "          document.querySelector('#df-acc5f74f-127d-4a80-8f26-a7720d5e2eb6 button.colab-df-convert');\n",
              "        buttonEl.style.display =\n",
              "          google.colab.kernel.accessAllowed ? 'block' : 'none';\n",
              "\n",
              "        async function convertToInteractive(key) {\n",
              "          const element = document.querySelector('#df-acc5f74f-127d-4a80-8f26-a7720d5e2eb6');\n",
              "          const dataTable =\n",
              "            await google.colab.kernel.invokeFunction('convertToInteractive',\n",
              "                                                     [key], {});\n",
              "          if (!dataTable) return;\n",
              "\n",
              "          const docLinkHtml = 'Like what you see? Visit the ' +\n",
              "            '<a target=\"_blank\" href=https://colab.research.google.com/notebooks/data_table.ipynb>data table notebook</a>'\n",
              "            + ' to learn more about interactive tables.';\n",
              "          element.innerHTML = '';\n",
              "          dataTable['output_type'] = 'display_data';\n",
              "          await google.colab.output.renderOutput(dataTable, element);\n",
              "          const docLink = document.createElement('div');\n",
              "          docLink.innerHTML = docLinkHtml;\n",
              "          element.appendChild(docLink);\n",
              "        }\n",
              "      </script>\n",
              "    </div>\n",
              "  </div>\n",
              "  "
            ]
          },
          "metadata": {},
          "execution_count": 7
        }
      ]
    },
    {
      "cell_type": "code",
      "source": [
        "plt.figure(figsize=(15,10))\n",
        "plt.gca().xaxis.set_major_formatter(mdates.DateFormatter('%Y-%m-%d'))\n",
        "plt.gca().xaxis.set_major_locator(mdates.DayLocator(interval=60))\n",
        "x_dates = [dt.datetime.strptime(d, '%Y-%m-%d').date() for d in data.index.values]\n",
        "\n",
        "plt.plot(x_dates, data['High'], label='High')\n",
        "plt.plot(x_dates, data['Low'], label='Low')\n",
        "plt.xlabel('Time scale')\n",
        "plt.ylabel('Price')\n",
        "plt.legend()\n",
        "plt.gcf().autofmt_xdate()\n",
        "plt.show()"
      ],
      "metadata": {
        "colab": {
          "base_uri": "https://localhost:8080/",
          "height": 536
        },
        "id": "XqYxV7xKJc-q",
        "outputId": "45d98357-ec15-40e7-f049-3f7a9c6c6f50"
      },
      "execution_count": 23,
      "outputs": [
        {
          "output_type": "display_data",
          "data": {
            "text/plain": [
              "<Figure size 1080x720 with 1 Axes>"
            ],
            "image/png": "[encoded data removed]"
          },
          "metadata": {
            "needs_background": "light"
          }
        }
      ]
    },
    {
      "cell_type": "code",
      "source": [
        "# X_features = data[['Open','High','Low']]\n",
        "# X_features"
      ],
      "metadata": {
        "id": "vyWaMUkVIVgJ"
      },
      "execution_count": 24,
      "outputs": []
    },
    {
      "cell_type": "code",
      "source": [
        "# y_labels = data[['Close']]\n",
        "# y_labels"
      ],
      "metadata": {
        "id": "zy0HdQ_jIgGB"
      },
      "execution_count": 25,
      "outputs": []
    },
    {
      "cell_type": "code",
      "source": [
        "# # feature scaling\n",
        "# standard_scaler = StandardScaler()\n",
        "# x_scaled = standard_scaler.fit_transform(X_features)\n",
        "# x_df = pd.DataFrame(columns=X_features.columns, data = x_scaled, index = X_features.index)\n",
        "# x_df"
      ],
      "metadata": {
        "colab": {
          "base_uri": "https://localhost:8080/",
          "height": 455
        },
        "id": "n5ZvDZO9LoJz",
        "outputId": "09be6edd-ae7f-481a-fd49-c39d046f3e6e"
      },
      "execution_count": 11,
      "outputs": [
        {
          "output_type": "execute_result",
          "data": {
            "text/plain": [
              "                Open      High       Low\n",
              "Date                                    \n",
              "1997-05-15 -0.638478 -0.638625 -0.638924\n",
              "1997-05-16 -0.638968 -0.639164 -0.639156\n",
              "1997-05-19 -0.639186 -0.639379 -0.639244\n",
              "1997-05-20 -0.639218 -0.639401 -0.639233\n",
              "1997-05-21 -0.639316 -0.639508 -0.639509\n",
              "...              ...       ...       ...\n",
              "2022-11-07  1.282136  1.263027  1.245829\n",
              "2022-11-08  1.257875  1.255170  1.228665\n",
              "2022-11-09  1.230267  1.208857  1.178655\n",
              "2022-11-10  1.302843  1.399280  1.301136\n",
              "2022-11-11  1.406164  1.450970  1.407300\n",
              "\n",
              "[6418 rows x 3 columns]"
            ],
            "text/html": [
              "\n",
              "  <div id=\"df-c69b3313-8b1c-45a2-9c41-e33e66965938\">\n",
              "    <div class=\"colab-df-container\">\n",
              "      <div>\n",
              "<style scoped>\n",
              "    .dataframe tbody tr th:only-of-type {\n",
              "        vertical-align: middle;\n",
              "    }\n",
              "\n",
              "    .dataframe tbody tr th {\n",
              "        vertical-align: top;\n",
              "    }\n",
              "\n",
              "    .dataframe thead th {\n",
              "        text-align: right;\n",
              "    }\n",
              "</style>\n",
              "<table border=\"1\" class=\"dataframe\">\n",
              "  <thead>\n",
              "    <tr style=\"text-align: right;\">\n",
              "      <th></th>\n",
              "      <th>Open</th>\n",
              "      <th>High</th>\n",
              "      <th>Low</th>\n",
              "    </tr>\n",
              "    <tr>\n",
              "      <th>Date</th>\n",
              "      <th></th>\n",
              "      <th></th>\n",
              "      <th></th>\n",
              "    </tr>\n",
              "  </thead>\n",
              "  <tbody>\n",
              "    <tr>\n",
              "      <th>1997-05-15</th>\n",
              "      <td>-0.638478</td>\n",
              "      <td>-0.638625</td>\n",
              "      <td>-0.638924</td>\n",
              "    </tr>\n",
              "    <tr>\n",
              "      <th>1997-05-16</th>\n",
              "      <td>-0.638968</td>\n",
              "      <td>-0.639164</td>\n",
              "      <td>-0.639156</td>\n",
              "    </tr>\n",
              "    <tr>\n",
              "      <th>1997-05-19</th>\n",
              "      <td>-0.639186</td>\n",
              "      <td>-0.639379</td>\n",
              "      <td>-0.639244</td>\n",
              "    </tr>\n",
              "    <tr>\n",
              "      <th>1997-05-20</th>\n",
              "      <td>-0.639218</td>\n",
              "      <td>-0.639401</td>\n",
              "      <td>-0.639233</td>\n",
              "    </tr>\n",
              "    <tr>\n",
              "      <th>1997-05-21</th>\n",
              "      <td>-0.639316</td>\n",
              "      <td>-0.639508</td>\n",
              "      <td>-0.639509</td>\n",
              "    </tr>\n",
              "    <tr>\n",
              "      <th>...</th>\n",
              "      <td>...</td>\n",
              "      <td>...</td>\n",
              "      <td>...</td>\n",
              "    </tr>\n",
              "    <tr>\n",
              "      <th>2022-11-07</th>\n",
              "      <td>1.282136</td>\n",
              "      <td>1.263027</td>\n",
              "      <td>1.245829</td>\n",
              "    </tr>\n",
              "    <tr>\n",
              "      <th>2022-11-08</th>\n",
              "      <td>1.257875</td>\n",
              "      <td>1.255170</td>\n",
              "      <td>1.228665</td>\n",
              "    </tr>\n",
              "    <tr>\n",
              "      <th>2022-11-09</th>\n",
              "      <td>1.230267</td>\n",
              "      <td>1.208857</td>\n",
              "      <td>1.178655</td>\n",
              "    </tr>\n",
              "    <tr>\n",
              "      <th>2022-11-10</th>\n",
              "      <td>1.302843</td>\n",
              "      <td>1.399280</td>\n",
              "      <td>1.301136</td>\n",
              "    </tr>\n",
              "    <tr>\n",
              "      <th>2022-11-11</th>\n",
              "      <td>1.406164</td>\n",
              "      <td>1.450970</td>\n",
              "      <td>1.407300</td>\n",
              "    </tr>\n",
              "  </tbody>\n",
              "</table>\n",
              "<p>6418 rows × 3 columns</p>\n",
              "</div>\n",
              "      <button class=\"colab-df-convert\" onclick=\"convertToInteractive('df-c69b3313-8b1c-45a2-9c41-e33e66965938')\"\n",
              "              title=\"Convert this dataframe to an interactive table.\"\n",
              "              style=\"display:none;\">\n",
              "        \n",
              "  <svg xmlns=\"http://www.w3.org/2000/svg\" height=\"24px\"viewBox=\"0 0 24 24\"\n",
              "       width=\"24px\">\n",
              "    <path d=\"M0 0h24v24H0V0z\" fill=\"none\"/>\n",
              "    <path d=\"M18.56 5.44l.94 2.06.94-2.06 2.06-.94-2.06-.94-.94-2.06-.94 2.06-2.06.94zm-11 1L8.5 8.5l.94-2.06 2.06-.94-2.06-.94L8.5 2.5l-.94 2.06-2.06.94zm10 10l.94 2.06.94-2.06 2.06-.94-2.06-.94-.94-2.06-.94 2.06-2.06.94z\"/><path d=\"M17.41 7.96l-1.37-1.37c-.4-.4-.92-.59-1.43-.59-.52 0-1.04.2-1.43.59L10.3 9.45l-7.72 7.72c-.78.78-.78 2.05 0 2.83L4 21.41c.39.39.9.59 1.41.59.51 0 1.02-.2 1.41-.59l7.78-7.78 2.81-2.81c.8-.78.8-2.07 0-2.86zM5.41 20L4 18.59l7.72-7.72 1.47 1.35L5.41 20z\"/>\n",
              "  </svg>\n",
              "      </button>\n",
              "      \n",
              "  <style>\n",
              "    .colab-df-container {\n",
              "      display:flex;\n",
              "      flex-wrap:wrap;\n",
              "      gap: 12px;\n",
              "    }\n",
              "\n",
              "    .colab-df-convert {\n",
              "      background-color: #E8F0FE;\n",
              "      border: none;\n",
              "      border-radius: 50%;\n",
              "      cursor: pointer;\n",
              "      display: none;\n",
              "      fill: #1967D2;\n",
              "      height: 32px;\n",
              "      padding: 0 0 0 0;\n",
              "      width: 32px;\n",
              "    }\n",
              "\n",
              "    .colab-df-convert:hover {\n",
              "      background-color: #E2EBFA;\n",
              "      box-shadow: 0px 1px 2px rgba(60, 64, 67, 0.3), 0px 1px 3px 1px rgba(60, 64, 67, 0.15);\n",
              "      fill: #174EA6;\n",
              "    }\n",
              "\n",
              "    [theme=dark] .colab-df-convert {\n",
              "      background-color: #3B4455;\n",
              "      fill: #D2E3FC;\n",
              "    }\n",
              "\n",
              "    [theme=dark] .colab-df-convert:hover {\n",
              "      background-color: #434B5C;\n",
              "      box-shadow: 0px 1px 3px 1px rgba(0, 0, 0, 0.15);\n",
              "      filter: drop-shadow(0px 1px 2px rgba(0, 0, 0, 0.3));\n",
              "      fill: #FFFFFF;\n",
              "    }\n",
              "  </style>\n",
              "\n",
              "      <script>\n",
              "        const buttonEl =\n",
              "          document.querySelector('#df-c69b3313-8b1c-45a2-9c41-e33e66965938 button.colab-df-convert');\n",
              "        buttonEl.style.display =\n",
              "          google.colab.kernel.accessAllowed ? 'block' : 'none';\n",
              "\n",
              "        async function convertToInteractive(key) {\n",
              "          const element = document.querySelector('#df-c69b3313-8b1c-45a2-9c41-e33e66965938');\n",
              "          const dataTable =\n",
              "            await google.colab.kernel.invokeFunction('convertToInteractive',\n",
              "                                                     [key], {});\n",
              "          if (!dataTable) return;\n",
              "\n",
              "          const docLinkHtml = 'Like what you see? Visit the ' +\n",
              "            '<a target=\"_blank\" href=https://colab.research.google.com/notebooks/data_table.ipynb>data table notebook</a>'\n",
              "            + ' to learn more about interactive tables.';\n",
              "          element.innerHTML = '';\n",
              "          dataTable['output_type'] = 'display_data';\n",
              "          await google.colab.output.renderOutput(dataTable, element);\n",
              "          const docLink = document.createElement('div');\n",
              "          docLink.innerHTML = docLinkHtml;\n",
              "          element.appendChild(docLink);\n",
              "        }\n",
              "      </script>\n",
              "    </div>\n",
              "  </div>\n",
              "  "
            ]
          },
          "metadata": {},
          "execution_count": 11
        }
      ]
    },
    {
      "cell_type": "code",
      "source": [
        "price = data[['Close']]\n",
        "price"
      ],
      "metadata": {
        "id": "SH4mHnXQ0TQi",
        "outputId": "be245a6d-2e2b-4ae8-cba1-8fd7e78896d7",
        "colab": {
          "base_uri": "https://localhost:8080/",
          "height": 455
        }
      },
      "execution_count": 35,
      "outputs": [
        {
          "output_type": "execute_result",
          "data": {
            "text/plain": [
              "                 Close\n",
              "Date                  \n",
              "1997-05-15    0.097917\n",
              "1997-05-16    0.086458\n",
              "1997-05-19    0.085417\n",
              "1997-05-20    0.081771\n",
              "1997-05-21    0.071354\n",
              "...                ...\n",
              "2022-11-07   90.529999\n",
              "2022-11-08   89.980003\n",
              "2022-11-09   86.139999\n",
              "2022-11-10   96.629997\n",
              "2022-11-11  100.790001\n",
              "\n",
              "[6418 rows x 1 columns]"
            ],
            "text/html": [
              "\n",
              "  <div id=\"df-6ca18079-892e-4eab-9746-ba2910a13f58\">\n",
              "    <div class=\"colab-df-container\">\n",
              "      <div>\n",
              "<style scoped>\n",
              "    .dataframe tbody tr th:only-of-type {\n",
              "        vertical-align: middle;\n",
              "    }\n",
              "\n",
              "    .dataframe tbody tr th {\n",
              "        vertical-align: top;\n",
              "    }\n",
              "\n",
              "    .dataframe thead th {\n",
              "        text-align: right;\n",
              "    }\n",
              "</style>\n",
              "<table border=\"1\" class=\"dataframe\">\n",
              "  <thead>\n",
              "    <tr style=\"text-align: right;\">\n",
              "      <th></th>\n",
              "      <th>Close</th>\n",
              "    </tr>\n",
              "    <tr>\n",
              "      <th>Date</th>\n",
              "      <th></th>\n",
              "    </tr>\n",
              "  </thead>\n",
              "  <tbody>\n",
              "    <tr>\n",
              "      <th>1997-05-15</th>\n",
              "      <td>0.097917</td>\n",
              "    </tr>\n",
              "    <tr>\n",
              "      <th>1997-05-16</th>\n",
              "      <td>0.086458</td>\n",
              "    </tr>\n",
              "    <tr>\n",
              "      <th>1997-05-19</th>\n",
              "      <td>0.085417</td>\n",
              "    </tr>\n",
              "    <tr>\n",
              "      <th>1997-05-20</th>\n",
              "      <td>0.081771</td>\n",
              "    </tr>\n",
              "    <tr>\n",
              "      <th>1997-05-21</th>\n",
              "      <td>0.071354</td>\n",
              "    </tr>\n",
              "    <tr>\n",
              "      <th>...</th>\n",
              "      <td>...</td>\n",
              "    </tr>\n",
              "    <tr>\n",
              "      <th>2022-11-07</th>\n",
              "      <td>90.529999</td>\n",
              "    </tr>\n",
              "    <tr>\n",
              "      <th>2022-11-08</th>\n",
              "      <td>89.980003</td>\n",
              "    </tr>\n",
              "    <tr>\n",
              "      <th>2022-11-09</th>\n",
              "      <td>86.139999</td>\n",
              "    </tr>\n",
              "    <tr>\n",
              "      <th>2022-11-10</th>\n",
              "      <td>96.629997</td>\n",
              "    </tr>\n",
              "    <tr>\n",
              "      <th>2022-11-11</th>\n",
              "      <td>100.790001</td>\n",
              "    </tr>\n",
              "  </tbody>\n",
              "</table>\n",
              "<p>6418 rows × 1 columns</p>\n",
              "</div>\n",
              "      <button class=\"colab-df-convert\" onclick=\"convertToInteractive('df-6ca18079-892e-4eab-9746-ba2910a13f58')\"\n",
              "              title=\"Convert this dataframe to an interactive table.\"\n",
              "              style=\"display:none;\">\n",
              "        \n",
              "  <svg xmlns=\"http://www.w3.org/2000/svg\" height=\"24px\"viewBox=\"0 0 24 24\"\n",
              "       width=\"24px\">\n",
              "    <path d=\"M0 0h24v24H0V0z\" fill=\"none\"/>\n",
              "    <path d=\"M18.56 5.44l.94 2.06.94-2.06 2.06-.94-2.06-.94-.94-2.06-.94 2.06-2.06.94zm-11 1L8.5 8.5l.94-2.06 2.06-.94-2.06-.94L8.5 2.5l-.94 2.06-2.06.94zm10 10l.94 2.06.94-2.06 2.06-.94-2.06-.94-.94-2.06-.94 2.06-2.06.94z\"/><path d=\"M17.41 7.96l-1.37-1.37c-.4-.4-.92-.59-1.43-.59-.52 0-1.04.2-1.43.59L10.3 9.45l-7.72 7.72c-.78.78-.78 2.05 0 2.83L4 21.41c.39.39.9.59 1.41.59.51 0 1.02-.2 1.41-.59l7.78-7.78 2.81-2.81c.8-.78.8-2.07 0-2.86zM5.41 20L4 18.59l7.72-7.72 1.47 1.35L5.41 20z\"/>\n",
              "  </svg>\n",
              "      </button>\n",
              "      \n",
              "  <style>\n",
              "    .colab-df-container {\n",
              "      display:flex;\n",
              "      flex-wrap:wrap;\n",
              "      gap: 12px;\n",
              "    }\n",
              "\n",
              "    .colab-df-convert {\n",
              "      background-color: #E8F0FE;\n",
              "      border: none;\n",
              "      border-radius: 50%;\n",
              "      cursor: pointer;\n",
              "      display: none;\n",
              "      fill: #1967D2;\n",
              "      height: 32px;\n",
              "      padding: 0 0 0 0;\n",
              "      width: 32px;\n",
              "    }\n",
              "\n",
              "    .colab-df-convert:hover {\n",
              "      background-color: #E2EBFA;\n",
              "      box-shadow: 0px 1px 2px rgba(60, 64, 67, 0.3), 0px 1px 3px 1px rgba(60, 64, 67, 0.15);\n",
              "      fill: #174EA6;\n",
              "    }\n",
              "\n",
              "    [theme=dark] .colab-df-convert {\n",
              "      background-color: #3B4455;\n",
              "      fill: #D2E3FC;\n",
              "    }\n",
              "\n",
              "    [theme=dark] .colab-df-convert:hover {\n",
              "      background-color: #434B5C;\n",
              "      box-shadow: 0px 1px 3px 1px rgba(0, 0, 0, 0.15);\n",
              "      filter: drop-shadow(0px 1px 2px rgba(0, 0, 0, 0.3));\n",
              "      fill: #FFFFFF;\n",
              "    }\n",
              "  </style>\n",
              "\n",
              "      <script>\n",
              "        const buttonEl =\n",
              "          document.querySelector('#df-6ca18079-892e-4eab-9746-ba2910a13f58 button.colab-df-convert');\n",
              "        buttonEl.style.display =\n",
              "          google.colab.kernel.accessAllowed ? 'block' : 'none';\n",
              "\n",
              "        async function convertToInteractive(key) {\n",
              "          const element = document.querySelector('#df-6ca18079-892e-4eab-9746-ba2910a13f58');\n",
              "          const dataTable =\n",
              "            await google.colab.kernel.invokeFunction('convertToInteractive',\n",
              "                                                     [key], {});\n",
              "          if (!dataTable) return;\n",
              "\n",
              "          const docLinkHtml = 'Like what you see? Visit the ' +\n",
              "            '<a target=\"_blank\" href=https://colab.research.google.com/notebooks/data_table.ipynb>data table notebook</a>'\n",
              "            + ' to learn more about interactive tables.';\n",
              "          element.innerHTML = '';\n",
              "          dataTable['output_type'] = 'display_data';\n",
              "          await google.colab.output.renderOutput(dataTable, element);\n",
              "          const docLink = document.createElement('div');\n",
              "          docLink.innerHTML = docLinkHtml;\n",
              "          element.appendChild(docLink);\n",
              "        }\n",
              "      </script>\n",
              "    </div>\n",
              "  </div>\n",
              "  "
            ]
          },
          "metadata": {},
          "execution_count": 35
        }
      ]
    },
    {
      "cell_type": "code",
      "source": [
        "scaler = MinMaxScaler(feature_range=(-1, 1))\n",
        "price['Close'] = scaler.fit_transform(price['Close'].values.reshape(-1,1))"
      ],
      "metadata": {
        "id": "Kq_21g3D0E2q",
        "outputId": "d5b1032f-f2bc-4f65-8f72-c41963521bcf",
        "colab": {
          "base_uri": "https://localhost:8080/"
        }
      },
      "execution_count": 36,
      "outputs": [
        {
          "output_type": "stream",
          "name": "stderr",
          "text": [
            "/usr/local/lib/python3.7/dist-packages/ipykernel_launcher.py:2: SettingWithCopyWarning: \n",
            "A value is trying to be set on a copy of a slice from a DataFrame.\n",
            "Try using .loc[row_indexer,col_indexer] = value instead\n",
            "\n",
            "See the caveats in the documentation: https://pandas.pydata.org/pandas-docs/stable/user_guide/indexing.html#returning-a-view-versus-a-copy\n",
            "  \n"
          ]
        }
      ]
    },
    {
      "cell_type": "code",
      "source": [
        "price"
      ],
      "metadata": {
        "id": "eCJEJZcK0QfS",
        "outputId": "52dd0b1c-26e3-4901-d774-60eac07f185f",
        "colab": {
          "base_uri": "https://localhost:8080/",
          "height": 455
        }
      },
      "execution_count": 37,
      "outputs": [
        {
          "output_type": "execute_result",
          "data": {
            "text/plain": [
              "               Close\n",
              "Date                \n",
              "1997-05-15 -0.999698\n",
              "1997-05-16 -0.999821\n",
              "1997-05-19 -0.999832\n",
              "1997-05-20 -0.999872\n",
              "1997-05-21 -0.999983\n",
              "...              ...\n",
              "2022-11-07 -0.029921\n",
              "2022-11-08 -0.035819\n",
              "2022-11-09 -0.076999\n",
              "2022-11-10  0.035494\n",
              "2022-11-11  0.080105\n",
              "\n",
              "[6418 rows x 1 columns]"
            ],
            "text/html": [
              "\n",
              "  <div id=\"df-55e8bf25-96d0-412f-af2d-6c8041182954\">\n",
              "    <div class=\"colab-df-container\">\n",
              "      <div>\n",
              "<style scoped>\n",
              "    .dataframe tbody tr th:only-of-type {\n",
              "        vertical-align: middle;\n",
              "    }\n",
              "\n",
              "    .dataframe tbody tr th {\n",
              "        vertical-align: top;\n",
              "    }\n",
              "\n",
              "    .dataframe thead th {\n",
              "        text-align: right;\n",
              "    }\n",
              "</style>\n",
              "<table border=\"1\" class=\"dataframe\">\n",
              "  <thead>\n",
              "    <tr style=\"text-align: right;\">\n",
              "      <th></th>\n",
              "      <th>Close</th>\n",
              "    </tr>\n",
              "    <tr>\n",
              "      <th>Date</th>\n",
              "      <th></th>\n",
              "    </tr>\n",
              "  </thead>\n",
              "  <tbody>\n",
              "    <tr>\n",
              "      <th>1997-05-15</th>\n",
              "      <td>-0.999698</td>\n",
              "    </tr>\n",
              "    <tr>\n",
              "      <th>1997-05-16</th>\n",
              "      <td>-0.999821</td>\n",
              "    </tr>\n",
              "    <tr>\n",
              "      <th>1997-05-19</th>\n",
              "      <td>-0.999832</td>\n",
              "    </tr>\n",
              "    <tr>\n",
              "      <th>1997-05-20</th>\n",
              "      <td>-0.999872</td>\n",
              "    </tr>\n",
              "    <tr>\n",
              "      <th>1997-05-21</th>\n",
              "      <td>-0.999983</td>\n",
              "    </tr>\n",
              "    <tr>\n",
              "      <th>...</th>\n",
              "      <td>...</td>\n",
              "    </tr>\n",
              "    <tr>\n",
              "      <th>2022-11-07</th>\n",
              "      <td>-0.029921</td>\n",
              "    </tr>\n",
              "    <tr>\n",
              "      <th>2022-11-08</th>\n",
              "      <td>-0.035819</td>\n",
              "    </tr>\n",
              "    <tr>\n",
              "      <th>2022-11-09</th>\n",
              "      <td>-0.076999</td>\n",
              "    </tr>\n",
              "    <tr>\n",
              "      <th>2022-11-10</th>\n",
              "      <td>0.035494</td>\n",
              "    </tr>\n",
              "    <tr>\n",
              "      <th>2022-11-11</th>\n",
              "      <td>0.080105</td>\n",
              "    </tr>\n",
              "  </tbody>\n",
              "</table>\n",
              "<p>6418 rows × 1 columns</p>\n",
              "</div>\n",
              "      <button class=\"colab-df-convert\" onclick=\"convertToInteractive('df-55e8bf25-96d0-412f-af2d-6c8041182954')\"\n",
              "              title=\"Convert this dataframe to an interactive table.\"\n",
              "              style=\"display:none;\">\n",
              "        \n",
              "  <svg xmlns=\"http://www.w3.org/2000/svg\" height=\"24px\"viewBox=\"0 0 24 24\"\n",
              "       width=\"24px\">\n",
              "    <path d=\"M0 0h24v24H0V0z\" fill=\"none\"/>\n",
              "    <path d=\"M18.56 5.44l.94 2.06.94-2.06 2.06-.94-2.06-.94-.94-2.06-.94 2.06-2.06.94zm-11 1L8.5 8.5l.94-2.06 2.06-.94-2.06-.94L8.5 2.5l-.94 2.06-2.06.94zm10 10l.94 2.06.94-2.06 2.06-.94-2.06-.94-.94-2.06-.94 2.06-2.06.94z\"/><path d=\"M17.41 7.96l-1.37-1.37c-.4-.4-.92-.59-1.43-.59-.52 0-1.04.2-1.43.59L10.3 9.45l-7.72 7.72c-.78.78-.78 2.05 0 2.83L4 21.41c.39.39.9.59 1.41.59.51 0 1.02-.2 1.41-.59l7.78-7.78 2.81-2.81c.8-.78.8-2.07 0-2.86zM5.41 20L4 18.59l7.72-7.72 1.47 1.35L5.41 20z\"/>\n",
              "  </svg>\n",
              "      </button>\n",
              "      \n",
              "  <style>\n",
              "    .colab-df-container {\n",
              "      display:flex;\n",
              "      flex-wrap:wrap;\n",
              "      gap: 12px;\n",
              "    }\n",
              "\n",
              "    .colab-df-convert {\n",
              "      background-color: #E8F0FE;\n",
              "      border: none;\n",
              "      border-radius: 50%;\n",
              "      cursor: pointer;\n",
              "      display: none;\n",
              "      fill: #1967D2;\n",
              "      height: 32px;\n",
              "      padding: 0 0 0 0;\n",
              "      width: 32px;\n",
              "    }\n",
              "\n",
              "    .colab-df-convert:hover {\n",
              "      background-color: #E2EBFA;\n",
              "      box-shadow: 0px 1px 2px rgba(60, 64, 67, 0.3), 0px 1px 3px 1px rgba(60, 64, 67, 0.15);\n",
              "      fill: #174EA6;\n",
              "    }\n",
              "\n",
              "    [theme=dark] .colab-df-convert {\n",
              "      background-color: #3B4455;\n",
              "      fill: #D2E3FC;\n",
              "    }\n",
              "\n",
              "    [theme=dark] .colab-df-convert:hover {\n",
              "      background-color: #434B5C;\n",
              "      box-shadow: 0px 1px 3px 1px rgba(0, 0, 0, 0.15);\n",
              "      filter: drop-shadow(0px 1px 2px rgba(0, 0, 0, 0.3));\n",
              "      fill: #FFFFFF;\n",
              "    }\n",
              "  </style>\n",
              "\n",
              "      <script>\n",
              "        const buttonEl =\n",
              "          document.querySelector('#df-55e8bf25-96d0-412f-af2d-6c8041182954 button.colab-df-convert');\n",
              "        buttonEl.style.display =\n",
              "          google.colab.kernel.accessAllowed ? 'block' : 'none';\n",
              "\n",
              "        async function convertToInteractive(key) {\n",
              "          const element = document.querySelector('#df-55e8bf25-96d0-412f-af2d-6c8041182954');\n",
              "          const dataTable =\n",
              "            await google.colab.kernel.invokeFunction('convertToInteractive',\n",
              "                                                     [key], {});\n",
              "          if (!dataTable) return;\n",
              "\n",
              "          const docLinkHtml = 'Like what you see? Visit the ' +\n",
              "            '<a target=\"_blank\" href=https://colab.research.google.com/notebooks/data_table.ipynb>data table notebook</a>'\n",
              "            + ' to learn more about interactive tables.';\n",
              "          element.innerHTML = '';\n",
              "          dataTable['output_type'] = 'display_data';\n",
              "          await google.colab.output.renderOutput(dataTable, element);\n",
              "          const docLink = document.createElement('div');\n",
              "          docLink.innerHTML = docLinkHtml;\n",
              "          element.appendChild(docLink);\n",
              "        }\n",
              "      </script>\n",
              "    </div>\n",
              "  </div>\n",
              "  "
            ]
          },
          "metadata": {},
          "execution_count": 37
        }
      ]
    },
    {
      "cell_type": "code",
      "source": [
        "\n",
        "def split_data(stock, lookback):\n",
        "    data_raw = stock.to_numpy() # convert to numpy array\n",
        "    data = []\n",
        "    \n",
        "    # create all possible sequences of length seq_len\n",
        "    for index in range(len(data_raw) - lookback): \n",
        "        data.append(data_raw[index: index + lookback])\n",
        "    \n",
        "    data = np.array(data);\n",
        "    test_set_size = int(np.round(0.2*data.shape[0]));\n",
        "    train_set_size = data.shape[0] - (test_set_size);\n",
        "    \n",
        "    x_train = data[:train_set_size,:-1,:]\n",
        "    y_train = data[:train_set_size,-1,:]\n",
        "    \n",
        "    x_test = data[train_set_size:,:-1]\n",
        "    y_test = data[train_set_size:,-1,:]\n",
        "    \n",
        "    return [x_train, y_train, x_test, y_test]\n",
        "\n",
        "lookback = 20 # choose sequence length\n",
        "x_train, y_train, x_test, y_test = split_data(price, lookback)"
      ],
      "metadata": {
        "id": "i6EZFdBT6Es6"
      },
      "execution_count": 38,
      "outputs": []
    },
    {
      "cell_type": "code",
      "source": [
        "# def split_data_into_steps(data_to_split, steps):\n",
        "#     X = []\n",
        "#     y = []\n",
        "#     for i in range(len(data_to_split) - steps + 1):\n",
        "#         X.append(data_to_split[i:i + steps, :-1])\n",
        "#         y.append(data_to_split[i + steps - 1, -1])\n",
        "\n",
        "#     return np.array(X), np.array(y)"
      ],
      "metadata": {
        "id": "6G-15PqHM0y9"
      },
      "execution_count": 12,
      "outputs": []
    },
    {
      "cell_type": "code",
      "source": [
        "# def split_data_into_train_test(X, y, split_size, date_index):\n",
        "#     split_idx = int(np.ceil(len(X) * split_size))\n",
        "    \n",
        "#     X_train = X[:split_idx]\n",
        "#     X_test = X[split_idx:]\n",
        "#     y_train = y[:split_idx].reshape(-1,1)\n",
        "#     y_test = y[split_idx:].reshape(-1,1)\n",
        "\n",
        "#     X_train_date = date_index[:split_idx]\n",
        "#     X_test_date = date_index[split_idx:]\n",
        "\n",
        "#     return X_train, X_test, y_train, y_test, X_train_date, X_test_date"
      ],
      "metadata": {
        "id": "vQT9ruXdNt7B"
      },
      "execution_count": 13,
      "outputs": []
    },
    {
      "cell_type": "code",
      "source": [
        "# X,y = split_data_into_steps(data.values, 2)\n",
        "# X_train, X_test, y_train, y_test, X_train_date, X_test_date = split_data_into_train_test(X, y, 0.8, data.index)\n",
        "# print('X.shape ', X.shape)\n",
        "# print('X_train.shape ', X_train.shape)\n",
        "# print('X_test.shape ', X_test.shape)\n",
        "# print('y_train.shape ', y_train.shape)\n",
        "# print('y_test.shape ', y_test.shape)"
      ],
      "metadata": {
        "colab": {
          "base_uri": "https://localhost:8080/"
        },
        "id": "cnaN7WAFOzxf",
        "outputId": "d0dcdbe3-4dfb-4bde-95eb-795f4b6d163e"
      },
      "execution_count": 14,
      "outputs": [
        {
          "output_type": "stream",
          "name": "stdout",
          "text": [
            "X.shape  (6417, 2, 5)\n",
            "X_train.shape  (5134, 2, 5)\n",
            "X_test.shape  (1283, 2, 5)\n",
            "y_train.shape  (5134, 1)\n",
            "y_test.shape  (1283, 1)\n"
          ]
        }
      ]
    },
    {
      "cell_type": "code",
      "source": [
        "\n",
        "x_train = torch.from_numpy(x_train).type(torch.Tensor)\n",
        "x_test = torch.from_numpy(x_test).type(torch.Tensor)\n",
        "y_train_lstm = torch.from_numpy(y_train).type(torch.Tensor)\n",
        "y_test_lstm = torch.from_numpy(y_test).type(torch.Tensor)\n",
        "y_train_gru = torch.from_numpy(y_train).type(torch.Tensor)\n",
        "y_test_gru = torch.from_numpy(y_test).type(torch.Tensor)"
      ],
      "metadata": {
        "id": "wDxf2jgE6Ccz"
      },
      "execution_count": 39,
      "outputs": []
    },
    {
      "cell_type": "code",
      "source": [
        "print(x_train.shape)\n",
        "# print(x_train)"
      ],
      "metadata": {
        "colab": {
          "base_uri": "https://localhost:8080/"
        },
        "id": "g9GSX1uLVdIe",
        "outputId": "e192aba2-1a63-4d21-9459-bca3c117f9bc"
      },
      "execution_count": 40,
      "outputs": [
        {
          "output_type": "stream",
          "name": "stdout",
          "text": [
            "torch.Size([5118, 19, 1])\n"
          ]
        }
      ]
    },
    {
      "cell_type": "code",
      "source": [
        "def train_network(num_epochs, model, criterion, optimiser, x_train, y_train):\n",
        "    hist = np.zeros(num_epochs)\n",
        "    start_time = time.time()\n",
        "    lstm = []\n",
        "    for t in range(num_epochs):\n",
        "        y_train_pred = model(x_train)\n",
        "        loss = criterion(y_train_pred, y_train)\n",
        "        print(\"Epoch \", t, \"MSE: \", loss.item())\n",
        "        hist[t] = loss.item()\n",
        "        optimiser.zero_grad()\n",
        "        loss.backward()\n",
        "        optimiser.step()\n",
        "        \n",
        "    training_time = time.time()-start_time\n",
        "    print(\"Training time: {}\".format(training_time))"
      ],
      "metadata": {
        "id": "X-ACUnDF6HnS"
      },
      "execution_count": 41,
      "outputs": []
    },
    {
      "cell_type": "code",
      "source": [
        "class LSTM(nn.Module):\n",
        "    def __init__(self, input_dim, hidden_dim, num_layers, output_dim):\n",
        "        super(LSTM, self).__init__()\n",
        "        self.hidden_dim = hidden_dim\n",
        "        self.num_layers = num_layers\n",
        "        \n",
        "        self.lstm = nn.LSTM(input_dim, hidden_dim, num_layers, batch_first=True)\n",
        "        self.fc = nn.Linear(hidden_dim, output_dim)\n",
        "        \n",
        "    def forward(self, x):\n",
        "        h0 = torch.zeros(self.num_layers, x.size(0), self.hidden_dim).requires_grad_()\n",
        "        c0 = torch.zeros(self.num_layers, x.size(0), self.hidden_dim).requires_grad_()\n",
        "        out, (hn, cn) = self.lstm(x, (h0.detach(), c0.detach()))\n",
        "        print('out shape ', out.shape)\n",
        "        out = self.fc(out[:, -1, :]) \n",
        "        return out"
      ],
      "metadata": {
        "id": "hLWeQqNc6IMV"
      },
      "execution_count": 42,
      "outputs": []
    },
    {
      "cell_type": "code",
      "source": [
        "input_dim = x_train.shape[2]\n",
        "print('input_dim ', input_dim)\n",
        "hidden_dim = 32\n",
        "num_layers = 2\n",
        "output_dim = 1\n",
        "num_epochs = 10\n",
        "model_lstm = LSTM(input_dim=input_dim, hidden_dim=hidden_dim, output_dim=output_dim, num_layers=num_layers)\n",
        "criterion = torch.nn.MSELoss(reduction='mean')\n",
        "optimiser = torch.optim.Adam(model_lstm.parameters(), lr=0.01)\n",
        "train_network(num_epochs, model_lstm, criterion, optimiser, x_train, y_train_lstm)"
      ],
      "metadata": {
        "colab": {
          "base_uri": "https://localhost:8080/"
        },
        "id": "3YTTXJej6KQY",
        "outputId": "75184af9-efbf-4ee2-de91-21a293eccbe0"
      },
      "execution_count": 43,
      "outputs": [
        {
          "output_type": "stream",
          "name": "stdout",
          "text": [
            "input_dim  1\n",
            "out shape  torch.Size([5118, 19, 32])\n",
            "Epoch  0 MSE:  0.9706060290336609\n",
            "out shape  torch.Size([5118, 19, 32])\n",
            "Epoch  1 MSE:  0.7299438118934631\n",
            "out shape  torch.Size([5118, 19, 32])\n",
            "Epoch  2 MSE:  0.4963654577732086\n",
            "out shape  torch.Size([5118, 19, 32])\n",
            "Epoch  3 MSE:  0.21380119025707245\n",
            "out shape  torch.Size([5118, 19, 32])\n",
            "Epoch  4 MSE:  0.01113374624401331\n",
            "out shape  torch.Size([5118, 19, 32])\n",
            "Epoch  5 MSE:  0.2254725694656372\n",
            "out shape  torch.Size([5118, 19, 32])\n",
            "Epoch  6 MSE:  0.14139622449874878\n",
            "out shape  torch.Size([5118, 19, 32])\n",
            "Epoch  7 MSE:  0.04399523138999939\n",
            "out shape  torch.Size([5118, 19, 32])\n",
            "Epoch  8 MSE:  0.013860296458005905\n",
            "out shape  torch.Size([5118, 19, 32])\n",
            "Epoch  9 MSE:  0.025859637185931206\n",
            "Training time: 4.5582098960876465\n"
          ]
        }
      ]
    },
    {
      "cell_type": "code",
      "source": [
        "class GRU(nn.Module):\n",
        "    def __init__(self, input_dim, hidden_dim, num_layers, output_dim):\n",
        "        super(GRU, self).__init__()\n",
        "        self.hidden_dim = hidden_dim\n",
        "        self.num_layers = num_layers\n",
        "        \n",
        "        self.gru = nn.GRU(input_dim, hidden_dim, num_layers, batch_first=True)\n",
        "        self.fc = nn.Linear(hidden_dim, output_dim)\n",
        "\n",
        "    def forward(self, x):\n",
        "        h0 = torch.zeros(self.num_layers, x.size(0), self.hidden_dim).requires_grad_()\n",
        "        out, (hn) = self.gru(x, (h0.detach()))\n",
        "        out = self.fc(out[:, -1, :]) \n",
        "        return out"
      ],
      "metadata": {
        "id": "mSupmE4M6Sqo"
      },
      "execution_count": 44,
      "outputs": []
    },
    {
      "cell_type": "code",
      "source": [
        "model_gru = GRU(input_dim=input_dim, hidden_dim=hidden_dim, output_dim=output_dim, num_layers=num_layers)\n",
        "criterion = torch.nn.MSELoss(reduction='mean')\n",
        "optimiser = torch.optim.Adam(model_gru.parameters(), lr=0.01)\n",
        "train_network(num_epochs, model_gru, criterion, optimiser, x_train, y_train_gru)"
      ],
      "metadata": {
        "colab": {
          "base_uri": "https://localhost:8080/"
        },
        "id": "M3KJq_ql6UH3",
        "outputId": "18a0d016-7e3a-441c-e7ec-a1b75c076419"
      },
      "execution_count": 45,
      "outputs": [
        {
          "output_type": "stream",
          "name": "stdout",
          "text": [
            "Epoch  0 MSE:  0.7237223386764526\n",
            "Epoch  1 MSE:  0.23817120492458344\n",
            "Epoch  2 MSE:  0.01249266043305397\n",
            "Epoch  3 MSE:  0.17451642453670502\n",
            "Epoch  4 MSE:  0.11326713114976883\n",
            "Epoch  5 MSE:  0.020141715183854103\n",
            "Epoch  6 MSE:  0.020480096340179443\n",
            "Epoch  7 MSE:  0.058297090232372284\n",
            "Epoch  8 MSE:  0.07641259580850601\n",
            "Epoch  9 MSE:  0.06686178594827652\n",
            "Training time: 3.509378671646118\n"
          ]
        }
      ]
    }
  ],
  "metadata": {
    "language_info": {
      "name": "python"
    },
    "orig_nbformat": 4,
    "colab": {
      "provenance": []
    },
    "kernelspec": {
      "name": "python3",
      "display_name": "Python 3"
    },
    "gpuClass": "standard",
    "accelerator": "GPU"
  },
  "nbformat": 4,
  "nbformat_minor": 0
}