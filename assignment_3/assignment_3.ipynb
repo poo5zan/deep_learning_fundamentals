{
  "cells": [
    {
      "cell_type": "markdown",
      "metadata": {
        "id": "Iw3TQvyH5hDH"
      },
      "source": [
        "Deep Learning Assignment 3 "
      ]
    },
    {
      "cell_type": "markdown",
      "source": [
        "References:\n",
        "Code source 1: https://medium.com/swlh/stock-price-prediction-with-pytorch-37f52ae84632\n",
        "\n",
        "Code source 2 (TODO: find how to get predictions accuracy): https://www.kaggle.com/code/taronzakaryan/predicting-stock-price-using-lstm-model-pytorch\n"
      ],
      "metadata": {
        "id": "gnhfWVlX72Zq"
      }
    },
    {
      "cell_type": "code",
      "source": [
        "pip install yfinance"
      ],
      "metadata": {
        "id": "sc6hAorGW3aU",
        "colab": {
          "base_uri": "https://localhost:8080/"
        },
        "outputId": "55acd6ed-0323-42e4-eb8a-1c24b1c8ae04"
      },
      "execution_count": 1,
      "outputs": [
        {
          "output_type": "stream",
          "name": "stdout",
          "text": [
            "Looking in indexes: https://pypi.org/simple, https://us-python.pkg.dev/colab-wheels/public/simple/\n",
            "Collecting yfinance\n",
            "  Downloading yfinance-0.1.85-py2.py3-none-any.whl (29 kB)\n",
            "Requirement already satisfied: lxml>=4.5.1 in /usr/local/lib/python3.7/dist-packages (from yfinance) (4.9.1)\n",
            "Requirement already satisfied: appdirs>=1.4.4 in /usr/local/lib/python3.7/dist-packages (from yfinance) (1.4.4)\n",
            "Requirement already satisfied: numpy>=1.15 in /usr/local/lib/python3.7/dist-packages (from yfinance) (1.21.6)\n",
            "Collecting requests>=2.26\n",
            "  Downloading requests-2.28.1-py3-none-any.whl (62 kB)\n",
            "\u001b[K     |████████████████████████████████| 62 kB 1.6 MB/s \n",
            "\u001b[?25hRequirement already satisfied: multitasking>=0.0.7 in /usr/local/lib/python3.7/dist-packages (from yfinance) (0.0.11)\n",
            "Requirement already satisfied: pandas>=0.24.0 in /usr/local/lib/python3.7/dist-packages (from yfinance) (1.3.5)\n",
            "Requirement already satisfied: python-dateutil>=2.7.3 in /usr/local/lib/python3.7/dist-packages (from pandas>=0.24.0->yfinance) (2.8.2)\n",
            "Requirement already satisfied: pytz>=2017.3 in /usr/local/lib/python3.7/dist-packages (from pandas>=0.24.0->yfinance) (2022.6)\n",
            "Requirement already satisfied: six>=1.5 in /usr/local/lib/python3.7/dist-packages (from python-dateutil>=2.7.3->pandas>=0.24.0->yfinance) (1.15.0)\n",
            "Requirement already satisfied: idna<4,>=2.5 in /usr/local/lib/python3.7/dist-packages (from requests>=2.26->yfinance) (2.10)\n",
            "Requirement already satisfied: certifi>=2017.4.17 in /usr/local/lib/python3.7/dist-packages (from requests>=2.26->yfinance) (2022.9.24)\n",
            "Requirement already satisfied: charset-normalizer<3,>=2 in /usr/local/lib/python3.7/dist-packages (from requests>=2.26->yfinance) (2.1.1)\n",
            "Requirement already satisfied: urllib3<1.27,>=1.21.1 in /usr/local/lib/python3.7/dist-packages (from requests>=2.26->yfinance) (1.24.3)\n",
            "Installing collected packages: requests, yfinance\n",
            "  Attempting uninstall: requests\n",
            "    Found existing installation: requests 2.23.0\n",
            "    Uninstalling requests-2.23.0:\n",
            "      Successfully uninstalled requests-2.23.0\n",
            "Successfully installed requests-2.28.1 yfinance-0.1.85\n"
          ]
        }
      ]
    },
    {
      "cell_type": "code",
      "source": [
        "import time\n",
        "import pandas as pd\n",
        "from sklearn.preprocessing import MinMaxScaler, StandardScaler\n",
        "import numpy as np\n",
        "import torch\n",
        "import torch.nn as nn\n",
        "import os\n",
        "import yfinance as yf\n",
        "import os, contextlib\n",
        "import matplotlib.dates as mdates\n",
        "import matplotlib.pyplot as plt\n",
        "import datetime as dt"
      ],
      "metadata": {
        "id": "8qCLzYOB9nNJ"
      },
      "execution_count": 2,
      "outputs": []
    },
    {
      "cell_type": "code",
      "source": [
        "# from google.colab import drive\n",
        "# drive.mount('/content/drive')\n",
        "\n",
        "# folder_path = '/content/drive/MyDrive/deep_learning/'\n",
        "# print(os.listdir(folder_path))\n",
        "\n",
        "# hist_dir = folder_path + 'hist'\n",
        "\n",
        "# if not os.path.exists(hist_dir):\n",
        "#     print('dir not exists so creating one')\n",
        "#     os.mkdir(hist_dir)\n",
        "# else:\n",
        "#     print('directory exists ', hist_dir)\n"
      ],
      "metadata": {
        "id": "zSPYdwkCSO-g"
      },
      "execution_count": 3,
      "outputs": []
    },
    {
      "cell_type": "code",
      "source": [
        "# configs\n",
        "offset = 0\n",
        "limit = 3000\n",
        "period = 'max' # valid periods: 1d,5d,1mo,3mo,6mo,1y,2y,5y,10y,ytd,max\n",
        "\n",
        "# download all NASDAQ traded symbols\n",
        "\n",
        "# data = pd.read_csv(\"http://www.nasdaqtrader.com/dynamic/SymDir/nasdaqtraded.txt\", sep='|')\n",
        "# data_clean = data[data['Test Issue'] == 'N']\n",
        "# symbols = data_clean['NASDAQ Symbol'].tolist()\n",
        "# print('total number of symbols traded = {}'.format(len(symbols)))\n",
        "\n"
      ],
      "metadata": {
        "id": "vs-KI65zhAGJ"
      },
      "execution_count": 4,
      "outputs": []
    },
    {
      "cell_type": "code",
      "source": [
        "symbols = ['AAPL','AMZN','META']"
      ],
      "metadata": {
        "id": "vBi_WEiZi5Re"
      },
      "execution_count": 5,
      "outputs": []
    },
    {
      "cell_type": "code",
      "source": [
        "print(symbols)"
      ],
      "metadata": {
        "colab": {
          "base_uri": "https://localhost:8080/"
        },
        "id": "b7baqyH1ifJt",
        "outputId": "eb334262-e37b-4f39-ae46-03d2c657b770"
      },
      "execution_count": 6,
      "outputs": [
        {
          "output_type": "stream",
          "name": "stdout",
          "text": [
            "['AAPL', 'AMZN', 'META']\n"
          ]
        }
      ]
    },
    {
      "cell_type": "code",
      "source": [
        "limit = limit if limit else len(symbols)\n",
        "end = min(offset + limit, len(symbols))\n",
        "is_valid = [False] * len(symbols)\n",
        "# force silencing of verbose API\n",
        "with open(os.devnull, 'w') as devnull:\n",
        "    with contextlib.redirect_stdout(devnull):\n",
        "        for i in range(offset, end):\n",
        "            s = symbols[i]\n",
        "            data = yf.download(s, period=period)\n",
        "            if len(data.index) == 0:\n",
        "                continue\n",
        "        \n",
        "            is_valid[i] = True\n",
        "            file_name = s + \".csv\"\n",
        "            # download_path = os.path.join(root_dir,file_name)\n",
        "            data.to_csv(file_name)\n",
        "\n",
        "print('Total number of valid symbols downloaded = {}'.format(sum(is_valid)))"
      ],
      "metadata": {
        "colab": {
          "base_uri": "https://localhost:8080/"
        },
        "id": "xzKgq2vVXMYO",
        "outputId": "3cf07516-2b02-4176-bb58-47e1f811d9d9"
      },
      "execution_count": 7,
      "outputs": [
        {
          "output_type": "stream",
          "name": "stdout",
          "text": [
            "Total number of valid symbols downloaded = 3\n"
          ]
        }
      ]
    },
    {
      "cell_type": "code",
      "source": [
        "# valid_data = data_clean[is_valid]\n",
        "# valid_data.to_csv('symbols_valid_meta.csv', index=False)\n",
        "\n"
      ],
      "metadata": {
        "id": "gVvb01YuXVns"
      },
      "execution_count": 8,
      "outputs": []
    },
    {
      "cell_type": "code",
      "source": [
        "# !mkdir stocks\n",
        "# !mkdir etfs"
      ],
      "metadata": {
        "id": "Gk0QTjZCXp2D"
      },
      "execution_count": 9,
      "outputs": []
    },
    {
      "cell_type": "code",
      "source": [
        "# etfs = valid_data[valid_data['ETF'] == 'Y']['NASDAQ Symbol'].tolist()\n",
        "# stocks = valid_data[valid_data['ETF'] == 'N']['NASDAQ Symbol'].tolist()"
      ],
      "metadata": {
        "id": "DVVtjynkXq_A"
      },
      "execution_count": 10,
      "outputs": []
    },
    {
      "cell_type": "code",
      "source": [
        "# import shutil\n",
        "# from os.path import isfile, join\n",
        "\n",
        "# def move_symbols(symbols, dest):\n",
        "#     for s in symbols:\n",
        "#         filename = '{}.csv'.format(s)\n",
        "#         shutil.move(join('hist', filename), join(dest, filename))\n",
        "        \n",
        "# move_symbols(etfs, \"etfs\")\n",
        "# move_symbols(stocks, \"stocks\")"
      ],
      "metadata": {
        "id": "pYMo-mEGX1Nh"
      },
      "execution_count": 11,
      "outputs": []
    },
    {
      "cell_type": "code",
      "source": [
        "\n",
        "data = pd.read_csv('AMZN.csv', index_col='Date')\n",
        "data"
      ],
      "metadata": {
        "colab": {
          "base_uri": "https://localhost:8080/",
          "height": 455
        },
        "id": "9LoEOTVB6Y9o",
        "outputId": "6494c689-b36a-4e9c-f8aa-b578c7d7c645"
      },
      "execution_count": 12,
      "outputs": [
        {
          "output_type": "execute_result",
          "data": {
            "text/plain": [
              "                 Open        High        Low       Close   Adj Close  \\\n",
              "Date                                                                   \n",
              "1997-05-15   0.121875    0.125000   0.096354    0.097917    0.097917   \n",
              "1997-05-16   0.098438    0.098958   0.085417    0.086458    0.086458   \n",
              "1997-05-19   0.088021    0.088542   0.081250    0.085417    0.085417   \n",
              "1997-05-20   0.086458    0.087500   0.081771    0.081771    0.081771   \n",
              "1997-05-21   0.081771    0.082292   0.068750    0.071354    0.071354   \n",
              "...               ...         ...        ...         ...         ...   \n",
              "2022-11-07  91.949997   92.099998  89.040001   90.529999   90.529999   \n",
              "2022-11-08  90.790001   91.720001  88.230003   89.980003   89.980003   \n",
              "2022-11-09  89.470001   89.480003  85.870003   86.139999   86.139999   \n",
              "2022-11-10  92.940002   98.690002  91.650002   96.629997   96.629997   \n",
              "2022-11-11  97.879997  101.190002  96.660004  100.790001  100.790001   \n",
              "\n",
              "                Volume  \n",
              "Date                    \n",
              "1997-05-15  1443120000  \n",
              "1997-05-16   294000000  \n",
              "1997-05-19   122136000  \n",
              "1997-05-20   109344000  \n",
              "1997-05-21   377064000  \n",
              "...                ...  \n",
              "2022-11-07    77495700  \n",
              "2022-11-08    88703400  \n",
              "2022-11-09    90796200  \n",
              "2022-11-10   173414900  \n",
              "2022-11-11   111481700  \n",
              "\n",
              "[6418 rows x 6 columns]"
            ],
            "text/html": [
              "\n",
              "  <div id=\"df-b3f877bf-9c68-41a8-824d-feb6cdf3a99f\">\n",
              "    <div class=\"colab-df-container\">\n",
              "      <div>\n",
              "<style scoped>\n",
              "    .dataframe tbody tr th:only-of-type {\n",
              "        vertical-align: middle;\n",
              "    }\n",
              "\n",
              "    .dataframe tbody tr th {\n",
              "        vertical-align: top;\n",
              "    }\n",
              "\n",
              "    .dataframe thead th {\n",
              "        text-align: right;\n",
              "    }\n",
              "</style>\n",
              "<table border=\"1\" class=\"dataframe\">\n",
              "  <thead>\n",
              "    <tr style=\"text-align: right;\">\n",
              "      <th></th>\n",
              "      <th>Open</th>\n",
              "      <th>High</th>\n",
              "      <th>Low</th>\n",
              "      <th>Close</th>\n",
              "      <th>Adj Close</th>\n",
              "      <th>Volume</th>\n",
              "    </tr>\n",
              "    <tr>\n",
              "      <th>Date</th>\n",
              "      <th></th>\n",
              "      <th></th>\n",
              "      <th></th>\n",
              "      <th></th>\n",
              "      <th></th>\n",
              "      <th></th>\n",
              "    </tr>\n",
              "  </thead>\n",
              "  <tbody>\n",
              "    <tr>\n",
              "      <th>1997-05-15</th>\n",
              "      <td>0.121875</td>\n",
              "      <td>0.125000</td>\n",
              "      <td>0.096354</td>\n",
              "      <td>0.097917</td>\n",
              "      <td>0.097917</td>\n",
              "      <td>1443120000</td>\n",
              "    </tr>\n",
              "    <tr>\n",
              "      <th>1997-05-16</th>\n",
              "      <td>0.098438</td>\n",
              "      <td>0.098958</td>\n",
              "      <td>0.085417</td>\n",
              "      <td>0.086458</td>\n",
              "      <td>0.086458</td>\n",
              "      <td>294000000</td>\n",
              "    </tr>\n",
              "    <tr>\n",
              "      <th>1997-05-19</th>\n",
              "      <td>0.088021</td>\n",
              "      <td>0.088542</td>\n",
              "      <td>0.081250</td>\n",
              "      <td>0.085417</td>\n",
              "      <td>0.085417</td>\n",
              "      <td>122136000</td>\n",
              "    </tr>\n",
              "    <tr>\n",
              "      <th>1997-05-20</th>\n",
              "      <td>0.086458</td>\n",
              "      <td>0.087500</td>\n",
              "      <td>0.081771</td>\n",
              "      <td>0.081771</td>\n",
              "      <td>0.081771</td>\n",
              "      <td>109344000</td>\n",
              "    </tr>\n",
              "    <tr>\n",
              "      <th>1997-05-21</th>\n",
              "      <td>0.081771</td>\n",
              "      <td>0.082292</td>\n",
              "      <td>0.068750</td>\n",
              "      <td>0.071354</td>\n",
              "      <td>0.071354</td>\n",
              "      <td>377064000</td>\n",
              "    </tr>\n",
              "    <tr>\n",
              "      <th>...</th>\n",
              "      <td>...</td>\n",
              "      <td>...</td>\n",
              "      <td>...</td>\n",
              "      <td>...</td>\n",
              "      <td>...</td>\n",
              "      <td>...</td>\n",
              "    </tr>\n",
              "    <tr>\n",
              "      <th>2022-11-07</th>\n",
              "      <td>91.949997</td>\n",
              "      <td>92.099998</td>\n",
              "      <td>89.040001</td>\n",
              "      <td>90.529999</td>\n",
              "      <td>90.529999</td>\n",
              "      <td>77495700</td>\n",
              "    </tr>\n",
              "    <tr>\n",
              "      <th>2022-11-08</th>\n",
              "      <td>90.790001</td>\n",
              "      <td>91.720001</td>\n",
              "      <td>88.230003</td>\n",
              "      <td>89.980003</td>\n",
              "      <td>89.980003</td>\n",
              "      <td>88703400</td>\n",
              "    </tr>\n",
              "    <tr>\n",
              "      <th>2022-11-09</th>\n",
              "      <td>89.470001</td>\n",
              "      <td>89.480003</td>\n",
              "      <td>85.870003</td>\n",
              "      <td>86.139999</td>\n",
              "      <td>86.139999</td>\n",
              "      <td>90796200</td>\n",
              "    </tr>\n",
              "    <tr>\n",
              "      <th>2022-11-10</th>\n",
              "      <td>92.940002</td>\n",
              "      <td>98.690002</td>\n",
              "      <td>91.650002</td>\n",
              "      <td>96.629997</td>\n",
              "      <td>96.629997</td>\n",
              "      <td>173414900</td>\n",
              "    </tr>\n",
              "    <tr>\n",
              "      <th>2022-11-11</th>\n",
              "      <td>97.879997</td>\n",
              "      <td>101.190002</td>\n",
              "      <td>96.660004</td>\n",
              "      <td>100.790001</td>\n",
              "      <td>100.790001</td>\n",
              "      <td>111481700</td>\n",
              "    </tr>\n",
              "  </tbody>\n",
              "</table>\n",
              "<p>6418 rows × 6 columns</p>\n",
              "</div>\n",
              "      <button class=\"colab-df-convert\" onclick=\"convertToInteractive('df-b3f877bf-9c68-41a8-824d-feb6cdf3a99f')\"\n",
              "              title=\"Convert this dataframe to an interactive table.\"\n",
              "              style=\"display:none;\">\n",
              "        \n",
              "  <svg xmlns=\"http://www.w3.org/2000/svg\" height=\"24px\"viewBox=\"0 0 24 24\"\n",
              "       width=\"24px\">\n",
              "    <path d=\"M0 0h24v24H0V0z\" fill=\"none\"/>\n",
              "    <path d=\"M18.56 5.44l.94 2.06.94-2.06 2.06-.94-2.06-.94-.94-2.06-.94 2.06-2.06.94zm-11 1L8.5 8.5l.94-2.06 2.06-.94-2.06-.94L8.5 2.5l-.94 2.06-2.06.94zm10 10l.94 2.06.94-2.06 2.06-.94-2.06-.94-.94-2.06-.94 2.06-2.06.94z\"/><path d=\"M17.41 7.96l-1.37-1.37c-.4-.4-.92-.59-1.43-.59-.52 0-1.04.2-1.43.59L10.3 9.45l-7.72 7.72c-.78.78-.78 2.05 0 2.83L4 21.41c.39.39.9.59 1.41.59.51 0 1.02-.2 1.41-.59l7.78-7.78 2.81-2.81c.8-.78.8-2.07 0-2.86zM5.41 20L4 18.59l7.72-7.72 1.47 1.35L5.41 20z\"/>\n",
              "  </svg>\n",
              "      </button>\n",
              "      \n",
              "  <style>\n",
              "    .colab-df-container {\n",
              "      display:flex;\n",
              "      flex-wrap:wrap;\n",
              "      gap: 12px;\n",
              "    }\n",
              "\n",
              "    .colab-df-convert {\n",
              "      background-color: #E8F0FE;\n",
              "      border: none;\n",
              "      border-radius: 50%;\n",
              "      cursor: pointer;\n",
              "      display: none;\n",
              "      fill: #1967D2;\n",
              "      height: 32px;\n",
              "      padding: 0 0 0 0;\n",
              "      width: 32px;\n",
              "    }\n",
              "\n",
              "    .colab-df-convert:hover {\n",
              "      background-color: #E2EBFA;\n",
              "      box-shadow: 0px 1px 2px rgba(60, 64, 67, 0.3), 0px 1px 3px 1px rgba(60, 64, 67, 0.15);\n",
              "      fill: #174EA6;\n",
              "    }\n",
              "\n",
              "    [theme=dark] .colab-df-convert {\n",
              "      background-color: #3B4455;\n",
              "      fill: #D2E3FC;\n",
              "    }\n",
              "\n",
              "    [theme=dark] .colab-df-convert:hover {\n",
              "      background-color: #434B5C;\n",
              "      box-shadow: 0px 1px 3px 1px rgba(0, 0, 0, 0.15);\n",
              "      filter: drop-shadow(0px 1px 2px rgba(0, 0, 0, 0.3));\n",
              "      fill: #FFFFFF;\n",
              "    }\n",
              "  </style>\n",
              "\n",
              "      <script>\n",
              "        const buttonEl =\n",
              "          document.querySelector('#df-b3f877bf-9c68-41a8-824d-feb6cdf3a99f button.colab-df-convert');\n",
              "        buttonEl.style.display =\n",
              "          google.colab.kernel.accessAllowed ? 'block' : 'none';\n",
              "\n",
              "        async function convertToInteractive(key) {\n",
              "          const element = document.querySelector('#df-b3f877bf-9c68-41a8-824d-feb6cdf3a99f');\n",
              "          const dataTable =\n",
              "            await google.colab.kernel.invokeFunction('convertToInteractive',\n",
              "                                                     [key], {});\n",
              "          if (!dataTable) return;\n",
              "\n",
              "          const docLinkHtml = 'Like what you see? Visit the ' +\n",
              "            '<a target=\"_blank\" href=https://colab.research.google.com/notebooks/data_table.ipynb>data table notebook</a>'\n",
              "            + ' to learn more about interactive tables.';\n",
              "          element.innerHTML = '';\n",
              "          dataTable['output_type'] = 'display_data';\n",
              "          await google.colab.output.renderOutput(dataTable, element);\n",
              "          const docLink = document.createElement('div');\n",
              "          docLink.innerHTML = docLinkHtml;\n",
              "          element.appendChild(docLink);\n",
              "        }\n",
              "      </script>\n",
              "    </div>\n",
              "  </div>\n",
              "  "
            ]
          },
          "metadata": {},
          "execution_count": 12
        }
      ]
    },
    {
      "cell_type": "code",
      "source": [
        "plt.figure(figsize=(15,10))\n",
        "plt.gca().xaxis.set_major_formatter(mdates.DateFormatter('%Y-%m-%d'))\n",
        "plt.gca().xaxis.set_major_locator(mdates.DayLocator(interval=60))\n",
        "x_dates = [dt.datetime.strptime(d, '%Y-%m-%d').date() for d in data.index.values]\n",
        "\n",
        "plt.plot(x_dates, data['High'], label='High')\n",
        "plt.plot(x_dates, data['Low'], label='Low')\n",
        "plt.xlabel('Time scale')\n",
        "plt.ylabel('Price')\n",
        "plt.legend()\n",
        "plt.gcf().autofmt_xdate()\n",
        "plt.show()"
      ],
      "metadata": {
        "colab": {
          "base_uri": "https://localhost:8080/",
          "height": 579
        },
        "id": "XqYxV7xKJc-q",
        "outputId": "b2604127-c9a9-461a-bf48-e1bb607b27b9"
      },
      "execution_count": 13,
      "outputs": [
        {
          "output_type": "display_data",
          "data": {
            "text/plain": [
              "<Figure size 1080x720 with 1 Axes>"
            ],
            "image/png": "[encoded data removed]"
          },
          "metadata": {
            "needs_background": "light"
          }
        }
      ]
    },
    {
      "cell_type": "code",
      "source": [
        "# X_features = data[['Open','High','Low']]\n",
        "# X_features"
      ],
      "metadata": {
        "id": "vyWaMUkVIVgJ"
      },
      "execution_count": 14,
      "outputs": []
    },
    {
      "cell_type": "code",
      "source": [
        "# y_labels = data[['Close']]\n",
        "# y_labels"
      ],
      "metadata": {
        "id": "zy0HdQ_jIgGB"
      },
      "execution_count": 15,
      "outputs": []
    },
    {
      "cell_type": "code",
      "source": [
        "# # feature scaling\n",
        "# standard_scaler = StandardScaler()\n",
        "# x_scaled = standard_scaler.fit_transform(X_features)\n",
        "# x_df = pd.DataFrame(columns=X_features.columns, data = x_scaled, index = X_features.index)\n",
        "# x_df"
      ],
      "metadata": {
        "id": "n5ZvDZO9LoJz"
      },
      "execution_count": 16,
      "outputs": []
    },
    {
      "cell_type": "code",
      "source": [
        "price = data[['Close']]\n",
        "price"
      ],
      "metadata": {
        "id": "SH4mHnXQ0TQi",
        "outputId": "ad2de49d-cee8-4564-f08b-b1303b7f8557",
        "colab": {
          "base_uri": "https://localhost:8080/",
          "height": 455
        }
      },
      "execution_count": 17,
      "outputs": [
        {
          "output_type": "execute_result",
          "data": {
            "text/plain": [
              "                 Close\n",
              "Date                  \n",
              "1997-05-15    0.097917\n",
              "1997-05-16    0.086458\n",
              "1997-05-19    0.085417\n",
              "1997-05-20    0.081771\n",
              "1997-05-21    0.071354\n",
              "...                ...\n",
              "2022-11-07   90.529999\n",
              "2022-11-08   89.980003\n",
              "2022-11-09   86.139999\n",
              "2022-11-10   96.629997\n",
              "2022-11-11  100.790001\n",
              "\n",
              "[6418 rows x 1 columns]"
            ],
            "text/html": [
              "\n",
              "  <div id=\"df-9c39c2f8-1b60-4724-b00b-9fc2532325bd\">\n",
              "    <div class=\"colab-df-container\">\n",
              "      <div>\n",
              "<style scoped>\n",
              "    .dataframe tbody tr th:only-of-type {\n",
              "        vertical-align: middle;\n",
              "    }\n",
              "\n",
              "    .dataframe tbody tr th {\n",
              "        vertical-align: top;\n",
              "    }\n",
              "\n",
              "    .dataframe thead th {\n",
              "        text-align: right;\n",
              "    }\n",
              "</style>\n",
              "<table border=\"1\" class=\"dataframe\">\n",
              "  <thead>\n",
              "    <tr style=\"text-align: right;\">\n",
              "      <th></th>\n",
              "      <th>Close</th>\n",
              "    </tr>\n",
              "    <tr>\n",
              "      <th>Date</th>\n",
              "      <th></th>\n",
              "    </tr>\n",
              "  </thead>\n",
              "  <tbody>\n",
              "    <tr>\n",
              "      <th>1997-05-15</th>\n",
              "      <td>0.097917</td>\n",
              "    </tr>\n",
              "    <tr>\n",
              "      <th>1997-05-16</th>\n",
              "      <td>0.086458</td>\n",
              "    </tr>\n",
              "    <tr>\n",
              "      <th>1997-05-19</th>\n",
              "      <td>0.085417</td>\n",
              "    </tr>\n",
              "    <tr>\n",
              "      <th>1997-05-20</th>\n",
              "      <td>0.081771</td>\n",
              "    </tr>\n",
              "    <tr>\n",
              "      <th>1997-05-21</th>\n",
              "      <td>0.071354</td>\n",
              "    </tr>\n",
              "    <tr>\n",
              "      <th>...</th>\n",
              "      <td>...</td>\n",
              "    </tr>\n",
              "    <tr>\n",
              "      <th>2022-11-07</th>\n",
              "      <td>90.529999</td>\n",
              "    </tr>\n",
              "    <tr>\n",
              "      <th>2022-11-08</th>\n",
              "      <td>89.980003</td>\n",
              "    </tr>\n",
              "    <tr>\n",
              "      <th>2022-11-09</th>\n",
              "      <td>86.139999</td>\n",
              "    </tr>\n",
              "    <tr>\n",
              "      <th>2022-11-10</th>\n",
              "      <td>96.629997</td>\n",
              "    </tr>\n",
              "    <tr>\n",
              "      <th>2022-11-11</th>\n",
              "      <td>100.790001</td>\n",
              "    </tr>\n",
              "  </tbody>\n",
              "</table>\n",
              "<p>6418 rows × 1 columns</p>\n",
              "</div>\n",
              "      <button class=\"colab-df-convert\" onclick=\"convertToInteractive('df-9c39c2f8-1b60-4724-b00b-9fc2532325bd')\"\n",
              "              title=\"Convert this dataframe to an interactive table.\"\n",
              "              style=\"display:none;\">\n",
              "        \n",
              "  <svg xmlns=\"http://www.w3.org/2000/svg\" height=\"24px\"viewBox=\"0 0 24 24\"\n",
              "       width=\"24px\">\n",
              "    <path d=\"M0 0h24v24H0V0z\" fill=\"none\"/>\n",
              "    <path d=\"M18.56 5.44l.94 2.06.94-2.06 2.06-.94-2.06-.94-.94-2.06-.94 2.06-2.06.94zm-11 1L8.5 8.5l.94-2.06 2.06-.94-2.06-.94L8.5 2.5l-.94 2.06-2.06.94zm10 10l.94 2.06.94-2.06 2.06-.94-2.06-.94-.94-2.06-.94 2.06-2.06.94z\"/><path d=\"M17.41 7.96l-1.37-1.37c-.4-.4-.92-.59-1.43-.59-.52 0-1.04.2-1.43.59L10.3 9.45l-7.72 7.72c-.78.78-.78 2.05 0 2.83L4 21.41c.39.39.9.59 1.41.59.51 0 1.02-.2 1.41-.59l7.78-7.78 2.81-2.81c.8-.78.8-2.07 0-2.86zM5.41 20L4 18.59l7.72-7.72 1.47 1.35L5.41 20z\"/>\n",
              "  </svg>\n",
              "      </button>\n",
              "      \n",
              "  <style>\n",
              "    .colab-df-container {\n",
              "      display:flex;\n",
              "      flex-wrap:wrap;\n",
              "      gap: 12px;\n",
              "    }\n",
              "\n",
              "    .colab-df-convert {\n",
              "      background-color: #E8F0FE;\n",
              "      border: none;\n",
              "      border-radius: 50%;\n",
              "      cursor: pointer;\n",
              "      display: none;\n",
              "      fill: #1967D2;\n",
              "      height: 32px;\n",
              "      padding: 0 0 0 0;\n",
              "      width: 32px;\n",
              "    }\n",
              "\n",
              "    .colab-df-convert:hover {\n",
              "      background-color: #E2EBFA;\n",
              "      box-shadow: 0px 1px 2px rgba(60, 64, 67, 0.3), 0px 1px 3px 1px rgba(60, 64, 67, 0.15);\n",
              "      fill: #174EA6;\n",
              "    }\n",
              "\n",
              "    [theme=dark] .colab-df-convert {\n",
              "      background-color: #3B4455;\n",
              "      fill: #D2E3FC;\n",
              "    }\n",
              "\n",
              "    [theme=dark] .colab-df-convert:hover {\n",
              "      background-color: #434B5C;\n",
              "      box-shadow: 0px 1px 3px 1px rgba(0, 0, 0, 0.15);\n",
              "      filter: drop-shadow(0px 1px 2px rgba(0, 0, 0, 0.3));\n",
              "      fill: #FFFFFF;\n",
              "    }\n",
              "  </style>\n",
              "\n",
              "      <script>\n",
              "        const buttonEl =\n",
              "          document.querySelector('#df-9c39c2f8-1b60-4724-b00b-9fc2532325bd button.colab-df-convert');\n",
              "        buttonEl.style.display =\n",
              "          google.colab.kernel.accessAllowed ? 'block' : 'none';\n",
              "\n",
              "        async function convertToInteractive(key) {\n",
              "          const element = document.querySelector('#df-9c39c2f8-1b60-4724-b00b-9fc2532325bd');\n",
              "          const dataTable =\n",
              "            await google.colab.kernel.invokeFunction('convertToInteractive',\n",
              "                                                     [key], {});\n",
              "          if (!dataTable) return;\n",
              "\n",
              "          const docLinkHtml = 'Like what you see? Visit the ' +\n",
              "            '<a target=\"_blank\" href=https://colab.research.google.com/notebooks/data_table.ipynb>data table notebook</a>'\n",
              "            + ' to learn more about interactive tables.';\n",
              "          element.innerHTML = '';\n",
              "          dataTable['output_type'] = 'display_data';\n",
              "          await google.colab.output.renderOutput(dataTable, element);\n",
              "          const docLink = document.createElement('div');\n",
              "          docLink.innerHTML = docLinkHtml;\n",
              "          element.appendChild(docLink);\n",
              "        }\n",
              "      </script>\n",
              "    </div>\n",
              "  </div>\n",
              "  "
            ]
          },
          "metadata": {},
          "execution_count": 17
        }
      ]
    },
    {
      "cell_type": "code",
      "source": [
        "scaler = MinMaxScaler(feature_range=(-1, 1))\n",
        "price['Close'] = scaler.fit_transform(price['Close'].values.reshape(-1,1))"
      ],
      "metadata": {
        "id": "Kq_21g3D0E2q",
        "outputId": "c9a7fcc0-229c-44be-b9b4-035567209d11",
        "colab": {
          "base_uri": "https://localhost:8080/"
        }
      },
      "execution_count": 18,
      "outputs": [
        {
          "output_type": "stream",
          "name": "stderr",
          "text": [
            "/usr/local/lib/python3.7/dist-packages/ipykernel_launcher.py:2: SettingWithCopyWarning: \n",
            "A value is trying to be set on a copy of a slice from a DataFrame.\n",
            "Try using .loc[row_indexer,col_indexer] = value instead\n",
            "\n",
            "See the caveats in the documentation: https://pandas.pydata.org/pandas-docs/stable/user_guide/indexing.html#returning-a-view-versus-a-copy\n",
            "  \n"
          ]
        }
      ]
    },
    {
      "cell_type": "code",
      "source": [
        "price"
      ],
      "metadata": {
        "id": "eCJEJZcK0QfS",
        "outputId": "c8deba52-701d-473c-c558-38e89808e62e",
        "colab": {
          "base_uri": "https://localhost:8080/",
          "height": 455
        }
      },
      "execution_count": 19,
      "outputs": [
        {
          "output_type": "execute_result",
          "data": {
            "text/plain": [
              "               Close\n",
              "Date                \n",
              "1997-05-15 -0.999698\n",
              "1997-05-16 -0.999821\n",
              "1997-05-19 -0.999832\n",
              "1997-05-20 -0.999872\n",
              "1997-05-21 -0.999983\n",
              "...              ...\n",
              "2022-11-07 -0.029921\n",
              "2022-11-08 -0.035819\n",
              "2022-11-09 -0.076999\n",
              "2022-11-10  0.035494\n",
              "2022-11-11  0.080105\n",
              "\n",
              "[6418 rows x 1 columns]"
            ],
            "text/html": [
              "\n",
              "  <div id=\"df-3c358a0e-16f1-4502-a4f3-0071e44b8971\">\n",
              "    <div class=\"colab-df-container\">\n",
              "      <div>\n",
              "<style scoped>\n",
              "    .dataframe tbody tr th:only-of-type {\n",
              "        vertical-align: middle;\n",
              "    }\n",
              "\n",
              "    .dataframe tbody tr th {\n",
              "        vertical-align: top;\n",
              "    }\n",
              "\n",
              "    .dataframe thead th {\n",
              "        text-align: right;\n",
              "    }\n",
              "</style>\n",
              "<table border=\"1\" class=\"dataframe\">\n",
              "  <thead>\n",
              "    <tr style=\"text-align: right;\">\n",
              "      <th></th>\n",
              "      <th>Close</th>\n",
              "    </tr>\n",
              "    <tr>\n",
              "      <th>Date</th>\n",
              "      <th></th>\n",
              "    </tr>\n",
              "  </thead>\n",
              "  <tbody>\n",
              "    <tr>\n",
              "      <th>1997-05-15</th>\n",
              "      <td>-0.999698</td>\n",
              "    </tr>\n",
              "    <tr>\n",
              "      <th>1997-05-16</th>\n",
              "      <td>-0.999821</td>\n",
              "    </tr>\n",
              "    <tr>\n",
              "      <th>1997-05-19</th>\n",
              "      <td>-0.999832</td>\n",
              "    </tr>\n",
              "    <tr>\n",
              "      <th>1997-05-20</th>\n",
              "      <td>-0.999872</td>\n",
              "    </tr>\n",
              "    <tr>\n",
              "      <th>1997-05-21</th>\n",
              "      <td>-0.999983</td>\n",
              "    </tr>\n",
              "    <tr>\n",
              "      <th>...</th>\n",
              "      <td>...</td>\n",
              "    </tr>\n",
              "    <tr>\n",
              "      <th>2022-11-07</th>\n",
              "      <td>-0.029921</td>\n",
              "    </tr>\n",
              "    <tr>\n",
              "      <th>2022-11-08</th>\n",
              "      <td>-0.035819</td>\n",
              "    </tr>\n",
              "    <tr>\n",
              "      <th>2022-11-09</th>\n",
              "      <td>-0.076999</td>\n",
              "    </tr>\n",
              "    <tr>\n",
              "      <th>2022-11-10</th>\n",
              "      <td>0.035494</td>\n",
              "    </tr>\n",
              "    <tr>\n",
              "      <th>2022-11-11</th>\n",
              "      <td>0.080105</td>\n",
              "    </tr>\n",
              "  </tbody>\n",
              "</table>\n",
              "<p>6418 rows × 1 columns</p>\n",
              "</div>\n",
              "      <button class=\"colab-df-convert\" onclick=\"convertToInteractive('df-3c358a0e-16f1-4502-a4f3-0071e44b8971')\"\n",
              "              title=\"Convert this dataframe to an interactive table.\"\n",
              "              style=\"display:none;\">\n",
              "        \n",
              "  <svg xmlns=\"http://www.w3.org/2000/svg\" height=\"24px\"viewBox=\"0 0 24 24\"\n",
              "       width=\"24px\">\n",
              "    <path d=\"M0 0h24v24H0V0z\" fill=\"none\"/>\n",
              "    <path d=\"M18.56 5.44l.94 2.06.94-2.06 2.06-.94-2.06-.94-.94-2.06-.94 2.06-2.06.94zm-11 1L8.5 8.5l.94-2.06 2.06-.94-2.06-.94L8.5 2.5l-.94 2.06-2.06.94zm10 10l.94 2.06.94-2.06 2.06-.94-2.06-.94-.94-2.06-.94 2.06-2.06.94z\"/><path d=\"M17.41 7.96l-1.37-1.37c-.4-.4-.92-.59-1.43-.59-.52 0-1.04.2-1.43.59L10.3 9.45l-7.72 7.72c-.78.78-.78 2.05 0 2.83L4 21.41c.39.39.9.59 1.41.59.51 0 1.02-.2 1.41-.59l7.78-7.78 2.81-2.81c.8-.78.8-2.07 0-2.86zM5.41 20L4 18.59l7.72-7.72 1.47 1.35L5.41 20z\"/>\n",
              "  </svg>\n",
              "      </button>\n",
              "      \n",
              "  <style>\n",
              "    .colab-df-container {\n",
              "      display:flex;\n",
              "      flex-wrap:wrap;\n",
              "      gap: 12px;\n",
              "    }\n",
              "\n",
              "    .colab-df-convert {\n",
              "      background-color: #E8F0FE;\n",
              "      border: none;\n",
              "      border-radius: 50%;\n",
              "      cursor: pointer;\n",
              "      display: none;\n",
              "      fill: #1967D2;\n",
              "      height: 32px;\n",
              "      padding: 0 0 0 0;\n",
              "      width: 32px;\n",
              "    }\n",
              "\n",
              "    .colab-df-convert:hover {\n",
              "      background-color: #E2EBFA;\n",
              "      box-shadow: 0px 1px 2px rgba(60, 64, 67, 0.3), 0px 1px 3px 1px rgba(60, 64, 67, 0.15);\n",
              "      fill: #174EA6;\n",
              "    }\n",
              "\n",
              "    [theme=dark] .colab-df-convert {\n",
              "      background-color: #3B4455;\n",
              "      fill: #D2E3FC;\n",
              "    }\n",
              "\n",
              "    [theme=dark] .colab-df-convert:hover {\n",
              "      background-color: #434B5C;\n",
              "      box-shadow: 0px 1px 3px 1px rgba(0, 0, 0, 0.15);\n",
              "      filter: drop-shadow(0px 1px 2px rgba(0, 0, 0, 0.3));\n",
              "      fill: #FFFFFF;\n",
              "    }\n",
              "  </style>\n",
              "\n",
              "      <script>\n",
              "        const buttonEl =\n",
              "          document.querySelector('#df-3c358a0e-16f1-4502-a4f3-0071e44b8971 button.colab-df-convert');\n",
              "        buttonEl.style.display =\n",
              "          google.colab.kernel.accessAllowed ? 'block' : 'none';\n",
              "\n",
              "        async function convertToInteractive(key) {\n",
              "          const element = document.querySelector('#df-3c358a0e-16f1-4502-a4f3-0071e44b8971');\n",
              "          const dataTable =\n",
              "            await google.colab.kernel.invokeFunction('convertToInteractive',\n",
              "                                                     [key], {});\n",
              "          if (!dataTable) return;\n",
              "\n",
              "          const docLinkHtml = 'Like what you see? Visit the ' +\n",
              "            '<a target=\"_blank\" href=https://colab.research.google.com/notebooks/data_table.ipynb>data table notebook</a>'\n",
              "            + ' to learn more about interactive tables.';\n",
              "          element.innerHTML = '';\n",
              "          dataTable['output_type'] = 'display_data';\n",
              "          await google.colab.output.renderOutput(dataTable, element);\n",
              "          const docLink = document.createElement('div');\n",
              "          docLink.innerHTML = docLinkHtml;\n",
              "          element.appendChild(docLink);\n",
              "        }\n",
              "      </script>\n",
              "    </div>\n",
              "  </div>\n",
              "  "
            ]
          },
          "metadata": {},
          "execution_count": 19
        }
      ]
    },
    {
      "cell_type": "code",
      "source": [
        "\n",
        "def split_data(stock, lookback):\n",
        "    data_raw = stock.to_numpy() # convert to numpy array\n",
        "    data = []\n",
        "    \n",
        "    # create all possible sequences of length seq_len\n",
        "    for index in range(len(data_raw) - lookback): \n",
        "        data.append(data_raw[index: index + lookback])\n",
        "    \n",
        "    data = np.array(data);\n",
        "    test_set_size = int(np.round(0.2*data.shape[0]));\n",
        "    train_set_size = data.shape[0] - (test_set_size);\n",
        "    \n",
        "    x_train = data[:train_set_size,:-1,:]\n",
        "    y_train = data[:train_set_size,-1,:]\n",
        "    \n",
        "    x_test = data[train_set_size:,:-1]\n",
        "    y_test = data[train_set_size:,-1,:]\n",
        "    \n",
        "    return [x_train, y_train, x_test, y_test]\n",
        "\n",
        "lookback = 20 # choose sequence length\n",
        "x_train, y_train, x_test, y_test = split_data(price, lookback)"
      ],
      "metadata": {
        "id": "i6EZFdBT6Es6"
      },
      "execution_count": 20,
      "outputs": []
    },
    {
      "cell_type": "code",
      "source": [
        "# def split_data_into_steps(data_to_split, steps):\n",
        "#     X = []\n",
        "#     y = []\n",
        "#     for i in range(len(data_to_split) - steps + 1):\n",
        "#         X.append(data_to_split[i:i + steps, :-1])\n",
        "#         y.append(data_to_split[i + steps - 1, -1])\n",
        "\n",
        "#     return np.array(X), np.array(y)"
      ],
      "metadata": {
        "id": "6G-15PqHM0y9"
      },
      "execution_count": 21,
      "outputs": []
    },
    {
      "cell_type": "code",
      "source": [
        "# def split_data_into_train_test(X, y, split_size, date_index):\n",
        "#     split_idx = int(np.ceil(len(X) * split_size))\n",
        "    \n",
        "#     X_train = X[:split_idx]\n",
        "#     X_test = X[split_idx:]\n",
        "#     y_train = y[:split_idx].reshape(-1,1)\n",
        "#     y_test = y[split_idx:].reshape(-1,1)\n",
        "\n",
        "#     X_train_date = date_index[:split_idx]\n",
        "#     X_test_date = date_index[split_idx:]\n",
        "\n",
        "#     return X_train, X_test, y_train, y_test, X_train_date, X_test_date"
      ],
      "metadata": {
        "id": "vQT9ruXdNt7B"
      },
      "execution_count": 22,
      "outputs": []
    },
    {
      "cell_type": "code",
      "source": [
        "# X,y = split_data_into_steps(data.values, 2)\n",
        "# X_train, X_test, y_train, y_test, X_train_date, X_test_date = split_data_into_train_test(X, y, 0.8, data.index)\n",
        "# print('X.shape ', X.shape)\n",
        "# print('X_train.shape ', X_train.shape)\n",
        "# print('X_test.shape ', X_test.shape)\n",
        "# print('y_train.shape ', y_train.shape)\n",
        "# print('y_test.shape ', y_test.shape)"
      ],
      "metadata": {
        "id": "cnaN7WAFOzxf"
      },
      "execution_count": 23,
      "outputs": []
    },
    {
      "cell_type": "code",
      "source": [
        "\n",
        "x_train = torch.from_numpy(x_train).type(torch.Tensor)\n",
        "x_test = torch.from_numpy(x_test).type(torch.Tensor)\n",
        "y_train_lstm = torch.from_numpy(y_train).type(torch.Tensor)\n",
        "y_test_lstm = torch.from_numpy(y_test).type(torch.Tensor)\n",
        "y_train_gru = torch.from_numpy(y_train).type(torch.Tensor)\n",
        "y_test_gru = torch.from_numpy(y_test).type(torch.Tensor)"
      ],
      "metadata": {
        "id": "wDxf2jgE6Ccz"
      },
      "execution_count": 24,
      "outputs": []
    },
    {
      "cell_type": "code",
      "source": [
        "print(x_train.shape)\n",
        "# print(x_train)"
      ],
      "metadata": {
        "colab": {
          "base_uri": "https://localhost:8080/"
        },
        "id": "g9GSX1uLVdIe",
        "outputId": "8b39014c-cb28-4fee-a61a-982f18a7f3df"
      },
      "execution_count": 25,
      "outputs": [
        {
          "output_type": "stream",
          "name": "stdout",
          "text": [
            "torch.Size([5118, 19, 1])\n"
          ]
        }
      ]
    },
    {
      "cell_type": "code",
      "source": [
        "def train_network(num_epochs, model, criterion, optimiser, x_train, y_train):\n",
        "    results = []\n",
        "    # hist = np.zeros(num_epochs)\n",
        "    start_time = time.time()\n",
        "    lstm = []\n",
        "    for t in range(num_epochs):\n",
        "        y_train_pred = model(x_train)\n",
        "        loss = criterion(y_train_pred, y_train)\n",
        "        loss_value_train = loss.item()\n",
        "        print(\"Epoch \", t, \"MSE: \", loss_value_train)\n",
        "        # hist[t] = loss.item()\n",
        "        # loss_value = loss.item()\n",
        "        optimiser.zero_grad()\n",
        "        loss.backward()\n",
        "        optimiser.step()\n",
        "\n",
        "        results.append({'epoch': t, 'train_loss': loss_value_train})\n",
        "\n",
        "    training_time = time.time()-start_time\n",
        "    print(\"Training time: {}\".format(training_time))\n",
        "    return results"
      ],
      "metadata": {
        "id": "X-ACUnDF6HnS"
      },
      "execution_count": 66,
      "outputs": []
    },
    {
      "cell_type": "code",
      "source": [
        "def plot_loss_curve(train_results,  title):\n",
        "    epochs = []\n",
        "    loss_values =  []\n",
        "    for r in train_results:\n",
        "        epochs.append(r['epoch'])\n",
        "        loss_values.append(r['train_loss'])\n",
        "    plt.plot(epochs, loss_values)\n",
        "    plt.title(title + ' Loss curve')\n",
        "    plt.xlabel('Epoch')\n",
        "    plt.ylabel('Loss  value')\n",
        "    plt.show()\n",
        "    "
      ],
      "metadata": {
        "id": "P-mVYYdvPXUA"
      },
      "execution_count": 76,
      "outputs": []
    },
    {
      "cell_type": "code",
      "source": [
        "class LSTM(nn.Module):\n",
        "    def __init__(self, input_dim, hidden_dim, num_layers, output_dim):\n",
        "        super(LSTM, self).__init__()\n",
        "        self.hidden_dim = hidden_dim\n",
        "        self.num_layers = num_layers\n",
        "        \n",
        "        self.lstm = nn.LSTM(input_dim, hidden_dim, num_layers, batch_first=True)\n",
        "        self.fc = nn.Linear(hidden_dim, output_dim)\n",
        "        \n",
        "    def forward(self, x):\n",
        "        h0 = torch.zeros(self.num_layers, x.size(0), self.hidden_dim).requires_grad_()\n",
        "        c0 = torch.zeros(self.num_layers, x.size(0), self.hidden_dim).requires_grad_()\n",
        "        out, (hn, cn) = self.lstm(x, (h0.detach(), c0.detach()))\n",
        "        # print('out shape ', out.shape)\n",
        "        out = self.fc(out[:, -1, :]) \n",
        "        return out"
      ],
      "metadata": {
        "id": "hLWeQqNc6IMV"
      },
      "execution_count": 69,
      "outputs": []
    },
    {
      "cell_type": "code",
      "source": [
        "input_dim = x_train.shape[2]\n",
        "print('input_dim ', input_dim)\n",
        "hidden_dim = 32\n",
        "num_layers = 2\n",
        "output_dim = 1\n",
        "num_epochs = 10\n",
        "learning_rate = 0.01\n",
        "model_lstm = LSTM(input_dim=input_dim, hidden_dim=hidden_dim, output_dim=output_dim, num_layers=num_layers)\n",
        "criterion = torch.nn.MSELoss(reduction='mean')\n",
        "optimiser = torch.optim.Adam(model_lstm.parameters(), lr= learning_rate)\n",
        "train_results = train_network(num_epochs, model_lstm, criterion, optimiser, x_train, y_train_lstm)\n",
        "plot_loss_curve(train_results, 'LSTM')"
      ],
      "metadata": {
        "colab": {
          "base_uri": "https://localhost:8080/",
          "height": 514
        },
        "id": "3YTTXJej6KQY",
        "outputId": "ca9c4790-b6fe-407d-9e8a-c45f2d951a4d"
      },
      "execution_count": 72,
      "outputs": [
        {
          "output_type": "stream",
          "name": "stdout",
          "text": [
            "input_dim  1\n",
            "Epoch  0 MSE:  1.1145890951156616\n",
            "Epoch  1 MSE:  0.8225799798965454\n",
            "Epoch  2 MSE:  0.5225822925567627\n",
            "Epoch  3 MSE:  0.1495623141527176\n",
            "Epoch  4 MSE:  0.10373226553201675\n",
            "Epoch  5 MSE:  0.15151873230934143\n",
            "Epoch  6 MSE:  0.061064038425683975\n",
            "Epoch  7 MSE:  0.015415877103805542\n",
            "Epoch  8 MSE:  0.023494228720664978\n",
            "Epoch  9 MSE:  0.04497368261218071\n",
            "Training time: 4.183656454086304\n"
          ]
        },
        {
          "output_type": "display_data",
          "data": {
            "text/plain": [
              "<Figure size 432x288 with 1 Axes>"
            ],
            "image/png": "[encoded data removed]"
          },
          "metadata": {
            "needs_background": "light"
          }
        }
      ]
    },
    {
      "cell_type": "code",
      "source": [
        "class GRU(nn.Module):\n",
        "    def __init__(self, input_dim, hidden_dim, num_layers, output_dim):\n",
        "        super(GRU, self).__init__()\n",
        "        self.hidden_dim = hidden_dim\n",
        "        self.num_layers = num_layers\n",
        "        \n",
        "        self.gru = nn.GRU(input_dim, hidden_dim, num_layers, batch_first=True)\n",
        "        self.fc = nn.Linear(hidden_dim, output_dim)\n",
        "\n",
        "    def forward(self, x):\n",
        "        h0 = torch.zeros(self.num_layers, x.size(0), self.hidden_dim).requires_grad_()\n",
        "        out, (hn) = self.gru(x, (h0.detach()))\n",
        "        out = self.fc(out[:, -1, :]) \n",
        "        return out"
      ],
      "metadata": {
        "id": "mSupmE4M6Sqo"
      },
      "execution_count": 29,
      "outputs": []
    },
    {
      "cell_type": "code",
      "source": [
        "model_gru = GRU(input_dim=input_dim, hidden_dim=hidden_dim, output_dim=output_dim, num_layers=num_layers)\n",
        "criterion = torch.nn.MSELoss(reduction='mean')\n",
        "optimiser = torch.optim.Adam(model_gru.parameters(), lr=learning_rate)\n",
        "train_results = train_network(num_epochs, model_gru, criterion, optimiser, x_train, y_train)\n",
        "plot_loss_curve(train_results, 'GRU')"
      ],
      "metadata": {
        "colab": {
          "base_uri": "https://localhost:8080/",
          "height": 496
        },
        "id": "M3KJq_ql6UH3",
        "outputId": "9e8e8e4e-a2cc-4b94-f73a-d00f092b718b"
      },
      "execution_count": 74,
      "outputs": [
        {
          "output_type": "stream",
          "name": "stdout",
          "text": [
            "Epoch  0 MSE:  0.865327000617981\n",
            "Epoch  1 MSE:  0.3667895197868347\n",
            "Epoch  2 MSE:  0.06547009944915771\n",
            "Epoch  3 MSE:  0.05532516539096832\n",
            "Epoch  4 MSE:  0.1349274218082428\n",
            "Epoch  5 MSE:  0.0513402558863163\n",
            "Epoch  6 MSE:  0.00904292706400156\n",
            "Epoch  7 MSE:  0.03379792720079422\n",
            "Epoch  8 MSE:  0.06162906810641289\n",
            "Epoch  9 MSE:  0.06196833774447441\n",
            "Training time: 3.4808056354522705\n"
          ]
        },
        {
          "output_type": "display_data",
          "data": {
            "text/plain": [
              "<Figure size 432x288 with 1 Axes>"
            ],
            "image/png": "[encoded data removed]"
          },
          "metadata": {
            "needs_background": "light"
          }
        }
      ]
    },
    {
      "cell_type": "code",
      "source": [
        "class RNN(nn.Module):\n",
        "    def __init__(self, input_dim, hidden_dim, num_layers, output_dim):\n",
        "        super(RNN, self).__init__()\n",
        "        self.hidden_dim = hidden_dim\n",
        "        self.num_layers = num_layers\n",
        "        \n",
        "        self.rnn = nn.RNN(input_dim, hidden_dim, num_layers, batch_first=True)\n",
        "        self.fc = nn.Linear(hidden_dim, output_dim)\n",
        "\n",
        "    def forward(self, x):\n",
        "        h0 = torch.zeros(self.num_layers, x.size(0), self.hidden_dim).requires_grad_()\n",
        "        out, (hn) = self.rnn(x, (h0.detach()))\n",
        "        out = self.fc(out[:, -1, :]) \n",
        "        return out"
      ],
      "metadata": {
        "id": "zM7SFrP7DTek"
      },
      "execution_count": 33,
      "outputs": []
    },
    {
      "cell_type": "code",
      "source": [
        "model_rnn = RNN(input_dim=input_dim, hidden_dim=hidden_dim, output_dim=output_dim, num_layers=num_layers)\n",
        "criterion = torch.nn.MSELoss(reduction='mean')\n",
        "optimiser = torch.optim.Adam(model_rnn.parameters(), lr=learning_rate)\n",
        "train_results = train_network(num_epochs, model_rnn, criterion, optimiser, x_train, y_train)\n",
        "plot_loss_curve(train_results, 'RNN')"
      ],
      "metadata": {
        "id": "gXcIMfPJDWed",
        "outputId": "e445ac04-f0af-4ee1-9988-995bd82a2ef4",
        "colab": {
          "base_uri": "https://localhost:8080/",
          "height": 496
        }
      },
      "execution_count": 75,
      "outputs": [
        {
          "output_type": "stream",
          "name": "stdout",
          "text": [
            "Epoch  0 MSE:  0.7964843511581421\n",
            "Epoch  1 MSE:  0.15540039539337158\n",
            "Epoch  2 MSE:  0.06447222083806992\n",
            "Epoch  3 MSE:  0.08491308242082596\n",
            "Epoch  4 MSE:  0.0108391884714365\n",
            "Epoch  5 MSE:  0.05963480472564697\n",
            "Epoch  6 MSE:  0.054819270968437195\n",
            "Epoch  7 MSE:  0.018711458891630173\n",
            "Epoch  8 MSE:  0.014181381091475487\n",
            "Epoch  9 MSE:  0.03259025886654854\n",
            "Training time: 0.8744914531707764\n"
          ]
        },
        {
          "output_type": "display_data",
          "data": {
            "text/plain": [
              "<Figure size 432x288 with 1 Axes>"
            ],
            "image/png": "[encoded data removed]"
          },
          "metadata": {
            "needs_background": "light"
          }
        }
      ]
    },
    {
      "cell_type": "code",
      "source": [
        "# Learning rate tuning for RNN model\n",
        "num_epochs = 15\n",
        "lr_results = []\n",
        "for lr in [0.1, 0.01,  0.001,  0.0001]:\n",
        "    print('Learning rate = ', lr)\n",
        "    model_rnn = RNN(input_dim=input_dim, hidden_dim=hidden_dim, output_dim=output_dim, num_layers=num_layers)\n",
        "    criterion = torch.nn.MSELoss(reduction='mean')\n",
        "    optimiser = torch.optim.Adam(model_rnn.parameters(), lr=lr)\n",
        "    train_results = train_network(num_epochs, model_rnn, criterion, optimiser, x_train, y_train)\n",
        "    plot_loss_curve(train_results, 'RNN with Lr = ' + str(lr))\n",
        "    # get last mse\n",
        "    last_mse = [result['train_loss'] for result in  train_results if result['epoch']  == num_epochs  - 1][0]\n",
        "    lr_results.append({'lr': lr, 'mse': last_mse, 'train_results': train_results})\n",
        "\n",
        "lr_results_df = pd.DataFrame(lr_results)\n",
        "lr_results_df.sort_values(by=\"mse\", ascending=True)"
      ],
      "metadata": {
        "id": "XsX83TIsRHvI",
        "outputId": "8b46713c-328f-4ee9-e8a0-d483ba37b0d7",
        "colab": {
          "base_uri": "https://localhost:8080/",
          "height": 1000
        }
      },
      "execution_count": 86,
      "outputs": [
        {
          "output_type": "stream",
          "name": "stdout",
          "text": [
            "Learning rate =  0.1\n",
            "Epoch  0 MSE:  0.6237923502922058\n",
            "Epoch  1 MSE:  0.19131729006767273\n",
            "Epoch  2 MSE:  1.3117761611938477\n",
            "Epoch  3 MSE:  1.8092821836471558\n",
            "Epoch  4 MSE:  16.227157592773438\n",
            "Epoch  5 MSE:  4.188508033752441\n",
            "Epoch  6 MSE:  3.702991485595703\n",
            "Epoch  7 MSE:  0.8751067519187927\n",
            "Epoch  8 MSE:  0.031794071197509766\n",
            "Epoch  9 MSE:  0.9290366768836975\n",
            "Epoch  10 MSE:  0.14129604399204254\n",
            "Epoch  11 MSE:  0.36101821064949036\n",
            "Epoch  12 MSE:  0.3529793322086334\n",
            "Epoch  13 MSE:  0.14915043115615845\n",
            "Epoch  14 MSE:  0.018736127763986588\n",
            "Training time: 1.326542854309082\n"
          ]
        },
        {
          "output_type": "display_data",
          "data": {
            "text/plain": [
              "<Figure size 432x288 with 1 Axes>"
            ],
            "image/png": "[encoded data removed]"
          },
          "metadata": {
            "needs_background": "light"
          }
        },
        {
          "output_type": "stream",
          "name": "stdout",
          "text": [
            "Learning rate =  0.01\n",
            "Epoch  0 MSE:  0.8503121137619019\n",
            "Epoch  1 MSE:  0.1647813320159912\n",
            "Epoch  2 MSE:  0.07499711215496063\n",
            "Epoch  3 MSE:  0.14747704565525055\n",
            "Epoch  4 MSE:  0.042528558522462845\n",
            "Epoch  5 MSE:  0.023443715646862984\n",
            "Epoch  6 MSE:  0.07366373389959335\n",
            "Epoch  7 MSE:  0.05217595398426056\n",
            "Epoch  8 MSE:  0.018820788711309433\n",
            "Epoch  9 MSE:  0.014899840578436852\n",
            "Epoch  10 MSE:  0.027675561606884003\n",
            "Epoch  11 MSE:  0.03476564213633537\n",
            "Epoch  12 MSE:  0.029222644865512848\n",
            "Epoch  13 MSE:  0.01888645999133587\n",
            "Epoch  14 MSE:  0.014045601710677147\n",
            "Training time: 1.35099458694458\n"
          ]
        },
        {
          "output_type": "display_data",
          "data": {
            "text/plain": [
              "<Figure size 432x288 with 1 Axes>"
            ],
            "image/png": "[encoded data removed]"
          },
          "metadata": {
            "needs_background": "light"
          }
        },
        {
          "output_type": "stream",
          "name": "stdout",
          "text": [
            "Learning rate =  0.001\n",
            "Epoch  0 MSE:  0.643222987651825\n",
            "Epoch  1 MSE:  0.5502309799194336\n",
            "Epoch  2 MSE:  0.46130266785621643\n",
            "Epoch  3 MSE:  0.3771834373474121\n",
            "Epoch  4 MSE:  0.29895704984664917\n",
            "Epoch  5 MSE:  0.22779373824596405\n",
            "Epoch  6 MSE:  0.16493239998817444\n",
            "Epoch  7 MSE:  0.11163210868835449\n",
            "Epoch  8 MSE:  0.06910736113786697\n",
            "Epoch  9 MSE:  0.038351837545633316\n",
            "Epoch  10 MSE:  0.01981860026717186\n",
            "Epoch  11 MSE:  0.013013855554163456\n",
            "Epoch  12 MSE:  0.016120346263051033\n",
            "Epoch  13 MSE:  0.02587137743830681\n",
            "Epoch  14 MSE:  0.038054365664720535\n",
            "Training time: 1.3220300674438477\n"
          ]
        },
        {
          "output_type": "display_data",
          "data": {
            "text/plain": [
              "<Figure size 432x288 with 1 Axes>"
            ],
            "image/png": "[encoded data removed]"
          },
          "metadata": {
            "needs_background": "light"
          }
        },
        {
          "output_type": "stream",
          "name": "stdout",
          "text": [
            "Learning rate =  0.0001\n",
            "Epoch  0 MSE:  0.8532350659370422\n",
            "Epoch  1 MSE:  0.8449146747589111\n",
            "Epoch  2 MSE:  0.8366148471832275\n",
            "Epoch  3 MSE:  0.8283364176750183\n",
            "Epoch  4 MSE:  0.8200799822807312\n",
            "Epoch  5 MSE:  0.8118460178375244\n",
            "Epoch  6 MSE:  0.8036348223686218\n",
            "Epoch  7 MSE:  0.7954465746879578\n",
            "Epoch  8 MSE:  0.7872812747955322\n",
            "Epoch  9 MSE:  0.7791388630867004\n",
            "Epoch  10 MSE:  0.7710191011428833\n",
            "Epoch  11 MSE:  0.7629218101501465\n",
            "Epoch  12 MSE:  0.75484699010849\n",
            "Epoch  13 MSE:  0.7467945218086243\n",
            "Epoch  14 MSE:  0.7387641668319702\n",
            "Training time: 1.615807056427002\n"
          ]
        },
        {
          "output_type": "display_data",
          "data": {
            "text/plain": [
              "<Figure size 432x288 with 1 Axes>"
            ],
            "image/png": "[encoded data removed]"
          },
          "metadata": {
            "needs_background": "light"
          }
        },
        {
          "output_type": "execute_result",
          "data": {
            "text/plain": [
              "       lr       mse                                      train_results\n",
              "1  0.0100  0.014046  [{'epoch': 0, 'train_loss': 0.8503121137619019...\n",
              "0  0.1000  0.018736  [{'epoch': 0, 'train_loss': 0.6237923502922058...\n",
              "2  0.0010  0.038054  [{'epoch': 0, 'train_loss': 0.643222987651825}...\n",
              "3  0.0001  0.738764  [{'epoch': 0, 'train_loss': 0.8532350659370422..."
            ],
            "text/html": [
              "\n",
              "  <div id=\"df-4b0f25d5-575d-4e58-ac89-b30a666e7fc5\">\n",
              "    <div class=\"colab-df-container\">\n",
              "      <div>\n",
              "<style scoped>\n",
              "    .dataframe tbody tr th:only-of-type {\n",
              "        vertical-align: middle;\n",
              "    }\n",
              "\n",
              "    .dataframe tbody tr th {\n",
              "        vertical-align: top;\n",
              "    }\n",
              "\n",
              "    .dataframe thead th {\n",
              "        text-align: right;\n",
              "    }\n",
              "</style>\n",
              "<table border=\"1\" class=\"dataframe\">\n",
              "  <thead>\n",
              "    <tr style=\"text-align: right;\">\n",
              "      <th></th>\n",
              "      <th>lr</th>\n",
              "      <th>mse</th>\n",
              "      <th>train_results</th>\n",
              "    </tr>\n",
              "  </thead>\n",
              "  <tbody>\n",
              "    <tr>\n",
              "      <th>1</th>\n",
              "      <td>0.0100</td>\n",
              "      <td>0.014046</td>\n",
              "      <td>[{'epoch': 0, 'train_loss': 0.8503121137619019...</td>\n",
              "    </tr>\n",
              "    <tr>\n",
              "      <th>0</th>\n",
              "      <td>0.1000</td>\n",
              "      <td>0.018736</td>\n",
              "      <td>[{'epoch': 0, 'train_loss': 0.6237923502922058...</td>\n",
              "    </tr>\n",
              "    <tr>\n",
              "      <th>2</th>\n",
              "      <td>0.0010</td>\n",
              "      <td>0.038054</td>\n",
              "      <td>[{'epoch': 0, 'train_loss': 0.643222987651825}...</td>\n",
              "    </tr>\n",
              "    <tr>\n",
              "      <th>3</th>\n",
              "      <td>0.0001</td>\n",
              "      <td>0.738764</td>\n",
              "      <td>[{'epoch': 0, 'train_loss': 0.8532350659370422...</td>\n",
              "    </tr>\n",
              "  </tbody>\n",
              "</table>\n",
              "</div>\n",
              "      <button class=\"colab-df-convert\" onclick=\"convertToInteractive('df-4b0f25d5-575d-4e58-ac89-b30a666e7fc5')\"\n",
              "              title=\"Convert this dataframe to an interactive table.\"\n",
              "              style=\"display:none;\">\n",
              "        \n",
              "  <svg xmlns=\"http://www.w3.org/2000/svg\" height=\"24px\"viewBox=\"0 0 24 24\"\n",
              "       width=\"24px\">\n",
              "    <path d=\"M0 0h24v24H0V0z\" fill=\"none\"/>\n",
              "    <path d=\"M18.56 5.44l.94 2.06.94-2.06 2.06-.94-2.06-.94-.94-2.06-.94 2.06-2.06.94zm-11 1L8.5 8.5l.94-2.06 2.06-.94-2.06-.94L8.5 2.5l-.94 2.06-2.06.94zm10 10l.94 2.06.94-2.06 2.06-.94-2.06-.94-.94-2.06-.94 2.06-2.06.94z\"/><path d=\"M17.41 7.96l-1.37-1.37c-.4-.4-.92-.59-1.43-.59-.52 0-1.04.2-1.43.59L10.3 9.45l-7.72 7.72c-.78.78-.78 2.05 0 2.83L4 21.41c.39.39.9.59 1.41.59.51 0 1.02-.2 1.41-.59l7.78-7.78 2.81-2.81c.8-.78.8-2.07 0-2.86zM5.41 20L4 18.59l7.72-7.72 1.47 1.35L5.41 20z\"/>\n",
              "  </svg>\n",
              "      </button>\n",
              "      \n",
              "  <style>\n",
              "    .colab-df-container {\n",
              "      display:flex;\n",
              "      flex-wrap:wrap;\n",
              "      gap: 12px;\n",
              "    }\n",
              "\n",
              "    .colab-df-convert {\n",
              "      background-color: #E8F0FE;\n",
              "      border: none;\n",
              "      border-radius: 50%;\n",
              "      cursor: pointer;\n",
              "      display: none;\n",
              "      fill: #1967D2;\n",
              "      height: 32px;\n",
              "      padding: 0 0 0 0;\n",
              "      width: 32px;\n",
              "    }\n",
              "\n",
              "    .colab-df-convert:hover {\n",
              "      background-color: #E2EBFA;\n",
              "      box-shadow: 0px 1px 2px rgba(60, 64, 67, 0.3), 0px 1px 3px 1px rgba(60, 64, 67, 0.15);\n",
              "      fill: #174EA6;\n",
              "    }\n",
              "\n",
              "    [theme=dark] .colab-df-convert {\n",
              "      background-color: #3B4455;\n",
              "      fill: #D2E3FC;\n",
              "    }\n",
              "\n",
              "    [theme=dark] .colab-df-convert:hover {\n",
              "      background-color: #434B5C;\n",
              "      box-shadow: 0px 1px 3px 1px rgba(0, 0, 0, 0.15);\n",
              "      filter: drop-shadow(0px 1px 2px rgba(0, 0, 0, 0.3));\n",
              "      fill: #FFFFFF;\n",
              "    }\n",
              "  </style>\n",
              "\n",
              "      <script>\n",
              "        const buttonEl =\n",
              "          document.querySelector('#df-4b0f25d5-575d-4e58-ac89-b30a666e7fc5 button.colab-df-convert');\n",
              "        buttonEl.style.display =\n",
              "          google.colab.kernel.accessAllowed ? 'block' : 'none';\n",
              "\n",
              "        async function convertToInteractive(key) {\n",
              "          const element = document.querySelector('#df-4b0f25d5-575d-4e58-ac89-b30a666e7fc5');\n",
              "          const dataTable =\n",
              "            await google.colab.kernel.invokeFunction('convertToInteractive',\n",
              "                                                     [key], {});\n",
              "          if (!dataTable) return;\n",
              "\n",
              "          const docLinkHtml = 'Like what you see? Visit the ' +\n",
              "            '<a target=\"_blank\" href=https://colab.research.google.com/notebooks/data_table.ipynb>data table notebook</a>'\n",
              "            + ' to learn more about interactive tables.';\n",
              "          element.innerHTML = '';\n",
              "          dataTable['output_type'] = 'display_data';\n",
              "          await google.colab.output.renderOutput(dataTable, element);\n",
              "          const docLink = document.createElement('div');\n",
              "          docLink.innerHTML = docLinkHtml;\n",
              "          element.appendChild(docLink);\n",
              "        }\n",
              "      </script>\n",
              "    </div>\n",
              "  </div>\n",
              "  "
            ]
          },
          "metadata": {},
          "execution_count": 86
        }
      ]
    },
    {
      "cell_type": "code",
      "source": [
        "# Learning rate tuning for LSTM model\n",
        "num_epochs = 15\n",
        "lr_results = []\n",
        "for lr in [0.1, 0.01,  0.001,  0.0001]:\n",
        "    print('Learning rate = ', lr)\n",
        "    model = LSTM(input_dim=input_dim, hidden_dim=hidden_dim, output_dim=output_dim, num_layers=num_layers)\n",
        "    criterion = torch.nn.MSELoss(reduction='mean')\n",
        "    optimiser = torch.optim.Adam(model.parameters(), lr=lr)\n",
        "    train_results = train_network(num_epochs, model, criterion, optimiser, x_train, y_train)\n",
        "    plot_loss_curve(train_results, 'RNN with Lr = ' + str(lr))\n",
        "    # get last mse\n",
        "    last_mse = [result['train_loss'] for result in  train_results if result['epoch']  == num_epochs  - 1][0]\n",
        "    lr_results.append({'lr': lr, 'mse': last_mse, 'train_results': train_results})\n",
        "\n",
        "lr_results_df = pd.DataFrame(lr_results)\n",
        "lr_results_df.sort_values(by=\"mse\", ascending=True)"
      ],
      "metadata": {
        "id": "2ppHZnIfTyM-",
        "outputId": "8f2d9fdc-3646-4bb1-8849-10e98c689ce3",
        "colab": {
          "base_uri": "https://localhost:8080/",
          "height": 1000
        }
      },
      "execution_count": 87,
      "outputs": [
        {
          "output_type": "stream",
          "name": "stdout",
          "text": [
            "Learning rate =  0.1\n",
            "Epoch  0 MSE:  0.6374721527099609\n",
            "Epoch  1 MSE:  3.8876919746398926\n",
            "Epoch  2 MSE:  0.42325645685195923\n",
            "Epoch  3 MSE:  0.16160467267036438\n",
            "Epoch  4 MSE:  0.017067817971110344\n",
            "Epoch  5 MSE:  0.13153016567230225\n",
            "Epoch  6 MSE:  0.15794220566749573\n",
            "Epoch  7 MSE:  0.0904245674610138\n",
            "Epoch  8 MSE:  0.033697694540023804\n",
            "Epoch  9 MSE:  0.018288280814886093\n",
            "Epoch  10 MSE:  0.03612056374549866\n",
            "Epoch  11 MSE:  0.025734934955835342\n",
            "Epoch  12 MSE:  0.015559181571006775\n",
            "Epoch  13 MSE:  0.02320137619972229\n",
            "Epoch  14 MSE:  0.027265887707471848\n",
            "Training time: 6.460925102233887\n"
          ]
        },
        {
          "output_type": "display_data",
          "data": {
            "text/plain": [
              "<Figure size 432x288 with 1 Axes>"
            ],
            "image/png": "[encoded data removed]"
          },
          "metadata": {
            "needs_background": "light"
          }
        },
        {
          "output_type": "stream",
          "name": "stdout",
          "text": [
            "Learning rate =  0.01\n",
            "Epoch  0 MSE:  0.9336367845535278\n",
            "Epoch  1 MSE:  0.7188867926597595\n",
            "Epoch  2 MSE:  0.48173537850379944\n",
            "Epoch  3 MSE:  0.1771538406610489\n",
            "Epoch  4 MSE:  0.0217445008456707\n",
            "Epoch  5 MSE:  0.17766322195529938\n",
            "Epoch  6 MSE:  0.12094473838806152\n",
            "Epoch  7 MSE:  0.041792336851358414\n",
            "Epoch  8 MSE:  0.014380949549376965\n",
            "Epoch  9 MSE:  0.024752506986260414\n",
            "Epoch  10 MSE:  0.04261203110218048\n",
            "Epoch  11 MSE:  0.051646530628204346\n",
            "Epoch  12 MSE:  0.05037369206547737\n",
            "Epoch  13 MSE:  0.0424702912569046\n",
            "Epoch  14 MSE:  0.03218156844377518\n",
            "Training time: 6.866665840148926\n"
          ]
        },
        {
          "output_type": "display_data",
          "data": {
            "text/plain": [
              "<Figure size 432x288 with 1 Axes>"
            ],
            "image/png": "[encoded data removed]"
          },
          "metadata": {
            "needs_background": "light"
          }
        },
        {
          "output_type": "stream",
          "name": "stdout",
          "text": [
            "Learning rate =  0.001\n",
            "Epoch  0 MSE:  0.5069724917411804\n",
            "Epoch  1 MSE:  0.48562705516815186\n",
            "Epoch  2 MSE:  0.46468356251716614\n",
            "Epoch  3 MSE:  0.4438899755477905\n",
            "Epoch  4 MSE:  0.4231257438659668\n",
            "Epoch  5 MSE:  0.40230509638786316\n",
            "Epoch  6 MSE:  0.3813389837741852\n",
            "Epoch  7 MSE:  0.36014050245285034\n",
            "Epoch  8 MSE:  0.3386298418045044\n",
            "Epoch  9 MSE:  0.31673380732536316\n",
            "Epoch  10 MSE:  0.2943846583366394\n",
            "Epoch  11 MSE:  0.2715209424495697\n",
            "Epoch  12 MSE:  0.24809333682060242\n",
            "Epoch  13 MSE:  0.22407427430152893\n",
            "Epoch  14 MSE:  0.19947239756584167\n",
            "Training time: 7.149503469467163\n"
          ]
        },
        {
          "output_type": "display_data",
          "data": {
            "text/plain": [
              "<Figure size 432x288 with 1 Axes>"
            ],
            "image/png": "[encoded data removed]"
          },
          "metadata": {
            "needs_background": "light"
          }
        },
        {
          "output_type": "stream",
          "name": "stdout",
          "text": [
            "Learning rate =  0.0001\n",
            "Epoch  0 MSE:  0.8745563626289368\n",
            "Epoch  1 MSE:  0.8714807033538818\n",
            "Epoch  2 MSE:  0.8684088587760925\n",
            "Epoch  3 MSE:  0.8653407692909241\n",
            "Epoch  4 MSE:  0.8622762560844421\n",
            "Epoch  5 MSE:  0.8592153191566467\n",
            "Epoch  6 MSE:  0.8561579585075378\n",
            "Epoch  7 MSE:  0.8531038761138916\n",
            "Epoch  8 MSE:  0.8500526547431946\n",
            "Epoch  9 MSE:  0.847004234790802\n",
            "Epoch  10 MSE:  0.8439580798149109\n",
            "Epoch  11 MSE:  0.840913712978363\n",
            "Epoch  12 MSE:  0.8378707766532898\n",
            "Epoch  13 MSE:  0.834828794002533\n",
            "Epoch  14 MSE:  0.8317872881889343\n",
            "Training time: 7.045902490615845\n"
          ]
        },
        {
          "output_type": "display_data",
          "data": {
            "text/plain": [
              "<Figure size 432x288 with 1 Axes>"
            ],
            "image/png": "[encoded data removed]"
          },
          "metadata": {
            "needs_background": "light"
          }
        },
        {
          "output_type": "execute_result",
          "data": {
            "text/plain": [
              "       lr       mse                                      train_results\n",
              "0  0.1000  0.027266  [{'epoch': 0, 'train_loss': 0.6374721527099609...\n",
              "1  0.0100  0.032182  [{'epoch': 0, 'train_loss': 0.9336367845535278...\n",
              "2  0.0010  0.199472  [{'epoch': 0, 'train_loss': 0.5069724917411804...\n",
              "3  0.0001  0.831787  [{'epoch': 0, 'train_loss': 0.8745563626289368..."
            ],
            "text/html": [
              "\n",
              "  <div id=\"df-4d44869b-7637-481c-bb7c-b65e2157a3ac\">\n",
              "    <div class=\"colab-df-container\">\n",
              "      <div>\n",
              "<style scoped>\n",
              "    .dataframe tbody tr th:only-of-type {\n",
              "        vertical-align: middle;\n",
              "    }\n",
              "\n",
              "    .dataframe tbody tr th {\n",
              "        vertical-align: top;\n",
              "    }\n",
              "\n",
              "    .dataframe thead th {\n",
              "        text-align: right;\n",
              "    }\n",
              "</style>\n",
              "<table border=\"1\" class=\"dataframe\">\n",
              "  <thead>\n",
              "    <tr style=\"text-align: right;\">\n",
              "      <th></th>\n",
              "      <th>lr</th>\n",
              "      <th>mse</th>\n",
              "      <th>train_results</th>\n",
              "    </tr>\n",
              "  </thead>\n",
              "  <tbody>\n",
              "    <tr>\n",
              "      <th>0</th>\n",
              "      <td>0.1000</td>\n",
              "      <td>0.027266</td>\n",
              "      <td>[{'epoch': 0, 'train_loss': 0.6374721527099609...</td>\n",
              "    </tr>\n",
              "    <tr>\n",
              "      <th>1</th>\n",
              "      <td>0.0100</td>\n",
              "      <td>0.032182</td>\n",
              "      <td>[{'epoch': 0, 'train_loss': 0.9336367845535278...</td>\n",
              "    </tr>\n",
              "    <tr>\n",
              "      <th>2</th>\n",
              "      <td>0.0010</td>\n",
              "      <td>0.199472</td>\n",
              "      <td>[{'epoch': 0, 'train_loss': 0.5069724917411804...</td>\n",
              "    </tr>\n",
              "    <tr>\n",
              "      <th>3</th>\n",
              "      <td>0.0001</td>\n",
              "      <td>0.831787</td>\n",
              "      <td>[{'epoch': 0, 'train_loss': 0.8745563626289368...</td>\n",
              "    </tr>\n",
              "  </tbody>\n",
              "</table>\n",
              "</div>\n",
              "      <button class=\"colab-df-convert\" onclick=\"convertToInteractive('df-4d44869b-7637-481c-bb7c-b65e2157a3ac')\"\n",
              "              title=\"Convert this dataframe to an interactive table.\"\n",
              "              style=\"display:none;\">\n",
              "        \n",
              "  <svg xmlns=\"http://www.w3.org/2000/svg\" height=\"24px\"viewBox=\"0 0 24 24\"\n",
              "       width=\"24px\">\n",
              "    <path d=\"M0 0h24v24H0V0z\" fill=\"none\"/>\n",
              "    <path d=\"M18.56 5.44l.94 2.06.94-2.06 2.06-.94-2.06-.94-.94-2.06-.94 2.06-2.06.94zm-11 1L8.5 8.5l.94-2.06 2.06-.94-2.06-.94L8.5 2.5l-.94 2.06-2.06.94zm10 10l.94 2.06.94-2.06 2.06-.94-2.06-.94-.94-2.06-.94 2.06-2.06.94z\"/><path d=\"M17.41 7.96l-1.37-1.37c-.4-.4-.92-.59-1.43-.59-.52 0-1.04.2-1.43.59L10.3 9.45l-7.72 7.72c-.78.78-.78 2.05 0 2.83L4 21.41c.39.39.9.59 1.41.59.51 0 1.02-.2 1.41-.59l7.78-7.78 2.81-2.81c.8-.78.8-2.07 0-2.86zM5.41 20L4 18.59l7.72-7.72 1.47 1.35L5.41 20z\"/>\n",
              "  </svg>\n",
              "      </button>\n",
              "      \n",
              "  <style>\n",
              "    .colab-df-container {\n",
              "      display:flex;\n",
              "      flex-wrap:wrap;\n",
              "      gap: 12px;\n",
              "    }\n",
              "\n",
              "    .colab-df-convert {\n",
              "      background-color: #E8F0FE;\n",
              "      border: none;\n",
              "      border-radius: 50%;\n",
              "      cursor: pointer;\n",
              "      display: none;\n",
              "      fill: #1967D2;\n",
              "      height: 32px;\n",
              "      padding: 0 0 0 0;\n",
              "      width: 32px;\n",
              "    }\n",
              "\n",
              "    .colab-df-convert:hover {\n",
              "      background-color: #E2EBFA;\n",
              "      box-shadow: 0px 1px 2px rgba(60, 64, 67, 0.3), 0px 1px 3px 1px rgba(60, 64, 67, 0.15);\n",
              "      fill: #174EA6;\n",
              "    }\n",
              "\n",
              "    [theme=dark] .colab-df-convert {\n",
              "      background-color: #3B4455;\n",
              "      fill: #D2E3FC;\n",
              "    }\n",
              "\n",
              "    [theme=dark] .colab-df-convert:hover {\n",
              "      background-color: #434B5C;\n",
              "      box-shadow: 0px 1px 3px 1px rgba(0, 0, 0, 0.15);\n",
              "      filter: drop-shadow(0px 1px 2px rgba(0, 0, 0, 0.3));\n",
              "      fill: #FFFFFF;\n",
              "    }\n",
              "  </style>\n",
              "\n",
              "      <script>\n",
              "        const buttonEl =\n",
              "          document.querySelector('#df-4d44869b-7637-481c-bb7c-b65e2157a3ac button.colab-df-convert');\n",
              "        buttonEl.style.display =\n",
              "          google.colab.kernel.accessAllowed ? 'block' : 'none';\n",
              "\n",
              "        async function convertToInteractive(key) {\n",
              "          const element = document.querySelector('#df-4d44869b-7637-481c-bb7c-b65e2157a3ac');\n",
              "          const dataTable =\n",
              "            await google.colab.kernel.invokeFunction('convertToInteractive',\n",
              "                                                     [key], {});\n",
              "          if (!dataTable) return;\n",
              "\n",
              "          const docLinkHtml = 'Like what you see? Visit the ' +\n",
              "            '<a target=\"_blank\" href=https://colab.research.google.com/notebooks/data_table.ipynb>data table notebook</a>'\n",
              "            + ' to learn more about interactive tables.';\n",
              "          element.innerHTML = '';\n",
              "          dataTable['output_type'] = 'display_data';\n",
              "          await google.colab.output.renderOutput(dataTable, element);\n",
              "          const docLink = document.createElement('div');\n",
              "          docLink.innerHTML = docLinkHtml;\n",
              "          element.appendChild(docLink);\n",
              "        }\n",
              "      </script>\n",
              "    </div>\n",
              "  </div>\n",
              "  "
            ]
          },
          "metadata": {},
          "execution_count": 87
        }
      ]
    },
    {
      "cell_type": "code",
      "source": [
        "# Learning rate tuning for GRU model\n",
        "num_epochs = 15\n",
        "lr_results = []\n",
        "for lr in [0.1, 0.01,  0.001,  0.0001]:\n",
        "    print('Learning rate = ', lr)\n",
        "    model = GRU(input_dim=input_dim, hidden_dim=hidden_dim, output_dim=output_dim, num_layers=num_layers)\n",
        "    criterion = torch.nn.MSELoss(reduction='mean')\n",
        "    optimiser = torch.optim.Adam(model.parameters(), lr=lr)\n",
        "    train_results = train_network(num_epochs, model, criterion, optimiser, x_train, y_train)\n",
        "    plot_loss_curve(train_results, 'RNN with Lr = ' + str(lr))\n",
        "    # get last mse\n",
        "    last_mse = [result['train_loss'] for result in  train_results if result['epoch']  == num_epochs  - 1][0]\n",
        "    lr_results.append({'lr': lr, 'mse': last_mse, 'train_results': train_results})\n",
        "\n",
        "lr_results_df = pd.DataFrame(lr_results)\n",
        "lr_results_df.sort_values(by=\"mse\", ascending=True)"
      ],
      "metadata": {
        "id": "PaOIHykvUFbm",
        "outputId": "35d75d49-fa3b-43f3-bf00-ce39bed73e98",
        "colab": {
          "base_uri": "https://localhost:8080/",
          "height": 1000
        }
      },
      "execution_count": 88,
      "outputs": [
        {
          "output_type": "stream",
          "name": "stdout",
          "text": [
            "Learning rate =  0.1\n",
            "Epoch  0 MSE:  0.7806419134140015\n",
            "Epoch  1 MSE:  3.502342462539673\n",
            "Epoch  2 MSE:  1.1534231901168823\n",
            "Epoch  3 MSE:  0.37238264083862305\n",
            "Epoch  4 MSE:  0.9952492117881775\n",
            "Epoch  5 MSE:  10.697014808654785\n",
            "Epoch  6 MSE:  2.2529854774475098\n",
            "Epoch  7 MSE:  0.5570039749145508\n",
            "Epoch  8 MSE:  0.23643165826797485\n",
            "Epoch  9 MSE:  0.09453309327363968\n",
            "Epoch  10 MSE:  0.3646044433116913\n",
            "Epoch  11 MSE:  0.09227915853261948\n",
            "Epoch  12 MSE:  0.027337877079844475\n",
            "Epoch  13 MSE:  0.08142167329788208\n",
            "Epoch  14 MSE:  0.02586216852068901\n",
            "Training time: 5.804396629333496\n"
          ]
        },
        {
          "output_type": "display_data",
          "data": {
            "text/plain": [
              "<Figure size 432x288 with 1 Axes>"
            ],
            "image/png": "[encoded data removed]"
          },
          "metadata": {
            "needs_background": "light"
          }
        },
        {
          "output_type": "stream",
          "name": "stdout",
          "text": [
            "Learning rate =  0.01\n",
            "Epoch  0 MSE:  0.7991613149642944\n",
            "Epoch  1 MSE:  0.3235669434070587\n",
            "Epoch  2 MSE:  0.03624558821320534\n",
            "Epoch  3 MSE:  0.12719948589801788\n",
            "Epoch  4 MSE:  0.12339473515748978\n",
            "Epoch  5 MSE:  0.029202546924352646\n",
            "Epoch  6 MSE:  0.01415292639285326\n",
            "Epoch  7 MSE:  0.04637475684285164\n",
            "Epoch  8 MSE:  0.06569038331508636\n",
            "Epoch  9 MSE:  0.05889494717121124\n",
            "Epoch  10 MSE:  0.03788845241069794\n",
            "Epoch  11 MSE:  0.01806235872209072\n",
            "Epoch  12 MSE:  0.0099750692024827\n",
            "Epoch  13 MSE:  0.015131916850805283\n",
            "Epoch  14 MSE:  0.025664072483778\n",
            "Training time: 5.531306028366089\n"
          ]
        },
        {
          "output_type": "display_data",
          "data": {
            "text/plain": [
              "<Figure size 432x288 with 1 Axes>"
            ],
            "image/png": "[encoded data removed]"
          },
          "metadata": {
            "needs_background": "light"
          }
        },
        {
          "output_type": "stream",
          "name": "stdout",
          "text": [
            "Learning rate =  0.001\n",
            "Epoch  0 MSE:  0.594494640827179\n",
            "Epoch  1 MSE:  0.5424798727035522\n",
            "Epoch  2 MSE:  0.492352694272995\n",
            "Epoch  3 MSE:  0.44408655166625977\n",
            "Epoch  4 MSE:  0.397643506526947\n",
            "Epoch  5 MSE:  0.35298576951026917\n",
            "Epoch  6 MSE:  0.31007784605026245\n",
            "Epoch  7 MSE:  0.2689223885536194\n",
            "Epoch  8 MSE:  0.22958435118198395\n",
            "Epoch  9 MSE:  0.19220277667045593\n",
            "Epoch  10 MSE:  0.1570008099079132\n",
            "Epoch  11 MSE:  0.12429648637771606\n",
            "Epoch  12 MSE:  0.09451089054346085\n",
            "Epoch  13 MSE:  0.06816988438367844\n",
            "Epoch  14 MSE:  0.045892003923654556\n",
            "Training time: 5.132084608078003\n"
          ]
        },
        {
          "output_type": "display_data",
          "data": {
            "text/plain": [
              "<Figure size 432x288 with 1 Axes>"
            ],
            "image/png": "[encoded data removed]"
          },
          "metadata": {
            "needs_background": "light"
          }
        },
        {
          "output_type": "stream",
          "name": "stdout",
          "text": [
            "Learning rate =  0.0001\n",
            "Epoch  0 MSE:  1.2418826818466187\n",
            "Epoch  1 MSE:  1.2337037324905396\n",
            "Epoch  2 MSE:  1.2255606651306152\n",
            "Epoch  3 MSE:  1.217454195022583\n",
            "Epoch  4 MSE:  1.2093846797943115\n",
            "Epoch  5 MSE:  1.2013527154922485\n",
            "Epoch  6 MSE:  1.193358063697815\n",
            "Epoch  7 MSE:  1.1854013204574585\n",
            "Epoch  8 MSE:  1.1774823665618896\n",
            "Epoch  9 MSE:  1.1696007251739502\n",
            "Epoch  10 MSE:  1.1617565155029297\n",
            "Epoch  11 MSE:  1.15394926071167\n",
            "Epoch  12 MSE:  1.1461783647537231\n",
            "Epoch  13 MSE:  1.1384433507919312\n",
            "Epoch  14 MSE:  1.1307436227798462\n",
            "Training time: 5.061620235443115\n"
          ]
        },
        {
          "output_type": "display_data",
          "data": {
            "text/plain": [
              "<Figure size 432x288 with 1 Axes>"
            ],
            "image/png": "[encoded data removed]"
          },
          "metadata": {
            "needs_background": "light"
          }
        },
        {
          "output_type": "execute_result",
          "data": {
            "text/plain": [
              "       lr       mse                                      train_results\n",
              "1  0.0100  0.025664  [{'epoch': 0, 'train_loss': 0.7991613149642944...\n",
              "0  0.1000  0.025862  [{'epoch': 0, 'train_loss': 0.7806419134140015...\n",
              "2  0.0010  0.045892  [{'epoch': 0, 'train_loss': 0.594494640827179}...\n",
              "3  0.0001  1.130744  [{'epoch': 0, 'train_loss': 1.2418826818466187..."
            ],
            "text/html": [
              "\n",
              "  <div id=\"df-7e5adc66-fdf1-4a60-876a-a331633700ca\">\n",
              "    <div class=\"colab-df-container\">\n",
              "      <div>\n",
              "<style scoped>\n",
              "    .dataframe tbody tr th:only-of-type {\n",
              "        vertical-align: middle;\n",
              "    }\n",
              "\n",
              "    .dataframe tbody tr th {\n",
              "        vertical-align: top;\n",
              "    }\n",
              "\n",
              "    .dataframe thead th {\n",
              "        text-align: right;\n",
              "    }\n",
              "</style>\n",
              "<table border=\"1\" class=\"dataframe\">\n",
              "  <thead>\n",
              "    <tr style=\"text-align: right;\">\n",
              "      <th></th>\n",
              "      <th>lr</th>\n",
              "      <th>mse</th>\n",
              "      <th>train_results</th>\n",
              "    </tr>\n",
              "  </thead>\n",
              "  <tbody>\n",
              "    <tr>\n",
              "      <th>1</th>\n",
              "      <td>0.0100</td>\n",
              "      <td>0.025664</td>\n",
              "      <td>[{'epoch': 0, 'train_loss': 0.7991613149642944...</td>\n",
              "    </tr>\n",
              "    <tr>\n",
              "      <th>0</th>\n",
              "      <td>0.1000</td>\n",
              "      <td>0.025862</td>\n",
              "      <td>[{'epoch': 0, 'train_loss': 0.7806419134140015...</td>\n",
              "    </tr>\n",
              "    <tr>\n",
              "      <th>2</th>\n",
              "      <td>0.0010</td>\n",
              "      <td>0.045892</td>\n",
              "      <td>[{'epoch': 0, 'train_loss': 0.594494640827179}...</td>\n",
              "    </tr>\n",
              "    <tr>\n",
              "      <th>3</th>\n",
              "      <td>0.0001</td>\n",
              "      <td>1.130744</td>\n",
              "      <td>[{'epoch': 0, 'train_loss': 1.2418826818466187...</td>\n",
              "    </tr>\n",
              "  </tbody>\n",
              "</table>\n",
              "</div>\n",
              "      <button class=\"colab-df-convert\" onclick=\"convertToInteractive('df-7e5adc66-fdf1-4a60-876a-a331633700ca')\"\n",
              "              title=\"Convert this dataframe to an interactive table.\"\n",
              "              style=\"display:none;\">\n",
              "        \n",
              "  <svg xmlns=\"http://www.w3.org/2000/svg\" height=\"24px\"viewBox=\"0 0 24 24\"\n",
              "       width=\"24px\">\n",
              "    <path d=\"M0 0h24v24H0V0z\" fill=\"none\"/>\n",
              "    <path d=\"M18.56 5.44l.94 2.06.94-2.06 2.06-.94-2.06-.94-.94-2.06-.94 2.06-2.06.94zm-11 1L8.5 8.5l.94-2.06 2.06-.94-2.06-.94L8.5 2.5l-.94 2.06-2.06.94zm10 10l.94 2.06.94-2.06 2.06-.94-2.06-.94-.94-2.06-.94 2.06-2.06.94z\"/><path d=\"M17.41 7.96l-1.37-1.37c-.4-.4-.92-.59-1.43-.59-.52 0-1.04.2-1.43.59L10.3 9.45l-7.72 7.72c-.78.78-.78 2.05 0 2.83L4 21.41c.39.39.9.59 1.41.59.51 0 1.02-.2 1.41-.59l7.78-7.78 2.81-2.81c.8-.78.8-2.07 0-2.86zM5.41 20L4 18.59l7.72-7.72 1.47 1.35L5.41 20z\"/>\n",
              "  </svg>\n",
              "      </button>\n",
              "      \n",
              "  <style>\n",
              "    .colab-df-container {\n",
              "      display:flex;\n",
              "      flex-wrap:wrap;\n",
              "      gap: 12px;\n",
              "    }\n",
              "\n",
              "    .colab-df-convert {\n",
              "      background-color: #E8F0FE;\n",
              "      border: none;\n",
              "      border-radius: 50%;\n",
              "      cursor: pointer;\n",
              "      display: none;\n",
              "      fill: #1967D2;\n",
              "      height: 32px;\n",
              "      padding: 0 0 0 0;\n",
              "      width: 32px;\n",
              "    }\n",
              "\n",
              "    .colab-df-convert:hover {\n",
              "      background-color: #E2EBFA;\n",
              "      box-shadow: 0px 1px 2px rgba(60, 64, 67, 0.3), 0px 1px 3px 1px rgba(60, 64, 67, 0.15);\n",
              "      fill: #174EA6;\n",
              "    }\n",
              "\n",
              "    [theme=dark] .colab-df-convert {\n",
              "      background-color: #3B4455;\n",
              "      fill: #D2E3FC;\n",
              "    }\n",
              "\n",
              "    [theme=dark] .colab-df-convert:hover {\n",
              "      background-color: #434B5C;\n",
              "      box-shadow: 0px 1px 3px 1px rgba(0, 0, 0, 0.15);\n",
              "      filter: drop-shadow(0px 1px 2px rgba(0, 0, 0, 0.3));\n",
              "      fill: #FFFFFF;\n",
              "    }\n",
              "  </style>\n",
              "\n",
              "      <script>\n",
              "        const buttonEl =\n",
              "          document.querySelector('#df-7e5adc66-fdf1-4a60-876a-a331633700ca button.colab-df-convert');\n",
              "        buttonEl.style.display =\n",
              "          google.colab.kernel.accessAllowed ? 'block' : 'none';\n",
              "\n",
              "        async function convertToInteractive(key) {\n",
              "          const element = document.querySelector('#df-7e5adc66-fdf1-4a60-876a-a331633700ca');\n",
              "          const dataTable =\n",
              "            await google.colab.kernel.invokeFunction('convertToInteractive',\n",
              "                                                     [key], {});\n",
              "          if (!dataTable) return;\n",
              "\n",
              "          const docLinkHtml = 'Like what you see? Visit the ' +\n",
              "            '<a target=\"_blank\" href=https://colab.research.google.com/notebooks/data_table.ipynb>data table notebook</a>'\n",
              "            + ' to learn more about interactive tables.';\n",
              "          element.innerHTML = '';\n",
              "          dataTable['output_type'] = 'display_data';\n",
              "          await google.colab.output.renderOutput(dataTable, element);\n",
              "          const docLink = document.createElement('div');\n",
              "          docLink.innerHTML = docLinkHtml;\n",
              "          element.appendChild(docLink);\n",
              "        }\n",
              "      </script>\n",
              "    </div>\n",
              "  </div>\n",
              "  "
            ]
          },
          "metadata": {},
          "execution_count": 88
        }
      ]
    },
    {
      "cell_type": "code",
      "source": [
        "r = []\n",
        "r.append({'epoch':1,  'val':  123})\n",
        "r.append({'epoch':2, 'val': 43})\n",
        "\n",
        "last_r = [rval['val']  for rval in r if rval['epoch'] == 2]\n",
        "last_r[0]"
      ],
      "metadata": {
        "id": "wNQmGw4JR0-n",
        "outputId": "f08ce005-3273-4d5f-e639-7956ff9c3684",
        "colab": {
          "base_uri": "https://localhost:8080/"
        }
      },
      "execution_count": 82,
      "outputs": [
        {
          "output_type": "execute_result",
          "data": {
            "text/plain": [
              "43"
            ]
          },
          "metadata": {},
          "execution_count": 82
        }
      ]
    }
  ],
  "metadata": {
    "language_info": {
      "name": "python"
    },
    "orig_nbformat": 4,
    "colab": {
      "provenance": []
    },
    "kernelspec": {
      "name": "python3",
      "display_name": "Python 3"
    },
    "gpuClass": "standard",
    "accelerator": "GPU"
  },
  "nbformat": 4,
  "nbformat_minor": 0
}