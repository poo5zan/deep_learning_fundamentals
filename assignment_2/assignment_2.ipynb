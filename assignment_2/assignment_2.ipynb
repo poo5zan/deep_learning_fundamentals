{
  "cells": [
    {
      "cell_type": "markdown",
      "metadata": {
        "id": "u-4xgT39sQUj"
      },
      "source": [
        "Deep Learning Assignment 2 Pujan\n",
        "\n",
        "code reference: https://pytorch.org/tutorials/beginner/blitz/cifar10_tutorial.html"
      ]
    },
    {
      "cell_type": "code",
      "execution_count": 1,
      "metadata": {
        "vscode": {
          "languageId": "plaintext"
        },
        "id": "w4s_pul2sQUm"
      },
      "outputs": [],
      "source": [
        "\n",
        "import torch\n",
        "import torchvision\n",
        "import torchvision.transforms as transforms\n",
        "import matplotlib.pyplot as plt\n",
        "import numpy as np\n",
        "import torch.nn as nn\n",
        "import torch.nn.functional as F\n",
        "import torch.optim as optim\n",
        "from tqdm.notebook import tqdm\n",
        "from torchvision import models\n",
        "import datetime\n",
        "import time\n",
        "import pandas as pd\n"
      ]
    },
    {
      "cell_type": "code",
      "source": [
        "\n",
        "def get_device():\n",
        "    return torch.device('cuda:0' if torch.cuda.is_available() else 'cpu')\n",
        "\n",
        "# print(\"Device is \",get_device())\n",
        "\n",
        "def imshow(img):\n",
        "    img = img / 2 + 0.5     # unnormalize\n",
        "    npimg = img.numpy()\n",
        "    plt.imshow(np.transpose(npimg, (1, 2, 0)))\n",
        "    plt.show()\n",
        "\n",
        "def get_output_width(input_width, filter_size, padding, stride):\n",
        "    return ((input_width - filter_size + 2 * padding)/stride) + 1\n",
        "\n",
        "print(get_output_width(input_width = 32, filter_size = 5, padding = 0, stride = 1))\n"
      ],
      "metadata": {
        "colab": {
          "base_uri": "https://localhost:8080/"
        },
        "id": "_L4vTpqntB_Q",
        "outputId": "df265caf-11fe-41c1-f86f-88e0522c18b3"
      },
      "execution_count": 2,
      "outputs": [
        {
          "output_type": "stream",
          "name": "stdout",
          "text": [
            "28.0\n"
          ]
        }
      ]
    },
    {
      "cell_type": "code",
      "source": [
        "\n",
        "class NetworkBase(nn.Module):\n",
        "    def __init__(self, data_set_name, batch_size, download_path, train_data_size, validation_data_size, criterion, image_size = 32, print_interim_data_shapes=False):\n",
        "        super().__init__()\n",
        "        torch.manual_seed(5)\n",
        "        self.train_results = []\n",
        "        self.epoch_number = 0\n",
        "        self.print_interim_data_shapes = print_interim_data_shapes\n",
        "    \n",
        "        transform = transforms.Compose(\n",
        "            [\n",
        "                #transforms.Grayscale(num_output_channels=3), # with grayscale, overfitting slightly decreased, this should be the result of data augmentation, this is not converting all images to grayscale\n",
        "                transforms.Resize(image_size),\n",
        "                transforms.ToTensor(),\n",
        "                transforms.Normalize((0.5, 0.5, 0.5), (0.5, 0.5, 0.5))\n",
        "            ])\n",
        "\n",
        "        if data_set_name == \"cifar_10\":\n",
        "            dataset = torchvision.datasets.CIFAR10(root=download_path, train=True, download=True, transform=transform)\n",
        "            print('Length of Dataset ', len(dataset))\n",
        "\n",
        "            train_dataset, val_dataset = torch.utils.data.random_split(dataset, [train_data_size, validation_data_size])\n",
        "            print('Length of Train set ', len(train_dataset))\n",
        "            print('Length of Val set ', len(val_dataset))\n",
        "            self.trainloader = torch.utils.data.DataLoader(train_dataset, batch_size=batch_size, shuffle=True, num_workers=2, drop_last=True)\n",
        "            self.valloader = torch.utils.data.DataLoader(val_dataset, batch_size=batch_size, shuffle=True, num_workers=2, drop_last=True)\n",
        "\n",
        "            testset = torchvision.datasets.CIFAR10(root=download_path, train=False, download=True, transform=transform)\n",
        "            print('Length of Testset ', len(testset))\n",
        "            self.testloader = torch.utils.data.DataLoader(testset, batch_size=batch_size, shuffle=False, num_workers=2, drop_last=True)\n",
        "\n",
        "            self.classes = ('plane', 'car', 'bird', 'cat', 'deer', 'dog', 'frog', 'horse', 'ship', 'truck')\n",
        "\n",
        "        \n",
        "    def display_input_images(self, number_of_images):\n",
        "        # get some random training images\n",
        "        dataiter = iter(self.trainloader)\n",
        "        images, labels = dataiter.next()\n",
        "\n",
        "        # show images\n",
        "        imshow(torchvision.utils.make_grid(images))\n",
        "        # print labels\n",
        "        print(' '.join(f'{self.classes[labels[j]]:5s}' for j in range(number_of_images)))\n",
        "\n",
        "    def display_ground_truth_images(self, number_of_images):\n",
        "        dataiter = iter(self.testloader)\n",
        "        images, labels = dataiter.next()\n",
        "\n",
        "        # print images\n",
        "        imshow(torchvision.utils.make_grid(images))\n",
        "        print('GroundTruth: ', ' '.join(f'{self.classes[labels[j]]:5s}' for j in range(4)))\n",
        "\n",
        "\n",
        "    def train(self, epoch_number, learning_rate, momentum, optimizer_name):\n",
        "        optimizer = optim.SGD(self.parameters(), lr= learning_rate, momentum=momentum)\n",
        "        # if optimizer_name == \"sgd\": \n",
        "        self.epoch_number = epoch_number\n",
        "        train_results = []\n",
        "\n",
        "        for epoch in range(epoch_number):  # loop over the dataset multiple times\n",
        "            # Training phase\n",
        "            for i, train_data in enumerate(self.trainloader, 0):\n",
        "                # get the inputs; data is a list of [inputs, labels]\n",
        "                train_inputs, train_labels = train_data[0].to(get_device()), train_data[1].to(get_device())\n",
        "                \n",
        "                # zero the parameter gradients\n",
        "                optimizer.zero_grad()\n",
        "\n",
        "                # forward + backward + optimize\n",
        "                train_outputs = self(train_inputs)\n",
        "                train_loss = self.criterion(train_outputs, train_labels)\n",
        "                train_loss.backward()\n",
        "                optimizer.step()\n",
        "                \n",
        "            train_accuracy, train_loss_value = self.get_accuracy_and_loss(self.trainloader)\n",
        "\n",
        "            val_accuracy, val_loss_value = self.get_accuracy_and_loss(self.valloader)\n",
        "\n",
        "            train_result = {'epoch': epoch, 'train_loss': train_loss_value, 'train_accuracy': train_accuracy, \n",
        "                                  'val_loss': val_loss_value, 'val_accuracy': val_accuracy}\n",
        "            print('Train result ', train_result)\n",
        "            train_results.append(train_result)\n",
        "\n",
        "        print('Finished Training')\n",
        "        self.train_results = train_results\n",
        "        return train_results\n",
        "\n",
        "    def plot_loss_and_accuracy_curves(self):\n",
        "        epoch_numbers = range(self.epoch_number)\n",
        "        # loss curves : train / val\n",
        "        # accuracy curves: train / val\n",
        " \n",
        "        # accuracy curve    \n",
        "        train_accuracies = [x['train_accuracy'] for x in self.train_results]\n",
        "        val_accuracies = [x['val_accuracy'] for x in self.train_results]    \n",
        "        plt.plot(train_accuracies, label=\"train\")\n",
        "        plt.plot(val_accuracies, label=\"val\")\n",
        "        plt.legend()\n",
        "        plt.xlabel('Epoch')\n",
        "        plt.ylabel('Accuracy')\n",
        "        plt.title(\"Accuracy vs Epoch\")\n",
        "        plt.show()\n",
        "\n",
        "        # Loss curve    \n",
        "        train_losses = [x['train_loss'] for x in self.train_results]\n",
        "        val_losses = [x['val_loss'] for x in self.train_results]    \n",
        "        plt.plot(train_losses, label=\"train\")\n",
        "        plt.plot(val_losses, label=\"val\")\n",
        "        plt.legend()\n",
        "        plt.xlabel('Epoch')\n",
        "        plt.ylabel('Loss')\n",
        "        plt.title(\"Loss vs Epoch\")\n",
        "        plt.show()\n",
        "\n",
        "    def predictions(self, input_images):\n",
        "        outputs = self(input_images)\n",
        "        _, predicted = torch.max(outputs, 1)\n",
        "        print('Predicted: ', ' '.join(f'{self.classes[predicted[j]]:5s}' for j in range(4)))\n",
        "\n",
        "    def get_accuracy_score(self, outputs, labels):\n",
        "        # the class with the highest energy is what we choose as prediction\n",
        "        _, predicted = torch.max(outputs.data, 1)\n",
        "        correct = (predicted == labels).sum().item()\n",
        "        return correct\n",
        "\n",
        "    def get_accuracy_and_loss(self, data_loader):\n",
        "        accuracies = []\n",
        "        loss_values = []\n",
        "        total_label_size = 0\n",
        "        # since we're not training, we don't need to calculate the gradients for our outputs\n",
        "        with torch.no_grad():\n",
        "            for data in data_loader:\n",
        "                # images, labels = data\n",
        "                images, labels = data[0].to(get_device()), data[1].to(get_device())\n",
        "                # calculate outputs by running images through the network\n",
        "                outputs = self(images)\n",
        "                # the class with the highest energy is what we choose as prediction\n",
        "                # TODO: find top-k accuracy\n",
        "                _, predicted = torch.max(outputs.data, 1)\n",
        "                total_label_size += labels.size(0)\n",
        "                accuracy_item = (predicted == labels).sum().item()\n",
        "                accuracies.append(accuracy_item)\n",
        "\n",
        "                # losses\n",
        "                loss = self.criterion(outputs, labels)\n",
        "                loss_item = loss.item()\n",
        "                loss_values.append(loss_item)\n",
        "        \n",
        "        accuracy_score = 100 * np.sum(accuracies) / total_label_size\n",
        "        loss_value = np.mean(loss_values)\n",
        "        return (accuracy_score, loss_value)\n",
        "\n",
        "    def accuracy_in_each_class(self):\n",
        "    # prepare to count predictions for each class\n",
        "        correct_pred = {classname: 0 for classname in self.classes}\n",
        "        total_pred = {classname: 0 for classname in self.classes}\n",
        "\n",
        "        # again no gradients needed\n",
        "        with torch.no_grad():\n",
        "            for data in self.testloader:\n",
        "                # images, labels = data\n",
        "                images, labels = data[0].to(get_device()), data[1].to(get_device())\n",
        "                outputs = self(images)\n",
        "                _, predictions = torch.max(outputs, 1)\n",
        "                # collect the correct predictions for each class\n",
        "                for label, prediction in zip(labels, predictions):\n",
        "                    if label == prediction:\n",
        "                        correct_pred[self.classes[label]] += 1\n",
        "                    total_pred[self.classes[label]] += 1\n",
        "\n",
        "        # print accuracy for each class\n",
        "        for classname, correct_count in correct_pred.items():\n",
        "            accuracy = 100 * float(correct_count) / total_pred[classname]\n",
        "            print(f'Accuracy for class: {classname:5s} is {accuracy:.1f} %')\n",
        "\n",
        "    \n",
        "\n",
        "\n"
      ],
      "metadata": {
        "id": "FKedomWmtUGv"
      },
      "execution_count": 3,
      "outputs": []
    },
    {
      "cell_type": "code",
      "source": [
        "class CnnNetworkOneConvAndOneFc(NetworkBase):\n",
        "    def __init__(self, data_set_name, batch_size, download_path, train_data_size, validation_data_size, criterion, image_size = 32, print_interim_data_shapes = False):\n",
        "        super().__init__(data_set_name, batch_size, download_path, train_data_size, validation_data_size, criterion, image_size, print_interim_data_shapes)\n",
        "        self.criterion = criterion\n",
        "        self.conv1 = nn.Conv2d(3, 32, 3)\n",
        "        self.pool = nn.MaxPool2d(2, 2)\n",
        "        self.fc1 = nn.Linear(32 * 15 * 15, 10)\n",
        "       \n",
        "    def forward(self, x):\n",
        "        if self.print_interim_data_shapes:\n",
        "            print(\"Initial x shape \", x.shape)\n",
        "       \n",
        "        # First layer\n",
        "        x = self.conv1(x)\n",
        "        x = F.relu(x)\n",
        "        if self.print_interim_data_shapes:\n",
        "            print('After conv1, shape of x is ', x.shape)\n",
        "        x = self.pool(x)\n",
        "        if self.print_interim_data_shapes:\n",
        "            print('After max pool 1, shape of x is ', x.shape)\n",
        "        \n",
        "        x = torch.flatten(x, 1) # flatten all dimensions except batch\n",
        "        if self.print_interim_data_shapes:\n",
        "            print('After flatten, x shape ', x.shape)\n",
        "\n",
        "        x = self.fc1(x)\n",
        "        if self.print_interim_data_shapes:\n",
        "            print('At End, x shape ', x.shape)\n",
        "            # uncomment_this_to_break_code_here_to_see_the_shapes_of_cnn_for_first_layer\n",
        "        return x\n",
        "\n"
      ],
      "metadata": {
        "id": "mOAF9zWi10rc"
      },
      "execution_count": 12,
      "outputs": []
    },
    {
      "cell_type": "code",
      "source": [
        "# Experiment One Convolution layer (32 3*3 filters) and One Fully Connected Layer\n",
        "start_time = datetime.datetime.now()\n",
        "print(\"start time \", start_time)\n",
        "# sleep in seconds\n",
        "time.sleep(1)\n",
        "\n",
        "lr_results = []\n",
        "epoch_number = 5\n",
        "for lr in [0.001, 0.0001, 0.00001]:\n",
        "    print('learning rate is ', lr)\n",
        "    # your code here  \n",
        "    criterion = nn.CrossEntropyLoss()\n",
        "\n",
        "    cnn_network_with_one_conv_and_one_fc = CnnNetworkOneConvAndOneFc(data_set_name = \"cifar_10\", batch_size = 4, download_path = \"./data\", \n",
        "                        train_data_size = 40000, validation_data_size = 10000, criterion = criterion, print_interim_data_shapes = False)\n",
        "    cnn_network_with_one_conv_and_one_fc = cnn_network_with_one_conv_and_one_fc.to(get_device())\n",
        "\n",
        "    train_results_with_one_conv_and_one_fc = cnn_network_with_one_conv_and_one_fc.train(epoch_number = epoch_number, \n",
        "        learning_rate = lr, momentum = 0.9, optimizer_name = \"sgd\")\n",
        "    cnn_network_with_one_conv_and_one_fc.plot_loss_and_accuracy_curves()\n",
        "    \n",
        "    end_time =  datetime.datetime.now()\n",
        "    print(\"end time \", end_time)\n",
        "    difference = end_time - start_time\n",
        "    difference_total_seconds = difference.total_seconds()\n",
        "    print(difference_total_seconds)\n",
        "\n",
        "    last_train_data = [td for td in train_results_with_one_conv_and_one_fc if td['epoch'] == epoch_number - 1][0]\n",
        "   \n",
        "    lr_results.append({'learning_rate': lr, 'val_loss': last_train_data['val_loss'], 'val_accuracy': last_train_data['val_accuracy']})\n"
      ],
      "metadata": {
        "id": "Nv7c_4eK2uv0",
        "outputId": "efbdb880-27a2-4c4a-dfc4-004c50ad9ece",
        "colab": {
          "base_uri": "https://localhost:8080/",
          "height": 1000
        }
      },
      "execution_count": 13,
      "outputs": [
        {
          "output_type": "stream",
          "name": "stdout",
          "text": [
            "start time  2022-10-25 14:21:59.591987\n",
            "learning rate is  0.001\n",
            "Files already downloaded and verified\n",
            "Length of Dataset  50000\n",
            "Length of Train set  40000\n",
            "Length of Val set  10000\n",
            "Files already downloaded and verified\n",
            "Length of Testset  10000\n",
            "Train result  {'epoch': 0, 'train_loss': 1.151292292560637, 'train_accuracy': 60.21, 'val_loss': 1.2382639251083136, 'val_accuracy': 57.18}\n",
            "Train result  {'epoch': 1, 'train_loss': 1.0312929480534048, 'train_accuracy': 64.8975, 'val_loss': 1.1766282360732556, 'val_accuracy': 59.6}\n",
            "Train result  {'epoch': 2, 'train_loss': 0.9741060640554875, 'train_accuracy': 66.8375, 'val_loss': 1.188558015206456, 'val_accuracy': 59.39}\n",
            "Train result  {'epoch': 3, 'train_loss': 0.9105087988873943, 'train_accuracy': 68.655, 'val_loss': 1.1884110289148986, 'val_accuracy': 60.35}\n",
            "Train result  {'epoch': 4, 'train_loss': 0.8142325963929296, 'train_accuracy': 71.8475, 'val_loss': 1.1526041836328804, 'val_accuracy': 61.77}\n",
            "Finished Training\n"
          ]
        },
        {
          "output_type": "display_data",
          "data": {
            "text/plain": [
              "<Figure size 432x288 with 1 Axes>"
            ],
            "image/png": "[encoded data removed]"
          },
          "metadata": {
            "needs_background": "light"
          }
        },
        {
          "output_type": "display_data",
          "data": {
            "text/plain": [
              "<Figure size 432x288 with 1 Axes>"
            ],
            "image/png": "[encoded data removed]"
          },
          "metadata": {
            "needs_background": "light"
          }
        },
        {
          "output_type": "stream",
          "name": "stdout",
          "text": [
            "end time  2022-10-25 14:27:50.011225\n",
            "350.419238\n",
            "learning rate is  0.0001\n",
            "Files already downloaded and verified\n",
            "Length of Dataset  50000\n",
            "Length of Train set  40000\n",
            "Length of Val set  10000\n",
            "Files already downloaded and verified\n",
            "Length of Testset  10000\n",
            "Train result  {'epoch': 0, 'train_loss': 1.4843147959858178, 'train_accuracy': 49.2725, 'val_loss': 1.5076558834552765, 'val_accuracy': 47.82}\n",
            "Train result  {'epoch': 1, 'train_loss': 1.3068005765900015, 'train_accuracy': 54.9175, 'val_loss': 1.3501615561962128, 'val_accuracy': 52.73}\n",
            "Train result  {'epoch': 2, 'train_loss': 1.2331153616562485, 'train_accuracy': 57.3725, 'val_loss': 1.2960917138636112, 'val_accuracy': 54.53}\n",
            "Train result  {'epoch': 3, 'train_loss': 1.176653703416884, 'train_accuracy': 59.3425, 'val_loss': 1.2543256067276, 'val_accuracy': 55.55}\n",
            "Train result  {'epoch': 4, 'train_loss': 1.1438533536233009, 'train_accuracy': 60.4375, 'val_loss': 1.2311906773477792, 'val_accuracy': 56.73}\n",
            "Finished Training\n"
          ]
        },
        {
          "output_type": "display_data",
          "data": {
            "text/plain": [
              "<Figure size 432x288 with 1 Axes>"
            ],
            "image/png": "[encoded data removed]"
          },
          "metadata": {
            "needs_background": "light"
          }
        },
        {
          "output_type": "display_data",
          "data": {
            "text/plain": [
              "<Figure size 432x288 with 1 Axes>"
            ],
            "image/png": "[encoded data removed]"
          },
          "metadata": {
            "needs_background": "light"
          }
        },
        {
          "output_type": "stream",
          "name": "stdout",
          "text": [
            "end time  2022-10-25 14:33:36.766097\n",
            "697.17411\n",
            "learning rate is  1e-05\n",
            "Files already downloaded and verified\n",
            "Length of Dataset  50000\n",
            "Length of Train set  40000\n",
            "Length of Val set  10000\n",
            "Files already downloaded and verified\n",
            "Length of Testset  10000\n",
            "Train result  {'epoch': 0, 'train_loss': 1.8988155094146728, 'train_accuracy': 34.395, 'val_loss': 1.9026478634595871, 'val_accuracy': 34.25}\n",
            "Train result  {'epoch': 1, 'train_loss': 1.7956125583410263, 'train_accuracy': 38.4675, 'val_loss': 1.8010683321475982, 'val_accuracy': 38.32}\n",
            "Train result  {'epoch': 2, 'train_loss': 1.7331838326990605, 'train_accuracy': 40.68, 'val_loss': 1.741862898683548, 'val_accuracy': 40.4}\n",
            "Train result  {'epoch': 3, 'train_loss': 1.6850313362121583, 'train_accuracy': 42.5525, 'val_loss': 1.6966421098351478, 'val_accuracy': 41.83}\n",
            "Train result  {'epoch': 4, 'train_loss': 1.6431504313617944, 'train_accuracy': 43.6775, 'val_loss': 1.6587673602104187, 'val_accuracy': 43.21}\n",
            "Finished Training\n"
          ]
        },
        {
          "output_type": "display_data",
          "data": {
            "text/plain": [
              "<Figure size 432x288 with 1 Axes>"
            ],
            "image/png": "[encoded data removed]"
          },
          "metadata": {
            "needs_background": "light"
          }
        },
        {
          "output_type": "display_data",
          "data": {
            "text/plain": [
              "<Figure size 432x288 with 1 Axes>"
            ],
            "image/png": "[encoded data removed]"
          },
          "metadata": {
            "needs_background": "light"
          }
        },
        {
          "output_type": "stream",
          "name": "stdout",
          "text": [
            "end time  2022-10-25 14:39:22.240346\n",
            "1042.648359\n"
          ]
        }
      ]
    },
    {
      "cell_type": "markdown",
      "source": [
        "# Analysis:\n",
        "In terms of experiments in 3 learning rate, the highest accuracy was for lr = 0.001. Though it has highest overfitting, we will choose this learning rate, as we shall refine our model to resolve overfitting."
      ],
      "metadata": {
        "id": "zP7Yy081fiuC"
      }
    },
    {
      "cell_type": "code",
      "source": [
        "# Add Another conv layer\n",
        "class CnnNetworkTwoConvAndOneFc(NetworkBase):\n",
        "    def __init__(self, data_set_name, batch_size, download_path, train_data_size, validation_data_size, criterion, image_size = 32, print_interim_data_shapes = False):\n",
        "        super().__init__(data_set_name, batch_size, download_path, train_data_size, validation_data_size, criterion, image_size, print_interim_data_shapes)\n",
        "        self.criterion = criterion\n",
        "        self.conv1 = nn.Conv2d(3, 32, 3)\n",
        "        self.conv2 = nn.Conv2d(32, 64, 3)\n",
        "        self.pool = nn.MaxPool2d(2, 2)\n",
        "        self.fc1 = nn.Linear(64 * 6 * 6, 10)\n",
        "       \n",
        "    def forward(self, x):\n",
        "        if self.print_interim_data_shapes:\n",
        "            print(\"Initial x shape \", x.shape)\n",
        "       \n",
        "        # First layer\n",
        "        x = self.conv1(x)\n",
        "        x = F.relu(x)\n",
        "        if self.print_interim_data_shapes:\n",
        "            print('After conv1, shape of x is ', x.shape)\n",
        "        x = self.pool(x)\n",
        "        if self.print_interim_data_shapes:\n",
        "            print('After max pool 1, shape of x is ', x.shape)\n",
        "\n",
        "        x = self.conv2(x)\n",
        "        x = F.relu(x)\n",
        "        if self.print_interim_data_shapes:\n",
        "            print('After conv2, shape of x is ', x.shape)\n",
        "        x = self.pool(x)\n",
        "        if self.print_interim_data_shapes:\n",
        "            print('After max pool 2, shape of x is ', x.shape)\n",
        "        \n",
        "        x = torch.flatten(x, 1) # flatten all dimensions except batch\n",
        "        if self.print_interim_data_shapes:\n",
        "            print('After flatten, x shape ', x.shape)\n",
        "\n",
        "        x = self.fc1(x)\n",
        "        if self.print_interim_data_shapes:\n",
        "            print('At End, x shape ', x.shape)\n",
        "            break_here_to_see_shapes_for_first_iter\n",
        "        return x\n",
        "\n"
      ],
      "metadata": {
        "id": "yIVGgOjHgbA8"
      },
      "execution_count": 17,
      "outputs": []
    },
    {
      "cell_type": "code",
      "source": [
        "# Experiment Two Convolution layer (32 3*3 filters) and One Fully Connected Layer\n",
        "start_time = datetime.datetime.now()\n",
        "print(\"start time \", start_time)\n",
        "# sleep in seconds\n",
        "time.sleep(1)\n",
        "\n",
        "lr_results = []\n",
        "epoch_number = 5\n",
        "for lr in [0.001]:\n",
        "    print('learning rate is ', lr)\n",
        "    # your code here  \n",
        "    criterion = nn.CrossEntropyLoss()\n",
        "\n",
        "    cnn_network_with_two_conv_and_one_fc = CnnNetworkTwoConvAndOneFc(data_set_name = \"cifar_10\", batch_size = 4, download_path = \"./data\", \n",
        "                        train_data_size = 40000, validation_data_size = 10000, criterion = criterion, print_interim_data_shapes = False)\n",
        "    cnn_network_with_two_conv_and_one_fc = cnn_network_with_two_conv_and_one_fc.to(get_device())\n",
        "\n",
        "    train_results_with_two_conv_and_one_fc = cnn_network_with_two_conv_and_one_fc.train(epoch_number = epoch_number, \n",
        "        learning_rate = lr, momentum = 0.9, optimizer_name = \"sgd\")\n",
        "    cnn_network_with_two_conv_and_one_fc.plot_loss_and_accuracy_curves()\n",
        "    \n",
        "    end_time =  datetime.datetime.now()\n",
        "    print(\"end time \", end_time)\n",
        "    difference = end_time - start_time\n",
        "    difference_total_seconds = difference.total_seconds()\n",
        "    print(difference_total_seconds)\n",
        "\n",
        "    last_train_data = [td for td in train_results_with_two_conv_and_one_fc if td['epoch'] == epoch_number - 1][0]\n",
        "   \n",
        "    lr_results.append({'learning_rate': lr, 'val_loss': last_train_data['val_loss'], 'val_accuracy': last_train_data['val_accuracy']})\n"
      ],
      "metadata": {
        "id": "LIAOaB5-mESc",
        "outputId": "0150ca14-b7e6-4f35-ec21-f41f9e0fefa9",
        "colab": {
          "base_uri": "https://localhost:8080/",
          "height": 859
        }
      },
      "execution_count": 18,
      "outputs": [
        {
          "output_type": "stream",
          "name": "stdout",
          "text": [
            "start time  2022-10-25 14:45:37.477299\n",
            "learning rate is  0.001\n",
            "Files already downloaded and verified\n",
            "Length of Dataset  50000\n",
            "Length of Train set  40000\n",
            "Length of Val set  10000\n",
            "Files already downloaded and verified\n",
            "Length of Testset  10000\n",
            "Train result  {'epoch': 0, 'train_loss': 1.1457318808563053, 'train_accuracy': 60.27, 'val_loss': 1.1963710028350354, 'val_accuracy': 58.09}\n",
            "Train result  {'epoch': 1, 'train_loss': 0.9506039722855203, 'train_accuracy': 67.0275, 'val_loss': 1.043430791194737, 'val_accuracy': 63.92}\n",
            "Train result  {'epoch': 2, 'train_loss': 0.8087874571234919, 'train_accuracy': 72.5425, 'val_loss': 0.9440283214543015, 'val_accuracy': 67.39}\n",
            "Train result  {'epoch': 3, 'train_loss': 0.7811376230022404, 'train_accuracy': 73.42, 'val_loss': 0.9674151953605935, 'val_accuracy': 66.98}\n",
            "Train result  {'epoch': 4, 'train_loss': 0.69900637330967, 'train_accuracy': 76.265, 'val_loss': 0.9288549172084779, 'val_accuracy': 68.16}\n",
            "Finished Training\n"
          ]
        },
        {
          "output_type": "display_data",
          "data": {
            "text/plain": [
              "<Figure size 432x288 with 1 Axes>"
            ],
            "image/png": "[encoded data removed]"
          },
          "metadata": {
            "needs_background": "light"
          }
        },
        {
          "output_type": "display_data",
          "data": {
            "text/plain": [
              "<Figure size 432x288 with 1 Axes>"
            ],
            "image/png": "[encoded data removed]"
          },
          "metadata": {
            "needs_background": "light"
          }
        },
        {
          "output_type": "stream",
          "name": "stdout",
          "text": [
            "end time  2022-10-25 14:51:56.888157\n",
            "379.410858\n"
          ]
        }
      ]
    },
    {
      "cell_type": "code",
      "source": [
        "# Add Another conv layer\n",
        "class CnnNetworkThreeConvAndOneFc(NetworkBase):\n",
        "    def __init__(self, data_set_name, batch_size, download_path, train_data_size, validation_data_size, criterion, image_size = 32, print_interim_data_shapes = False):\n",
        "        super().__init__(data_set_name, batch_size, download_path, train_data_size, validation_data_size, criterion, image_size, print_interim_data_shapes)\n",
        "        self.criterion = criterion\n",
        "        self.conv1 = nn.Conv2d(3, 32, 3)\n",
        "        self.conv2 = nn.Conv2d(32, 64, 3)\n",
        "        self.conv3 = nn.Conv2d(64, 25, 3)\n",
        "        self.pool = nn.MaxPool2d(2, 2)\n",
        "        self.fc1 = nn.Linear(25 * 2 * 2, 10)\n",
        "       \n",
        "    def forward(self, x):\n",
        "        if self.print_interim_data_shapes:\n",
        "            print(\"Initial x shape \", x.shape)\n",
        "       \n",
        "        # First layer\n",
        "        x = self.conv1(x)\n",
        "        x = F.relu(x)\n",
        "        if self.print_interim_data_shapes:\n",
        "            print('After conv1, shape of x is ', x.shape)\n",
        "        x = self.pool(x)\n",
        "        if self.print_interim_data_shapes:\n",
        "            print('After max pool 1, shape of x is ', x.shape)\n",
        "\n",
        "        # Second Layer\n",
        "        x = self.conv2(x)\n",
        "        x = F.relu(x)\n",
        "        if self.print_interim_data_shapes:\n",
        "            print('After conv2, shape of x is ', x.shape)\n",
        "        x = self.pool(x)\n",
        "        if self.print_interim_data_shapes:\n",
        "            print('After max pool 2, shape of x is ', x.shape)\n",
        "        \n",
        "        # Third Layer\n",
        "        x = self.conv3(x)\n",
        "        x = F.relu(x)\n",
        "        if self.print_interim_data_shapes:\n",
        "            print('After conv3, shape of x is ', x.shape)\n",
        "        x = self.pool(x)\n",
        "        if self.print_interim_data_shapes:\n",
        "            print('After max pool 3, shape of x is ', x.shape)\n",
        "\n",
        "        # FC layer\n",
        "        x = torch.flatten(x, 1) # flatten all dimensions except batch\n",
        "        if self.print_interim_data_shapes:\n",
        "            print('After flatten, x shape ', x.shape)\n",
        "\n",
        "        x = self.fc1(x)\n",
        "        if self.print_interim_data_shapes:\n",
        "            print('At End, x shape ', x.shape)\n",
        "            break_here_to_see_shapes_for_first_iter\n",
        "        return x\n",
        "\n"
      ],
      "metadata": {
        "id": "Sx5PIOd7rI5f"
      },
      "execution_count": 26,
      "outputs": []
    },
    {
      "cell_type": "code",
      "source": [
        "# Experiment Three Convolution layer (32 3*3 filters) and One Fully Connected Layer\n",
        "start_time = datetime.datetime.now()\n",
        "print(\"start time \", start_time)\n",
        "# sleep in seconds\n",
        "time.sleep(1)\n",
        "\n",
        "lr_results = []\n",
        "epoch_number = 5\n",
        "for lr in [0.001]:\n",
        "    print('learning rate is ', lr)\n",
        "    # your code here  \n",
        "    criterion = nn.CrossEntropyLoss()\n",
        "\n",
        "    cnn_network_with_three_conv_and_one_fc = CnnNetworkThreeConvAndOneFc(data_set_name = \"cifar_10\", batch_size = 4, download_path = \"./data\", \n",
        "                        train_data_size = 40000, validation_data_size = 10000, criterion = criterion, print_interim_data_shapes = False)\n",
        "    cnn_network_with_three_conv_and_one_fc = cnn_network_with_three_conv_and_one_fc.to(get_device())\n",
        "\n",
        "    train_results_with_three_conv_and_one_fc = cnn_network_with_three_conv_and_one_fc.train(epoch_number = epoch_number, \n",
        "        learning_rate = lr, momentum = 0.9, optimizer_name = \"sgd\")\n",
        "    cnn_network_with_three_conv_and_one_fc.plot_loss_and_accuracy_curves()\n",
        "    \n",
        "    end_time =  datetime.datetime.now()\n",
        "    print(\"end time \", end_time)\n",
        "    difference = end_time - start_time\n",
        "    difference_total_seconds = difference.total_seconds()\n",
        "    print(difference_total_seconds)\n",
        "\n",
        "    last_train_data = [td for td in train_results_with_three_conv_and_one_fc if td['epoch'] == epoch_number - 1][0]\n",
        "   \n",
        "    lr_results.append({'learning_rate': lr, 'val_loss': last_train_data['val_loss'], 'val_accuracy': last_train_data['val_accuracy']})\n"
      ],
      "metadata": {
        "id": "ABpobl9jrnaQ",
        "outputId": "6238c40b-331f-47aa-dfee-9f75f17fdca8",
        "colab": {
          "base_uri": "https://localhost:8080/",
          "height": 859
        }
      },
      "execution_count": 27,
      "outputs": [
        {
          "output_type": "stream",
          "name": "stdout",
          "text": [
            "start time  2022-10-25 15:11:33.804296\n",
            "learning rate is  0.001\n",
            "Files already downloaded and verified\n",
            "Length of Dataset  50000\n",
            "Length of Train set  40000\n",
            "Length of Val set  10000\n",
            "Files already downloaded and verified\n",
            "Length of Testset  10000\n",
            "Train result  {'epoch': 0, 'train_loss': 1.413876951548457, 'train_accuracy': 48.915, 'val_loss': 1.4331799121499063, 'val_accuracy': 47.71}\n",
            "Train result  {'epoch': 1, 'train_loss': 1.1024948105886578, 'train_accuracy': 61.2525, 'val_loss': 1.1438238065063953, 'val_accuracy': 59.77}\n",
            "Train result  {'epoch': 2, 'train_loss': 0.9838370782112703, 'train_accuracy': 65.2575, 'val_loss': 1.0639823555640877, 'val_accuracy': 63.0}\n",
            "Train result  {'epoch': 3, 'train_loss': 0.8979141307594255, 'train_accuracy': 68.6625, 'val_loss': 1.0002939214687794, 'val_accuracy': 65.35}\n",
            "Train result  {'epoch': 4, 'train_loss': 0.8432456298841163, 'train_accuracy': 70.2675, 'val_loss': 0.9867097292881459, 'val_accuracy': 66.29}\n",
            "Finished Training\n"
          ]
        },
        {
          "output_type": "display_data",
          "data": {
            "text/plain": [
              "<Figure size 432x288 with 1 Axes>"
            ],
            "image/png": "[encoded data removed]"
          },
          "metadata": {
            "needs_background": "light"
          }
        },
        {
          "output_type": "display_data",
          "data": {
            "text/plain": [
              "<Figure size 432x288 with 1 Axes>"
            ],
            "image/png": "[encoded data removed]"
          },
          "metadata": {
            "needs_background": "light"
          }
        },
        {
          "output_type": "stream",
          "name": "stdout",
          "text": [
            "end time  2022-10-25 15:18:29.205286\n",
            "415.40099\n"
          ]
        }
      ]
    },
    {
      "cell_type": "markdown",
      "source": [
        "Accuracy decreased for 3 conv layer, So stick with 2 conv layer. It has overfitting, so let's try resolving overfitting\n",
        "Method 1: Batch Norm\n",
        "Method 2: Data augmentation\n"
      ],
      "metadata": {
        "id": "q3xTY-qWwxe8"
      }
    },
    {
      "cell_type": "code",
      "source": [
        "# Add Another conv layer\n",
        "class CnnNetworkTwoConvAndOneFcAndOneBatchNormInSecondConv(NetworkBase):\n",
        "    def __init__(self, data_set_name, batch_size, download_path, train_data_size, validation_data_size, criterion, image_size = 32, print_interim_data_shapes = False):\n",
        "        super().__init__(data_set_name, batch_size, download_path, train_data_size, validation_data_size, criterion, image_size, print_interim_data_shapes)\n",
        "        self.criterion = criterion\n",
        "        self.conv1 = nn.Conv2d(3, 32, 3)\n",
        "        self.conv1_bn = nn.BatchNorm2d(32)\n",
        "        self.conv2 = nn.Conv2d(32, 64, 3)\n",
        "        self.conv2_bn = nn.BatchNorm2d(64)\n",
        "        self.pool = nn.MaxPool2d(2, 2)\n",
        "        self.fc1 = nn.Linear(64 * 6 * 6, 10)\n",
        "       \n",
        "    def forward(self, x):\n",
        "        if self.print_interim_data_shapes:\n",
        "            print(\"Initial x shape \", x.shape)\n",
        "       \n",
        "        # First layer\n",
        "        x = self.conv1(x)\n",
        "        x = self.conv1_bn(x)\n",
        "        x = F.relu(x)\n",
        "        if self.print_interim_data_shapes:\n",
        "            print('After conv1, shape of x is ', x.shape)\n",
        "        x = self.pool(x)\n",
        "        if self.print_interim_data_shapes:\n",
        "            print('After max pool 1, shape of x is ', x.shape)\n",
        "\n",
        "        # second layer\n",
        "        x = self.conv2(x)\n",
        "        if self.print_interim_data_shapes:\n",
        "            print('After conv2, shape of x is ', x.shape)\n",
        "        x = self.conv2_bn(x)\n",
        "        x = F.relu(x)\n",
        "        \n",
        "        if self.print_interim_data_shapes:\n",
        "            print('After conv2 batch norm, shape of x is ', x.shape)\n",
        "        x = self.pool(x)\n",
        "        if self.print_interim_data_shapes:\n",
        "            print('After max pool 2, shape of x is ', x.shape)\n",
        "        \n",
        "        x = torch.flatten(x, 1) # flatten all dimensions except batch\n",
        "        if self.print_interim_data_shapes:\n",
        "            print('After flatten, x shape ', x.shape)\n",
        "\n",
        "        x = self.fc1(x)\n",
        "        if self.print_interim_data_shapes:\n",
        "            print('At End, x shape ', x.shape)\n",
        "            break_here_to_see_shapes_for_first_iter\n",
        "        return x\n",
        "\n"
      ],
      "metadata": {
        "id": "tm7mBptZw2fv"
      },
      "execution_count": 33,
      "outputs": []
    },
    {
      "cell_type": "code",
      "source": [
        "# Experiment two Convolution layer (32 3*3 filters) and One Fully Connected Layer and one batch norm at second layer\n",
        "start_time = datetime.datetime.now()\n",
        "print(\"start time \", start_time)\n",
        "# sleep in seconds\n",
        "time.sleep(1)\n",
        "\n",
        "lr_results = []\n",
        "epoch_number = 5\n",
        "for lr in [0.001]:\n",
        "    print('learning rate is ', lr)\n",
        "    # your code here  \n",
        "    criterion = nn.CrossEntropyLoss()\n",
        "\n",
        "    cnn_network_with_two_conv_and_one_fc_and_batch_norm = CnnNetworkTwoConvAndOneFcAndOneBatchNormInSecondConv(data_set_name = \"cifar_10\", batch_size = 4, download_path = \"./data\", \n",
        "                        train_data_size = 40000, validation_data_size = 10000, criterion = criterion, print_interim_data_shapes = False)\n",
        "    cnn_network_with_two_conv_and_one_fc_and_batch_norm = cnn_network_with_two_conv_and_one_fc_and_batch_norm.to(get_device())\n",
        "\n",
        "    train_results_with_two_conv_and_one_fc_one_bn = cnn_network_with_two_conv_and_one_fc_and_batch_norm.train(epoch_number = epoch_number, \n",
        "        learning_rate = lr, momentum = 0.9, optimizer_name = \"sgd\")\n",
        "    cnn_network_with_two_conv_and_one_fc_and_batch_norm.plot_loss_and_accuracy_curves()\n",
        "    \n",
        "    end_time =  datetime.datetime.now()\n",
        "    print(\"end time \", end_time)\n",
        "    difference = end_time - start_time\n",
        "    difference_total_seconds = difference.total_seconds()\n",
        "    print(difference_total_seconds)\n",
        "\n",
        "    last_train_data = [td for td in train_results_with_two_conv_and_one_fc_one_bn if td['epoch'] == epoch_number - 1][0]\n",
        "   \n",
        "    lr_results.append({'learning_rate': lr, 'val_loss': last_train_data['val_loss'], 'val_accuracy': last_train_data['val_accuracy']})\n"
      ],
      "metadata": {
        "id": "9KUIAUv2xXmJ",
        "outputId": "b75cf2c9-8875-4c10-f7f8-701d93403a1c",
        "colab": {
          "base_uri": "https://localhost:8080/",
          "height": 859
        }
      },
      "execution_count": 34,
      "outputs": [
        {
          "output_type": "stream",
          "name": "stdout",
          "text": [
            "start time  2022-10-25 15:54:57.338415\n",
            "learning rate is  0.001\n",
            "Files already downloaded and verified\n",
            "Length of Dataset  50000\n",
            "Length of Train set  40000\n",
            "Length of Val set  10000\n",
            "Files already downloaded and verified\n",
            "Length of Testset  10000\n",
            "Train result  {'epoch': 0, 'train_loss': 1.1456161649022252, 'train_accuracy': 60.7925, 'val_loss': 1.2192778822243213, 'val_accuracy': 58.2}\n",
            "Train result  {'epoch': 1, 'train_loss': 0.9707060456542298, 'train_accuracy': 66.825, 'val_loss': 1.0675318671524525, 'val_accuracy': 63.24}\n",
            "Train result  {'epoch': 2, 'train_loss': 0.8860717361873016, 'train_accuracy': 70.0175, 'val_loss': 1.005479504685104, 'val_accuracy': 65.66}\n",
            "Train result  {'epoch': 3, 'train_loss': 0.8457918705444784, 'train_accuracy': 70.975, 'val_loss': 1.0051020864516496, 'val_accuracy': 65.53}\n",
            "Train result  {'epoch': 4, 'train_loss': 0.7822222436873242, 'train_accuracy': 73.6275, 'val_loss': 0.979753972556442, 'val_accuracy': 66.65}\n",
            "Finished Training\n"
          ]
        },
        {
          "output_type": "display_data",
          "data": {
            "text/plain": [
              "<Figure size 432x288 with 1 Axes>"
            ],
            "image/png": "[encoded data removed]"
          },
          "metadata": {
            "needs_background": "light"
          }
        },
        {
          "output_type": "display_data",
          "data": {
            "text/plain": [
              "<Figure size 432x288 with 1 Axes>"
            ],
            "image/png": "[encoded data removed]"
          },
          "metadata": {
            "needs_background": "light"
          }
        },
        {
          "output_type": "stream",
          "name": "stdout",
          "text": [
            "end time  2022-10-25 16:01:55.238503\n",
            "417.900088\n"
          ]
        }
      ]
    },
    {
      "cell_type": "code",
      "source": [
        "class CnnNetwork(NetworkBase):\n",
        "    def __init__(self, data_set_name, batch_size, download_path, train_data_size, validation_data_size, criterion, image_size = 32, print_interim_data_shapes = False):\n",
        "        super().__init__(data_set_name, batch_size, download_path, train_data_size, validation_data_size, criterion, image_size, print_interim_data_shapes)\n",
        "        self.criterion = criterion\n",
        "        # input channel should be 3 for color image and 1 for grayscale\n",
        "        self.conv1 = nn.Conv2d(3, 6, 3)\n",
        "        # https://discuss.pytorch.org/t/example-on-how-to-use-batch-norm/216\n",
        "        self.conv1_bn = nn.BatchNorm2d(6)\n",
        "        self.pool = nn.MaxPool2d(2, 2)\n",
        "        self.conv2 = nn.Conv2d(6, 16, 5)\n",
        "        self.conv2_bn = nn.BatchNorm2d(16)\n",
        "        # mat1 and mat2 shapes cannot be multiplied (4x576 and 400x120)\n",
        "        # filter = 1, input shape for linear should be 6 * 6,\n",
        "        # filter = 3, 5, input shape for linear should be 5 * 5\n",
        "        self.fc1 = nn.Linear(16 * 6 * 6, 120)\n",
        "        # self.fc1 = nn.Linear(16 * 5 * 5, 120)\n",
        "        self.fc1_bn = nn.BatchNorm1d(120)\n",
        "        self.fc2 = nn.Linear(120, 84)\n",
        "        self.fc3 = nn.Linear(84, 10)\n",
        "\n",
        "        self.softmax = nn.Softmax(1)\n",
        "        self.dropout_2d = nn.Dropout2d()\n",
        "        self.dropout_1d = nn.Dropout1d()\n",
        "\n",
        "    def forward(self, x):\n",
        "        if self.print_interim_data_shapes:\n",
        "            print(\"Initial x shape \", x.shape)\n",
        "        # x = self.pool(F.relu(self.conv1(x)))\n",
        "        # print(\"After conv1 and maxpool, x shape \", x.shape)\n",
        "\n",
        "        # First layer\n",
        "        x = self.conv1(x)\n",
        "        # x = self.conv1_bn(x)\n",
        "        x = F.relu(x)\n",
        "        if self.print_interim_data_shapes:\n",
        "            print('After conv1, shape of x is ', x.shape)\n",
        "        x = self.pool(x)\n",
        "        if self.print_interim_data_shapes:\n",
        "            print('After max pool 1, shape of x is ', x.shape)\n",
        "        \n",
        "        # dropout\n",
        "        # x = self.dropout_2d(x)\n",
        "        if self.print_interim_data_shapes:\n",
        "            print('Shape after dropout after conv layer 1 ', x.shape) \n",
        "        # Second layer\n",
        "        # x = self.pool(F.relu(self.conv2(x)))\n",
        "        # print(\"After conv2 and maxpool, x shape \", x.shape)\n",
        "\n",
        "        x = self.conv2(x)\n",
        "        # x = self.conv2_bn(x)\n",
        "        x = F.relu(x)\n",
        "        if self.print_interim_data_shapes:\n",
        "            print('After conv2, shape of X is ', x.shape)\n",
        "        x = self.pool(x)\n",
        "        if self.print_interim_data_shapes:\n",
        "            print('After max pool 2, shape of x is ', x.shape)\n",
        "\n",
        "        x = torch.flatten(x, 1) # flatten all dimensions except batch\n",
        "        if self.print_interim_data_shapes:\n",
        "            print('After flatten, x shape ', x.shape)\n",
        "\n",
        "        x = self.fc1(x)\n",
        "        # x = self.fc1_bn(x)\n",
        "        x = F.relu(x)\n",
        "        if self.print_interim_data_shapes:\n",
        "            print('After fc1, x shape ', x.shape)\n",
        "\n",
        "        x = self.fc2(x)\n",
        "        x = F.relu(x)\n",
        "        if self.print_interim_data_shapes:\n",
        "            print('After fc2, x shape ', x.shape)\n",
        "        x = self.fc3(x)\n",
        "        if self.print_interim_data_shapes:\n",
        "            print('After fc3, x shape ', x.shape)\n",
        "            # break_here_i_want_to_see_shapes\n",
        "        # x = self.softmax(x)\n",
        "        \n",
        "        return x\n",
        "\n"
      ],
      "metadata": {
        "id": "ImK7FiktmonK"
      },
      "execution_count": null,
      "outputs": []
    },
    {
      "cell_type": "code",
      "source": [
        "\n",
        "criterion = nn.CrossEntropyLoss()\n",
        "\n",
        "cnn_network = CnnNetwork(data_set_name = \"cifar_10\", batch_size = 32, download_path = \"./data\", \n",
        "                     train_data_size = 40000, validation_data_size = 10000, criterion = criterion, print_interim_data_shapes = False)\n",
        "cnn_network = cnn_network.to(get_device())\n",
        "\n",
        "train_results = cnn_network.train(epoch_number = 2, learning_rate = 0.001, momentum = 0.9, optimizer_name = \"sgd\")\n",
        "cnn_network.plot_loss_and_accuracy_curves()\n",
        "# print(train_results)\n",
        "test_accuracy, test_loss = cnn_network.get_accuracy_and_loss(cnn_network.testloader)\n",
        "print('Test Accuracy ', test_accuracy)\n",
        "print('Test Loss ', test_loss)"
      ],
      "metadata": {
        "colab": {
          "base_uri": "https://localhost:8080/",
          "height": 506
        },
        "id": "2RR5qjAVtgzf",
        "outputId": "dc3165cd-1f2f-4a23-8a54-e549e39ca193"
      },
      "execution_count": null,
      "outputs": [
        {
          "output_type": "stream",
          "name": "stdout",
          "text": [
            "Files already downloaded and verified\n",
            "Length of Dataset  50000\n",
            "Length of Train set  40000\n",
            "Length of Val set  10000\n",
            "Files already downloaded and verified\n",
            "Length of Testset  10000\n"
          ]
        },
        {
          "output_type": "error",
          "ename": "KeyboardInterrupt",
          "evalue": "ignored",
          "traceback": [
            "\u001b[0;31m---------------------------------------------------------------------------\u001b[0m",
            "\u001b[0;31mKeyboardInterrupt\u001b[0m                         Traceback (most recent call last)",
            "\u001b[0;32m<ipython-input-15-4cf57dcc07a0>\u001b[0m in \u001b[0;36m<module>\u001b[0;34m\u001b[0m\n\u001b[1;32m      5\u001b[0m \u001b[0mcnn_network\u001b[0m \u001b[0;34m=\u001b[0m \u001b[0mcnn_network\u001b[0m\u001b[0;34m.\u001b[0m\u001b[0mto\u001b[0m\u001b[0;34m(\u001b[0m\u001b[0mget_device\u001b[0m\u001b[0;34m(\u001b[0m\u001b[0;34m)\u001b[0m\u001b[0;34m)\u001b[0m\u001b[0;34m\u001b[0m\u001b[0;34m\u001b[0m\u001b[0m\n\u001b[1;32m      6\u001b[0m \u001b[0;34m\u001b[0m\u001b[0m\n\u001b[0;32m----> 7\u001b[0;31m \u001b[0mtrain_results\u001b[0m \u001b[0;34m=\u001b[0m \u001b[0mcnn_network\u001b[0m\u001b[0;34m.\u001b[0m\u001b[0mtrain\u001b[0m\u001b[0;34m(\u001b[0m\u001b[0mepoch_number\u001b[0m \u001b[0;34m=\u001b[0m \u001b[0;36m2\u001b[0m\u001b[0;34m,\u001b[0m \u001b[0mlearning_rate\u001b[0m \u001b[0;34m=\u001b[0m \u001b[0;36m0.001\u001b[0m\u001b[0;34m,\u001b[0m \u001b[0mmomentum\u001b[0m \u001b[0;34m=\u001b[0m \u001b[0;36m0.9\u001b[0m\u001b[0;34m,\u001b[0m \u001b[0moptimizer_name\u001b[0m \u001b[0;34m=\u001b[0m \u001b[0;34m\"sgd\"\u001b[0m\u001b[0;34m)\u001b[0m\u001b[0;34m\u001b[0m\u001b[0;34m\u001b[0m\u001b[0m\n\u001b[0m\u001b[1;32m      8\u001b[0m \u001b[0mcnn_network\u001b[0m\u001b[0;34m.\u001b[0m\u001b[0mplot_loss_and_accuracy_curves\u001b[0m\u001b[0;34m(\u001b[0m\u001b[0;34m)\u001b[0m\u001b[0;34m\u001b[0m\u001b[0;34m\u001b[0m\u001b[0m\n\u001b[1;32m      9\u001b[0m \u001b[0;31m# print(train_results)\u001b[0m\u001b[0;34m\u001b[0m\u001b[0;34m\u001b[0m\u001b[0;34m\u001b[0m\u001b[0m\n",
            "\u001b[0;32m<ipython-input-5-6a1e66974e49>\u001b[0m in \u001b[0;36mtrain\u001b[0;34m(self, epoch_number, learning_rate, momentum, optimizer_name)\u001b[0m\n\u001b[1;32m     59\u001b[0m         \u001b[0;32mfor\u001b[0m \u001b[0mepoch\u001b[0m \u001b[0;32min\u001b[0m \u001b[0mrange\u001b[0m\u001b[0;34m(\u001b[0m\u001b[0mepoch_number\u001b[0m\u001b[0;34m)\u001b[0m\u001b[0;34m:\u001b[0m  \u001b[0;31m# loop over the dataset multiple times\u001b[0m\u001b[0;34m\u001b[0m\u001b[0;34m\u001b[0m\u001b[0m\n\u001b[1;32m     60\u001b[0m             \u001b[0;31m# Training phase\u001b[0m\u001b[0;34m\u001b[0m\u001b[0;34m\u001b[0m\u001b[0;34m\u001b[0m\u001b[0m\n\u001b[0;32m---> 61\u001b[0;31m             \u001b[0;32mfor\u001b[0m \u001b[0mi\u001b[0m\u001b[0;34m,\u001b[0m \u001b[0mtrain_data\u001b[0m \u001b[0;32min\u001b[0m \u001b[0menumerate\u001b[0m\u001b[0;34m(\u001b[0m\u001b[0mself\u001b[0m\u001b[0;34m.\u001b[0m\u001b[0mtrainloader\u001b[0m\u001b[0;34m,\u001b[0m \u001b[0;36m0\u001b[0m\u001b[0;34m)\u001b[0m\u001b[0;34m:\u001b[0m\u001b[0;34m\u001b[0m\u001b[0;34m\u001b[0m\u001b[0m\n\u001b[0m\u001b[1;32m     62\u001b[0m                 \u001b[0;31m# get the inputs; data is a list of [inputs, labels]\u001b[0m\u001b[0;34m\u001b[0m\u001b[0;34m\u001b[0m\u001b[0;34m\u001b[0m\u001b[0m\n\u001b[1;32m     63\u001b[0m                 \u001b[0mtrain_inputs\u001b[0m\u001b[0;34m,\u001b[0m \u001b[0mtrain_labels\u001b[0m \u001b[0;34m=\u001b[0m \u001b[0mtrain_data\u001b[0m\u001b[0;34m[\u001b[0m\u001b[0;36m0\u001b[0m\u001b[0;34m]\u001b[0m\u001b[0;34m.\u001b[0m\u001b[0mto\u001b[0m\u001b[0;34m(\u001b[0m\u001b[0mget_device\u001b[0m\u001b[0;34m(\u001b[0m\u001b[0;34m)\u001b[0m\u001b[0;34m)\u001b[0m\u001b[0;34m,\u001b[0m \u001b[0mtrain_data\u001b[0m\u001b[0;34m[\u001b[0m\u001b[0;36m1\u001b[0m\u001b[0;34m]\u001b[0m\u001b[0;34m.\u001b[0m\u001b[0mto\u001b[0m\u001b[0;34m(\u001b[0m\u001b[0mget_device\u001b[0m\u001b[0;34m(\u001b[0m\u001b[0;34m)\u001b[0m\u001b[0;34m)\u001b[0m\u001b[0;34m\u001b[0m\u001b[0;34m\u001b[0m\u001b[0m\n",
            "\u001b[0;32m/usr/local/lib/python3.7/dist-packages/torch/utils/data/dataloader.py\u001b[0m in \u001b[0;36m__next__\u001b[0;34m(self)\u001b[0m\n\u001b[1;32m    679\u001b[0m                 \u001b[0;31m# TODO(https://github.com/pytorch/pytorch/issues/76750)\u001b[0m\u001b[0;34m\u001b[0m\u001b[0;34m\u001b[0m\u001b[0;34m\u001b[0m\u001b[0m\n\u001b[1;32m    680\u001b[0m                 \u001b[0mself\u001b[0m\u001b[0;34m.\u001b[0m\u001b[0m_reset\u001b[0m\u001b[0;34m(\u001b[0m\u001b[0;34m)\u001b[0m  \u001b[0;31m# type: ignore[call-arg]\u001b[0m\u001b[0;34m\u001b[0m\u001b[0;34m\u001b[0m\u001b[0m\n\u001b[0;32m--> 681\u001b[0;31m             \u001b[0mdata\u001b[0m \u001b[0;34m=\u001b[0m \u001b[0mself\u001b[0m\u001b[0;34m.\u001b[0m\u001b[0m_next_data\u001b[0m\u001b[0;34m(\u001b[0m\u001b[0;34m)\u001b[0m\u001b[0;34m\u001b[0m\u001b[0;34m\u001b[0m\u001b[0m\n\u001b[0m\u001b[1;32m    682\u001b[0m             \u001b[0mself\u001b[0m\u001b[0;34m.\u001b[0m\u001b[0m_num_yielded\u001b[0m \u001b[0;34m+=\u001b[0m \u001b[0;36m1\u001b[0m\u001b[0;34m\u001b[0m\u001b[0;34m\u001b[0m\u001b[0m\n\u001b[1;32m    683\u001b[0m             \u001b[0;32mif\u001b[0m \u001b[0mself\u001b[0m\u001b[0;34m.\u001b[0m\u001b[0m_dataset_kind\u001b[0m \u001b[0;34m==\u001b[0m \u001b[0m_DatasetKind\u001b[0m\u001b[0;34m.\u001b[0m\u001b[0mIterable\u001b[0m \u001b[0;32mand\u001b[0m\u001b[0;31m \u001b[0m\u001b[0;31m\\\u001b[0m\u001b[0;34m\u001b[0m\u001b[0;34m\u001b[0m\u001b[0m\n",
            "\u001b[0;32m/usr/local/lib/python3.7/dist-packages/torch/utils/data/dataloader.py\u001b[0m in \u001b[0;36m_next_data\u001b[0;34m(self)\u001b[0m\n\u001b[1;32m   1357\u001b[0m \u001b[0;34m\u001b[0m\u001b[0m\n\u001b[1;32m   1358\u001b[0m             \u001b[0;32massert\u001b[0m \u001b[0;32mnot\u001b[0m \u001b[0mself\u001b[0m\u001b[0;34m.\u001b[0m\u001b[0m_shutdown\u001b[0m \u001b[0;32mand\u001b[0m \u001b[0mself\u001b[0m\u001b[0;34m.\u001b[0m\u001b[0m_tasks_outstanding\u001b[0m \u001b[0;34m>\u001b[0m \u001b[0;36m0\u001b[0m\u001b[0;34m\u001b[0m\u001b[0;34m\u001b[0m\u001b[0m\n\u001b[0;32m-> 1359\u001b[0;31m             \u001b[0midx\u001b[0m\u001b[0;34m,\u001b[0m \u001b[0mdata\u001b[0m \u001b[0;34m=\u001b[0m \u001b[0mself\u001b[0m\u001b[0;34m.\u001b[0m\u001b[0m_get_data\u001b[0m\u001b[0;34m(\u001b[0m\u001b[0;34m)\u001b[0m\u001b[0;34m\u001b[0m\u001b[0;34m\u001b[0m\u001b[0m\n\u001b[0m\u001b[1;32m   1360\u001b[0m             \u001b[0mself\u001b[0m\u001b[0;34m.\u001b[0m\u001b[0m_tasks_outstanding\u001b[0m \u001b[0;34m-=\u001b[0m \u001b[0;36m1\u001b[0m\u001b[0;34m\u001b[0m\u001b[0;34m\u001b[0m\u001b[0m\n\u001b[1;32m   1361\u001b[0m             \u001b[0;32mif\u001b[0m \u001b[0mself\u001b[0m\u001b[0;34m.\u001b[0m\u001b[0m_dataset_kind\u001b[0m \u001b[0;34m==\u001b[0m \u001b[0m_DatasetKind\u001b[0m\u001b[0;34m.\u001b[0m\u001b[0mIterable\u001b[0m\u001b[0;34m:\u001b[0m\u001b[0;34m\u001b[0m\u001b[0;34m\u001b[0m\u001b[0m\n",
            "\u001b[0;32m/usr/local/lib/python3.7/dist-packages/torch/utils/data/dataloader.py\u001b[0m in \u001b[0;36m_get_data\u001b[0;34m(self)\u001b[0m\n\u001b[1;32m   1323\u001b[0m         \u001b[0;32melse\u001b[0m\u001b[0;34m:\u001b[0m\u001b[0;34m\u001b[0m\u001b[0;34m\u001b[0m\u001b[0m\n\u001b[1;32m   1324\u001b[0m             \u001b[0;32mwhile\u001b[0m \u001b[0;32mTrue\u001b[0m\u001b[0;34m:\u001b[0m\u001b[0;34m\u001b[0m\u001b[0;34m\u001b[0m\u001b[0m\n\u001b[0;32m-> 1325\u001b[0;31m                 \u001b[0msuccess\u001b[0m\u001b[0;34m,\u001b[0m \u001b[0mdata\u001b[0m \u001b[0;34m=\u001b[0m \u001b[0mself\u001b[0m\u001b[0;34m.\u001b[0m\u001b[0m_try_get_data\u001b[0m\u001b[0;34m(\u001b[0m\u001b[0;34m)\u001b[0m\u001b[0;34m\u001b[0m\u001b[0;34m\u001b[0m\u001b[0m\n\u001b[0m\u001b[1;32m   1326\u001b[0m                 \u001b[0;32mif\u001b[0m \u001b[0msuccess\u001b[0m\u001b[0;34m:\u001b[0m\u001b[0;34m\u001b[0m\u001b[0;34m\u001b[0m\u001b[0m\n\u001b[1;32m   1327\u001b[0m                     \u001b[0;32mreturn\u001b[0m \u001b[0mdata\u001b[0m\u001b[0;34m\u001b[0m\u001b[0;34m\u001b[0m\u001b[0m\n",
            "\u001b[0;32m/usr/local/lib/python3.7/dist-packages/torch/utils/data/dataloader.py\u001b[0m in \u001b[0;36m_try_get_data\u001b[0;34m(self, timeout)\u001b[0m\n\u001b[1;32m   1161\u001b[0m         \u001b[0;31m#   (bool: whether successfully get data, any: data if successful else None)\u001b[0m\u001b[0;34m\u001b[0m\u001b[0;34m\u001b[0m\u001b[0;34m\u001b[0m\u001b[0m\n\u001b[1;32m   1162\u001b[0m         \u001b[0;32mtry\u001b[0m\u001b[0;34m:\u001b[0m\u001b[0;34m\u001b[0m\u001b[0;34m\u001b[0m\u001b[0m\n\u001b[0;32m-> 1163\u001b[0;31m             \u001b[0mdata\u001b[0m \u001b[0;34m=\u001b[0m \u001b[0mself\u001b[0m\u001b[0;34m.\u001b[0m\u001b[0m_data_queue\u001b[0m\u001b[0;34m.\u001b[0m\u001b[0mget\u001b[0m\u001b[0;34m(\u001b[0m\u001b[0mtimeout\u001b[0m\u001b[0;34m=\u001b[0m\u001b[0mtimeout\u001b[0m\u001b[0;34m)\u001b[0m\u001b[0;34m\u001b[0m\u001b[0;34m\u001b[0m\u001b[0m\n\u001b[0m\u001b[1;32m   1164\u001b[0m             \u001b[0;32mreturn\u001b[0m \u001b[0;34m(\u001b[0m\u001b[0;32mTrue\u001b[0m\u001b[0;34m,\u001b[0m \u001b[0mdata\u001b[0m\u001b[0;34m)\u001b[0m\u001b[0;34m\u001b[0m\u001b[0;34m\u001b[0m\u001b[0m\n\u001b[1;32m   1165\u001b[0m         \u001b[0;32mexcept\u001b[0m \u001b[0mException\u001b[0m \u001b[0;32mas\u001b[0m \u001b[0me\u001b[0m\u001b[0;34m:\u001b[0m\u001b[0;34m\u001b[0m\u001b[0;34m\u001b[0m\u001b[0m\n",
            "\u001b[0;32m/usr/lib/python3.7/multiprocessing/queues.py\u001b[0m in \u001b[0;36mget\u001b[0;34m(self, block, timeout)\u001b[0m\n\u001b[1;32m    102\u001b[0m                 \u001b[0;32mif\u001b[0m \u001b[0mblock\u001b[0m\u001b[0;34m:\u001b[0m\u001b[0;34m\u001b[0m\u001b[0;34m\u001b[0m\u001b[0m\n\u001b[1;32m    103\u001b[0m                     \u001b[0mtimeout\u001b[0m \u001b[0;34m=\u001b[0m \u001b[0mdeadline\u001b[0m \u001b[0;34m-\u001b[0m \u001b[0mtime\u001b[0m\u001b[0;34m.\u001b[0m\u001b[0mmonotonic\u001b[0m\u001b[0;34m(\u001b[0m\u001b[0;34m)\u001b[0m\u001b[0;34m\u001b[0m\u001b[0;34m\u001b[0m\u001b[0m\n\u001b[0;32m--> 104\u001b[0;31m                     \u001b[0;32mif\u001b[0m \u001b[0;32mnot\u001b[0m \u001b[0mself\u001b[0m\u001b[0;34m.\u001b[0m\u001b[0m_poll\u001b[0m\u001b[0;34m(\u001b[0m\u001b[0mtimeout\u001b[0m\u001b[0;34m)\u001b[0m\u001b[0;34m:\u001b[0m\u001b[0;34m\u001b[0m\u001b[0;34m\u001b[0m\u001b[0m\n\u001b[0m\u001b[1;32m    105\u001b[0m                         \u001b[0;32mraise\u001b[0m \u001b[0mEmpty\u001b[0m\u001b[0;34m\u001b[0m\u001b[0;34m\u001b[0m\u001b[0m\n\u001b[1;32m    106\u001b[0m                 \u001b[0;32melif\u001b[0m \u001b[0;32mnot\u001b[0m \u001b[0mself\u001b[0m\u001b[0;34m.\u001b[0m\u001b[0m_poll\u001b[0m\u001b[0;34m(\u001b[0m\u001b[0;34m)\u001b[0m\u001b[0;34m:\u001b[0m\u001b[0;34m\u001b[0m\u001b[0;34m\u001b[0m\u001b[0m\n",
            "\u001b[0;32m/usr/lib/python3.7/multiprocessing/connection.py\u001b[0m in \u001b[0;36mpoll\u001b[0;34m(self, timeout)\u001b[0m\n\u001b[1;32m    255\u001b[0m         \u001b[0mself\u001b[0m\u001b[0;34m.\u001b[0m\u001b[0m_check_closed\u001b[0m\u001b[0;34m(\u001b[0m\u001b[0;34m)\u001b[0m\u001b[0;34m\u001b[0m\u001b[0;34m\u001b[0m\u001b[0m\n\u001b[1;32m    256\u001b[0m         \u001b[0mself\u001b[0m\u001b[0;34m.\u001b[0m\u001b[0m_check_readable\u001b[0m\u001b[0;34m(\u001b[0m\u001b[0;34m)\u001b[0m\u001b[0;34m\u001b[0m\u001b[0;34m\u001b[0m\u001b[0m\n\u001b[0;32m--> 257\u001b[0;31m         \u001b[0;32mreturn\u001b[0m \u001b[0mself\u001b[0m\u001b[0;34m.\u001b[0m\u001b[0m_poll\u001b[0m\u001b[0;34m(\u001b[0m\u001b[0mtimeout\u001b[0m\u001b[0;34m)\u001b[0m\u001b[0;34m\u001b[0m\u001b[0;34m\u001b[0m\u001b[0m\n\u001b[0m\u001b[1;32m    258\u001b[0m \u001b[0;34m\u001b[0m\u001b[0m\n\u001b[1;32m    259\u001b[0m     \u001b[0;32mdef\u001b[0m \u001b[0m__enter__\u001b[0m\u001b[0;34m(\u001b[0m\u001b[0mself\u001b[0m\u001b[0;34m)\u001b[0m\u001b[0;34m:\u001b[0m\u001b[0;34m\u001b[0m\u001b[0;34m\u001b[0m\u001b[0m\n",
            "\u001b[0;32m/usr/lib/python3.7/multiprocessing/connection.py\u001b[0m in \u001b[0;36m_poll\u001b[0;34m(self, timeout)\u001b[0m\n\u001b[1;32m    412\u001b[0m \u001b[0;34m\u001b[0m\u001b[0m\n\u001b[1;32m    413\u001b[0m     \u001b[0;32mdef\u001b[0m \u001b[0m_poll\u001b[0m\u001b[0;34m(\u001b[0m\u001b[0mself\u001b[0m\u001b[0;34m,\u001b[0m \u001b[0mtimeout\u001b[0m\u001b[0;34m)\u001b[0m\u001b[0;34m:\u001b[0m\u001b[0;34m\u001b[0m\u001b[0;34m\u001b[0m\u001b[0m\n\u001b[0;32m--> 414\u001b[0;31m         \u001b[0mr\u001b[0m \u001b[0;34m=\u001b[0m \u001b[0mwait\u001b[0m\u001b[0;34m(\u001b[0m\u001b[0;34m[\u001b[0m\u001b[0mself\u001b[0m\u001b[0;34m]\u001b[0m\u001b[0;34m,\u001b[0m \u001b[0mtimeout\u001b[0m\u001b[0;34m)\u001b[0m\u001b[0;34m\u001b[0m\u001b[0;34m\u001b[0m\u001b[0m\n\u001b[0m\u001b[1;32m    415\u001b[0m         \u001b[0;32mreturn\u001b[0m \u001b[0mbool\u001b[0m\u001b[0;34m(\u001b[0m\u001b[0mr\u001b[0m\u001b[0;34m)\u001b[0m\u001b[0;34m\u001b[0m\u001b[0;34m\u001b[0m\u001b[0m\n\u001b[1;32m    416\u001b[0m \u001b[0;34m\u001b[0m\u001b[0m\n",
            "\u001b[0;32m/usr/lib/python3.7/multiprocessing/connection.py\u001b[0m in \u001b[0;36mwait\u001b[0;34m(object_list, timeout)\u001b[0m\n\u001b[1;32m    919\u001b[0m \u001b[0;34m\u001b[0m\u001b[0m\n\u001b[1;32m    920\u001b[0m             \u001b[0;32mwhile\u001b[0m \u001b[0;32mTrue\u001b[0m\u001b[0;34m:\u001b[0m\u001b[0;34m\u001b[0m\u001b[0;34m\u001b[0m\u001b[0m\n\u001b[0;32m--> 921\u001b[0;31m                 \u001b[0mready\u001b[0m \u001b[0;34m=\u001b[0m \u001b[0mselector\u001b[0m\u001b[0;34m.\u001b[0m\u001b[0mselect\u001b[0m\u001b[0;34m(\u001b[0m\u001b[0mtimeout\u001b[0m\u001b[0;34m)\u001b[0m\u001b[0;34m\u001b[0m\u001b[0;34m\u001b[0m\u001b[0m\n\u001b[0m\u001b[1;32m    922\u001b[0m                 \u001b[0;32mif\u001b[0m \u001b[0mready\u001b[0m\u001b[0;34m:\u001b[0m\u001b[0;34m\u001b[0m\u001b[0;34m\u001b[0m\u001b[0m\n\u001b[1;32m    923\u001b[0m                     \u001b[0;32mreturn\u001b[0m \u001b[0;34m[\u001b[0m\u001b[0mkey\u001b[0m\u001b[0;34m.\u001b[0m\u001b[0mfileobj\u001b[0m \u001b[0;32mfor\u001b[0m \u001b[0;34m(\u001b[0m\u001b[0mkey\u001b[0m\u001b[0;34m,\u001b[0m \u001b[0mevents\u001b[0m\u001b[0;34m)\u001b[0m \u001b[0;32min\u001b[0m \u001b[0mready\u001b[0m\u001b[0;34m]\u001b[0m\u001b[0;34m\u001b[0m\u001b[0;34m\u001b[0m\u001b[0m\n",
            "\u001b[0;32m/usr/lib/python3.7/selectors.py\u001b[0m in \u001b[0;36mselect\u001b[0;34m(self, timeout)\u001b[0m\n\u001b[1;32m    413\u001b[0m         \u001b[0mready\u001b[0m \u001b[0;34m=\u001b[0m \u001b[0;34m[\u001b[0m\u001b[0;34m]\u001b[0m\u001b[0;34m\u001b[0m\u001b[0;34m\u001b[0m\u001b[0m\n\u001b[1;32m    414\u001b[0m         \u001b[0;32mtry\u001b[0m\u001b[0;34m:\u001b[0m\u001b[0;34m\u001b[0m\u001b[0;34m\u001b[0m\u001b[0m\n\u001b[0;32m--> 415\u001b[0;31m             \u001b[0mfd_event_list\u001b[0m \u001b[0;34m=\u001b[0m \u001b[0mself\u001b[0m\u001b[0;34m.\u001b[0m\u001b[0m_selector\u001b[0m\u001b[0;34m.\u001b[0m\u001b[0mpoll\u001b[0m\u001b[0;34m(\u001b[0m\u001b[0mtimeout\u001b[0m\u001b[0;34m)\u001b[0m\u001b[0;34m\u001b[0m\u001b[0;34m\u001b[0m\u001b[0m\n\u001b[0m\u001b[1;32m    416\u001b[0m         \u001b[0;32mexcept\u001b[0m \u001b[0mInterruptedError\u001b[0m\u001b[0;34m:\u001b[0m\u001b[0;34m\u001b[0m\u001b[0;34m\u001b[0m\u001b[0m\n\u001b[1;32m    417\u001b[0m             \u001b[0;32mreturn\u001b[0m \u001b[0mready\u001b[0m\u001b[0;34m\u001b[0m\u001b[0;34m\u001b[0m\u001b[0m\n",
            "\u001b[0;31mKeyboardInterrupt\u001b[0m: "
          ]
        }
      ]
    },
    {
      "cell_type": "code",
      "source": [
        "from torchvision import models\n",
        "alexnet = models.alexnet(pretrained=True)\n",
        "print(alexnet)"
      ],
      "metadata": {
        "colab": {
          "base_uri": "https://localhost:8080/",
          "height": 624,
          "referenced_widgets": [
            "888bec6f45004a898834b6f70a0077ab",
            "14a0a3b880a445faa113d1cb32aace08",
            "eef4f4ff6cb24def9c9463ca2e5624ed",
            "13b913dab941442996adc19e73415292",
            "cd1d0f2644d448149932db9cfc7d29d8",
            "9b8c367fb425431e87d49a6310e24fcf",
            "b3d5f885512a41288504a1aebfdb63d5",
            "9434b49ec27547d68c5ed8ae5ca00bb7",
            "e3e9be648105480c8d3ad5b55ba3737c",
            "7271fe0b5edb4f2689f15df112944a3e",
            "b4aa228ca2434ee7b1b8a605d18c8671"
          ]
        },
        "id": "iay10-t3T1oJ",
        "outputId": "a353520c-fccc-404b-c5ad-9dcb15df1fbc"
      },
      "execution_count": null,
      "outputs": [
        {
          "output_type": "stream",
          "name": "stderr",
          "text": [
            "/usr/local/lib/python3.7/dist-packages/torchvision/models/_utils.py:209: UserWarning: The parameter 'pretrained' is deprecated since 0.13 and will be removed in 0.15, please use 'weights' instead.\n",
            "  f\"The parameter '{pretrained_param}' is deprecated since 0.13 and will be removed in 0.15, \"\n",
            "/usr/local/lib/python3.7/dist-packages/torchvision/models/_utils.py:223: UserWarning: Arguments other than a weight enum or `None` for 'weights' are deprecated since 0.13 and will be removed in 0.15. The current behavior is equivalent to passing `weights=AlexNet_Weights.IMAGENET1K_V1`. You can also use `weights=AlexNet_Weights.DEFAULT` to get the most up-to-date weights.\n",
            "  warnings.warn(msg)\n",
            "Downloading: \"https://download.pytorch.org/models/alexnet-owt-7be5be79.pth\" to /root/.cache/torch/hub/checkpoints/alexnet-owt-7be5be79.pth\n"
          ]
        },
        {
          "output_type": "display_data",
          "data": {
            "text/plain": [
              "  0%|          | 0.00/233M [00:00<?, ?B/s]"
            ],
            "application/vnd.jupyter.widget-view+json": {
              "version_major": 2,
              "version_minor": 0,
              "model_id": "888bec6f45004a898834b6f70a0077ab"
            }
          },
          "metadata": {}
        },
        {
          "output_type": "stream",
          "name": "stdout",
          "text": [
            "AlexNet(\n",
            "  (features): Sequential(\n",
            "    (0): Conv2d(3, 64, kernel_size=(11, 11), stride=(4, 4), padding=(2, 2))\n",
            "    (1): ReLU(inplace=True)\n",
            "    (2): MaxPool2d(kernel_size=3, stride=2, padding=0, dilation=1, ceil_mode=False)\n",
            "    (3): Conv2d(64, 192, kernel_size=(5, 5), stride=(1, 1), padding=(2, 2))\n",
            "    (4): ReLU(inplace=True)\n",
            "    (5): MaxPool2d(kernel_size=3, stride=2, padding=0, dilation=1, ceil_mode=False)\n",
            "    (6): Conv2d(192, 384, kernel_size=(3, 3), stride=(1, 1), padding=(1, 1))\n",
            "    (7): ReLU(inplace=True)\n",
            "    (8): Conv2d(384, 256, kernel_size=(3, 3), stride=(1, 1), padding=(1, 1))\n",
            "    (9): ReLU(inplace=True)\n",
            "    (10): Conv2d(256, 256, kernel_size=(3, 3), stride=(1, 1), padding=(1, 1))\n",
            "    (11): ReLU(inplace=True)\n",
            "    (12): MaxPool2d(kernel_size=3, stride=2, padding=0, dilation=1, ceil_mode=False)\n",
            "  )\n",
            "  (avgpool): AdaptiveAvgPool2d(output_size=(6, 6))\n",
            "  (classifier): Sequential(\n",
            "    (0): Dropout(p=0.5, inplace=False)\n",
            "    (1): Linear(in_features=9216, out_features=4096, bias=True)\n",
            "    (2): ReLU(inplace=True)\n",
            "    (3): Dropout(p=0.5, inplace=False)\n",
            "    (4): Linear(in_features=4096, out_features=4096, bias=True)\n",
            "    (5): ReLU(inplace=True)\n",
            "    (6): Linear(in_features=4096, out_features=1000, bias=True)\n",
            "  )\n",
            ")\n"
          ]
        }
      ]
    },
    {
      "cell_type": "code",
      "source": [
        "class CnnMobileNet(NetworkBase):\n",
        "    def __init__(self, data_set_name, batch_size, download_path, train_data_size, validation_data_size, criterion):\n",
        "        super().__init__(data_set_name, batch_size, download_path, train_data_size, validation_data_size, criterion)\n",
        "        self.network = models.mobilenet_v2(pretrained=True)\n",
        "        num = 1\n",
        "        num_ftrs = self.network.classifier[num].in_features\n",
        "        print('Num feat ',num_ftrs)\n",
        "        self.network.classifier[num]= torch.nn.Linear(num_ftrs,10)\n",
        "        self.criterion = criterion\n",
        "\n",
        "    def forward(self, x):\n",
        "        return self.network(x) \n",
        "\n",
        "criterion = nn.CrossEntropyLoss()\n",
        "\n",
        "cnn_network = CnnMobileNet(data_set_name = \"cifar_10\", batch_size = 4, download_path = \"./data\", \n",
        "                     train_data_size = 40000, validation_data_size = 10000, criterion = criterion)\n",
        "cnn_network = cnn_network.to(get_device())\n",
        "\n",
        "train_results = cnn_network.train(epoch_number = 2, learning_rate = 0.001, momentum = 0.9, optimizer_name = \"sgd\")\n",
        "cnn_network.plot_loss_and_accuracy_curves()\n",
        "# print(train_results)\n",
        "test_accuracy, test_loss = cnn_network.get_accuracy_and_loss(cnn_network.testloader)\n",
        "print('Test Accuracy ', test_accuracy)\n",
        "print('Test Loss ', test_loss)"
      ],
      "metadata": {
        "colab": {
          "base_uri": "https://localhost:8080/",
          "height": 920,
          "referenced_widgets": [
            "bd168257f7b3437b88eea9c2414907fe",
            "2d8230edaeff4dba8d0c004dfa0f371e",
            "eb60cb4e55ad4ee096a11c7c1fc12509",
            "362585966c0e4f1d9c6575b60449707e",
            "baea40bc4fc142d487c0b40114f86880",
            "b2d454455373464fabefe58d9cf77335",
            "acc1b1b94f0e4af1b0483adfc33303c4",
            "d642ba52cb7943ec9f54aba44e6e4dc8",
            "628d70a7ebc94594a553deac3073f143",
            "e6776c1ef35245a2ad787965ca911987",
            "c40902cdc399413dbd07d8bbbd6677bf"
          ]
        },
        "id": "rQ2I-rFCXEOq",
        "outputId": "54c3abce-7f68-4457-c8d9-a521f4622898"
      },
      "execution_count": null,
      "outputs": [
        {
          "output_type": "stream",
          "name": "stdout",
          "text": [
            "Files already downloaded and verified\n",
            "Length of Dataset  50000\n",
            "Length of Train set  40000\n",
            "Length of Val set  10000\n",
            "Files already downloaded and verified\n",
            "Length of Testset  10000\n"
          ]
        },
        {
          "output_type": "stream",
          "name": "stderr",
          "text": [
            "/usr/local/lib/python3.7/dist-packages/torchvision/models/_utils.py:209: UserWarning: The parameter 'pretrained' is deprecated since 0.13 and will be removed in 0.15, please use 'weights' instead.\n",
            "  f\"The parameter '{pretrained_param}' is deprecated since 0.13 and will be removed in 0.15, \"\n",
            "/usr/local/lib/python3.7/dist-packages/torchvision/models/_utils.py:223: UserWarning: Arguments other than a weight enum or `None` for 'weights' are deprecated since 0.13 and will be removed in 0.15. The current behavior is equivalent to passing `weights=MobileNet_V2_Weights.IMAGENET1K_V1`. You can also use `weights=MobileNet_V2_Weights.DEFAULT` to get the most up-to-date weights.\n",
            "  warnings.warn(msg)\n",
            "Downloading: \"https://download.pytorch.org/models/mobilenet_v2-b0353104.pth\" to /root/.cache/torch/hub/checkpoints/mobilenet_v2-b0353104.pth\n"
          ]
        },
        {
          "output_type": "display_data",
          "data": {
            "text/plain": [
              "  0%|          | 0.00/13.6M [00:00<?, ?B/s]"
            ],
            "application/vnd.jupyter.widget-view+json": {
              "version_major": 2,
              "version_minor": 0,
              "model_id": "bd168257f7b3437b88eea9c2414907fe"
            }
          },
          "metadata": {}
        },
        {
          "output_type": "stream",
          "name": "stdout",
          "text": [
            "Num feat  1280\n",
            "Train result  {'epoch': 0, 'train_loss': 2.5912903977274895, 'train_accuracy': 10.9, 'val_loss': 2.597988726758957, 'val_accuracy': 11.44}\n",
            "Train result  {'epoch': 1, 'train_loss': 2.495763815867901, 'train_accuracy': 13.83, 'val_loss': 2.480196258020401, 'val_accuracy': 13.81}\n",
            "Finished Training\n"
          ]
        },
        {
          "output_type": "display_data",
          "data": {
            "text/plain": [
              "<Figure size 432x288 with 1 Axes>"
            ],
            "image/png": "[encoded data removed]"
          },
          "metadata": {
            "needs_background": "light"
          }
        },
        {
          "output_type": "display_data",
          "data": {
            "text/plain": [
              "<Figure size 432x288 with 1 Axes>"
            ],
            "image/png": "[encoded data removed]"
          },
          "metadata": {
            "needs_background": "light"
          }
        },
        {
          "output_type": "stream",
          "name": "stdout",
          "text": [
            "Test Accuracy  13.7\n",
            "Test Loss  2.4903084722042084\n"
          ]
        }
      ]
    },
    {
      "cell_type": "code",
      "source": [
        "class CnnMobileNet(NetworkBase):\n",
        "    def __init__(self, data_set_name, batch_size, download_path, train_data_size, validation_data_size, criterion):\n",
        "        super().__init__(data_set_name, batch_size, download_path, train_data_size, validation_data_size, criterion)\n",
        "        self.network = models.mobilenet_v2(pretrained=False)\n",
        "        num = 1\n",
        "        num_ftrs = self.network.classifier[num].in_features\n",
        "        print('Num feat ',num_ftrs)\n",
        "        self.network.classifier[num]= torch.nn.Linear(num_ftrs,10)\n",
        "        self.criterion = criterion\n",
        "\n",
        "    def forward(self, x):\n",
        "        return self.network(x) \n",
        "\n",
        "criterion = nn.CrossEntropyLoss()\n",
        "\n",
        "cnn_network = CnnMobileNet(data_set_name = \"cifar_10\", batch_size = 4, download_path = \"./data\", \n",
        "                     train_data_size = 40000, validation_data_size = 10000, criterion = criterion)\n",
        "cnn_network = cnn_network.to(get_device())\n",
        "\n",
        "train_results = cnn_network.train(epoch_number = 2, learning_rate = 0.001, momentum = 0.9, optimizer_name = \"sgd\")\n",
        "cnn_network.plot_loss_and_accuracy_curves()\n",
        "# print(train_results)\n",
        "test_accuracy, test_loss = cnn_network.get_accuracy_and_loss(cnn_network.testloader)\n",
        "print('Test Accuracy ', test_accuracy)\n",
        "print('Test Loss ', test_loss)"
      ],
      "metadata": {
        "id": "8U0GUoyDiByB"
      },
      "execution_count": null,
      "outputs": []
    },
    {
      "cell_type": "code",
      "source": [
        "class CnnAlexNet(NetworkBase):\n",
        "    def __init__(self, data_set_name, batch_size, download_path, train_data_size, validation_data_size, criterion):\n",
        "        super().__init__(data_set_name, batch_size, download_path, train_data_size, validation_data_size, criterion, image_size=224)\n",
        "        self.network = models.alexnet(pretrained=True)\n",
        "        num = 6\n",
        "        num_ftrs = self.network.classifier[num].in_features\n",
        "        print('Num feat ',num_ftrs)\n",
        "        # self.network.classifier[4]= torch.nn.Linear(4096,512)\n",
        "        self.network.classifier[6]= torch.nn.Linear(num_ftrs,10)\n",
        "        # (6): Linear(in_features=4096, out_features=1000, bias=True)\n",
        "        self.criterion = criterion\n",
        "\n",
        "    def forward(self, x):\n",
        "        return self.network(x) \n",
        "\n",
        "criterion = nn.CrossEntropyLoss()\n",
        "\n",
        "cnn_network = CnnAlexNet(data_set_name = \"cifar_10\", batch_size = 4, download_path = \"./data\", \n",
        "                     train_data_size = 40000, validation_data_size = 10000, criterion = criterion)\n",
        "cnn_network = cnn_network.to(get_device())\n",
        "\n",
        "train_results = cnn_network.train(epoch_number = 2, learning_rate = 0.001, momentum = 0.9, optimizer_name = \"sgd\")\n",
        "cnn_network.plot_loss_and_accuracy_curves()\n",
        "# print(train_results)\n",
        "test_accuracy, test_loss = cnn_network.get_accuracy_and_loss(cnn_network.testloader)\n",
        "print('Test Accuracy ', test_accuracy)\n",
        "print('Test Loss ', test_loss)"
      ],
      "metadata": {
        "colab": {
          "base_uri": "https://localhost:8080/",
          "height": 781
        },
        "id": "5z-yqidOd105",
        "outputId": "b2eddcdb-bbb3-4b1e-a081-47083cde670a"
      },
      "execution_count": null,
      "outputs": [
        {
          "output_type": "stream",
          "name": "stdout",
          "text": [
            "Files already downloaded and verified\n",
            "Length of Dataset  50000\n",
            "Length of Train set  40000\n",
            "Length of Val set  10000\n",
            "Files already downloaded and verified\n",
            "Length of Testset  10000\n",
            "Num feat  4096\n",
            "Train result  {'epoch': 0, 'train_loss': 0.5405358301741245, 'train_accuracy': 81.48, 'val_loss': 0.641743822441576, 'val_accuracy': 78.6}\n",
            "Train result  {'epoch': 1, 'train_loss': 0.4539467393615989, 'train_accuracy': 84.47, 'val_loss': 0.6062247447289526, 'val_accuracy': 79.48}\n",
            "Finished Training\n"
          ]
        },
        {
          "output_type": "display_data",
          "data": {
            "text/plain": [
              "<Figure size 432x288 with 1 Axes>"
            ],
            "image/png": "[encoded data removed]"
          },
          "metadata": {
            "needs_background": "light"
          }
        },
        {
          "output_type": "display_data",
          "data": {
            "text/plain": [
              "<Figure size 432x288 with 1 Axes>"
            ],
            "image/png": "[encoded data removed]"
          },
          "metadata": {
            "needs_background": "light"
          }
        },
        {
          "output_type": "stream",
          "name": "stdout",
          "text": [
            "Test Accuracy  79.25\n",
            "Test Loss  0.6103783772512074\n"
          ]
        }
      ]
    },
    {
      "cell_type": "code",
      "source": [
        "from torchvision import models\n",
        "resnet = models.resnet18(pretrained=True)\n",
        "print(resnet)"
      ],
      "metadata": {
        "id": "MgtqQbhJMfN7",
        "outputId": "b46a72c4-b445-45e7-8955-85fe48eb9fee",
        "colab": {
          "base_uri": "https://localhost:8080/",
          "height": 1000,
          "referenced_widgets": [
            "8e433d67a8af439190cfc69acd854fcd",
            "653e01d85b5f4ca89edd266b5027332e",
            "19cab90c4c5d4f7d819c1c8aeff35c21",
            "617345864fcc41bca4d2bf76340c285a",
            "27b1fb5bd5194a68b883fceab8c4b0eb",
            "19dd88d1780d4dcd8f6a560f3036ecd0",
            "90a92d4218ab454f8ce183ef3caf0595",
            "056cfef560d3449bb516f08326213bb3",
            "9e6bdcabeba14e27bf25eda82e7c22c0",
            "bee233fe9e2740039340f28d8983aeb0",
            "512cfbfdce2c4eae9aa3ea79958f690c"
          ]
        }
      },
      "execution_count": null,
      "outputs": [
        {
          "output_type": "stream",
          "name": "stderr",
          "text": [
            "/usr/local/lib/python3.7/dist-packages/torchvision/models/_utils.py:209: UserWarning: The parameter 'pretrained' is deprecated since 0.13 and will be removed in 0.15, please use 'weights' instead.\n",
            "  f\"The parameter '{pretrained_param}' is deprecated since 0.13 and will be removed in 0.15, \"\n",
            "/usr/local/lib/python3.7/dist-packages/torchvision/models/_utils.py:223: UserWarning: Arguments other than a weight enum or `None` for 'weights' are deprecated since 0.13 and will be removed in 0.15. The current behavior is equivalent to passing `weights=ResNet18_Weights.IMAGENET1K_V1`. You can also use `weights=ResNet18_Weights.DEFAULT` to get the most up-to-date weights.\n",
            "  warnings.warn(msg)\n",
            "Downloading: \"https://download.pytorch.org/models/resnet18-f37072fd.pth\" to /root/.cache/torch/hub/checkpoints/resnet18-f37072fd.pth\n"
          ]
        },
        {
          "output_type": "display_data",
          "data": {
            "text/plain": [
              "  0%|          | 0.00/44.7M [00:00<?, ?B/s]"
            ],
            "application/vnd.jupyter.widget-view+json": {
              "version_major": 2,
              "version_minor": 0,
              "model_id": "8e433d67a8af439190cfc69acd854fcd"
            }
          },
          "metadata": {}
        },
        {
          "output_type": "stream",
          "name": "stdout",
          "text": [
            "ResNet(\n",
            "  (conv1): Conv2d(3, 64, kernel_size=(7, 7), stride=(2, 2), padding=(3, 3), bias=False)\n",
            "  (bn1): BatchNorm2d(64, eps=1e-05, momentum=0.1, affine=True, track_running_stats=True)\n",
            "  (relu): ReLU(inplace=True)\n",
            "  (maxpool): MaxPool2d(kernel_size=3, stride=2, padding=1, dilation=1, ceil_mode=False)\n",
            "  (layer1): Sequential(\n",
            "    (0): BasicBlock(\n",
            "      (conv1): Conv2d(64, 64, kernel_size=(3, 3), stride=(1, 1), padding=(1, 1), bias=False)\n",
            "      (bn1): BatchNorm2d(64, eps=1e-05, momentum=0.1, affine=True, track_running_stats=True)\n",
            "      (relu): ReLU(inplace=True)\n",
            "      (conv2): Conv2d(64, 64, kernel_size=(3, 3), stride=(1, 1), padding=(1, 1), bias=False)\n",
            "      (bn2): BatchNorm2d(64, eps=1e-05, momentum=0.1, affine=True, track_running_stats=True)\n",
            "    )\n",
            "    (1): BasicBlock(\n",
            "      (conv1): Conv2d(64, 64, kernel_size=(3, 3), stride=(1, 1), padding=(1, 1), bias=False)\n",
            "      (bn1): BatchNorm2d(64, eps=1e-05, momentum=0.1, affine=True, track_running_stats=True)\n",
            "      (relu): ReLU(inplace=True)\n",
            "      (conv2): Conv2d(64, 64, kernel_size=(3, 3), stride=(1, 1), padding=(1, 1), bias=False)\n",
            "      (bn2): BatchNorm2d(64, eps=1e-05, momentum=0.1, affine=True, track_running_stats=True)\n",
            "    )\n",
            "  )\n",
            "  (layer2): Sequential(\n",
            "    (0): BasicBlock(\n",
            "      (conv1): Conv2d(64, 128, kernel_size=(3, 3), stride=(2, 2), padding=(1, 1), bias=False)\n",
            "      (bn1): BatchNorm2d(128, eps=1e-05, momentum=0.1, affine=True, track_running_stats=True)\n",
            "      (relu): ReLU(inplace=True)\n",
            "      (conv2): Conv2d(128, 128, kernel_size=(3, 3), stride=(1, 1), padding=(1, 1), bias=False)\n",
            "      (bn2): BatchNorm2d(128, eps=1e-05, momentum=0.1, affine=True, track_running_stats=True)\n",
            "      (downsample): Sequential(\n",
            "        (0): Conv2d(64, 128, kernel_size=(1, 1), stride=(2, 2), bias=False)\n",
            "        (1): BatchNorm2d(128, eps=1e-05, momentum=0.1, affine=True, track_running_stats=True)\n",
            "      )\n",
            "    )\n",
            "    (1): BasicBlock(\n",
            "      (conv1): Conv2d(128, 128, kernel_size=(3, 3), stride=(1, 1), padding=(1, 1), bias=False)\n",
            "      (bn1): BatchNorm2d(128, eps=1e-05, momentum=0.1, affine=True, track_running_stats=True)\n",
            "      (relu): ReLU(inplace=True)\n",
            "      (conv2): Conv2d(128, 128, kernel_size=(3, 3), stride=(1, 1), padding=(1, 1), bias=False)\n",
            "      (bn2): BatchNorm2d(128, eps=1e-05, momentum=0.1, affine=True, track_running_stats=True)\n",
            "    )\n",
            "  )\n",
            "  (layer3): Sequential(\n",
            "    (0): BasicBlock(\n",
            "      (conv1): Conv2d(128, 256, kernel_size=(3, 3), stride=(2, 2), padding=(1, 1), bias=False)\n",
            "      (bn1): BatchNorm2d(256, eps=1e-05, momentum=0.1, affine=True, track_running_stats=True)\n",
            "      (relu): ReLU(inplace=True)\n",
            "      (conv2): Conv2d(256, 256, kernel_size=(3, 3), stride=(1, 1), padding=(1, 1), bias=False)\n",
            "      (bn2): BatchNorm2d(256, eps=1e-05, momentum=0.1, affine=True, track_running_stats=True)\n",
            "      (downsample): Sequential(\n",
            "        (0): Conv2d(128, 256, kernel_size=(1, 1), stride=(2, 2), bias=False)\n",
            "        (1): BatchNorm2d(256, eps=1e-05, momentum=0.1, affine=True, track_running_stats=True)\n",
            "      )\n",
            "    )\n",
            "    (1): BasicBlock(\n",
            "      (conv1): Conv2d(256, 256, kernel_size=(3, 3), stride=(1, 1), padding=(1, 1), bias=False)\n",
            "      (bn1): BatchNorm2d(256, eps=1e-05, momentum=0.1, affine=True, track_running_stats=True)\n",
            "      (relu): ReLU(inplace=True)\n",
            "      (conv2): Conv2d(256, 256, kernel_size=(3, 3), stride=(1, 1), padding=(1, 1), bias=False)\n",
            "      (bn2): BatchNorm2d(256, eps=1e-05, momentum=0.1, affine=True, track_running_stats=True)\n",
            "    )\n",
            "  )\n",
            "  (layer4): Sequential(\n",
            "    (0): BasicBlock(\n",
            "      (conv1): Conv2d(256, 512, kernel_size=(3, 3), stride=(2, 2), padding=(1, 1), bias=False)\n",
            "      (bn1): BatchNorm2d(512, eps=1e-05, momentum=0.1, affine=True, track_running_stats=True)\n",
            "      (relu): ReLU(inplace=True)\n",
            "      (conv2): Conv2d(512, 512, kernel_size=(3, 3), stride=(1, 1), padding=(1, 1), bias=False)\n",
            "      (bn2): BatchNorm2d(512, eps=1e-05, momentum=0.1, affine=True, track_running_stats=True)\n",
            "      (downsample): Sequential(\n",
            "        (0): Conv2d(256, 512, kernel_size=(1, 1), stride=(2, 2), bias=False)\n",
            "        (1): BatchNorm2d(512, eps=1e-05, momentum=0.1, affine=True, track_running_stats=True)\n",
            "      )\n",
            "    )\n",
            "    (1): BasicBlock(\n",
            "      (conv1): Conv2d(512, 512, kernel_size=(3, 3), stride=(1, 1), padding=(1, 1), bias=False)\n",
            "      (bn1): BatchNorm2d(512, eps=1e-05, momentum=0.1, affine=True, track_running_stats=True)\n",
            "      (relu): ReLU(inplace=True)\n",
            "      (conv2): Conv2d(512, 512, kernel_size=(3, 3), stride=(1, 1), padding=(1, 1), bias=False)\n",
            "      (bn2): BatchNorm2d(512, eps=1e-05, momentum=0.1, affine=True, track_running_stats=True)\n",
            "    )\n",
            "  )\n",
            "  (avgpool): AdaptiveAvgPool2d(output_size=(1, 1))\n",
            "  (fc): Linear(in_features=512, out_features=1000, bias=True)\n",
            ")\n"
          ]
        }
      ]
    },
    {
      "cell_type": "code",
      "source": [
        "class CnnResNet18(NetworkBase):\n",
        "    def __init__(self, data_set_name, batch_size, download_path, train_data_size, validation_data_size, criterion):\n",
        "        super().__init__(data_set_name, batch_size, download_path, train_data_size, validation_data_size, criterion, image_size=224)\n",
        "        self.network = models.resnet18(pretrained=True)\n",
        "        # num = 6\n",
        "        num_ftrs = self.network.fc.in_features\n",
        "        print('Num feat ',num_ftrs)\n",
        "        # self.network.classifier[4]= torch.nn.Linear(4096,512)\n",
        "        self.network.fc= torch.nn.Linear(num_ftrs,10)\n",
        "        # (6): Linear(in_features=4096, out_features=1000, bias=True)\n",
        "        self.criterion = criterion\n",
        "\n",
        "    def forward(self, x):\n",
        "        return self.network(x) \n",
        "\n",
        "criterion = nn.CrossEntropyLoss()\n",
        "\n",
        "cnn_network = CnnResNet18(data_set_name = \"cifar_10\", batch_size = 4, download_path = \"./data\", \n",
        "                     train_data_size = 40000, validation_data_size = 10000, criterion = criterion)\n",
        "cnn_network = cnn_network.to(get_device())\n",
        "\n",
        "train_results = cnn_network.train(epoch_number = 2, learning_rate = 0.001, momentum = 0.9, optimizer_name = \"sgd\")\n",
        "cnn_network.plot_loss_and_accuracy_curves()\n",
        "# print(train_results)\n",
        "test_accuracy, test_loss = cnn_network.get_accuracy_and_loss(cnn_network.testloader)\n",
        "print('Test Accuracy ', test_accuracy)\n",
        "print('Test Loss ', test_loss)"
      ],
      "metadata": {
        "id": "HyYbivbYMTaX",
        "outputId": "44f05c6c-f5e3-440f-d26c-c22bdd684cf6",
        "colab": {
          "base_uri": "https://localhost:8080/",
          "height": 920,
          "referenced_widgets": [
            "a8b388bc50274423ae4a1f48c9c80f81",
            "65d29dda0b07453ca110991a83a44317",
            "49ed9d7755f640dbb78399f72bbf3602",
            "3406c6c2c7234b7ab181859a85747591",
            "8842b80f12af4199a88e279aebb16317",
            "16b389b4c5f64a4096d8c1f76e9b590d",
            "8d49c90506604ca7af69b3adc7b1cd2b",
            "c9a9b27ebb60471bae822f252bcdee8e",
            "2e2f9399d4194a83bfadbb98bba01c81",
            "3f919ada67c04d01851c600e69762a03",
            "52683c4702c94f7b9e127d815b6caa73"
          ]
        }
      },
      "execution_count": null,
      "outputs": [
        {
          "output_type": "stream",
          "name": "stdout",
          "text": [
            "Downloading https://www.cs.toronto.edu/~kriz/cifar-10-python.tar.gz to ./data/cifar-10-python.tar.gz\n"
          ]
        },
        {
          "output_type": "display_data",
          "data": {
            "text/plain": [
              "  0%|          | 0/170498071 [00:00<?, ?it/s]"
            ],
            "application/vnd.jupyter.widget-view+json": {
              "version_major": 2,
              "version_minor": 0,
              "model_id": "a8b388bc50274423ae4a1f48c9c80f81"
            }
          },
          "metadata": {}
        },
        {
          "output_type": "stream",
          "name": "stdout",
          "text": [
            "Extracting ./data/cifar-10-python.tar.gz to ./data\n",
            "Length of Dataset  50000\n",
            "Length of Train set  40000\n",
            "Length of Val set  10000\n",
            "Files already downloaded and verified\n",
            "Length of Testset  10000\n"
          ]
        },
        {
          "output_type": "stream",
          "name": "stderr",
          "text": [
            "/usr/local/lib/python3.7/dist-packages/torchvision/models/_utils.py:209: UserWarning: The parameter 'pretrained' is deprecated since 0.13 and will be removed in 0.15, please use 'weights' instead.\n",
            "  f\"The parameter '{pretrained_param}' is deprecated since 0.13 and will be removed in 0.15, \"\n",
            "/usr/local/lib/python3.7/dist-packages/torchvision/models/_utils.py:223: UserWarning: Arguments other than a weight enum or `None` for 'weights' are deprecated since 0.13 and will be removed in 0.15. The current behavior is equivalent to passing `weights=ResNet18_Weights.IMAGENET1K_V1`. You can also use `weights=ResNet18_Weights.DEFAULT` to get the most up-to-date weights.\n",
            "  warnings.warn(msg)\n"
          ]
        },
        {
          "output_type": "stream",
          "name": "stdout",
          "text": [
            "Num feat  512\n",
            "Train result  {'epoch': 0, 'train_loss': 0.5196386455833854, 'train_accuracy': 83.33, 'val_loss': 0.5934028921429068, 'val_accuracy': 81.35}\n",
            "Train result  {'epoch': 1, 'train_loss': 0.2950286936472519, 'train_accuracy': 90.81, 'val_loss': 0.4232159459220711, 'val_accuracy': 86.57}\n",
            "Finished Training\n"
          ]
        },
        {
          "output_type": "display_data",
          "data": {
            "text/plain": [
              "<Figure size 432x288 with 1 Axes>"
            ],
            "image/png": "[encoded data removed]"
          },
          "metadata": {
            "needs_background": "light"
          }
        },
        {
          "output_type": "display_data",
          "data": {
            "text/plain": [
              "<Figure size 432x288 with 1 Axes>"
            ],
            "image/png": "[encoded data removed]"
          },
          "metadata": {
            "needs_background": "light"
          }
        },
        {
          "output_type": "stream",
          "name": "stdout",
          "text": [
            "Test Accuracy  86.58\n",
            "Test Loss  0.43041964543578215\n"
          ]
        }
      ]
    },
    {
      "cell_type": "code",
      "source": [
        "from torchvision import models\n",
        "resnet = models.resnet101(pretrained=True)\n",
        "print(resnet)"
      ],
      "metadata": {
        "id": "XHxBPCMkU65T",
        "outputId": "4da78346-b5a4-4827-fcff-ce3c94466b51",
        "colab": {
          "base_uri": "https://localhost:8080/",
          "height": 1000,
          "referenced_widgets": [
            "2caddf1574b24552bd42be7e643d3391",
            "68e3590243374adf81a38742b642a2c0",
            "f9b2e8e311694fa3b7b5247a8fcaeaac",
            "e6880fd4edf24da08a6a15b5ba38ce25",
            "8edb9045bca24c93b7d7eddcf871b420",
            "2ae13c6622f84961b7b72cc1366a304c",
            "ad19982c2c2b4e9992db8d88a810a428",
            "f9809504c6554a68a397f8e4d31717b2",
            "1332dad1c34a4e02b6a76fd8653ff1ba",
            "5210419c5c014aaf8aae928c7f153766",
            "da40f42a8e93495893dd9eb1358b4593"
          ]
        }
      },
      "execution_count": null,
      "outputs": [
        {
          "output_type": "stream",
          "name": "stderr",
          "text": [
            "/usr/local/lib/python3.7/dist-packages/torchvision/models/_utils.py:209: UserWarning: The parameter 'pretrained' is deprecated since 0.13 and will be removed in 0.15, please use 'weights' instead.\n",
            "  f\"The parameter '{pretrained_param}' is deprecated since 0.13 and will be removed in 0.15, \"\n",
            "/usr/local/lib/python3.7/dist-packages/torchvision/models/_utils.py:223: UserWarning: Arguments other than a weight enum or `None` for 'weights' are deprecated since 0.13 and will be removed in 0.15. The current behavior is equivalent to passing `weights=ResNet101_Weights.IMAGENET1K_V1`. You can also use `weights=ResNet101_Weights.DEFAULT` to get the most up-to-date weights.\n",
            "  warnings.warn(msg)\n",
            "Downloading: \"https://download.pytorch.org/models/resnet101-63fe2227.pth\" to /root/.cache/torch/hub/checkpoints/resnet101-63fe2227.pth\n"
          ]
        },
        {
          "output_type": "display_data",
          "data": {
            "text/plain": [
              "  0%|          | 0.00/171M [00:00<?, ?B/s]"
            ],
            "application/vnd.jupyter.widget-view+json": {
              "version_major": 2,
              "version_minor": 0,
              "model_id": "2caddf1574b24552bd42be7e643d3391"
            }
          },
          "metadata": {}
        },
        {
          "output_type": "stream",
          "name": "stdout",
          "text": [
            "ResNet(\n",
            "  (conv1): Conv2d(3, 64, kernel_size=(7, 7), stride=(2, 2), padding=(3, 3), bias=False)\n",
            "  (bn1): BatchNorm2d(64, eps=1e-05, momentum=0.1, affine=True, track_running_stats=True)\n",
            "  (relu): ReLU(inplace=True)\n",
            "  (maxpool): MaxPool2d(kernel_size=3, stride=2, padding=1, dilation=1, ceil_mode=False)\n",
            "  (layer1): Sequential(\n",
            "    (0): Bottleneck(\n",
            "      (conv1): Conv2d(64, 64, kernel_size=(1, 1), stride=(1, 1), bias=False)\n",
            "      (bn1): BatchNorm2d(64, eps=1e-05, momentum=0.1, affine=True, track_running_stats=True)\n",
            "      (conv2): Conv2d(64, 64, kernel_size=(3, 3), stride=(1, 1), padding=(1, 1), bias=False)\n",
            "      (bn2): BatchNorm2d(64, eps=1e-05, momentum=0.1, affine=True, track_running_stats=True)\n",
            "      (conv3): Conv2d(64, 256, kernel_size=(1, 1), stride=(1, 1), bias=False)\n",
            "      (bn3): BatchNorm2d(256, eps=1e-05, momentum=0.1, affine=True, track_running_stats=True)\n",
            "      (relu): ReLU(inplace=True)\n",
            "      (downsample): Sequential(\n",
            "        (0): Conv2d(64, 256, kernel_size=(1, 1), stride=(1, 1), bias=False)\n",
            "        (1): BatchNorm2d(256, eps=1e-05, momentum=0.1, affine=True, track_running_stats=True)\n",
            "      )\n",
            "    )\n",
            "    (1): Bottleneck(\n",
            "      (conv1): Conv2d(256, 64, kernel_size=(1, 1), stride=(1, 1), bias=False)\n",
            "      (bn1): BatchNorm2d(64, eps=1e-05, momentum=0.1, affine=True, track_running_stats=True)\n",
            "      (conv2): Conv2d(64, 64, kernel_size=(3, 3), stride=(1, 1), padding=(1, 1), bias=False)\n",
            "      (bn2): BatchNorm2d(64, eps=1e-05, momentum=0.1, affine=True, track_running_stats=True)\n",
            "      (conv3): Conv2d(64, 256, kernel_size=(1, 1), stride=(1, 1), bias=False)\n",
            "      (bn3): BatchNorm2d(256, eps=1e-05, momentum=0.1, affine=True, track_running_stats=True)\n",
            "      (relu): ReLU(inplace=True)\n",
            "    )\n",
            "    (2): Bottleneck(\n",
            "      (conv1): Conv2d(256, 64, kernel_size=(1, 1), stride=(1, 1), bias=False)\n",
            "      (bn1): BatchNorm2d(64, eps=1e-05, momentum=0.1, affine=True, track_running_stats=True)\n",
            "      (conv2): Conv2d(64, 64, kernel_size=(3, 3), stride=(1, 1), padding=(1, 1), bias=False)\n",
            "      (bn2): BatchNorm2d(64, eps=1e-05, momentum=0.1, affine=True, track_running_stats=True)\n",
            "      (conv3): Conv2d(64, 256, kernel_size=(1, 1), stride=(1, 1), bias=False)\n",
            "      (bn3): BatchNorm2d(256, eps=1e-05, momentum=0.1, affine=True, track_running_stats=True)\n",
            "      (relu): ReLU(inplace=True)\n",
            "    )\n",
            "  )\n",
            "  (layer2): Sequential(\n",
            "    (0): Bottleneck(\n",
            "      (conv1): Conv2d(256, 128, kernel_size=(1, 1), stride=(1, 1), bias=False)\n",
            "      (bn1): BatchNorm2d(128, eps=1e-05, momentum=0.1, affine=True, track_running_stats=True)\n",
            "      (conv2): Conv2d(128, 128, kernel_size=(3, 3), stride=(2, 2), padding=(1, 1), bias=False)\n",
            "      (bn2): BatchNorm2d(128, eps=1e-05, momentum=0.1, affine=True, track_running_stats=True)\n",
            "      (conv3): Conv2d(128, 512, kernel_size=(1, 1), stride=(1, 1), bias=False)\n",
            "      (bn3): BatchNorm2d(512, eps=1e-05, momentum=0.1, affine=True, track_running_stats=True)\n",
            "      (relu): ReLU(inplace=True)\n",
            "      (downsample): Sequential(\n",
            "        (0): Conv2d(256, 512, kernel_size=(1, 1), stride=(2, 2), bias=False)\n",
            "        (1): BatchNorm2d(512, eps=1e-05, momentum=0.1, affine=True, track_running_stats=True)\n",
            "      )\n",
            "    )\n",
            "    (1): Bottleneck(\n",
            "      (conv1): Conv2d(512, 128, kernel_size=(1, 1), stride=(1, 1), bias=False)\n",
            "      (bn1): BatchNorm2d(128, eps=1e-05, momentum=0.1, affine=True, track_running_stats=True)\n",
            "      (conv2): Conv2d(128, 128, kernel_size=(3, 3), stride=(1, 1), padding=(1, 1), bias=False)\n",
            "      (bn2): BatchNorm2d(128, eps=1e-05, momentum=0.1, affine=True, track_running_stats=True)\n",
            "      (conv3): Conv2d(128, 512, kernel_size=(1, 1), stride=(1, 1), bias=False)\n",
            "      (bn3): BatchNorm2d(512, eps=1e-05, momentum=0.1, affine=True, track_running_stats=True)\n",
            "      (relu): ReLU(inplace=True)\n",
            "    )\n",
            "    (2): Bottleneck(\n",
            "      (conv1): Conv2d(512, 128, kernel_size=(1, 1), stride=(1, 1), bias=False)\n",
            "      (bn1): BatchNorm2d(128, eps=1e-05, momentum=0.1, affine=True, track_running_stats=True)\n",
            "      (conv2): Conv2d(128, 128, kernel_size=(3, 3), stride=(1, 1), padding=(1, 1), bias=False)\n",
            "      (bn2): BatchNorm2d(128, eps=1e-05, momentum=0.1, affine=True, track_running_stats=True)\n",
            "      (conv3): Conv2d(128, 512, kernel_size=(1, 1), stride=(1, 1), bias=False)\n",
            "      (bn3): BatchNorm2d(512, eps=1e-05, momentum=0.1, affine=True, track_running_stats=True)\n",
            "      (relu): ReLU(inplace=True)\n",
            "    )\n",
            "    (3): Bottleneck(\n",
            "      (conv1): Conv2d(512, 128, kernel_size=(1, 1), stride=(1, 1), bias=False)\n",
            "      (bn1): BatchNorm2d(128, eps=1e-05, momentum=0.1, affine=True, track_running_stats=True)\n",
            "      (conv2): Conv2d(128, 128, kernel_size=(3, 3), stride=(1, 1), padding=(1, 1), bias=False)\n",
            "      (bn2): BatchNorm2d(128, eps=1e-05, momentum=0.1, affine=True, track_running_stats=True)\n",
            "      (conv3): Conv2d(128, 512, kernel_size=(1, 1), stride=(1, 1), bias=False)\n",
            "      (bn3): BatchNorm2d(512, eps=1e-05, momentum=0.1, affine=True, track_running_stats=True)\n",
            "      (relu): ReLU(inplace=True)\n",
            "    )\n",
            "  )\n",
            "  (layer3): Sequential(\n",
            "    (0): Bottleneck(\n",
            "      (conv1): Conv2d(512, 256, kernel_size=(1, 1), stride=(1, 1), bias=False)\n",
            "      (bn1): BatchNorm2d(256, eps=1e-05, momentum=0.1, affine=True, track_running_stats=True)\n",
            "      (conv2): Conv2d(256, 256, kernel_size=(3, 3), stride=(2, 2), padding=(1, 1), bias=False)\n",
            "      (bn2): BatchNorm2d(256, eps=1e-05, momentum=0.1, affine=True, track_running_stats=True)\n",
            "      (conv3): Conv2d(256, 1024, kernel_size=(1, 1), stride=(1, 1), bias=False)\n",
            "      (bn3): BatchNorm2d(1024, eps=1e-05, momentum=0.1, affine=True, track_running_stats=True)\n",
            "      (relu): ReLU(inplace=True)\n",
            "      (downsample): Sequential(\n",
            "        (0): Conv2d(512, 1024, kernel_size=(1, 1), stride=(2, 2), bias=False)\n",
            "        (1): BatchNorm2d(1024, eps=1e-05, momentum=0.1, affine=True, track_running_stats=True)\n",
            "      )\n",
            "    )\n",
            "    (1): Bottleneck(\n",
            "      (conv1): Conv2d(1024, 256, kernel_size=(1, 1), stride=(1, 1), bias=False)\n",
            "      (bn1): BatchNorm2d(256, eps=1e-05, momentum=0.1, affine=True, track_running_stats=True)\n",
            "      (conv2): Conv2d(256, 256, kernel_size=(3, 3), stride=(1, 1), padding=(1, 1), bias=False)\n",
            "      (bn2): BatchNorm2d(256, eps=1e-05, momentum=0.1, affine=True, track_running_stats=True)\n",
            "      (conv3): Conv2d(256, 1024, kernel_size=(1, 1), stride=(1, 1), bias=False)\n",
            "      (bn3): BatchNorm2d(1024, eps=1e-05, momentum=0.1, affine=True, track_running_stats=True)\n",
            "      (relu): ReLU(inplace=True)\n",
            "    )\n",
            "    (2): Bottleneck(\n",
            "      (conv1): Conv2d(1024, 256, kernel_size=(1, 1), stride=(1, 1), bias=False)\n",
            "      (bn1): BatchNorm2d(256, eps=1e-05, momentum=0.1, affine=True, track_running_stats=True)\n",
            "      (conv2): Conv2d(256, 256, kernel_size=(3, 3), stride=(1, 1), padding=(1, 1), bias=False)\n",
            "      (bn2): BatchNorm2d(256, eps=1e-05, momentum=0.1, affine=True, track_running_stats=True)\n",
            "      (conv3): Conv2d(256, 1024, kernel_size=(1, 1), stride=(1, 1), bias=False)\n",
            "      (bn3): BatchNorm2d(1024, eps=1e-05, momentum=0.1, affine=True, track_running_stats=True)\n",
            "      (relu): ReLU(inplace=True)\n",
            "    )\n",
            "    (3): Bottleneck(\n",
            "      (conv1): Conv2d(1024, 256, kernel_size=(1, 1), stride=(1, 1), bias=False)\n",
            "      (bn1): BatchNorm2d(256, eps=1e-05, momentum=0.1, affine=True, track_running_stats=True)\n",
            "      (conv2): Conv2d(256, 256, kernel_size=(3, 3), stride=(1, 1), padding=(1, 1), bias=False)\n",
            "      (bn2): BatchNorm2d(256, eps=1e-05, momentum=0.1, affine=True, track_running_stats=True)\n",
            "      (conv3): Conv2d(256, 1024, kernel_size=(1, 1), stride=(1, 1), bias=False)\n",
            "      (bn3): BatchNorm2d(1024, eps=1e-05, momentum=0.1, affine=True, track_running_stats=True)\n",
            "      (relu): ReLU(inplace=True)\n",
            "    )\n",
            "    (4): Bottleneck(\n",
            "      (conv1): Conv2d(1024, 256, kernel_size=(1, 1), stride=(1, 1), bias=False)\n",
            "      (bn1): BatchNorm2d(256, eps=1e-05, momentum=0.1, affine=True, track_running_stats=True)\n",
            "      (conv2): Conv2d(256, 256, kernel_size=(3, 3), stride=(1, 1), padding=(1, 1), bias=False)\n",
            "      (bn2): BatchNorm2d(256, eps=1e-05, momentum=0.1, affine=True, track_running_stats=True)\n",
            "      (conv3): Conv2d(256, 1024, kernel_size=(1, 1), stride=(1, 1), bias=False)\n",
            "      (bn3): BatchNorm2d(1024, eps=1e-05, momentum=0.1, affine=True, track_running_stats=True)\n",
            "      (relu): ReLU(inplace=True)\n",
            "    )\n",
            "    (5): Bottleneck(\n",
            "      (conv1): Conv2d(1024, 256, kernel_size=(1, 1), stride=(1, 1), bias=False)\n",
            "      (bn1): BatchNorm2d(256, eps=1e-05, momentum=0.1, affine=True, track_running_stats=True)\n",
            "      (conv2): Conv2d(256, 256, kernel_size=(3, 3), stride=(1, 1), padding=(1, 1), bias=False)\n",
            "      (bn2): BatchNorm2d(256, eps=1e-05, momentum=0.1, affine=True, track_running_stats=True)\n",
            "      (conv3): Conv2d(256, 1024, kernel_size=(1, 1), stride=(1, 1), bias=False)\n",
            "      (bn3): BatchNorm2d(1024, eps=1e-05, momentum=0.1, affine=True, track_running_stats=True)\n",
            "      (relu): ReLU(inplace=True)\n",
            "    )\n",
            "    (6): Bottleneck(\n",
            "      (conv1): Conv2d(1024, 256, kernel_size=(1, 1), stride=(1, 1), bias=False)\n",
            "      (bn1): BatchNorm2d(256, eps=1e-05, momentum=0.1, affine=True, track_running_stats=True)\n",
            "      (conv2): Conv2d(256, 256, kernel_size=(3, 3), stride=(1, 1), padding=(1, 1), bias=False)\n",
            "      (bn2): BatchNorm2d(256, eps=1e-05, momentum=0.1, affine=True, track_running_stats=True)\n",
            "      (conv3): Conv2d(256, 1024, kernel_size=(1, 1), stride=(1, 1), bias=False)\n",
            "      (bn3): BatchNorm2d(1024, eps=1e-05, momentum=0.1, affine=True, track_running_stats=True)\n",
            "      (relu): ReLU(inplace=True)\n",
            "    )\n",
            "    (7): Bottleneck(\n",
            "      (conv1): Conv2d(1024, 256, kernel_size=(1, 1), stride=(1, 1), bias=False)\n",
            "      (bn1): BatchNorm2d(256, eps=1e-05, momentum=0.1, affine=True, track_running_stats=True)\n",
            "      (conv2): Conv2d(256, 256, kernel_size=(3, 3), stride=(1, 1), padding=(1, 1), bias=False)\n",
            "      (bn2): BatchNorm2d(256, eps=1e-05, momentum=0.1, affine=True, track_running_stats=True)\n",
            "      (conv3): Conv2d(256, 1024, kernel_size=(1, 1), stride=(1, 1), bias=False)\n",
            "      (bn3): BatchNorm2d(1024, eps=1e-05, momentum=0.1, affine=True, track_running_stats=True)\n",
            "      (relu): ReLU(inplace=True)\n",
            "    )\n",
            "    (8): Bottleneck(\n",
            "      (conv1): Conv2d(1024, 256, kernel_size=(1, 1), stride=(1, 1), bias=False)\n",
            "      (bn1): BatchNorm2d(256, eps=1e-05, momentum=0.1, affine=True, track_running_stats=True)\n",
            "      (conv2): Conv2d(256, 256, kernel_size=(3, 3), stride=(1, 1), padding=(1, 1), bias=False)\n",
            "      (bn2): BatchNorm2d(256, eps=1e-05, momentum=0.1, affine=True, track_running_stats=True)\n",
            "      (conv3): Conv2d(256, 1024, kernel_size=(1, 1), stride=(1, 1), bias=False)\n",
            "      (bn3): BatchNorm2d(1024, eps=1e-05, momentum=0.1, affine=True, track_running_stats=True)\n",
            "      (relu): ReLU(inplace=True)\n",
            "    )\n",
            "    (9): Bottleneck(\n",
            "      (conv1): Conv2d(1024, 256, kernel_size=(1, 1), stride=(1, 1), bias=False)\n",
            "      (bn1): BatchNorm2d(256, eps=1e-05, momentum=0.1, affine=True, track_running_stats=True)\n",
            "      (conv2): Conv2d(256, 256, kernel_size=(3, 3), stride=(1, 1), padding=(1, 1), bias=False)\n",
            "      (bn2): BatchNorm2d(256, eps=1e-05, momentum=0.1, affine=True, track_running_stats=True)\n",
            "      (conv3): Conv2d(256, 1024, kernel_size=(1, 1), stride=(1, 1), bias=False)\n",
            "      (bn3): BatchNorm2d(1024, eps=1e-05, momentum=0.1, affine=True, track_running_stats=True)\n",
            "      (relu): ReLU(inplace=True)\n",
            "    )\n",
            "    (10): Bottleneck(\n",
            "      (conv1): Conv2d(1024, 256, kernel_size=(1, 1), stride=(1, 1), bias=False)\n",
            "      (bn1): BatchNorm2d(256, eps=1e-05, momentum=0.1, affine=True, track_running_stats=True)\n",
            "      (conv2): Conv2d(256, 256, kernel_size=(3, 3), stride=(1, 1), padding=(1, 1), bias=False)\n",
            "      (bn2): BatchNorm2d(256, eps=1e-05, momentum=0.1, affine=True, track_running_stats=True)\n",
            "      (conv3): Conv2d(256, 1024, kernel_size=(1, 1), stride=(1, 1), bias=False)\n",
            "      (bn3): BatchNorm2d(1024, eps=1e-05, momentum=0.1, affine=True, track_running_stats=True)\n",
            "      (relu): ReLU(inplace=True)\n",
            "    )\n",
            "    (11): Bottleneck(\n",
            "      (conv1): Conv2d(1024, 256, kernel_size=(1, 1), stride=(1, 1), bias=False)\n",
            "      (bn1): BatchNorm2d(256, eps=1e-05, momentum=0.1, affine=True, track_running_stats=True)\n",
            "      (conv2): Conv2d(256, 256, kernel_size=(3, 3), stride=(1, 1), padding=(1, 1), bias=False)\n",
            "      (bn2): BatchNorm2d(256, eps=1e-05, momentum=0.1, affine=True, track_running_stats=True)\n",
            "      (conv3): Conv2d(256, 1024, kernel_size=(1, 1), stride=(1, 1), bias=False)\n",
            "      (bn3): BatchNorm2d(1024, eps=1e-05, momentum=0.1, affine=True, track_running_stats=True)\n",
            "      (relu): ReLU(inplace=True)\n",
            "    )\n",
            "    (12): Bottleneck(\n",
            "      (conv1): Conv2d(1024, 256, kernel_size=(1, 1), stride=(1, 1), bias=False)\n",
            "      (bn1): BatchNorm2d(256, eps=1e-05, momentum=0.1, affine=True, track_running_stats=True)\n",
            "      (conv2): Conv2d(256, 256, kernel_size=(3, 3), stride=(1, 1), padding=(1, 1), bias=False)\n",
            "      (bn2): BatchNorm2d(256, eps=1e-05, momentum=0.1, affine=True, track_running_stats=True)\n",
            "      (conv3): Conv2d(256, 1024, kernel_size=(1, 1), stride=(1, 1), bias=False)\n",
            "      (bn3): BatchNorm2d(1024, eps=1e-05, momentum=0.1, affine=True, track_running_stats=True)\n",
            "      (relu): ReLU(inplace=True)\n",
            "    )\n",
            "    (13): Bottleneck(\n",
            "      (conv1): Conv2d(1024, 256, kernel_size=(1, 1), stride=(1, 1), bias=False)\n",
            "      (bn1): BatchNorm2d(256, eps=1e-05, momentum=0.1, affine=True, track_running_stats=True)\n",
            "      (conv2): Conv2d(256, 256, kernel_size=(3, 3), stride=(1, 1), padding=(1, 1), bias=False)\n",
            "      (bn2): BatchNorm2d(256, eps=1e-05, momentum=0.1, affine=True, track_running_stats=True)\n",
            "      (conv3): Conv2d(256, 1024, kernel_size=(1, 1), stride=(1, 1), bias=False)\n",
            "      (bn3): BatchNorm2d(1024, eps=1e-05, momentum=0.1, affine=True, track_running_stats=True)\n",
            "      (relu): ReLU(inplace=True)\n",
            "    )\n",
            "    (14): Bottleneck(\n",
            "      (conv1): Conv2d(1024, 256, kernel_size=(1, 1), stride=(1, 1), bias=False)\n",
            "      (bn1): BatchNorm2d(256, eps=1e-05, momentum=0.1, affine=True, track_running_stats=True)\n",
            "      (conv2): Conv2d(256, 256, kernel_size=(3, 3), stride=(1, 1), padding=(1, 1), bias=False)\n",
            "      (bn2): BatchNorm2d(256, eps=1e-05, momentum=0.1, affine=True, track_running_stats=True)\n",
            "      (conv3): Conv2d(256, 1024, kernel_size=(1, 1), stride=(1, 1), bias=False)\n",
            "      (bn3): BatchNorm2d(1024, eps=1e-05, momentum=0.1, affine=True, track_running_stats=True)\n",
            "      (relu): ReLU(inplace=True)\n",
            "    )\n",
            "    (15): Bottleneck(\n",
            "      (conv1): Conv2d(1024, 256, kernel_size=(1, 1), stride=(1, 1), bias=False)\n",
            "      (bn1): BatchNorm2d(256, eps=1e-05, momentum=0.1, affine=True, track_running_stats=True)\n",
            "      (conv2): Conv2d(256, 256, kernel_size=(3, 3), stride=(1, 1), padding=(1, 1), bias=False)\n",
            "      (bn2): BatchNorm2d(256, eps=1e-05, momentum=0.1, affine=True, track_running_stats=True)\n",
            "      (conv3): Conv2d(256, 1024, kernel_size=(1, 1), stride=(1, 1), bias=False)\n",
            "      (bn3): BatchNorm2d(1024, eps=1e-05, momentum=0.1, affine=True, track_running_stats=True)\n",
            "      (relu): ReLU(inplace=True)\n",
            "    )\n",
            "    (16): Bottleneck(\n",
            "      (conv1): Conv2d(1024, 256, kernel_size=(1, 1), stride=(1, 1), bias=False)\n",
            "      (bn1): BatchNorm2d(256, eps=1e-05, momentum=0.1, affine=True, track_running_stats=True)\n",
            "      (conv2): Conv2d(256, 256, kernel_size=(3, 3), stride=(1, 1), padding=(1, 1), bias=False)\n",
            "      (bn2): BatchNorm2d(256, eps=1e-05, momentum=0.1, affine=True, track_running_stats=True)\n",
            "      (conv3): Conv2d(256, 1024, kernel_size=(1, 1), stride=(1, 1), bias=False)\n",
            "      (bn3): BatchNorm2d(1024, eps=1e-05, momentum=0.1, affine=True, track_running_stats=True)\n",
            "      (relu): ReLU(inplace=True)\n",
            "    )\n",
            "    (17): Bottleneck(\n",
            "      (conv1): Conv2d(1024, 256, kernel_size=(1, 1), stride=(1, 1), bias=False)\n",
            "      (bn1): BatchNorm2d(256, eps=1e-05, momentum=0.1, affine=True, track_running_stats=True)\n",
            "      (conv2): Conv2d(256, 256, kernel_size=(3, 3), stride=(1, 1), padding=(1, 1), bias=False)\n",
            "      (bn2): BatchNorm2d(256, eps=1e-05, momentum=0.1, affine=True, track_running_stats=True)\n",
            "      (conv3): Conv2d(256, 1024, kernel_size=(1, 1), stride=(1, 1), bias=False)\n",
            "      (bn3): BatchNorm2d(1024, eps=1e-05, momentum=0.1, affine=True, track_running_stats=True)\n",
            "      (relu): ReLU(inplace=True)\n",
            "    )\n",
            "    (18): Bottleneck(\n",
            "      (conv1): Conv2d(1024, 256, kernel_size=(1, 1), stride=(1, 1), bias=False)\n",
            "      (bn1): BatchNorm2d(256, eps=1e-05, momentum=0.1, affine=True, track_running_stats=True)\n",
            "      (conv2): Conv2d(256, 256, kernel_size=(3, 3), stride=(1, 1), padding=(1, 1), bias=False)\n",
            "      (bn2): BatchNorm2d(256, eps=1e-05, momentum=0.1, affine=True, track_running_stats=True)\n",
            "      (conv3): Conv2d(256, 1024, kernel_size=(1, 1), stride=(1, 1), bias=False)\n",
            "      (bn3): BatchNorm2d(1024, eps=1e-05, momentum=0.1, affine=True, track_running_stats=True)\n",
            "      (relu): ReLU(inplace=True)\n",
            "    )\n",
            "    (19): Bottleneck(\n",
            "      (conv1): Conv2d(1024, 256, kernel_size=(1, 1), stride=(1, 1), bias=False)\n",
            "      (bn1): BatchNorm2d(256, eps=1e-05, momentum=0.1, affine=True, track_running_stats=True)\n",
            "      (conv2): Conv2d(256, 256, kernel_size=(3, 3), stride=(1, 1), padding=(1, 1), bias=False)\n",
            "      (bn2): BatchNorm2d(256, eps=1e-05, momentum=0.1, affine=True, track_running_stats=True)\n",
            "      (conv3): Conv2d(256, 1024, kernel_size=(1, 1), stride=(1, 1), bias=False)\n",
            "      (bn3): BatchNorm2d(1024, eps=1e-05, momentum=0.1, affine=True, track_running_stats=True)\n",
            "      (relu): ReLU(inplace=True)\n",
            "    )\n",
            "    (20): Bottleneck(\n",
            "      (conv1): Conv2d(1024, 256, kernel_size=(1, 1), stride=(1, 1), bias=False)\n",
            "      (bn1): BatchNorm2d(256, eps=1e-05, momentum=0.1, affine=True, track_running_stats=True)\n",
            "      (conv2): Conv2d(256, 256, kernel_size=(3, 3), stride=(1, 1), padding=(1, 1), bias=False)\n",
            "      (bn2): BatchNorm2d(256, eps=1e-05, momentum=0.1, affine=True, track_running_stats=True)\n",
            "      (conv3): Conv2d(256, 1024, kernel_size=(1, 1), stride=(1, 1), bias=False)\n",
            "      (bn3): BatchNorm2d(1024, eps=1e-05, momentum=0.1, affine=True, track_running_stats=True)\n",
            "      (relu): ReLU(inplace=True)\n",
            "    )\n",
            "    (21): Bottleneck(\n",
            "      (conv1): Conv2d(1024, 256, kernel_size=(1, 1), stride=(1, 1), bias=False)\n",
            "      (bn1): BatchNorm2d(256, eps=1e-05, momentum=0.1, affine=True, track_running_stats=True)\n",
            "      (conv2): Conv2d(256, 256, kernel_size=(3, 3), stride=(1, 1), padding=(1, 1), bias=False)\n",
            "      (bn2): BatchNorm2d(256, eps=1e-05, momentum=0.1, affine=True, track_running_stats=True)\n",
            "      (conv3): Conv2d(256, 1024, kernel_size=(1, 1), stride=(1, 1), bias=False)\n",
            "      (bn3): BatchNorm2d(1024, eps=1e-05, momentum=0.1, affine=True, track_running_stats=True)\n",
            "      (relu): ReLU(inplace=True)\n",
            "    )\n",
            "    (22): Bottleneck(\n",
            "      (conv1): Conv2d(1024, 256, kernel_size=(1, 1), stride=(1, 1), bias=False)\n",
            "      (bn1): BatchNorm2d(256, eps=1e-05, momentum=0.1, affine=True, track_running_stats=True)\n",
            "      (conv2): Conv2d(256, 256, kernel_size=(3, 3), stride=(1, 1), padding=(1, 1), bias=False)\n",
            "      (bn2): BatchNorm2d(256, eps=1e-05, momentum=0.1, affine=True, track_running_stats=True)\n",
            "      (conv3): Conv2d(256, 1024, kernel_size=(1, 1), stride=(1, 1), bias=False)\n",
            "      (bn3): BatchNorm2d(1024, eps=1e-05, momentum=0.1, affine=True, track_running_stats=True)\n",
            "      (relu): ReLU(inplace=True)\n",
            "    )\n",
            "  )\n",
            "  (layer4): Sequential(\n",
            "    (0): Bottleneck(\n",
            "      (conv1): Conv2d(1024, 512, kernel_size=(1, 1), stride=(1, 1), bias=False)\n",
            "      (bn1): BatchNorm2d(512, eps=1e-05, momentum=0.1, affine=True, track_running_stats=True)\n",
            "      (conv2): Conv2d(512, 512, kernel_size=(3, 3), stride=(2, 2), padding=(1, 1), bias=False)\n",
            "      (bn2): BatchNorm2d(512, eps=1e-05, momentum=0.1, affine=True, track_running_stats=True)\n",
            "      (conv3): Conv2d(512, 2048, kernel_size=(1, 1), stride=(1, 1), bias=False)\n",
            "      (bn3): BatchNorm2d(2048, eps=1e-05, momentum=0.1, affine=True, track_running_stats=True)\n",
            "      (relu): ReLU(inplace=True)\n",
            "      (downsample): Sequential(\n",
            "        (0): Conv2d(1024, 2048, kernel_size=(1, 1), stride=(2, 2), bias=False)\n",
            "        (1): BatchNorm2d(2048, eps=1e-05, momentum=0.1, affine=True, track_running_stats=True)\n",
            "      )\n",
            "    )\n",
            "    (1): Bottleneck(\n",
            "      (conv1): Conv2d(2048, 512, kernel_size=(1, 1), stride=(1, 1), bias=False)\n",
            "      (bn1): BatchNorm2d(512, eps=1e-05, momentum=0.1, affine=True, track_running_stats=True)\n",
            "      (conv2): Conv2d(512, 512, kernel_size=(3, 3), stride=(1, 1), padding=(1, 1), bias=False)\n",
            "      (bn2): BatchNorm2d(512, eps=1e-05, momentum=0.1, affine=True, track_running_stats=True)\n",
            "      (conv3): Conv2d(512, 2048, kernel_size=(1, 1), stride=(1, 1), bias=False)\n",
            "      (bn3): BatchNorm2d(2048, eps=1e-05, momentum=0.1, affine=True, track_running_stats=True)\n",
            "      (relu): ReLU(inplace=True)\n",
            "    )\n",
            "    (2): Bottleneck(\n",
            "      (conv1): Conv2d(2048, 512, kernel_size=(1, 1), stride=(1, 1), bias=False)\n",
            "      (bn1): BatchNorm2d(512, eps=1e-05, momentum=0.1, affine=True, track_running_stats=True)\n",
            "      (conv2): Conv2d(512, 512, kernel_size=(3, 3), stride=(1, 1), padding=(1, 1), bias=False)\n",
            "      (bn2): BatchNorm2d(512, eps=1e-05, momentum=0.1, affine=True, track_running_stats=True)\n",
            "      (conv3): Conv2d(512, 2048, kernel_size=(1, 1), stride=(1, 1), bias=False)\n",
            "      (bn3): BatchNorm2d(2048, eps=1e-05, momentum=0.1, affine=True, track_running_stats=True)\n",
            "      (relu): ReLU(inplace=True)\n",
            "    )\n",
            "  )\n",
            "  (avgpool): AdaptiveAvgPool2d(output_size=(1, 1))\n",
            "  (fc): Linear(in_features=2048, out_features=1000, bias=True)\n",
            ")\n"
          ]
        }
      ]
    },
    {
      "cell_type": "code",
      "source": [
        "class CnnResNet101(NetworkBase):\n",
        "    def __init__(self, data_set_name, batch_size, download_path, train_data_size, validation_data_size, criterion):\n",
        "        super().__init__(data_set_name, batch_size, download_path, train_data_size, validation_data_size, criterion, image_size=224)\n",
        "        self.network = models.resnet101(pretrained=True)\n",
        "        # num = 6\n",
        "        num_ftrs = self.network.fc.in_features\n",
        "        print('Num feat ',num_ftrs)\n",
        "        # self.network.classifier[4]= torch.nn.Linear(4096,512)\n",
        "        self.network.fc= torch.nn.Linear(num_ftrs,10)\n",
        "        # (6): Linear(in_features=4096, out_features=1000, bias=True)\n",
        "        self.criterion = criterion\n",
        "\n",
        "    def forward(self, x):\n",
        "        return self.network(x) "
      ],
      "metadata": {
        "id": "ewWTT3IPECq8"
      },
      "execution_count": null,
      "outputs": []
    },
    {
      "cell_type": "code",
      "source": [
        "class CnnResNet101(NetworkBase):\n",
        "    def __init__(self, data_set_name, batch_size, download_path, train_data_size, validation_data_size, criterion):\n",
        "        super().__init__(data_set_name, batch_size, download_path, train_data_size, validation_data_size, criterion, image_size=224)\n",
        "        self.network = models.resnet101(pretrained=True)\n",
        "        # num = 6\n",
        "        num_ftrs = self.network.fc.in_features\n",
        "        print('Num feat ',num_ftrs)\n",
        "        # self.network.classifier[4]= torch.nn.Linear(4096,512)\n",
        "        self.network.fc= torch.nn.Linear(num_ftrs,10)\n",
        "        # (6): Linear(in_features=4096, out_features=1000, bias=True)\n",
        "        self.criterion = criterion\n",
        "\n",
        "    def forward(self, x):\n",
        "        return self.network(x) \n",
        "\n",
        "criterion = nn.CrossEntropyLoss()\n",
        "\n",
        "cnn_network = CnnResNet101(data_set_name = \"cifar_10\", batch_size = 4, download_path = \"./data\", \n",
        "                     train_data_size = 40000, validation_data_size = 10000, criterion = criterion)\n",
        "cnn_network = cnn_network.to(get_device())\n",
        "\n",
        "train_results = cnn_network.train(epoch_number = 2, learning_rate = 0.001, momentum = 0.9, optimizer_name = \"sgd\")\n",
        "cnn_network.plot_loss_and_accuracy_curves()\n",
        "# print(train_results)\n",
        "test_accuracy, test_loss = cnn_network.get_accuracy_and_loss(cnn_network.testloader)\n",
        "print('Test Accuracy ', test_accuracy)\n",
        "print('Test Loss ', test_loss)"
      ],
      "metadata": {
        "id": "8BFvlUhxUz0S",
        "outputId": "65908772-ea01-4ce3-e7bd-c1005299d30e",
        "colab": {
          "base_uri": "https://localhost:8080/",
          "height": 781
        }
      },
      "execution_count": null,
      "outputs": [
        {
          "output_type": "stream",
          "name": "stdout",
          "text": [
            "Files already downloaded and verified\n",
            "Length of Dataset  50000\n",
            "Length of Train set  40000\n",
            "Length of Val set  10000\n",
            "Files already downloaded and verified\n",
            "Length of Testset  10000\n",
            "Num feat  2048\n",
            "Train result  {'epoch': 0, 'train_loss': 0.3867209702985128, 'train_accuracy': 87.7775, 'val_loss': 0.4598321797897108, 'val_accuracy': 84.73}\n",
            "Train result  {'epoch': 1, 'train_loss': 0.22858824600867228, 'train_accuracy': 92.46, 'val_loss': 0.34253548673492623, 'val_accuracy': 89.03}\n",
            "Finished Training\n"
          ]
        },
        {
          "output_type": "display_data",
          "data": {
            "text/plain": [
              "<Figure size 432x288 with 1 Axes>"
            ],
            "image/png": "[encoded data removed]"
          },
          "metadata": {
            "needs_background": "light"
          }
        },
        {
          "output_type": "display_data",
          "data": {
            "text/plain": [
              "<Figure size 432x288 with 1 Axes>"
            ],
            "image/png": "[encoded data removed]"
          },
          "metadata": {
            "needs_background": "light"
          }
        },
        {
          "output_type": "stream",
          "name": "stdout",
          "text": [
            "Test Accuracy  88.95\n",
            "Test Loss  0.3430656472239236\n"
          ]
        }
      ]
    },
    {
      "cell_type": "code",
      "source": [
        "# Experiments\n",
        "# Pre processing: Convert into grayscale, since our objective is classification, we don't need  color too,\n",
        "# try with grayscale image\n",
        "# Post processing: pooling: Max pooling, average pooling, min pooling. But, practically, max pooling was found to be better by many researchers\n",
        "\n",
        "\n",
        "# selecting the model\n",
        "# CNN Architectures (How to choose CNN architecture ????) #Ans: intuitive\n",
        "#   Number of Layers ??\n",
        "# Batch Normalization : CNN, FC\n",
        "# Dropout: for small network, the accuracy decreased, not so good\n",
        "\n",
        "# Standard Architectures: AlexNet, GoogleNet, VGGNet, ResNet,  MobileNet..\n",
        "# AlexNet, ResNet..\n",
        "# Input data enhancements\n",
        "# Data augmentation\n",
        "\n",
        "# Hyper parameters\n",
        "# Loss\n",
        "# Optimizer\n",
        "# Learning rate\n",
        "# Batch size\n",
        "# Epoch\n",
        "\n",
        "# even if input size changes, it impacts performance, accuracy\n",
        "\n",
        "# check what model.train and model.eval does in pytorch\n",
        "# check reduceLROnPlateau\n",
        "# FLOP counts : operations count\n",
        "# use pretrained\n",
        "\n",
        "# get time required to train for every experiment\n"
      ],
      "metadata": {
        "id": "iJDaeTxz84-d"
      },
      "execution_count": null,
      "outputs": []
    },
    {
      "cell_type": "code",
      "source": [
        "import datetime\n",
        "import time\n",
        "start_time = datetime.datetime.now()\n",
        "print(\"start time \", start_time)\n",
        "# sleep in seconds\n",
        "time.sleep(1)\n",
        "\n",
        "# your code here  \n",
        "\n",
        "end_time =  datetime.datetime.now()\n",
        "print(\"end time \", end_time)\n",
        "difference = end_time - start_time\n",
        "difference_total_seconds = difference.total_seconds()\n",
        "print(difference_total_seconds)"
      ],
      "metadata": {
        "id": "Jenw8USp7rb1",
        "outputId": "89e35c82-6e8a-4962-c581-ea140e35e50d",
        "colab": {
          "base_uri": "https://localhost:8080/"
        }
      },
      "execution_count": null,
      "outputs": [
        {
          "output_type": "stream",
          "name": "stdout",
          "text": [
            "start time  2022-10-24 08:26:06.748863\n",
            "end time  2022-10-24 08:26:07.750783\n",
            "1.00192\n"
          ]
        }
      ]
    },
    {
      "cell_type": "code",
      "source": [
        "# FLOP\n",
        "#The code from https://cloudstor.aarnet.edu.au/plus/s/PcSc67ZncTSQP0E can be used to count flops\n",
        "#Download the code.\n",
        "!wget -c https://cloudstor.aarnet.edu.au/plus/s/hXo1dK9SZqiEVn9/download\n",
        "!mv download FLOPs_counter.py\n",
        "#!rm -rf download\n",
        "\n"
      ],
      "metadata": {
        "id": "PpoaVCsxAOEc",
        "outputId": "90a6e075-f75d-46d4-9132-6830e7f1cfd4",
        "colab": {
          "base_uri": "https://localhost:8080/"
        }
      },
      "execution_count": null,
      "outputs": [
        {
          "output_type": "stream",
          "name": "stdout",
          "text": [
            "--2022-10-24 08:02:21--  https://cloudstor.aarnet.edu.au/plus/s/hXo1dK9SZqiEVn9/download\n",
            "Resolving cloudstor.aarnet.edu.au (cloudstor.aarnet.edu.au)... 202.158.207.20\n",
            "Connecting to cloudstor.aarnet.edu.au (cloudstor.aarnet.edu.au)|202.158.207.20|:443... connected.\n",
            "HTTP request sent, awaiting response... 200 OK\n",
            "Syntax error in Set-Cookie: 5230042dc1897=coabi26k672okkp9lep40bcr6v; path=/plus;; Secure at position 53.\n",
            "Syntax error in Set-Cookie: oc_sessionPassphrase=g937oyo%2FP9TlRksjzEA7ke2XdAgggIfUXAjbL9KFa3Cnf7YjO7hYxDyp8Ka7ton5Yuc3z5AxQHZgJo2MdpQZVNbj7PfrY8rVflQBeWM3jYatn8r4gV%2BTRPJmRRHfQYzg; expires=Tue, 25-Oct-2022 08:02:22 GMT; Max-Age=86400; path=/plus;; Secure at position 220.\n",
            "Length: 5201 (5.1K) [text/x-python]\n",
            "Saving to: ‘download’\n",
            "\n",
            "download            100%[===================>]   5.08K  --.-KB/s    in 0s      \n",
            "\n",
            "2022-10-24 08:02:22 (518 MB/s) - ‘download’ saved [5201/5201]\n",
            "\n"
          ]
        }
      ]
    },
    {
      "cell_type": "code",
      "source": [
        "from FLOPs_counter import print_model_parm_flops\n",
        "input = torch.randn(1,3,32,32)\n",
        "criterion = nn.CrossEntropyLoss()\n",
        "cnn_network = CnnNetwork(data_set_name = \"cifar_10\", batch_size = 4, download_path = \"./data\", \n",
        "                     train_data_size = 40000, validation_data_size = 10000, criterion = criterion, image_size=32)\n",
        "print_model_parm_flops(cnn_network, input, detail=True)"
      ],
      "metadata": {
        "id": "IT8Sxs03AmMs",
        "outputId": "33f138c7-bafb-4b2d-b70c-d8cec8887ee1",
        "colab": {
          "base_uri": "https://localhost:8080/"
        }
      },
      "execution_count": null,
      "outputs": [
        {
          "output_type": "stream",
          "name": "stdout",
          "text": [
            "Files already downloaded and verified\n",
            "Length of Dataset  50000\n",
            "Length of Train set  40000\n",
            "Length of Val set  10000\n",
            "Files already downloaded and verified\n",
            "Length of Testset  10000\n",
            " + Number of FLOPs: 0.00G\n"
          ]
        }
      ]
    },
    {
      "cell_type": "code",
      "source": [
        "from FLOPs_counter import print_model_parm_flops\n",
        "input = torch.randn(1,3,224,224)\n",
        "criterion = nn.CrossEntropyLoss()\n",
        "cnn_network = CnnResNet101(data_set_name = \"cifar_10\", batch_size = 4, download_path = \"./data\", \n",
        "                     train_data_size = 40000, validation_data_size = 10000, criterion = criterion)\n",
        "print_model_parm_flops(cnn_network, input, detail=True)"
      ],
      "metadata": {
        "id": "-5at9_inEJ7q",
        "outputId": "fcd50626-aa76-4b61-92c3-8739c12e802a",
        "colab": {
          "base_uri": "https://localhost:8080/"
        }
      },
      "execution_count": null,
      "outputs": [
        {
          "output_type": "stream",
          "name": "stdout",
          "text": [
            "Files already downloaded and verified\n",
            "Length of Dataset  50000\n",
            "Length of Train set  40000\n",
            "Length of Val set  10000\n",
            "Files already downloaded and verified\n",
            "Length of Testset  10000\n",
            "Num feat  2048\n",
            " + Number of FLOPs: 15.61G\n"
          ]
        }
      ]
    }
  ],
  "metadata": {
    "language_info": {
      "name": "python"
    },
    "orig_nbformat": 4,
    "colab": {
      "provenance": []
    },
    "kernelspec": {
      "name": "python3",
      "display_name": "Python 3"
    },
    "accelerator": "GPU",
    "widgets": {
      "application/vnd.jupyter.widget-state+json": {
        "888bec6f45004a898834b6f70a0077ab": {
          "model_module": "@jupyter-widgets/controls",
          "model_name": "HBoxModel",
          "model_module_version": "1.5.0",
          "state": {
            "_dom_classes": [],
            "_model_module": "@jupyter-widgets/controls",
            "_model_module_version": "1.5.0",
            "_model_name": "HBoxModel",
            "_view_count": null,
            "_view_module": "@jupyter-widgets/controls",
            "_view_module_version": "1.5.0",
            "_view_name": "HBoxView",
            "box_style": "",
            "children": [
              "IPY_MODEL_14a0a3b880a445faa113d1cb32aace08",
              "IPY_MODEL_eef4f4ff6cb24def9c9463ca2e5624ed",
              "IPY_MODEL_13b913dab941442996adc19e73415292"
            ],
            "layout": "IPY_MODEL_cd1d0f2644d448149932db9cfc7d29d8"
          }
        },
        "14a0a3b880a445faa113d1cb32aace08": {
          "model_module": "@jupyter-widgets/controls",
          "model_name": "HTMLModel",
          "model_module_version": "1.5.0",
          "state": {
            "_dom_classes": [],
            "_model_module": "@jupyter-widgets/controls",
            "_model_module_version": "1.5.0",
            "_model_name": "HTMLModel",
            "_view_count": null,
            "_view_module": "@jupyter-widgets/controls",
            "_view_module_version": "1.5.0",
            "_view_name": "HTMLView",
            "description": "",
            "description_tooltip": null,
            "layout": "IPY_MODEL_9b8c367fb425431e87d49a6310e24fcf",
            "placeholder": "​",
            "style": "IPY_MODEL_b3d5f885512a41288504a1aebfdb63d5",
            "value": "100%"
          }
        },
        "eef4f4ff6cb24def9c9463ca2e5624ed": {
          "model_module": "@jupyter-widgets/controls",
          "model_name": "FloatProgressModel",
          "model_module_version": "1.5.0",
          "state": {
            "_dom_classes": [],
            "_model_module": "@jupyter-widgets/controls",
            "_model_module_version": "1.5.0",
            "_model_name": "FloatProgressModel",
            "_view_count": null,
            "_view_module": "@jupyter-widgets/controls",
            "_view_module_version": "1.5.0",
            "_view_name": "ProgressView",
            "bar_style": "success",
            "description": "",
            "description_tooltip": null,
            "layout": "IPY_MODEL_9434b49ec27547d68c5ed8ae5ca00bb7",
            "max": 244408911,
            "min": 0,
            "orientation": "horizontal",
            "style": "IPY_MODEL_e3e9be648105480c8d3ad5b55ba3737c",
            "value": 244408911
          }
        },
        "13b913dab941442996adc19e73415292": {
          "model_module": "@jupyter-widgets/controls",
          "model_name": "HTMLModel",
          "model_module_version": "1.5.0",
          "state": {
            "_dom_classes": [],
            "_model_module": "@jupyter-widgets/controls",
            "_model_module_version": "1.5.0",
            "_model_name": "HTMLModel",
            "_view_count": null,
            "_view_module": "@jupyter-widgets/controls",
            "_view_module_version": "1.5.0",
            "_view_name": "HTMLView",
            "description": "",
            "description_tooltip": null,
            "layout": "IPY_MODEL_7271fe0b5edb4f2689f15df112944a3e",
            "placeholder": "​",
            "style": "IPY_MODEL_b4aa228ca2434ee7b1b8a605d18c8671",
            "value": " 233M/233M [00:02&lt;00:00, 90.4MB/s]"
          }
        },
        "cd1d0f2644d448149932db9cfc7d29d8": {
          "model_module": "@jupyter-widgets/base",
          "model_name": "LayoutModel",
          "model_module_version": "1.2.0",
          "state": {
            "_model_module": "@jupyter-widgets/base",
            "_model_module_version": "1.2.0",
            "_model_name": "LayoutModel",
            "_view_count": null,
            "_view_module": "@jupyter-widgets/base",
            "_view_module_version": "1.2.0",
            "_view_name": "LayoutView",
            "align_content": null,
            "align_items": null,
            "align_self": null,
            "border": null,
            "bottom": null,
            "display": null,
            "flex": null,
            "flex_flow": null,
            "grid_area": null,
            "grid_auto_columns": null,
            "grid_auto_flow": null,
            "grid_auto_rows": null,
            "grid_column": null,
            "grid_gap": null,
            "grid_row": null,
            "grid_template_areas": null,
            "grid_template_columns": null,
            "grid_template_rows": null,
            "height": null,
            "justify_content": null,
            "justify_items": null,
            "left": null,
            "margin": null,
            "max_height": null,
            "max_width": null,
            "min_height": null,
            "min_width": null,
            "object_fit": null,
            "object_position": null,
            "order": null,
            "overflow": null,
            "overflow_x": null,
            "overflow_y": null,
            "padding": null,
            "right": null,
            "top": null,
            "visibility": null,
            "width": null
          }
        },
        "9b8c367fb425431e87d49a6310e24fcf": {
          "model_module": "@jupyter-widgets/base",
          "model_name": "LayoutModel",
          "model_module_version": "1.2.0",
          "state": {
            "_model_module": "@jupyter-widgets/base",
            "_model_module_version": "1.2.0",
            "_model_name": "LayoutModel",
            "_view_count": null,
            "_view_module": "@jupyter-widgets/base",
            "_view_module_version": "1.2.0",
            "_view_name": "LayoutView",
            "align_content": null,
            "align_items": null,
            "align_self": null,
            "border": null,
            "bottom": null,
            "display": null,
            "flex": null,
            "flex_flow": null,
            "grid_area": null,
            "grid_auto_columns": null,
            "grid_auto_flow": null,
            "grid_auto_rows": null,
            "grid_column": null,
            "grid_gap": null,
            "grid_row": null,
            "grid_template_areas": null,
            "grid_template_columns": null,
            "grid_template_rows": null,
            "height": null,
            "justify_content": null,
            "justify_items": null,
            "left": null,
            "margin": null,
            "max_height": null,
            "max_width": null,
            "min_height": null,
            "min_width": null,
            "object_fit": null,
            "object_position": null,
            "order": null,
            "overflow": null,
            "overflow_x": null,
            "overflow_y": null,
            "padding": null,
            "right": null,
            "top": null,
            "visibility": null,
            "width": null
          }
        },
        "b3d5f885512a41288504a1aebfdb63d5": {
          "model_module": "@jupyter-widgets/controls",
          "model_name": "DescriptionStyleModel",
          "model_module_version": "1.5.0",
          "state": {
            "_model_module": "@jupyter-widgets/controls",
            "_model_module_version": "1.5.0",
            "_model_name": "DescriptionStyleModel",
            "_view_count": null,
            "_view_module": "@jupyter-widgets/base",
            "_view_module_version": "1.2.0",
            "_view_name": "StyleView",
            "description_width": ""
          }
        },
        "9434b49ec27547d68c5ed8ae5ca00bb7": {
          "model_module": "@jupyter-widgets/base",
          "model_name": "LayoutModel",
          "model_module_version": "1.2.0",
          "state": {
            "_model_module": "@jupyter-widgets/base",
            "_model_module_version": "1.2.0",
            "_model_name": "LayoutModel",
            "_view_count": null,
            "_view_module": "@jupyter-widgets/base",
            "_view_module_version": "1.2.0",
            "_view_name": "LayoutView",
            "align_content": null,
            "align_items": null,
            "align_self": null,
            "border": null,
            "bottom": null,
            "display": null,
            "flex": null,
            "flex_flow": null,
            "grid_area": null,
            "grid_auto_columns": null,
            "grid_auto_flow": null,
            "grid_auto_rows": null,
            "grid_column": null,
            "grid_gap": null,
            "grid_row": null,
            "grid_template_areas": null,
            "grid_template_columns": null,
            "grid_template_rows": null,
            "height": null,
            "justify_content": null,
            "justify_items": null,
            "left": null,
            "margin": null,
            "max_height": null,
            "max_width": null,
            "min_height": null,
            "min_width": null,
            "object_fit": null,
            "object_position": null,
            "order": null,
            "overflow": null,
            "overflow_x": null,
            "overflow_y": null,
            "padding": null,
            "right": null,
            "top": null,
            "visibility": null,
            "width": null
          }
        },
        "e3e9be648105480c8d3ad5b55ba3737c": {
          "model_module": "@jupyter-widgets/controls",
          "model_name": "ProgressStyleModel",
          "model_module_version": "1.5.0",
          "state": {
            "_model_module": "@jupyter-widgets/controls",
            "_model_module_version": "1.5.0",
            "_model_name": "ProgressStyleModel",
            "_view_count": null,
            "_view_module": "@jupyter-widgets/base",
            "_view_module_version": "1.2.0",
            "_view_name": "StyleView",
            "bar_color": null,
            "description_width": ""
          }
        },
        "7271fe0b5edb4f2689f15df112944a3e": {
          "model_module": "@jupyter-widgets/base",
          "model_name": "LayoutModel",
          "model_module_version": "1.2.0",
          "state": {
            "_model_module": "@jupyter-widgets/base",
            "_model_module_version": "1.2.0",
            "_model_name": "LayoutModel",
            "_view_count": null,
            "_view_module": "@jupyter-widgets/base",
            "_view_module_version": "1.2.0",
            "_view_name": "LayoutView",
            "align_content": null,
            "align_items": null,
            "align_self": null,
            "border": null,
            "bottom": null,
            "display": null,
            "flex": null,
            "flex_flow": null,
            "grid_area": null,
            "grid_auto_columns": null,
            "grid_auto_flow": null,
            "grid_auto_rows": null,
            "grid_column": null,
            "grid_gap": null,
            "grid_row": null,
            "grid_template_areas": null,
            "grid_template_columns": null,
            "grid_template_rows": null,
            "height": null,
            "justify_content": null,
            "justify_items": null,
            "left": null,
            "margin": null,
            "max_height": null,
            "max_width": null,
            "min_height": null,
            "min_width": null,
            "object_fit": null,
            "object_position": null,
            "order": null,
            "overflow": null,
            "overflow_x": null,
            "overflow_y": null,
            "padding": null,
            "right": null,
            "top": null,
            "visibility": null,
            "width": null
          }
        },
        "b4aa228ca2434ee7b1b8a605d18c8671": {
          "model_module": "@jupyter-widgets/controls",
          "model_name": "DescriptionStyleModel",
          "model_module_version": "1.5.0",
          "state": {
            "_model_module": "@jupyter-widgets/controls",
            "_model_module_version": "1.5.0",
            "_model_name": "DescriptionStyleModel",
            "_view_count": null,
            "_view_module": "@jupyter-widgets/base",
            "_view_module_version": "1.2.0",
            "_view_name": "StyleView",
            "description_width": ""
          }
        },
        "bd168257f7b3437b88eea9c2414907fe": {
          "model_module": "@jupyter-widgets/controls",
          "model_name": "HBoxModel",
          "model_module_version": "1.5.0",
          "state": {
            "_dom_classes": [],
            "_model_module": "@jupyter-widgets/controls",
            "_model_module_version": "1.5.0",
            "_model_name": "HBoxModel",
            "_view_count": null,
            "_view_module": "@jupyter-widgets/controls",
            "_view_module_version": "1.5.0",
            "_view_name": "HBoxView",
            "box_style": "",
            "children": [
              "IPY_MODEL_2d8230edaeff4dba8d0c004dfa0f371e",
              "IPY_MODEL_eb60cb4e55ad4ee096a11c7c1fc12509",
              "IPY_MODEL_362585966c0e4f1d9c6575b60449707e"
            ],
            "layout": "IPY_MODEL_baea40bc4fc142d487c0b40114f86880"
          }
        },
        "2d8230edaeff4dba8d0c004dfa0f371e": {
          "model_module": "@jupyter-widgets/controls",
          "model_name": "HTMLModel",
          "model_module_version": "1.5.0",
          "state": {
            "_dom_classes": [],
            "_model_module": "@jupyter-widgets/controls",
            "_model_module_version": "1.5.0",
            "_model_name": "HTMLModel",
            "_view_count": null,
            "_view_module": "@jupyter-widgets/controls",
            "_view_module_version": "1.5.0",
            "_view_name": "HTMLView",
            "description": "",
            "description_tooltip": null,
            "layout": "IPY_MODEL_b2d454455373464fabefe58d9cf77335",
            "placeholder": "​",
            "style": "IPY_MODEL_acc1b1b94f0e4af1b0483adfc33303c4",
            "value": "100%"
          }
        },
        "eb60cb4e55ad4ee096a11c7c1fc12509": {
          "model_module": "@jupyter-widgets/controls",
          "model_name": "FloatProgressModel",
          "model_module_version": "1.5.0",
          "state": {
            "_dom_classes": [],
            "_model_module": "@jupyter-widgets/controls",
            "_model_module_version": "1.5.0",
            "_model_name": "FloatProgressModel",
            "_view_count": null,
            "_view_module": "@jupyter-widgets/controls",
            "_view_module_version": "1.5.0",
            "_view_name": "ProgressView",
            "bar_style": "success",
            "description": "",
            "description_tooltip": null,
            "layout": "IPY_MODEL_d642ba52cb7943ec9f54aba44e6e4dc8",
            "max": 14212972,
            "min": 0,
            "orientation": "horizontal",
            "style": "IPY_MODEL_628d70a7ebc94594a553deac3073f143",
            "value": 14212972
          }
        },
        "362585966c0e4f1d9c6575b60449707e": {
          "model_module": "@jupyter-widgets/controls",
          "model_name": "HTMLModel",
          "model_module_version": "1.5.0",
          "state": {
            "_dom_classes": [],
            "_model_module": "@jupyter-widgets/controls",
            "_model_module_version": "1.5.0",
            "_model_name": "HTMLModel",
            "_view_count": null,
            "_view_module": "@jupyter-widgets/controls",
            "_view_module_version": "1.5.0",
            "_view_name": "HTMLView",
            "description": "",
            "description_tooltip": null,
            "layout": "IPY_MODEL_e6776c1ef35245a2ad787965ca911987",
            "placeholder": "​",
            "style": "IPY_MODEL_c40902cdc399413dbd07d8bbbd6677bf",
            "value": " 13.6M/13.6M [00:00&lt;00:00, 34.1MB/s]"
          }
        },
        "baea40bc4fc142d487c0b40114f86880": {
          "model_module": "@jupyter-widgets/base",
          "model_name": "LayoutModel",
          "model_module_version": "1.2.0",
          "state": {
            "_model_module": "@jupyter-widgets/base",
            "_model_module_version": "1.2.0",
            "_model_name": "LayoutModel",
            "_view_count": null,
            "_view_module": "@jupyter-widgets/base",
            "_view_module_version": "1.2.0",
            "_view_name": "LayoutView",
            "align_content": null,
            "align_items": null,
            "align_self": null,
            "border": null,
            "bottom": null,
            "display": null,
            "flex": null,
            "flex_flow": null,
            "grid_area": null,
            "grid_auto_columns": null,
            "grid_auto_flow": null,
            "grid_auto_rows": null,
            "grid_column": null,
            "grid_gap": null,
            "grid_row": null,
            "grid_template_areas": null,
            "grid_template_columns": null,
            "grid_template_rows": null,
            "height": null,
            "justify_content": null,
            "justify_items": null,
            "left": null,
            "margin": null,
            "max_height": null,
            "max_width": null,
            "min_height": null,
            "min_width": null,
            "object_fit": null,
            "object_position": null,
            "order": null,
            "overflow": null,
            "overflow_x": null,
            "overflow_y": null,
            "padding": null,
            "right": null,
            "top": null,
            "visibility": null,
            "width": null
          }
        },
        "b2d454455373464fabefe58d9cf77335": {
          "model_module": "@jupyter-widgets/base",
          "model_name": "LayoutModel",
          "model_module_version": "1.2.0",
          "state": {
            "_model_module": "@jupyter-widgets/base",
            "_model_module_version": "1.2.0",
            "_model_name": "LayoutModel",
            "_view_count": null,
            "_view_module": "@jupyter-widgets/base",
            "_view_module_version": "1.2.0",
            "_view_name": "LayoutView",
            "align_content": null,
            "align_items": null,
            "align_self": null,
            "border": null,
            "bottom": null,
            "display": null,
            "flex": null,
            "flex_flow": null,
            "grid_area": null,
            "grid_auto_columns": null,
            "grid_auto_flow": null,
            "grid_auto_rows": null,
            "grid_column": null,
            "grid_gap": null,
            "grid_row": null,
            "grid_template_areas": null,
            "grid_template_columns": null,
            "grid_template_rows": null,
            "height": null,
            "justify_content": null,
            "justify_items": null,
            "left": null,
            "margin": null,
            "max_height": null,
            "max_width": null,
            "min_height": null,
            "min_width": null,
            "object_fit": null,
            "object_position": null,
            "order": null,
            "overflow": null,
            "overflow_x": null,
            "overflow_y": null,
            "padding": null,
            "right": null,
            "top": null,
            "visibility": null,
            "width": null
          }
        },
        "acc1b1b94f0e4af1b0483adfc33303c4": {
          "model_module": "@jupyter-widgets/controls",
          "model_name": "DescriptionStyleModel",
          "model_module_version": "1.5.0",
          "state": {
            "_model_module": "@jupyter-widgets/controls",
            "_model_module_version": "1.5.0",
            "_model_name": "DescriptionStyleModel",
            "_view_count": null,
            "_view_module": "@jupyter-widgets/base",
            "_view_module_version": "1.2.0",
            "_view_name": "StyleView",
            "description_width": ""
          }
        },
        "d642ba52cb7943ec9f54aba44e6e4dc8": {
          "model_module": "@jupyter-widgets/base",
          "model_name": "LayoutModel",
          "model_module_version": "1.2.0",
          "state": {
            "_model_module": "@jupyter-widgets/base",
            "_model_module_version": "1.2.0",
            "_model_name": "LayoutModel",
            "_view_count": null,
            "_view_module": "@jupyter-widgets/base",
            "_view_module_version": "1.2.0",
            "_view_name": "LayoutView",
            "align_content": null,
            "align_items": null,
            "align_self": null,
            "border": null,
            "bottom": null,
            "display": null,
            "flex": null,
            "flex_flow": null,
            "grid_area": null,
            "grid_auto_columns": null,
            "grid_auto_flow": null,
            "grid_auto_rows": null,
            "grid_column": null,
            "grid_gap": null,
            "grid_row": null,
            "grid_template_areas": null,
            "grid_template_columns": null,
            "grid_template_rows": null,
            "height": null,
            "justify_content": null,
            "justify_items": null,
            "left": null,
            "margin": null,
            "max_height": null,
            "max_width": null,
            "min_height": null,
            "min_width": null,
            "object_fit": null,
            "object_position": null,
            "order": null,
            "overflow": null,
            "overflow_x": null,
            "overflow_y": null,
            "padding": null,
            "right": null,
            "top": null,
            "visibility": null,
            "width": null
          }
        },
        "628d70a7ebc94594a553deac3073f143": {
          "model_module": "@jupyter-widgets/controls",
          "model_name": "ProgressStyleModel",
          "model_module_version": "1.5.0",
          "state": {
            "_model_module": "@jupyter-widgets/controls",
            "_model_module_version": "1.5.0",
            "_model_name": "ProgressStyleModel",
            "_view_count": null,
            "_view_module": "@jupyter-widgets/base",
            "_view_module_version": "1.2.0",
            "_view_name": "StyleView",
            "bar_color": null,
            "description_width": ""
          }
        },
        "e6776c1ef35245a2ad787965ca911987": {
          "model_module": "@jupyter-widgets/base",
          "model_name": "LayoutModel",
          "model_module_version": "1.2.0",
          "state": {
            "_model_module": "@jupyter-widgets/base",
            "_model_module_version": "1.2.0",
            "_model_name": "LayoutModel",
            "_view_count": null,
            "_view_module": "@jupyter-widgets/base",
            "_view_module_version": "1.2.0",
            "_view_name": "LayoutView",
            "align_content": null,
            "align_items": null,
            "align_self": null,
            "border": null,
            "bottom": null,
            "display": null,
            "flex": null,
            "flex_flow": null,
            "grid_area": null,
            "grid_auto_columns": null,
            "grid_auto_flow": null,
            "grid_auto_rows": null,
            "grid_column": null,
            "grid_gap": null,
            "grid_row": null,
            "grid_template_areas": null,
            "grid_template_columns": null,
            "grid_template_rows": null,
            "height": null,
            "justify_content": null,
            "justify_items": null,
            "left": null,
            "margin": null,
            "max_height": null,
            "max_width": null,
            "min_height": null,
            "min_width": null,
            "object_fit": null,
            "object_position": null,
            "order": null,
            "overflow": null,
            "overflow_x": null,
            "overflow_y": null,
            "padding": null,
            "right": null,
            "top": null,
            "visibility": null,
            "width": null
          }
        },
        "c40902cdc399413dbd07d8bbbd6677bf": {
          "model_module": "@jupyter-widgets/controls",
          "model_name": "DescriptionStyleModel",
          "model_module_version": "1.5.0",
          "state": {
            "_model_module": "@jupyter-widgets/controls",
            "_model_module_version": "1.5.0",
            "_model_name": "DescriptionStyleModel",
            "_view_count": null,
            "_view_module": "@jupyter-widgets/base",
            "_view_module_version": "1.2.0",
            "_view_name": "StyleView",
            "description_width": ""
          }
        },
        "8e433d67a8af439190cfc69acd854fcd": {
          "model_module": "@jupyter-widgets/controls",
          "model_name": "HBoxModel",
          "model_module_version": "1.5.0",
          "state": {
            "_dom_classes": [],
            "_model_module": "@jupyter-widgets/controls",
            "_model_module_version": "1.5.0",
            "_model_name": "HBoxModel",
            "_view_count": null,
            "_view_module": "@jupyter-widgets/controls",
            "_view_module_version": "1.5.0",
            "_view_name": "HBoxView",
            "box_style": "",
            "children": [
              "IPY_MODEL_653e01d85b5f4ca89edd266b5027332e",
              "IPY_MODEL_19cab90c4c5d4f7d819c1c8aeff35c21",
              "IPY_MODEL_617345864fcc41bca4d2bf76340c285a"
            ],
            "layout": "IPY_MODEL_27b1fb5bd5194a68b883fceab8c4b0eb"
          }
        },
        "653e01d85b5f4ca89edd266b5027332e": {
          "model_module": "@jupyter-widgets/controls",
          "model_name": "HTMLModel",
          "model_module_version": "1.5.0",
          "state": {
            "_dom_classes": [],
            "_model_module": "@jupyter-widgets/controls",
            "_model_module_version": "1.5.0",
            "_model_name": "HTMLModel",
            "_view_count": null,
            "_view_module": "@jupyter-widgets/controls",
            "_view_module_version": "1.5.0",
            "_view_name": "HTMLView",
            "description": "",
            "description_tooltip": null,
            "layout": "IPY_MODEL_19dd88d1780d4dcd8f6a560f3036ecd0",
            "placeholder": "​",
            "style": "IPY_MODEL_90a92d4218ab454f8ce183ef3caf0595",
            "value": "100%"
          }
        },
        "19cab90c4c5d4f7d819c1c8aeff35c21": {
          "model_module": "@jupyter-widgets/controls",
          "model_name": "FloatProgressModel",
          "model_module_version": "1.5.0",
          "state": {
            "_dom_classes": [],
            "_model_module": "@jupyter-widgets/controls",
            "_model_module_version": "1.5.0",
            "_model_name": "FloatProgressModel",
            "_view_count": null,
            "_view_module": "@jupyter-widgets/controls",
            "_view_module_version": "1.5.0",
            "_view_name": "ProgressView",
            "bar_style": "success",
            "description": "",
            "description_tooltip": null,
            "layout": "IPY_MODEL_056cfef560d3449bb516f08326213bb3",
            "max": 46830571,
            "min": 0,
            "orientation": "horizontal",
            "style": "IPY_MODEL_9e6bdcabeba14e27bf25eda82e7c22c0",
            "value": 46830571
          }
        },
        "617345864fcc41bca4d2bf76340c285a": {
          "model_module": "@jupyter-widgets/controls",
          "model_name": "HTMLModel",
          "model_module_version": "1.5.0",
          "state": {
            "_dom_classes": [],
            "_model_module": "@jupyter-widgets/controls",
            "_model_module_version": "1.5.0",
            "_model_name": "HTMLModel",
            "_view_count": null,
            "_view_module": "@jupyter-widgets/controls",
            "_view_module_version": "1.5.0",
            "_view_name": "HTMLView",
            "description": "",
            "description_tooltip": null,
            "layout": "IPY_MODEL_bee233fe9e2740039340f28d8983aeb0",
            "placeholder": "​",
            "style": "IPY_MODEL_512cfbfdce2c4eae9aa3ea79958f690c",
            "value": " 44.7M/44.7M [00:00&lt;00:00, 173MB/s]"
          }
        },
        "27b1fb5bd5194a68b883fceab8c4b0eb": {
          "model_module": "@jupyter-widgets/base",
          "model_name": "LayoutModel",
          "model_module_version": "1.2.0",
          "state": {
            "_model_module": "@jupyter-widgets/base",
            "_model_module_version": "1.2.0",
            "_model_name": "LayoutModel",
            "_view_count": null,
            "_view_module": "@jupyter-widgets/base",
            "_view_module_version": "1.2.0",
            "_view_name": "LayoutView",
            "align_content": null,
            "align_items": null,
            "align_self": null,
            "border": null,
            "bottom": null,
            "display": null,
            "flex": null,
            "flex_flow": null,
            "grid_area": null,
            "grid_auto_columns": null,
            "grid_auto_flow": null,
            "grid_auto_rows": null,
            "grid_column": null,
            "grid_gap": null,
            "grid_row": null,
            "grid_template_areas": null,
            "grid_template_columns": null,
            "grid_template_rows": null,
            "height": null,
            "justify_content": null,
            "justify_items": null,
            "left": null,
            "margin": null,
            "max_height": null,
            "max_width": null,
            "min_height": null,
            "min_width": null,
            "object_fit": null,
            "object_position": null,
            "order": null,
            "overflow": null,
            "overflow_x": null,
            "overflow_y": null,
            "padding": null,
            "right": null,
            "top": null,
            "visibility": null,
            "width": null
          }
        },
        "19dd88d1780d4dcd8f6a560f3036ecd0": {
          "model_module": "@jupyter-widgets/base",
          "model_name": "LayoutModel",
          "model_module_version": "1.2.0",
          "state": {
            "_model_module": "@jupyter-widgets/base",
            "_model_module_version": "1.2.0",
            "_model_name": "LayoutModel",
            "_view_count": null,
            "_view_module": "@jupyter-widgets/base",
            "_view_module_version": "1.2.0",
            "_view_name": "LayoutView",
            "align_content": null,
            "align_items": null,
            "align_self": null,
            "border": null,
            "bottom": null,
            "display": null,
            "flex": null,
            "flex_flow": null,
            "grid_area": null,
            "grid_auto_columns": null,
            "grid_auto_flow": null,
            "grid_auto_rows": null,
            "grid_column": null,
            "grid_gap": null,
            "grid_row": null,
            "grid_template_areas": null,
            "grid_template_columns": null,
            "grid_template_rows": null,
            "height": null,
            "justify_content": null,
            "justify_items": null,
            "left": null,
            "margin": null,
            "max_height": null,
            "max_width": null,
            "min_height": null,
            "min_width": null,
            "object_fit": null,
            "object_position": null,
            "order": null,
            "overflow": null,
            "overflow_x": null,
            "overflow_y": null,
            "padding": null,
            "right": null,
            "top": null,
            "visibility": null,
            "width": null
          }
        },
        "90a92d4218ab454f8ce183ef3caf0595": {
          "model_module": "@jupyter-widgets/controls",
          "model_name": "DescriptionStyleModel",
          "model_module_version": "1.5.0",
          "state": {
            "_model_module": "@jupyter-widgets/controls",
            "_model_module_version": "1.5.0",
            "_model_name": "DescriptionStyleModel",
            "_view_count": null,
            "_view_module": "@jupyter-widgets/base",
            "_view_module_version": "1.2.0",
            "_view_name": "StyleView",
            "description_width": ""
          }
        },
        "056cfef560d3449bb516f08326213bb3": {
          "model_module": "@jupyter-widgets/base",
          "model_name": "LayoutModel",
          "model_module_version": "1.2.0",
          "state": {
            "_model_module": "@jupyter-widgets/base",
            "_model_module_version": "1.2.0",
            "_model_name": "LayoutModel",
            "_view_count": null,
            "_view_module": "@jupyter-widgets/base",
            "_view_module_version": "1.2.0",
            "_view_name": "LayoutView",
            "align_content": null,
            "align_items": null,
            "align_self": null,
            "border": null,
            "bottom": null,
            "display": null,
            "flex": null,
            "flex_flow": null,
            "grid_area": null,
            "grid_auto_columns": null,
            "grid_auto_flow": null,
            "grid_auto_rows": null,
            "grid_column": null,
            "grid_gap": null,
            "grid_row": null,
            "grid_template_areas": null,
            "grid_template_columns": null,
            "grid_template_rows": null,
            "height": null,
            "justify_content": null,
            "justify_items": null,
            "left": null,
            "margin": null,
            "max_height": null,
            "max_width": null,
            "min_height": null,
            "min_width": null,
            "object_fit": null,
            "object_position": null,
            "order": null,
            "overflow": null,
            "overflow_x": null,
            "overflow_y": null,
            "padding": null,
            "right": null,
            "top": null,
            "visibility": null,
            "width": null
          }
        },
        "9e6bdcabeba14e27bf25eda82e7c22c0": {
          "model_module": "@jupyter-widgets/controls",
          "model_name": "ProgressStyleModel",
          "model_module_version": "1.5.0",
          "state": {
            "_model_module": "@jupyter-widgets/controls",
            "_model_module_version": "1.5.0",
            "_model_name": "ProgressStyleModel",
            "_view_count": null,
            "_view_module": "@jupyter-widgets/base",
            "_view_module_version": "1.2.0",
            "_view_name": "StyleView",
            "bar_color": null,
            "description_width": ""
          }
        },
        "bee233fe9e2740039340f28d8983aeb0": {
          "model_module": "@jupyter-widgets/base",
          "model_name": "LayoutModel",
          "model_module_version": "1.2.0",
          "state": {
            "_model_module": "@jupyter-widgets/base",
            "_model_module_version": "1.2.0",
            "_model_name": "LayoutModel",
            "_view_count": null,
            "_view_module": "@jupyter-widgets/base",
            "_view_module_version": "1.2.0",
            "_view_name": "LayoutView",
            "align_content": null,
            "align_items": null,
            "align_self": null,
            "border": null,
            "bottom": null,
            "display": null,
            "flex": null,
            "flex_flow": null,
            "grid_area": null,
            "grid_auto_columns": null,
            "grid_auto_flow": null,
            "grid_auto_rows": null,
            "grid_column": null,
            "grid_gap": null,
            "grid_row": null,
            "grid_template_areas": null,
            "grid_template_columns": null,
            "grid_template_rows": null,
            "height": null,
            "justify_content": null,
            "justify_items": null,
            "left": null,
            "margin": null,
            "max_height": null,
            "max_width": null,
            "min_height": null,
            "min_width": null,
            "object_fit": null,
            "object_position": null,
            "order": null,
            "overflow": null,
            "overflow_x": null,
            "overflow_y": null,
            "padding": null,
            "right": null,
            "top": null,
            "visibility": null,
            "width": null
          }
        },
        "512cfbfdce2c4eae9aa3ea79958f690c": {
          "model_module": "@jupyter-widgets/controls",
          "model_name": "DescriptionStyleModel",
          "model_module_version": "1.5.0",
          "state": {
            "_model_module": "@jupyter-widgets/controls",
            "_model_module_version": "1.5.0",
            "_model_name": "DescriptionStyleModel",
            "_view_count": null,
            "_view_module": "@jupyter-widgets/base",
            "_view_module_version": "1.2.0",
            "_view_name": "StyleView",
            "description_width": ""
          }
        },
        "a8b388bc50274423ae4a1f48c9c80f81": {
          "model_module": "@jupyter-widgets/controls",
          "model_name": "HBoxModel",
          "model_module_version": "1.5.0",
          "state": {
            "_dom_classes": [],
            "_model_module": "@jupyter-widgets/controls",
            "_model_module_version": "1.5.0",
            "_model_name": "HBoxModel",
            "_view_count": null,
            "_view_module": "@jupyter-widgets/controls",
            "_view_module_version": "1.5.0",
            "_view_name": "HBoxView",
            "box_style": "",
            "children": [
              "IPY_MODEL_65d29dda0b07453ca110991a83a44317",
              "IPY_MODEL_49ed9d7755f640dbb78399f72bbf3602",
              "IPY_MODEL_3406c6c2c7234b7ab181859a85747591"
            ],
            "layout": "IPY_MODEL_8842b80f12af4199a88e279aebb16317"
          }
        },
        "65d29dda0b07453ca110991a83a44317": {
          "model_module": "@jupyter-widgets/controls",
          "model_name": "HTMLModel",
          "model_module_version": "1.5.0",
          "state": {
            "_dom_classes": [],
            "_model_module": "@jupyter-widgets/controls",
            "_model_module_version": "1.5.0",
            "_model_name": "HTMLModel",
            "_view_count": null,
            "_view_module": "@jupyter-widgets/controls",
            "_view_module_version": "1.5.0",
            "_view_name": "HTMLView",
            "description": "",
            "description_tooltip": null,
            "layout": "IPY_MODEL_16b389b4c5f64a4096d8c1f76e9b590d",
            "placeholder": "​",
            "style": "IPY_MODEL_8d49c90506604ca7af69b3adc7b1cd2b",
            "value": "100%"
          }
        },
        "49ed9d7755f640dbb78399f72bbf3602": {
          "model_module": "@jupyter-widgets/controls",
          "model_name": "FloatProgressModel",
          "model_module_version": "1.5.0",
          "state": {
            "_dom_classes": [],
            "_model_module": "@jupyter-widgets/controls",
            "_model_module_version": "1.5.0",
            "_model_name": "FloatProgressModel",
            "_view_count": null,
            "_view_module": "@jupyter-widgets/controls",
            "_view_module_version": "1.5.0",
            "_view_name": "ProgressView",
            "bar_style": "success",
            "description": "",
            "description_tooltip": null,
            "layout": "IPY_MODEL_c9a9b27ebb60471bae822f252bcdee8e",
            "max": 170498071,
            "min": 0,
            "orientation": "horizontal",
            "style": "IPY_MODEL_2e2f9399d4194a83bfadbb98bba01c81",
            "value": 170498071
          }
        },
        "3406c6c2c7234b7ab181859a85747591": {
          "model_module": "@jupyter-widgets/controls",
          "model_name": "HTMLModel",
          "model_module_version": "1.5.0",
          "state": {
            "_dom_classes": [],
            "_model_module": "@jupyter-widgets/controls",
            "_model_module_version": "1.5.0",
            "_model_name": "HTMLModel",
            "_view_count": null,
            "_view_module": "@jupyter-widgets/controls",
            "_view_module_version": "1.5.0",
            "_view_name": "HTMLView",
            "description": "",
            "description_tooltip": null,
            "layout": "IPY_MODEL_3f919ada67c04d01851c600e69762a03",
            "placeholder": "​",
            "style": "IPY_MODEL_52683c4702c94f7b9e127d815b6caa73",
            "value": " 170498071/170498071 [00:03&lt;00:00, 55270513.34it/s]"
          }
        },
        "8842b80f12af4199a88e279aebb16317": {
          "model_module": "@jupyter-widgets/base",
          "model_name": "LayoutModel",
          "model_module_version": "1.2.0",
          "state": {
            "_model_module": "@jupyter-widgets/base",
            "_model_module_version": "1.2.0",
            "_model_name": "LayoutModel",
            "_view_count": null,
            "_view_module": "@jupyter-widgets/base",
            "_view_module_version": "1.2.0",
            "_view_name": "LayoutView",
            "align_content": null,
            "align_items": null,
            "align_self": null,
            "border": null,
            "bottom": null,
            "display": null,
            "flex": null,
            "flex_flow": null,
            "grid_area": null,
            "grid_auto_columns": null,
            "grid_auto_flow": null,
            "grid_auto_rows": null,
            "grid_column": null,
            "grid_gap": null,
            "grid_row": null,
            "grid_template_areas": null,
            "grid_template_columns": null,
            "grid_template_rows": null,
            "height": null,
            "justify_content": null,
            "justify_items": null,
            "left": null,
            "margin": null,
            "max_height": null,
            "max_width": null,
            "min_height": null,
            "min_width": null,
            "object_fit": null,
            "object_position": null,
            "order": null,
            "overflow": null,
            "overflow_x": null,
            "overflow_y": null,
            "padding": null,
            "right": null,
            "top": null,
            "visibility": null,
            "width": null
          }
        },
        "16b389b4c5f64a4096d8c1f76e9b590d": {
          "model_module": "@jupyter-widgets/base",
          "model_name": "LayoutModel",
          "model_module_version": "1.2.0",
          "state": {
            "_model_module": "@jupyter-widgets/base",
            "_model_module_version": "1.2.0",
            "_model_name": "LayoutModel",
            "_view_count": null,
            "_view_module": "@jupyter-widgets/base",
            "_view_module_version": "1.2.0",
            "_view_name": "LayoutView",
            "align_content": null,
            "align_items": null,
            "align_self": null,
            "border": null,
            "bottom": null,
            "display": null,
            "flex": null,
            "flex_flow": null,
            "grid_area": null,
            "grid_auto_columns": null,
            "grid_auto_flow": null,
            "grid_auto_rows": null,
            "grid_column": null,
            "grid_gap": null,
            "grid_row": null,
            "grid_template_areas": null,
            "grid_template_columns": null,
            "grid_template_rows": null,
            "height": null,
            "justify_content": null,
            "justify_items": null,
            "left": null,
            "margin": null,
            "max_height": null,
            "max_width": null,
            "min_height": null,
            "min_width": null,
            "object_fit": null,
            "object_position": null,
            "order": null,
            "overflow": null,
            "overflow_x": null,
            "overflow_y": null,
            "padding": null,
            "right": null,
            "top": null,
            "visibility": null,
            "width": null
          }
        },
        "8d49c90506604ca7af69b3adc7b1cd2b": {
          "model_module": "@jupyter-widgets/controls",
          "model_name": "DescriptionStyleModel",
          "model_module_version": "1.5.0",
          "state": {
            "_model_module": "@jupyter-widgets/controls",
            "_model_module_version": "1.5.0",
            "_model_name": "DescriptionStyleModel",
            "_view_count": null,
            "_view_module": "@jupyter-widgets/base",
            "_view_module_version": "1.2.0",
            "_view_name": "StyleView",
            "description_width": ""
          }
        },
        "c9a9b27ebb60471bae822f252bcdee8e": {
          "model_module": "@jupyter-widgets/base",
          "model_name": "LayoutModel",
          "model_module_version": "1.2.0",
          "state": {
            "_model_module": "@jupyter-widgets/base",
            "_model_module_version": "1.2.0",
            "_model_name": "LayoutModel",
            "_view_count": null,
            "_view_module": "@jupyter-widgets/base",
            "_view_module_version": "1.2.0",
            "_view_name": "LayoutView",
            "align_content": null,
            "align_items": null,
            "align_self": null,
            "border": null,
            "bottom": null,
            "display": null,
            "flex": null,
            "flex_flow": null,
            "grid_area": null,
            "grid_auto_columns": null,
            "grid_auto_flow": null,
            "grid_auto_rows": null,
            "grid_column": null,
            "grid_gap": null,
            "grid_row": null,
            "grid_template_areas": null,
            "grid_template_columns": null,
            "grid_template_rows": null,
            "height": null,
            "justify_content": null,
            "justify_items": null,
            "left": null,
            "margin": null,
            "max_height": null,
            "max_width": null,
            "min_height": null,
            "min_width": null,
            "object_fit": null,
            "object_position": null,
            "order": null,
            "overflow": null,
            "overflow_x": null,
            "overflow_y": null,
            "padding": null,
            "right": null,
            "top": null,
            "visibility": null,
            "width": null
          }
        },
        "2e2f9399d4194a83bfadbb98bba01c81": {
          "model_module": "@jupyter-widgets/controls",
          "model_name": "ProgressStyleModel",
          "model_module_version": "1.5.0",
          "state": {
            "_model_module": "@jupyter-widgets/controls",
            "_model_module_version": "1.5.0",
            "_model_name": "ProgressStyleModel",
            "_view_count": null,
            "_view_module": "@jupyter-widgets/base",
            "_view_module_version": "1.2.0",
            "_view_name": "StyleView",
            "bar_color": null,
            "description_width": ""
          }
        },
        "3f919ada67c04d01851c600e69762a03": {
          "model_module": "@jupyter-widgets/base",
          "model_name": "LayoutModel",
          "model_module_version": "1.2.0",
          "state": {
            "_model_module": "@jupyter-widgets/base",
            "_model_module_version": "1.2.0",
            "_model_name": "LayoutModel",
            "_view_count": null,
            "_view_module": "@jupyter-widgets/base",
            "_view_module_version": "1.2.0",
            "_view_name": "LayoutView",
            "align_content": null,
            "align_items": null,
            "align_self": null,
            "border": null,
            "bottom": null,
            "display": null,
            "flex": null,
            "flex_flow": null,
            "grid_area": null,
            "grid_auto_columns": null,
            "grid_auto_flow": null,
            "grid_auto_rows": null,
            "grid_column": null,
            "grid_gap": null,
            "grid_row": null,
            "grid_template_areas": null,
            "grid_template_columns": null,
            "grid_template_rows": null,
            "height": null,
            "justify_content": null,
            "justify_items": null,
            "left": null,
            "margin": null,
            "max_height": null,
            "max_width": null,
            "min_height": null,
            "min_width": null,
            "object_fit": null,
            "object_position": null,
            "order": null,
            "overflow": null,
            "overflow_x": null,
            "overflow_y": null,
            "padding": null,
            "right": null,
            "top": null,
            "visibility": null,
            "width": null
          }
        },
        "52683c4702c94f7b9e127d815b6caa73": {
          "model_module": "@jupyter-widgets/controls",
          "model_name": "DescriptionStyleModel",
          "model_module_version": "1.5.0",
          "state": {
            "_model_module": "@jupyter-widgets/controls",
            "_model_module_version": "1.5.0",
            "_model_name": "DescriptionStyleModel",
            "_view_count": null,
            "_view_module": "@jupyter-widgets/base",
            "_view_module_version": "1.2.0",
            "_view_name": "StyleView",
            "description_width": ""
          }
        },
        "2caddf1574b24552bd42be7e643d3391": {
          "model_module": "@jupyter-widgets/controls",
          "model_name": "HBoxModel",
          "model_module_version": "1.5.0",
          "state": {
            "_dom_classes": [],
            "_model_module": "@jupyter-widgets/controls",
            "_model_module_version": "1.5.0",
            "_model_name": "HBoxModel",
            "_view_count": null,
            "_view_module": "@jupyter-widgets/controls",
            "_view_module_version": "1.5.0",
            "_view_name": "HBoxView",
            "box_style": "",
            "children": [
              "IPY_MODEL_68e3590243374adf81a38742b642a2c0",
              "IPY_MODEL_f9b2e8e311694fa3b7b5247a8fcaeaac",
              "IPY_MODEL_e6880fd4edf24da08a6a15b5ba38ce25"
            ],
            "layout": "IPY_MODEL_8edb9045bca24c93b7d7eddcf871b420"
          }
        },
        "68e3590243374adf81a38742b642a2c0": {
          "model_module": "@jupyter-widgets/controls",
          "model_name": "HTMLModel",
          "model_module_version": "1.5.0",
          "state": {
            "_dom_classes": [],
            "_model_module": "@jupyter-widgets/controls",
            "_model_module_version": "1.5.0",
            "_model_name": "HTMLModel",
            "_view_count": null,
            "_view_module": "@jupyter-widgets/controls",
            "_view_module_version": "1.5.0",
            "_view_name": "HTMLView",
            "description": "",
            "description_tooltip": null,
            "layout": "IPY_MODEL_2ae13c6622f84961b7b72cc1366a304c",
            "placeholder": "​",
            "style": "IPY_MODEL_ad19982c2c2b4e9992db8d88a810a428",
            "value": "100%"
          }
        },
        "f9b2e8e311694fa3b7b5247a8fcaeaac": {
          "model_module": "@jupyter-widgets/controls",
          "model_name": "FloatProgressModel",
          "model_module_version": "1.5.0",
          "state": {
            "_dom_classes": [],
            "_model_module": "@jupyter-widgets/controls",
            "_model_module_version": "1.5.0",
            "_model_name": "FloatProgressModel",
            "_view_count": null,
            "_view_module": "@jupyter-widgets/controls",
            "_view_module_version": "1.5.0",
            "_view_name": "ProgressView",
            "bar_style": "success",
            "description": "",
            "description_tooltip": null,
            "layout": "IPY_MODEL_f9809504c6554a68a397f8e4d31717b2",
            "max": 178793939,
            "min": 0,
            "orientation": "horizontal",
            "style": "IPY_MODEL_1332dad1c34a4e02b6a76fd8653ff1ba",
            "value": 178793939
          }
        },
        "e6880fd4edf24da08a6a15b5ba38ce25": {
          "model_module": "@jupyter-widgets/controls",
          "model_name": "HTMLModel",
          "model_module_version": "1.5.0",
          "state": {
            "_dom_classes": [],
            "_model_module": "@jupyter-widgets/controls",
            "_model_module_version": "1.5.0",
            "_model_name": "HTMLModel",
            "_view_count": null,
            "_view_module": "@jupyter-widgets/controls",
            "_view_module_version": "1.5.0",
            "_view_name": "HTMLView",
            "description": "",
            "description_tooltip": null,
            "layout": "IPY_MODEL_5210419c5c014aaf8aae928c7f153766",
            "placeholder": "​",
            "style": "IPY_MODEL_da40f42a8e93495893dd9eb1358b4593",
            "value": " 171M/171M [00:00&lt;00:00, 220MB/s]"
          }
        },
        "8edb9045bca24c93b7d7eddcf871b420": {
          "model_module": "@jupyter-widgets/base",
          "model_name": "LayoutModel",
          "model_module_version": "1.2.0",
          "state": {
            "_model_module": "@jupyter-widgets/base",
            "_model_module_version": "1.2.0",
            "_model_name": "LayoutModel",
            "_view_count": null,
            "_view_module": "@jupyter-widgets/base",
            "_view_module_version": "1.2.0",
            "_view_name": "LayoutView",
            "align_content": null,
            "align_items": null,
            "align_self": null,
            "border": null,
            "bottom": null,
            "display": null,
            "flex": null,
            "flex_flow": null,
            "grid_area": null,
            "grid_auto_columns": null,
            "grid_auto_flow": null,
            "grid_auto_rows": null,
            "grid_column": null,
            "grid_gap": null,
            "grid_row": null,
            "grid_template_areas": null,
            "grid_template_columns": null,
            "grid_template_rows": null,
            "height": null,
            "justify_content": null,
            "justify_items": null,
            "left": null,
            "margin": null,
            "max_height": null,
            "max_width": null,
            "min_height": null,
            "min_width": null,
            "object_fit": null,
            "object_position": null,
            "order": null,
            "overflow": null,
            "overflow_x": null,
            "overflow_y": null,
            "padding": null,
            "right": null,
            "top": null,
            "visibility": null,
            "width": null
          }
        },
        "2ae13c6622f84961b7b72cc1366a304c": {
          "model_module": "@jupyter-widgets/base",
          "model_name": "LayoutModel",
          "model_module_version": "1.2.0",
          "state": {
            "_model_module": "@jupyter-widgets/base",
            "_model_module_version": "1.2.0",
            "_model_name": "LayoutModel",
            "_view_count": null,
            "_view_module": "@jupyter-widgets/base",
            "_view_module_version": "1.2.0",
            "_view_name": "LayoutView",
            "align_content": null,
            "align_items": null,
            "align_self": null,
            "border": null,
            "bottom": null,
            "display": null,
            "flex": null,
            "flex_flow": null,
            "grid_area": null,
            "grid_auto_columns": null,
            "grid_auto_flow": null,
            "grid_auto_rows": null,
            "grid_column": null,
            "grid_gap": null,
            "grid_row": null,
            "grid_template_areas": null,
            "grid_template_columns": null,
            "grid_template_rows": null,
            "height": null,
            "justify_content": null,
            "justify_items": null,
            "left": null,
            "margin": null,
            "max_height": null,
            "max_width": null,
            "min_height": null,
            "min_width": null,
            "object_fit": null,
            "object_position": null,
            "order": null,
            "overflow": null,
            "overflow_x": null,
            "overflow_y": null,
            "padding": null,
            "right": null,
            "top": null,
            "visibility": null,
            "width": null
          }
        },
        "ad19982c2c2b4e9992db8d88a810a428": {
          "model_module": "@jupyter-widgets/controls",
          "model_name": "DescriptionStyleModel",
          "model_module_version": "1.5.0",
          "state": {
            "_model_module": "@jupyter-widgets/controls",
            "_model_module_version": "1.5.0",
            "_model_name": "DescriptionStyleModel",
            "_view_count": null,
            "_view_module": "@jupyter-widgets/base",
            "_view_module_version": "1.2.0",
            "_view_name": "StyleView",
            "description_width": ""
          }
        },
        "f9809504c6554a68a397f8e4d31717b2": {
          "model_module": "@jupyter-widgets/base",
          "model_name": "LayoutModel",
          "model_module_version": "1.2.0",
          "state": {
            "_model_module": "@jupyter-widgets/base",
            "_model_module_version": "1.2.0",
            "_model_name": "LayoutModel",
            "_view_count": null,
            "_view_module": "@jupyter-widgets/base",
            "_view_module_version": "1.2.0",
            "_view_name": "LayoutView",
            "align_content": null,
            "align_items": null,
            "align_self": null,
            "border": null,
            "bottom": null,
            "display": null,
            "flex": null,
            "flex_flow": null,
            "grid_area": null,
            "grid_auto_columns": null,
            "grid_auto_flow": null,
            "grid_auto_rows": null,
            "grid_column": null,
            "grid_gap": null,
            "grid_row": null,
            "grid_template_areas": null,
            "grid_template_columns": null,
            "grid_template_rows": null,
            "height": null,
            "justify_content": null,
            "justify_items": null,
            "left": null,
            "margin": null,
            "max_height": null,
            "max_width": null,
            "min_height": null,
            "min_width": null,
            "object_fit": null,
            "object_position": null,
            "order": null,
            "overflow": null,
            "overflow_x": null,
            "overflow_y": null,
            "padding": null,
            "right": null,
            "top": null,
            "visibility": null,
            "width": null
          }
        },
        "1332dad1c34a4e02b6a76fd8653ff1ba": {
          "model_module": "@jupyter-widgets/controls",
          "model_name": "ProgressStyleModel",
          "model_module_version": "1.5.0",
          "state": {
            "_model_module": "@jupyter-widgets/controls",
            "_model_module_version": "1.5.0",
            "_model_name": "ProgressStyleModel",
            "_view_count": null,
            "_view_module": "@jupyter-widgets/base",
            "_view_module_version": "1.2.0",
            "_view_name": "StyleView",
            "bar_color": null,
            "description_width": ""
          }
        },
        "5210419c5c014aaf8aae928c7f153766": {
          "model_module": "@jupyter-widgets/base",
          "model_name": "LayoutModel",
          "model_module_version": "1.2.0",
          "state": {
            "_model_module": "@jupyter-widgets/base",
            "_model_module_version": "1.2.0",
            "_model_name": "LayoutModel",
            "_view_count": null,
            "_view_module": "@jupyter-widgets/base",
            "_view_module_version": "1.2.0",
            "_view_name": "LayoutView",
            "align_content": null,
            "align_items": null,
            "align_self": null,
            "border": null,
            "bottom": null,
            "display": null,
            "flex": null,
            "flex_flow": null,
            "grid_area": null,
            "grid_auto_columns": null,
            "grid_auto_flow": null,
            "grid_auto_rows": null,
            "grid_column": null,
            "grid_gap": null,
            "grid_row": null,
            "grid_template_areas": null,
            "grid_template_columns": null,
            "grid_template_rows": null,
            "height": null,
            "justify_content": null,
            "justify_items": null,
            "left": null,
            "margin": null,
            "max_height": null,
            "max_width": null,
            "min_height": null,
            "min_width": null,
            "object_fit": null,
            "object_position": null,
            "order": null,
            "overflow": null,
            "overflow_x": null,
            "overflow_y": null,
            "padding": null,
            "right": null,
            "top": null,
            "visibility": null,
            "width": null
          }
        },
        "da40f42a8e93495893dd9eb1358b4593": {
          "model_module": "@jupyter-widgets/controls",
          "model_name": "DescriptionStyleModel",
          "model_module_version": "1.5.0",
          "state": {
            "_model_module": "@jupyter-widgets/controls",
            "_model_module_version": "1.5.0",
            "_model_name": "DescriptionStyleModel",
            "_view_count": null,
            "_view_module": "@jupyter-widgets/base",
            "_view_module_version": "1.2.0",
            "_view_name": "StyleView",
            "description_width": ""
          }
        }
      }
    }
  },
  "nbformat": 4,
  "nbformat_minor": 0
}